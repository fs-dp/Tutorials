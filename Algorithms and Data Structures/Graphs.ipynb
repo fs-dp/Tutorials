{
 "cells": [
  {
   "cell_type": "markdown",
   "metadata": {},
   "source": [
    "### 1. Depth-first Search"
   ]
  },
  {
   "cell_type": "markdown",
   "metadata": {},
   "source": [
    "Write the depts-first search algorithm."
   ]
  },
  {
   "cell_type": "markdown",
   "metadata": {},
   "source": [
    "Main Function: depthFirstSearch(node, array)\n",
    "\n",
    "1. Add the current node's name to the array.\n",
    "\n",
    "2. Iterate over the node's children.\n",
    "\n",
    "3. For each child, recursively call depthFirstSearch with the child and the array.\n",
    "4. Return the final array."
   ]
  },
  {
   "cell_type": "code",
   "execution_count": null,
   "metadata": {},
   "outputs": [],
   "source": [
    "class Node:\n",
    "    def __init__(self, name):\n",
    "        self.children = []\n",
    "        self.name = name\n",
    "\n",
    "    def addChild(self, name):\n",
    "        self.children.append(Node(name))\n",
    "        return self\n",
    "    \n",
    "    def depthFirstSearch(self, array):\n",
    "        array.append(self.name)\n",
    "        for child in self.children:\n",
    "            child.depthFirstSearch(array)\n",
    "        return array"
   ]
  },
  {
   "cell_type": "markdown",
   "metadata": {},
   "source": [
    "### 2. Single Cycle Check"
   ]
  },
  {
   "cell_type": "markdown",
   "metadata": {},
   "source": [
    "You're given an array of integers where each integer represents a jump of its value in the array. For instance, the integer 2 represents a jump of two indices forward in the array; the integer -3 represents a jump of three indices backward in the array. If a jump spills past the array's bounds, it wraps over to the other side. For instance, a jump of -1 at index 0 brings us to the last index in the array. Similarly, a jump of 1 at the last index in the array brings us to index Write a function that returns a boolean representing whether the jumps in the array form a single cycle. A single cycle occurs if, starting at any index in the array and following the jumps, every element in the array is visited exactly once before landing back on the starting index."
   ]
  },
  {
   "cell_type": "markdown",
   "metadata": {},
   "source": [
    "Function: hasSingleCycle(array)\n",
    "\n",
    "1. Initialize numElementsVisited to 0 (keeps track of how many elements we've visited).\n",
    "\n",
    "2. Start at the first index currentIndex = 0.\n",
    "\n",
    "3. While not all elements are visited:\n",
    "    If we've visited some elements and landed back at start (index 0), it's not a single cycle. Return False.\n",
    "\n",
    "    Update numElementsVisited.\n",
    "    \n",
    "    Calculate the next index using the getNextIndex function.\n",
    "\n",
    "4. Check if we landed back at the starting index after visiting all elements. If yes, return True, else False.\n",
    "\n",
    "Helper Function: getNextIndex(currentIndex, array)\n",
    "\n",
    "Calculate the jump (use modulo to wrap around the array's bounds).\n",
    "\n",
    "If result is negative (due to backward jumps resulting in negative modulo in Python), adjust to get a positive index.\n",
    "\n",
    "Return the next index."
   ]
  },
  {
   "cell_type": "code",
   "execution_count": null,
   "metadata": {},
   "outputs": [],
   "source": [
    "def hasSingleCycle(array):\n",
    "    numElementsVisited = 0\n",
    "    currentIndex = 0\n",
    "    while numElementsVisited < len(array):\n",
    "        if numElementsVisited>0 and currentIndex==0:\n",
    "            return False \n",
    "        numElementsVisited+=1\n",
    "        currentIndex = getNextIndex(currentIndex, array)\n",
    "    return currentIndex==0\n",
    "\n",
    "def getNextIndex(currentIndex, array):\n",
    "    jump = (array[currentIndex])\n",
    "    nextIndex = (currentIndex + jump) % len(array)\n",
    "    return nextIndex if nextIndex>=0 else nextIndex+len(array)"
   ]
  },
  {
   "cell_type": "markdown",
   "metadata": {},
   "source": [
    "### 3. Breadth-first Search "
   ]
  },
  {
   "cell_type": "markdown",
   "metadata": {},
   "source": [
    "You're given a Node class that has a name and an array of optional children nodes. When put together, nodes form an acyclic tree-like structure.\n",
    "\n",
    "Implement the breadthFirstSearch method on the Node class, which takes in an empty array, traverses the tree using the Breadth-first Search approach (specifically navigating the tree from left to right), stores all of the nodes' names in the input array, and returns it."
   ]
  },
  {
   "cell_type": "code",
   "execution_count": 1,
   "metadata": {},
   "outputs": [],
   "source": [
    "class Node:\n",
    "    def __init__(self, name):\n",
    "        self.children = []\n",
    "        self.name = name\n",
    "\n",
    "    def addChild(self, name):\n",
    "        self.children.append(Node(name))\n",
    "        return self\n",
    "\n",
    "    def breadthFirstSearch(self, array):\n",
    "        # Start with the current node in the queue\n",
    "        queue = [self]\n",
    "        \n",
    "        while len(queue) > 0:\n",
    "            # Pop the node from the front of the queue\n",
    "            current = queue.pop(0)\n",
    "            array.append(current.name)\n",
    "            \n",
    "            # Add children of the current node to the back of the queue\n",
    "            queue.extend(current.children)\n",
    "        \n",
    "        return array"
   ]
  },
  {
   "cell_type": "markdown",
   "metadata": {},
   "source": [
    "### 4. River Sizes\n",
    "\n",
    "You're given a two-dimensional array (a matrix) of potentially unequal height and width containing only 0 s and 1 s. Each 0 represents land, and each 1 represents part of a river. A river consists of any number of 1 s that are either horizontally or vertically adjacent (but not diagonally adjacent). The number of adjacent 1 s forming a river determine its size.\n",
    "\n",
    "Note that a river can twist. In other words, it doesn't have to be a straight vertical line or a straight horizontal line; it can be L-shaped, for example.\n",
    "\n",
    "Write a function that returns an array of the sizes of all rivers represented in the input matrix. The sizes don't need to be in any particular order.\n"
   ]
  },
  {
   "cell_type": "code",
   "execution_count": 19,
   "metadata": {},
   "outputs": [],
   "source": [
    "def riverSizes(matrix):\n",
    "    sizes = []\n",
    "    visited = [[False for value in row] for row in matrix]\n",
    "    for i in range(len(matrix)):\n",
    "        for j in range(len(matrix[i])):\n",
    "            if visited[i][j]:\n",
    "                continue\n",
    "            traverseNode(i, j, matrix, visited, sizes)\n",
    "    return sizes\n",
    "\n",
    "def traverseNode(i,j,matrix, visited, sizes):\n",
    "    currentRiverSize = 0\n",
    "    nodesToExplore = [[i,j]]\n",
    "    while len(nodesToExplore)>0:\n",
    "        currentNode = nodesToExplore.pop()\n",
    "        i, j = currentNode[0], currentNode[1]\n",
    "        if visited[i][j]:\n",
    "            continue\n",
    "        visited[i][j] = True\n",
    "        if matrix[i][j]==0:\n",
    "            continue\n",
    "        currentRiverSize+=1\n",
    "        neighbors = getUnvisitedNeighbors(i, j, matrix, visited)\n",
    "        for neighbor in neighbors:\n",
    "            nodesToExplore.append(neighbor)\n",
    "    if currentRiverSize>0:\n",
    "        sizes.append(currentRiverSize)\n",
    "            \n",
    "    return sizes\n",
    "            \n",
    "def getUnvisitedNeighbors(i,j,matrix,visited):\n",
    "    neighbors = []\n",
    "    if i>0 and not visited[i-1][j]:\n",
    "        neighbors.append([i-1,j])\n",
    "    if i<len(matrix)-1 and not visited[i+1][j]:\n",
    "        neighbors.append([i+1,j])\n",
    "    if j>0 and not visited[i][j-1]:\n",
    "        neighbors.append([i,j-1])\n",
    "    if j<len(matrix[0])-1 and not visited[i][j+1]:\n",
    "        neighbors.append([i,j+1])\n",
    "    return neighbors       \n",
    "             \n",
    "        "
   ]
  },
  {
   "cell_type": "code",
   "execution_count": 20,
   "metadata": {},
   "outputs": [
    {
     "data": {
      "text/plain": [
       "[2, 1, 5, 2, 2]"
      ]
     },
     "execution_count": 20,
     "metadata": {},
     "output_type": "execute_result"
    }
   ],
   "source": [
    "matrix = [\n",
    "[1, 0, 0, 1, 0], [1, 0, 1, 0, 0],\n",
    "[0, 0, 1, 0, 1],\n",
    "[1, 0, 1, 0, 1],\n",
    "[1, 0, 1, 1, 0]]\n",
    "riverSizes(matrix)"
   ]
  },
  {
   "cell_type": "markdown",
   "metadata": {},
   "source": [
    "### 5. Youngest Common Ancestor\n",
    "\n",
    "You're given three inputs, all of which are instances of an AncestralTree class that have an ancestor property pointing to their youngest ancestor. The first input is the top ancestor in an ancestral tree (i.e., the only instance that has no ancestor--its ancestor property points to None / null ), and the other two inputs are descendants in the ancestral tree.\n",
    "\n",
    "Write a function that returns the youngest common ancestor to the two descendants.\n",
    "\n",
    "Note that a descendant is considered its own ancestor. So in the simple ancestral tree below, the youngest common ancestor to nodes A and B is node A."
   ]
  },
  {
   "cell_type": "code",
   "execution_count": 22,
   "metadata": {},
   "outputs": [],
   "source": [
    "def __init__(self, name):\n",
    "    self.name = name\n",
    "    self.ancestor = None\n",
    "\n",
    "def youngestCommonAncestor(top, des1, des2):\n",
    "    depth1 = getDepth(top, des1)\n",
    "    depth2 = getDepth(top, des2)\n",
    "    \n",
    "    if depth1>depth2:\n",
    "        return backtrack(depth2, depth1, depth1-depth2)\n",
    "    elif depth2 > depth1:\n",
    "        return backtrack(depth1, depth2, depth2-depth1)\n",
    "    \n",
    "def getDepth(top, des):\n",
    "    depth = 0\n",
    "    while des.ancestor != top:\n",
    "        depth += 1\n",
    "        des = des. ancestor\n",
    "    return depth \n",
    "\n",
    "def backtrack(low, deep, diff):\n",
    "    while diff != 0:\n",
    "        deep = deep.ancestor\n",
    "        diff-=1\n",
    "    while deep.ancestor != low.ancestor:\n",
    "        deep = deep.ancestor\n",
    "        low = low.ancestor\n",
    "        \n",
    "    return low "
   ]
  },
  {
   "cell_type": "markdown",
   "metadata": {},
   "source": [
    "### 6. Remove Islands"
   ]
  },
  {
   "cell_type": "markdown",
   "metadata": {},
   "source": [
    "You're given a two-dimensional array (a matrix) of potentially unequal height and width containing only 0 s and 1 s. The matrix rep a two-toned image, where each 1 represents black and each represents white. An island is defined as any number of 1 s that a horizontally or vertically adjacent (but not diagonally adjacent) and that don't touch the border of the image. In other words, a group horizontally or vertically adjacent 1 s isn't an island if any of those 1 s are in the first row, last row, first column, or last column of th matrix.\n",
    "\n",
    "Note that an island can twist. In other words, it doesn't have to be a straight vertical line or a straight horizontal line; it can be L-shape example.\n",
    "\n",
    "You can think of islands as patches of black that don't touch the border of the two-toned image.\n",
    "Write a function that returns a modified version of the input matrix, where all of the islands are removed. You remove an island by re it with 0 s.\n",
    "\n",
    "Naturally, you're allowed to mutate the input matrix.\n"
   ]
  },
  {
   "cell_type": "code",
   "execution_count": 30,
   "metadata": {},
   "outputs": [],
   "source": [
    "def removeIslands(matrix):\n",
    "    connectedOnes = [[False for col in row] for row in matrix]\n",
    "    for i in range(len(matrix)):\n",
    "        for j in range(len(matrix[i])):\n",
    "            rowIsBorder = (i==0 or i==len(matrix)-1)\n",
    "            colIsBorder = (j==0 or j==len(matrix[i])-1)\n",
    "            isBorder = rowIsBorder or colIsBorder\n",
    "            \n",
    "        if not isBorder:\n",
    "            continue \n",
    "        \n",
    "        if matrix[i][j]==0:\n",
    "            continue \n",
    "        \n",
    "        traverseOnes(i, j, matrix, connectedOnes)\n",
    "        \n",
    "        for i in range(1, len(matrix)-1):\n",
    "            for j in range(1, len(matrix[i])-1):\n",
    "                if connectedOnes[i][j]:\n",
    "                    continue\n",
    "                \n",
    "                if matrix[i][j]==0:\n",
    "                    continue \n",
    "                \n",
    "                matrix[i][j]=0\n",
    "    return matrix \n",
    "        \n",
    "def traverseOnes(i, j, matrix, connectedOnes):\n",
    "    stack = [[i,j]]\n",
    "    while len(stack)>0:\n",
    "        currentNode = stack.pop()\n",
    "        i, j = currentNode[0], currentNode[1]\n",
    "        if connectedOnes[i][j]:\n",
    "            continue \n",
    "        connectedOnes[i][j] = True \n",
    "        neighbors = getNeighbors(i, j, matrix, connectedOnes)\n",
    "        for neighbor in neighbors:\n",
    "            i, j = neighbor \n",
    "            if matrix[i][j]!=1:\n",
    "                continue\n",
    "            stack.append([i,j])\n",
    "            \n",
    "def getNeighbors(i, j, matrix, connectedOnes):\n",
    "    neighbors = []\n",
    "    if i-1>0 and not connectedOnes[i-1][j]:\n",
    "        neighbors.append([i-1,j])\n",
    "    if i<len(matrix)-1 and not connectedOnes[i+1][j]:\n",
    "        neighbors.append([i+1,j])\n",
    "    if j-1>0 and not connectedOnes[i][j-1]:\n",
    "        neighbors.append([i,j-1])\n",
    "    if j<len(matrix[i])-1 and not connectedOnes[i][j+1]:\n",
    "        neighbors.append([i,j+1])\n",
    "    return neighbors "
   ]
  },
  {
   "cell_type": "markdown",
   "metadata": {},
   "source": [
    "### 7. Cycle in Graph\n",
    "\n",
    "You're given a list of edges representing an unweighted, directed graph with at least one node. Write a function that returns a bool representing whether the given graph contains a cycle.\n",
    "For the purpose of this question, a cycle is defined as any number of vertices, including just one vertex, that are connected in a closed chain. A cycle can also be defined as a chain of at least one vertex in which the first vertex is the same as the last.\n",
    "\n",
    "The given list is what's called an adjacency list, and it represents a graph. The number of vertices in the graph is equal to the length of edges, where each index i in edges contains vertex i 's outbound edges, in no particular order. Each individual edge is represented by a positive integer that denotes an index (a destination vertex) in the list that this vertex is connected to. Note that the edges are directed, meaning that you can only travel from a particular vertex to its destination, not the other way around (unless the destination vertex itself has an outbound edge to the original vertex).\n",
    "\n",
    "Also note that this graph may contain self-loops. A self-loop is an edge that has the same destination and origin; in other words, it's a edge that connects a vertex to itself. For the purpose of this question, a self-loop is considered a cycle."
   ]
  },
  {
   "cell_type": "code",
   "execution_count": 37,
   "metadata": {},
   "outputs": [],
   "source": [
    "def cycleGraph(edges):\n",
    "    numNodes = len(edges)\n",
    "    visited = [False for _ in range(numNodes)]\n",
    "    inStack = [False for _ in range(numNodes)]\n",
    "    \n",
    "    for node in range(numNodes):\n",
    "        if visited[node]:\n",
    "            continue \n",
    "        cycleChek = cycleRecursive(node, edges, visited, inStack)\n",
    "        if cycleChek:\n",
    "            return True\n",
    "    return False\n",
    "\n",
    "def cycleRecursive(node, edges, visited, inStack):\n",
    "    visited[node] = True \n",
    "    inStack[node] = True \n",
    "    neighbors = edges[node]\n",
    "    for neighbor in range(len(neighbors)):\n",
    "        if not visited[neighbor]:\n",
    "            cycleCheck = cycleRecursive(neighbor, neighbors, visited, inStack)\n",
    "            if cycleCheck:\n",
    "                return True \n",
    "        elif inStack[neighbor]:\n",
    "            return True \n",
    "    inStack[neighbor]=False \n",
    "    return False "
   ]
  },
  {
   "cell_type": "code",
   "execution_count": 38,
   "metadata": {},
   "outputs": [
    {
     "data": {
      "text/plain": [
       "True"
      ]
     },
     "execution_count": 38,
     "metadata": {},
     "output_type": "execute_result"
    }
   ],
   "source": [
    "edges = [[1, 3],[2, 3, 4],[0],[],[2, 5],[]]\n",
    "cycleGraph(edges)"
   ]
  },
  {
   "cell_type": "markdown",
   "metadata": {},
   "source": [
    "### 8. Minimum Passes \n",
    "\n",
    "Write a function that takes in an integer matrix of potentially unequal height and width and returns the minimum number of passes required to convert all negative integers in the matrix to positive integers.\n",
    "\n",
    "A negative integer in the matrix can only be converted to a positive integer if one or more of its adjacent elements is positive. An adjacent element is an element that is to the left, to the right, above, or below the current element in the matrix. Converting a negative to a positive simply involves multiplying it by -1.\n",
    "\n",
    "Note that the value is neither positive nor negative, meaning that a 0 can't convert an adjacent negative to a positive.\n"
   ]
  },
  {
   "cell_type": "code",
   "execution_count": 53,
   "metadata": {},
   "outputs": [],
   "source": [
    "def minPasses(matrix):\n",
    "    passes = convertNegatives(matrix)\n",
    "    return passes-1  if not containsNegative(matrix) else -1\n",
    "\n",
    "def containsNegative(matrix):\n",
    "    for row in matrix:\n",
    "        for col in row:\n",
    "            if col < 0:\n",
    "                return True \n",
    "    return False\n",
    "\n",
    "def convertNegatives(matrix):\n",
    "    nextPassQueue = getAllPositives(matrix)\n",
    "    passes = 0\n",
    "    \n",
    "    while len(nextPassQueue)>0:\n",
    "        currentPassQueue = nextPassQueue\n",
    "        nextPassQueue = []\n",
    "        while len(currentPassQueue)>0:\n",
    "            currentRow, currentCol = currentPassQueue.pop(0)\n",
    "            neighbors = getNeighbors(currentRow, currentCol, matrix)\n",
    "            for neighbor in neighbors:\n",
    "                i, j = neighbor\n",
    "                value = matrix[i][j]\n",
    "                if value<0:\n",
    "                    matrix[i][j]*=-1\n",
    "                    nextPassQueue.append([i,j])\n",
    "        passes+=1 \n",
    "    return passes   \n",
    "\n",
    "def getAllPositives(matrix):\n",
    "    posPositons = []\n",
    "    for i in range(len(matrix)):\n",
    "        for j in range(len(matrix[i])):\n",
    "            if matrix[i][j]>0:\n",
    "                posPositons.append([i,j])\n",
    "    return posPositons\n",
    "\n",
    "def getNeighbors(currentRow, currentCol, matrix):\n",
    "    neighbors = []\n",
    "    if currentRow>0:\n",
    "        neighbors.append([currentRow-1, currentCol])\n",
    "    if currentRow<len(matrix)-1:\n",
    "        neighbors.append([currentRow+1, currentCol])\n",
    "    if currentCol>0:\n",
    "        neighbors.append([currentRow, currentCol-1])\n",
    "    if currentCol<len(matrix[currentRow])-1:\n",
    "        neighbors.append([currentRow, currentCol+1])\n",
    "    return neighbors"
   ]
  },
  {
   "cell_type": "markdown",
   "metadata": {},
   "source": [
    "### 9. Two Colorable\n",
    "\n",
    "You're given a list of edges representing a connected, unweighted, undirected graph with at least one node. Write a function that returns a boolean representing whether the given graph is two-colorable.\n",
    "\n",
    "A graph is two-colorable (also called bipartite) if all of the nodes can be assigned one of two colors such that no nodes of the same color are connected by an edge. The given list is what's called an adjacency list, and it represents a graph. The number of vertices in the graph is equal to the length of edges, where each index i in edges contains vertex i 's siblings, in no particular order. Each individual edge is represented by a positive integer that denotes an index in the list that this vertex is connected to. Note that this graph is undirected, meaning that if a vertex appears in the edge list of another vertex, then the inverse will also be true.\n",
    "Also note that this graph may contain self-loops. A self-loop is an edge that has the same destination and origin; in other words, it's an edge that connects a vertex to itself. Any self-loop should make a graph not 2-colorable.\n"
   ]
  },
  {
   "cell_type": "code",
   "execution_count": 59,
   "metadata": {},
   "outputs": [],
   "source": [
    "def twoColorable(edges):\n",
    "    colors = [None for _ in edges]\n",
    "    colors[0] = True \n",
    "    stack = [0]\n",
    "    while len(stack)>0:\n",
    "        node = stack.pop()\n",
    "        for connection in edges[node]:\n",
    "            if colors[connection] is None:\n",
    "                colors[connection] = not colors[node]\n",
    "                stack.append(connection)\n",
    "            elif colors[connection] == colors[node]:\n",
    "                return False \n",
    "    return True "
   ]
  },
  {
   "cell_type": "markdown",
   "metadata": {},
   "source": [
    "### 10. Boggle Board \n",
    "\n",
    "You're given a two-dimensional array (a matrix) of potentially unequal height and width containing letters; this matrix represents a boggle board. You're also given a list of words.\n",
    "\n",
    "Write a function that returns an array of all the words contained in the boggle board. The final words don't need to be in any particular order.\n",
    "\n",
    "A word is constructed in the boggle board by connecting adjacent (horizontally, vertically, or diagonally) letters, without using any single letter at a given position more than once; while a word can of course have repeated letters, those repeated letters must come from different positions in the boggle board in order for the word to be contained in the board. Note that two or more words are allowed to overlap and use the same letters in the boggle board."
   ]
  },
  {
   "cell_type": "code",
   "execution_count": null,
   "metadata": {},
   "outputs": [],
   "source": []
  },
  {
   "cell_type": "markdown",
   "metadata": {},
   "source": [
    "### 11. Largest Island\n",
    "\n",
    "You're given a two-dimensional array (a matrix) of potentially unequal height and width containing only 0s and 1 s. Each 1 represents water, and each 0 represents part of a land mass. A land mass consists of any number of s that are either horizontally or vertically adjacent (but not diagonally adjacent). The number of adjacent s forming a land mass determine its size.\n",
    "\n",
    "Note that a land mass can twist. In other words, it doesn't have to be a straight vertical line or a straight horizontal line; it can be L-shaped, for example.\n",
    "\n",
    "Write a function that returns the largest possible land mass size after changing exactly one 1 to a O. Note that the given matrix will always contain at least one 1, and you may mutate the matrix."
   ]
  },
  {
   "cell_type": "code",
   "execution_count": null,
   "metadata": {},
   "outputs": [],
   "source": []
  }
 ],
 "metadata": {
  "kernelspec": {
   "display_name": "zet_default_env",
   "language": "python",
   "name": "python3"
  },
  "language_info": {
   "codemirror_mode": {
    "name": "ipython",
    "version": 3
   },
   "file_extension": ".py",
   "mimetype": "text/x-python",
   "name": "python",
   "nbconvert_exporter": "python",
   "pygments_lexer": "ipython3",
   "version": "3.11.3"
  },
  "orig_nbformat": 4
 },
 "nbformat": 4,
 "nbformat_minor": 2
}
