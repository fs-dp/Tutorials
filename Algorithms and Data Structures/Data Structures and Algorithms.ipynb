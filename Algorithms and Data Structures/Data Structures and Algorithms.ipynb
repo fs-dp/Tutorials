{
 "cells": [
  {
   "cell_type": "markdown",
   "id": "0f5cfb6b",
   "metadata": {},
   "source": [
    "# EASY"
   ]
  },
  {
   "cell_type": "markdown",
   "id": "4bd88cb6",
   "metadata": {},
   "source": [
    "# 1) Two Number Sum"
   ]
  },
  {
   "cell_type": "markdown",
   "id": "9578e13f",
   "metadata": {},
   "source": []
  },
  {
   "cell_type": "code",
   "execution_count": 25,
   "id": "522b2231",
   "metadata": {},
   "outputs": [],
   "source": [
    "def twoNumberSum(array, targetSum):\n",
    "    nums = {}\n",
    "    for num in array:\n",
    "        potentialMatch = targetSum-num\n",
    "        if potentialMatch in nums:\n",
    "            return [potentialMatch, num]\n",
    "        else:\n",
    "            nums[num]=True\n",
    "    return []"
   ]
  },
  {
   "cell_type": "code",
   "execution_count": 26,
   "id": "5c7de06e",
   "metadata": {},
   "outputs": [],
   "source": [
    "array = [3,5,-4,8,11,1,-1,6]\n",
    "targetSum=10"
   ]
  },
  {
   "cell_type": "code",
   "execution_count": 27,
   "id": "d34a187f",
   "metadata": {},
   "outputs": [
    {
     "data": {
      "text/plain": [
       "[11, -1]"
      ]
     },
     "execution_count": 27,
     "metadata": {},
     "output_type": "execute_result"
    }
   ],
   "source": [
    "twoNumberSum(array, targetSum)"
   ]
  },
  {
   "cell_type": "markdown",
   "id": "0628d409",
   "metadata": {},
   "source": [
    "# 2) Validate Subsequence"
   ]
  },
  {
   "cell_type": "markdown",
   "id": "89b7652d",
   "metadata": {},
   "source": []
  },
  {
   "cell_type": "code",
   "execution_count": 34,
   "id": "5661869d",
   "metadata": {},
   "outputs": [],
   "source": [
    "def validateSubsequence(array, sequence):\n",
    "    arrIdx = 0\n",
    "    seqIdx = 0\n",
    "    while arrIdx < len(array) and seqIdx < len(sequence):\n",
    "        if array[arrIdx]==sequence[seqIdx]:\n",
    "            seqIdx+=1\n",
    "        arrIdx+=1\n",
    "    return seqIdx==len(sequence)"
   ]
  },
  {
   "cell_type": "markdown",
   "id": "28b2a38b",
   "metadata": {},
   "source": [
    "O(n) time complexity since we are going thorugh entire array once.\n",
    "O(1) space complexity since nothing increases with the size on input"
   ]
  },
  {
   "cell_type": "code",
   "execution_count": 35,
   "id": "8517d6ea",
   "metadata": {},
   "outputs": [],
   "source": [
    "array = [5,1,22,25,6,-1,8,10]\n",
    "sequence = [1,6,-1,10]"
   ]
  },
  {
   "cell_type": "code",
   "execution_count": 36,
   "id": "786cae76",
   "metadata": {},
   "outputs": [
    {
     "data": {
      "text/plain": [
       "True"
      ]
     },
     "execution_count": 36,
     "metadata": {},
     "output_type": "execute_result"
    }
   ],
   "source": [
    "validateSubsequence(array, sequence)"
   ]
  },
  {
   "cell_type": "markdown",
   "id": "1ab4b92e",
   "metadata": {},
   "source": [
    "# 3) Sorted Squared Array"
   ]
  },
  {
   "cell_type": "markdown",
   "id": "e5adcfad",
   "metadata": {},
   "source": []
  },
  {
   "cell_type": "code",
   "execution_count": 9,
   "id": "46dd97b3",
   "metadata": {},
   "outputs": [],
   "source": [
    "def sortedSquaredArray(array):\n",
    "    sortedSquares = [0 for _ in array]\n",
    "    smallerValueIdx = 0\n",
    "    largerValueIdx = len(array)-1\n",
    "    \n",
    "    for idx in reversed(range(len(array))):\n",
    "        smallerValue = array[smallerValueIdx]\n",
    "        largerValue = array[largerValueIdx]\n",
    "        \n",
    "        if abs(smallerValue) > abs(largerValue):\n",
    "            sortedSquares[idx] = smallerValue * smallerValue\n",
    "            smallerValueIdx+=1\n",
    "        else:\n",
    "            sortedSquares[idx] = largerValue * largerValue \n",
    "            largerValueIdx -= 1\n",
    "        \n",
    "    return sortedSquares"
   ]
  },
  {
   "cell_type": "code",
   "execution_count": 11,
   "id": "86475fd0",
   "metadata": {},
   "outputs": [],
   "source": [
    "array=[-6,-4,-1,2,5,9]"
   ]
  },
  {
   "cell_type": "code",
   "execution_count": 12,
   "id": "719c53d2",
   "metadata": {},
   "outputs": [
    {
     "data": {
      "text/plain": [
       "[1, 4, 16, 25, 36, 81]"
      ]
     },
     "execution_count": 12,
     "metadata": {},
     "output_type": "execute_result"
    }
   ],
   "source": [
    "sortedSquaredArray(array)"
   ]
  },
  {
   "cell_type": "markdown",
   "id": "921f7797",
   "metadata": {},
   "source": [
    "# 4) Tournament Winner"
   ]
  },
  {
   "cell_type": "markdown",
   "id": "4997ecef",
   "metadata": {},
   "source": []
  },
  {
   "cell_type": "markdown",
   "id": "c8c30391",
   "metadata": {},
   "source": []
  },
  {
   "cell_type": "code",
   "execution_count": null,
   "id": "1e0304d4",
   "metadata": {},
   "outputs": [],
   "source": []
  },
  {
   "cell_type": "markdown",
   "id": "8d3fa252",
   "metadata": {},
   "source": []
  },
  {
   "cell_type": "code",
   "execution_count": null,
   "id": "60061581",
   "metadata": {},
   "outputs": [],
   "source": []
  },
  {
   "cell_type": "code",
   "execution_count": null,
   "id": "3c80ca4b",
   "metadata": {},
   "outputs": [],
   "source": []
  },
  {
   "cell_type": "markdown",
   "id": "a294aae3",
   "metadata": {},
   "source": [
    "# 5) Non-Constructible Change"
   ]
  },
  {
   "cell_type": "markdown",
   "id": "7840b27c",
   "metadata": {},
   "source": []
  },
  {
   "cell_type": "code",
   "execution_count": 60,
   "id": "ababfe84",
   "metadata": {},
   "outputs": [],
   "source": [
    "def nonConstructibleChange(coins):\n",
    "    coins.sort()\n",
    "    \n",
    "    currentChangeCreated=0\n",
    "    \n",
    "    for coin in coins:\n",
    "        if coin>currentChangeCreated+1:\n",
    "            return currentChangeCreated+1\n",
    "        else:\n",
    "            currentChangeCreated+=coin\n",
    "            \n",
    "    return currentChangeCreated+1"
   ]
  },
  {
   "cell_type": "markdown",
   "id": "b2ea4da0",
   "metadata": {},
   "source": [
    "Time complexity is O(nlog(n)) due to sorting. for loop does not change it since it is O(n). Space complexity is O(1) since we use exisitng list withoput copying. But in an interview, it is better to ask whether we can modify the list. "
   ]
  },
  {
   "cell_type": "code",
   "execution_count": 61,
   "id": "8e22124c",
   "metadata": {},
   "outputs": [],
   "source": [
    "coins = [5, 7, 1, 1, 2, 3, 22]"
   ]
  },
  {
   "cell_type": "code",
   "execution_count": 62,
   "id": "1d887b16",
   "metadata": {},
   "outputs": [
    {
     "data": {
      "text/plain": [
       "20"
      ]
     },
     "execution_count": 62,
     "metadata": {},
     "output_type": "execute_result"
    }
   ],
   "source": [
    "nonConstructibleChange(coins)"
   ]
  },
  {
   "cell_type": "markdown",
   "id": "90f92f66",
   "metadata": {},
   "source": [
    "**Repetition Schedule:**\n",
    "\n",
    "\n",
    "1st:14 June\n",
    "\n",
    "2nd:16 June\n",
    "\n",
    "3rd:24 June\n",
    "\n",
    "4th:14 July\n",
    "\n",
    "5th:14 August"
   ]
  },
  {
   "cell_type": "markdown",
   "id": "94f48214",
   "metadata": {},
   "source": [
    "# 6) "
   ]
  },
  {
   "cell_type": "markdown",
   "id": "56f3c958",
   "metadata": {},
   "source": []
  },
  {
   "cell_type": "code",
   "execution_count": 14,
   "id": "cb083d8b",
   "metadata": {},
   "outputs": [],
   "source": [
    "def transposeMatrix(matrix):\n",
    "    transposeMatrix=[]\n",
    "    num_rows=len(matrix[0])\n",
    "    num_cols=len(matrix)\n",
    "    for row in range(num_rows):\n",
    "        new_row=[]\n",
    "        for col in range(num_cols):\n",
    "            new_row.append(matrix[col][row])\n",
    "        transposeMatrix.append(new_row)\n",
    "    return transposeMatrix          "
   ]
  },
  {
   "cell_type": "markdown",
   "id": "5de66566",
   "metadata": {},
   "source": [
    "Time complexity is O(w * h) since we are going through matrix and row elements with two back-to-bcak loops. \n",
    "Space complexity is again O(w * h) since we are creating a new matrix with the same size. "
   ]
  },
  {
   "cell_type": "code",
   "execution_count": 12,
   "id": "1e84e61d",
   "metadata": {},
   "outputs": [],
   "source": [
    "matrix = [[1,2,3],[4,5,6]]"
   ]
  },
  {
   "cell_type": "code",
   "execution_count": 15,
   "id": "643674ca",
   "metadata": {},
   "outputs": [
    {
     "data": {
      "text/plain": [
       "[[1, 4], [2, 5], [3, 6]]"
      ]
     },
     "execution_count": 15,
     "metadata": {},
     "output_type": "execute_result"
    }
   ],
   "source": [
    "transposeMatrix(matrix)"
   ]
  },
  {
   "cell_type": "markdown",
   "id": "d4f1b37f",
   "metadata": {},
   "source": [
    "r2"
   ]
  },
  {
   "cell_type": "markdown",
   "id": "7d5e2e3d",
   "metadata": {},
   "source": [
    "# 7) Find the Closest Value in BST"
   ]
  },
  {
   "cell_type": "markdown",
   "id": "08c4aaa2",
   "metadata": {},
   "source": []
  },
  {
   "cell_type": "code",
   "execution_count": null,
   "id": "76f79a1e",
   "metadata": {},
   "outputs": [],
   "source": [
    "def findClosestValueInBst(tree, target):\n",
    "    return findClosestValueInBstHelper(tree, target, float('inf'))\n",
    "def findClosestValueInBstHelper(tree, target, closest):\n",
    "    if tree is None:\n",
    "        return closest\n",
    "    if abs(target-closest)>abs(target-tree.value):\n",
    "        closest=tree.value\n",
    "    if target<tree.value:\n",
    "        return findClosestValueInBstHelper(tree.left, target, closest)\n",
    "    elif target>tree.value:\n",
    "        return findClosestValueInBstHelper(tree.right, target, closest)\n",
    "    else:\n",
    "        return closest"
   ]
  },
  {
   "cell_type": "markdown",
   "id": "d708e745",
   "metadata": {},
   "source": [
    "Since we eliminate half of the BST on average each time, the time complexity is O(logN). Similarly, space complexity is also O(logN) on average when we use recursion. If there would be one branch tree, then, both would be O(N)."
   ]
  },
  {
   "cell_type": "code",
   "execution_count": null,
   "id": "244f39e5",
   "metadata": {},
   "outputs": [],
   "source": [
    "class BinaryTree:\n",
    "    def __init__(self, value):\n",
    "        self.value = value\n",
    "        self.left = None\n",
    "        self.right = None\n",
    "\n",
    "tree = BinaryTree(10)   \n",
    "tree.left = BinaryTree(5) \n",
    "tree.right = BinaryTree(15)  \n",
    "tree.left.left = BinaryTree(2)  \n",
    "tree.left.right = BinaryTree(5)\n",
    "tree.right.left = BinaryTree(13)      \n",
    "tree.right.right = BinaryTree(22)     \n",
    "tree.left.left.left = BinaryTree(1) \n",
    "tree.right.left.right = BinaryTree(14)"
   ]
  },
  {
   "cell_type": "code",
   "execution_count": 53,
   "id": "d5779bf0",
   "metadata": {},
   "outputs": [
    {
     "data": {
      "text/plain": [
       "13"
      ]
     },
     "execution_count": 53,
     "metadata": {},
     "output_type": "execute_result"
    }
   ],
   "source": [
    "findClosestValueInBst(tree, 12)"
   ]
  },
  {
   "cell_type": "markdown",
   "id": "bc969049",
   "metadata": {},
   "source": [
    "# 8) Branch Sums\n",
    "\n",
    "\n",
    "\n",
    "\n",
    "\n",
    "\n",
    "\n",
    "\n",
    "\n"
   ]
  },
  {
   "cell_type": "markdown",
   "id": "e3190613",
   "metadata": {},
   "source": []
  },
  {
   "cell_type": "markdown",
   "id": "64569bed",
   "metadata": {},
   "source": []
  },
  {
   "cell_type": "code",
   "execution_count": 47,
   "id": "21fe631f",
   "metadata": {},
   "outputs": [],
   "source": [
    "def branchSums(root):\n",
    "    sums = []\n",
    "    calculateBranchSums(root, 0, sums)\n",
    "    return sums\n",
    "\n",
    "def calculateBranchSums(node, runningSum, sums):\n",
    "    if node is None:\n",
    "        return\n",
    "    \n",
    "    newRunningSum = runningSum + node.value\n",
    "    if node.left is None and node.right is None:\n",
    "        sums.append(newRunningSum)\n",
    "        return\n",
    "    calculateBranchSums(node.left, runningSum, sums)\n",
    "    calculateBranchSums(node.right, runningSum, sums)"
   ]
  },
  {
   "cell_type": "markdown",
   "id": "ea0f0637",
   "metadata": {},
   "source": [
    "Both space and time complexity are O(n). "
   ]
  },
  {
   "cell_type": "code",
   "execution_count": 50,
   "id": "a93daab3",
   "metadata": {},
   "outputs": [],
   "source": [
    "class BinaryTree:\n",
    "    def __init__(self, value):\n",
    "        self.value = value\n",
    "        self.left = None\n",
    "        self.right = None\n",
    "\n",
    "tree = BinaryTree(1)   \n",
    "tree.left = BinaryTree(2) \n",
    "tree.right = BinaryTree(3)  \n",
    "tree.left.left = BinaryTree(4)  \n",
    "tree.left.right = BinaryTree(5)\n",
    "tree.right.left = BinaryTree(6)      \n",
    "tree.right.right = BinaryTree(7)     \n",
    "tree.left.left.left = BinaryTree(8) \n",
    "tree.left.left.right = BinaryTree(9) \n",
    "tree.left.right.left = BinaryTree(10)"
   ]
  },
  {
   "cell_type": "code",
   "execution_count": 51,
   "id": "3552d021",
   "metadata": {},
   "outputs": [
    {
     "data": {
      "text/plain": [
       "[8, 9, 10, 6, 7]"
      ]
     },
     "execution_count": 51,
     "metadata": {},
     "output_type": "execute_result"
    }
   ],
   "source": [
    "branchSums(tree)"
   ]
  },
  {
   "cell_type": "markdown",
   "id": "c648570b",
   "metadata": {},
   "source": [
    "# 9) Node Depths"
   ]
  },
  {
   "cell_type": "markdown",
   "id": "327e4537",
   "metadata": {},
   "source": []
  },
  {
   "cell_type": "markdown",
   "id": "c7e023d0",
   "metadata": {},
   "source": []
  },
  {
   "cell_type": "code",
   "execution_count": 37,
   "id": "3c2437b6",
   "metadata": {},
   "outputs": [],
   "source": [
    "def nodeDepths(root):\n",
    "    sumOfDepths = 0\n",
    "    stack = [{\"node\": root, \"depth\":0}]\n",
    "    while len(stack) > 0:\n",
    "        nodeInfo = stack.pop()\n",
    "        node, depth = nodeInfo[\"node\"], nodeInfo[\"depth\"]\n",
    "        if node is None:\n",
    "            continue\n",
    "        sumOfDepths += depth\n",
    "        stack.append({\"node\":node.left, \"depth\":depth+1})\n",
    "        stack.append({\"node\":node.right, \"depth\":depth+1})\n",
    "    return sumOfDepths"
   ]
  },
  {
   "cell_type": "code",
   "execution_count": 43,
   "id": "4aefc2c2",
   "metadata": {},
   "outputs": [],
   "source": [
    "def nodeDepths(root, depth=0):\n",
    "    if root is None:\n",
    "        return 0\n",
    "    return depth + nodeDepths(root.left, depth+1) + nodeDepths(root.right, depth+1)"
   ]
  },
  {
   "cell_type": "markdown",
   "id": "d07b23ca",
   "metadata": {},
   "source": [
    "Both has time compexity O(n) and space complexity of O(h). "
   ]
  },
  {
   "cell_type": "code",
   "execution_count": 39,
   "id": "d472db82",
   "metadata": {},
   "outputs": [],
   "source": [
    "class BinaryTree:\n",
    "    def __init__(self, value):\n",
    "        self.value = value\n",
    "        self.left = None\n",
    "        self.right = None\n",
    "        \n",
    "tree = BinaryTree(1)   \n",
    "tree.left = BinaryTree(2) \n",
    "tree.right = BinaryTree(3)  \n",
    "tree.left.left = BinaryTree(4)  \n",
    "tree.left.right = BinaryTree(5)\n",
    "tree.right.left = BinaryTree(6)      \n",
    "tree.right.right = BinaryTree(7)     \n",
    "tree.left.left.left = BinaryTree(8) \n",
    "tree.left.left.right = BinaryTree(9) "
   ]
  },
  {
   "cell_type": "code",
   "execution_count": 44,
   "id": "ebbd424f",
   "metadata": {},
   "outputs": [
    {
     "data": {
      "text/plain": [
       "16"
      ]
     },
     "execution_count": 44,
     "metadata": {},
     "output_type": "execute_result"
    }
   ],
   "source": [
    "nodeDepths(tree, depth=0)"
   ]
  },
  {
   "cell_type": "markdown",
   "id": "7240cbfb",
   "metadata": {},
   "source": [
    "# 10) Evaluate Expression Tree"
   ]
  },
  {
   "cell_type": "markdown",
   "id": "82c34e67",
   "metadata": {},
   "source": []
  },
  {
   "cell_type": "code",
   "execution_count": 23,
   "id": "a0d1292f",
   "metadata": {},
   "outputs": [],
   "source": [
    "class TreeNode:\n",
    "    def __init__(self,value, left=None, right=None):\n",
    "        self.value=value\n",
    "        self.left=left\n",
    "        self.right=right\n",
    "\n",
    "def evaluateExpressionTree(tree):\n",
    "    if tree.value>=0:\n",
    "        return tree.value\n",
    "    \n",
    "    leftValue = evaluateExpressionTree(tree.left)\n",
    "    rightValue = evaluateExpressionTree(tree.right)\n",
    "    \n",
    "    if tree.value == -1:\n",
    "        return leftValue + rightValue\n",
    "    if tree.value == -2:\n",
    "        return leftValue - rightValue\n",
    "    if tree.value == -3:\n",
    "        return int(leftValue/rightValue)\n",
    "    if tree.value == -4:\n",
    "        return leftValue * rightValue"
   ]
  },
  {
   "cell_type": "markdown",
   "id": "70b40102",
   "metadata": {},
   "source": [
    "Time complexity: O(N)\n",
    "\n",
    "Space complexity: O(h)"
   ]
  },
  {
   "cell_type": "code",
   "execution_count": 26,
   "id": "f454d7d7",
   "metadata": {},
   "outputs": [],
   "source": [
    "tree = TreeNode(-1)   \n",
    "tree.left = TreeNode(-2) \n",
    "tree.right = TreeNode(-3)  \n",
    "tree.left.left = TreeNode(-4)  \n",
    "tree.left.right = TreeNode(2)\n",
    "tree.right.left = TreeNode(8)      \n",
    "tree.right.right = TreeNode(3)     \n",
    "tree.left.left.left = TreeNode(2) \n",
    "tree.left.left.right = TreeNode(3) "
   ]
  },
  {
   "cell_type": "code",
   "execution_count": 27,
   "id": "6152412c",
   "metadata": {},
   "outputs": [
    {
     "data": {
      "text/plain": [
       "6"
      ]
     },
     "execution_count": 27,
     "metadata": {},
     "output_type": "execute_result"
    }
   ],
   "source": [
    "evaluateExpressionTree(tree)"
   ]
  },
  {
   "cell_type": "markdown",
   "id": "98368721",
   "metadata": {},
   "source": [
    "# 11) Depth First Search"
   ]
  },
  {
   "cell_type": "markdown",
   "id": "04d1fa9e",
   "metadata": {},
   "source": []
  },
  {
   "cell_type": "code",
   "execution_count": 55,
   "id": "be22c27c",
   "metadata": {},
   "outputs": [],
   "source": [
    "class Node:\n",
    "    def __init__(self, name):\n",
    "        self.children = []\n",
    "        self.name = name\n",
    "\n",
    "    def addChild(self, name):\n",
    "        self.children.append(Node(name))\n",
    "        return self\n",
    "    \n",
    "    def depthFirstSearch(self, array):\n",
    "        array.append(self.name)\n",
    "        for child in self.children:\n",
    "            child.depthFirstSearch(array)\n",
    "        return array"
   ]
  },
  {
   "cell_type": "markdown",
   "id": "6a4dd45f",
   "metadata": {},
   "source": [
    "Time Complexity: O(V+E):\n",
    "\n",
    "We traverse every vertex and added them to the list, this is the V part.\n",
    "\n",
    "Space Complexity: O(V)\n",
    "\n",
    "Until we reach the leaf, we are storing V frames on a call stack\n"
   ]
  },
  {
   "cell_type": "code",
   "execution_count": 56,
   "id": "34e79644",
   "metadata": {},
   "outputs": [
    {
     "data": {
      "text/plain": [
       "<__main__.Node at 0x105eaf910>"
      ]
     },
     "execution_count": 56,
     "metadata": {},
     "output_type": "execute_result"
    }
   ],
   "source": [
    "root = Node(\"A\")\n",
    "root.addChild(\"B\").addChild(\"C\").addChild(\"D\")\n",
    "root.children[0].addChild(\"E\").addChild(\"F\")\n",
    "root.children[2].addChild(\"G\").addChild(\"H\")\n",
    "root.children[0].children[1].addChild(\"I\").addChild(\"J\")\n",
    "root.children[2].children[0].addChild(\"K\")"
   ]
  },
  {
   "cell_type": "code",
   "execution_count": 57,
   "id": "8a132681",
   "metadata": {},
   "outputs": [
    {
     "data": {
      "text/plain": [
       "['A', 'B', 'E', 'F', 'I', 'J', 'C', 'D', 'G', 'K', 'H']"
      ]
     },
     "execution_count": 57,
     "metadata": {},
     "output_type": "execute_result"
    }
   ],
   "source": [
    "root.depthFirstSearch([])"
   ]
  },
  {
   "cell_type": "markdown",
   "id": "4f7a49ff",
   "metadata": {},
   "source": [
    "# 12) Minimum Waiting Time"
   ]
  },
  {
   "cell_type": "markdown",
   "id": "698912c7",
   "metadata": {},
   "source": [
    "You're given a non-empty array of positive integers representing the amounts of time that specific queries take to execute. Only one query can be executed at a time, but the queries can be executed in any order.\n",
    "A query's waiting time is defined as the amount of time that it must wait before its execution starts. In other words, if a query is executed second, then its waiting time is the duration of the first query; if a query is executed third, then its waiting time is the sum of the durations of the first two queries.\n",
    "Write a function that returns the minimum amount of total waiting time for all of the queries. For example, if you're given the queries of durations [1, 4, 5], then the total waiting time if the queries were executed in the order of [5, 1, 4] would be (0) + (5) + (5 + 1) = 11. The first query of duration 5 would be executed immediately, so its waiting time would be 0, the second query of duration 1 would have to wait 5 seconds (the duration of the first query) to be executed, and the last query would have to wait the duration of the first two queries before being executed.\n",
    "Note: you're allowed to mutate the input array."
   ]
  },
  {
   "cell_type": "code",
   "execution_count": 3,
   "id": "4f4ae240",
   "metadata": {},
   "outputs": [],
   "source": [
    "queries = [3,2,1,2,6]"
   ]
  },
  {
   "cell_type": "markdown",
   "id": "b5589407",
   "metadata": {},
   "source": [
    "To solve this problem, we need to consider the fact that executing the smallest queries first will result in less overall waiting time. Therefore, the first step is to sort the array of query durations in ascending order.\n",
    "\n",
    "Then, we need to calculate the cumulative waiting time for each query. We initialize a variable totalWaitingTime to 0. For each query, its waiting time is the total of all previous query durations, which we add to totalWaitingTime.\n",
    "\n",
    "In the loop, we multiply the duration of the current query by the number of remaining queries (queriesLeft). This is because every subsequent query will have to wait for the duration of the current query to finish. We add this to the total waiting time."
   ]
  },
  {
   "cell_type": "code",
   "execution_count": 1,
   "id": "0fdd16f4",
   "metadata": {},
   "outputs": [],
   "source": [
    "def minimumWaitingTime(queries):\n",
    "    queries.sort()\n",
    "    totalTime=0\n",
    "    for i in range(len(queries)):\n",
    "        queriesLeft = len(queries) - (i+1)\n",
    "        totalTime+=queries[i] * queriesLeft \n",
    "    return totalTime "
   ]
  },
  {
   "cell_type": "code",
   "execution_count": 4,
   "id": "a069b00f",
   "metadata": {},
   "outputs": [
    {
     "data": {
      "text/plain": [
       "17"
      ]
     },
     "execution_count": 4,
     "metadata": {},
     "output_type": "execute_result"
    }
   ],
   "source": [
    "minimumWaitingTime(queries)"
   ]
  },
  {
   "cell_type": "markdown",
   "id": "090bad55",
   "metadata": {},
   "source": [
    "**Time Complexity:**\n",
    "\n",
    "The time complexity is dominated by the sorting operation, which is O(n log n) for most standard sorting algorithms where n is the number of queries. After sorting, the function performs a single pass over the array, which is O(n). Therefore, the overall time complexity is O(n log n).\n",
    "\n",
    "**Space Complexity:**\n",
    "\n",
    "The space complexity of this function is O(1), or constant, because the amount of additional space used (for the variable totalWaitingTime and queriesLeft) does not increase with the size of the input array. Note that the space used by the input itself is not counted towards the space complexity. The sorting operation is done in-place and does not require additional space that scales with input size. However, this assumes that the sort function itself does not use additional space; in Python, the built-in sort method does not use additional space, but this may not be the case in all languages or for all sorting algorithms."
   ]
  },
  {
   "cell_type": "markdown",
   "id": "72e0a89f",
   "metadata": {},
   "source": [
    "# 13) Class Photos"
   ]
  },
  {
   "cell_type": "markdown",
   "id": "5282d5c1",
   "metadata": {},
   "source": [
    "### Question"
   ]
  },
  {
   "cell_type": "markdown",
   "id": "84964f48",
   "metadata": {},
   "source": [
    "It's photo day at the local school, and you're the photographer assigned to take class photos. The class that you'll be photographing has an even number of students, and all these students are wearing red or blue shirts. In fact, exactly half of the class is wearing red shirts, and the other half is wearing blue shirts. You're responsible for arranging the students in two rows before taking the photo. Each row should contain the same number of the students and should adhere to the following guidelines:\n",
    "\n",
    "• All students wearing red shirts must be in the same row.\n",
    "\n",
    "• All students wearing blue shirts must be in the same row.\n",
    "\n",
    "• Each student in the back row must be strictly taller than the student directly in front of them in the front row.\n",
    "\n",
    "You're given two input arrays: one containing the heights of all the students with red shirts and another one containing the heights of all the students with blue shirts. These arrays will always have the same length, and each height will be a positive integer. Write a function that returns whether or not a class photo that follows the stated guidelines can be taken.\n",
    "\n",
    "Note: you can assume that each class has at least 2 students."
   ]
  },
  {
   "cell_type": "markdown",
   "id": "c77f1072",
   "metadata": {},
   "source": [
    "### Test Input"
   ]
  },
  {
   "cell_type": "code",
   "execution_count": 5,
   "id": "73a0489f",
   "metadata": {},
   "outputs": [],
   "source": [
    "redShirtHeights = [5,8,1,3,4]\n",
    "blueShirtHeights = [6,9,2,4,5]"
   ]
  },
  {
   "cell_type": "markdown",
   "id": "aac4b672",
   "metadata": {},
   "source": [
    "### Explanation"
   ]
  },
  {
   "cell_type": "markdown",
   "id": "84565aee",
   "metadata": {},
   "source": [
    "To solve this problem, we can follow these steps:\n",
    "\n",
    "First, sort both arrays in descending order. This will allow us to compare the tallest student in each row first, then the second tallest, and so on.\n",
    "\n",
    "Then, we check whether the tallest student in one of the rows is taller than the tallest student in the other row. If not, it means we cannot take the class photo according to the guidelines, because the student in the back row is not strictly taller than the student in the front row.\n",
    "\n",
    "If the tallest student in one row is taller than the tallest student in the other row, we check the second tallest students, then the third tallest, and so on. If we find any pair of students where the student in the back row is not strictly taller than the student in the front row, we know we cannot take the photo."
   ]
  },
  {
   "cell_type": "markdown",
   "id": "15c9766b",
   "metadata": {},
   "source": [
    "### Code"
   ]
  },
  {
   "cell_type": "code",
   "execution_count": 6,
   "id": "4539c89e",
   "metadata": {},
   "outputs": [],
   "source": [
    "def classPhotos(redShirtHeights, blueShirtHeights):\n",
    "    redShirtHeights.sort(reverse=True)\n",
    "    blueShirtHeights.sort(reverse=True)\n",
    "    \n",
    "    if redShirtHeights[0]>blueShirtHeights[0]:\n",
    "        tallerRow=redShirtHeights\n",
    "        shorterRow=blueShirtHeights\n",
    "    else:\n",
    "        tallerRow=blueShirtHeights\n",
    "        shorterRow=redShirtHeights\n",
    "    for i in range(len(tallerRow)):\n",
    "        if tallerRow[i]<=shorterRow[i]:\n",
    "            return False\n",
    "    return True"
   ]
  },
  {
   "cell_type": "markdown",
   "id": "a3c149b6",
   "metadata": {},
   "source": [
    "### Test Output"
   ]
  },
  {
   "cell_type": "code",
   "execution_count": 7,
   "id": "0c790ca2",
   "metadata": {},
   "outputs": [
    {
     "data": {
      "text/plain": [
       "True"
      ]
     },
     "execution_count": 7,
     "metadata": {},
     "output_type": "execute_result"
    }
   ],
   "source": [
    "classPhotos(redShirtHeights, blueShirtHeights)"
   ]
  },
  {
   "cell_type": "markdown",
   "id": "579910b3",
   "metadata": {},
   "source": [
    "### Time Complexity"
   ]
  },
  {
   "cell_type": "markdown",
   "id": "6c37945c",
   "metadata": {},
   "source": [
    "The time complexity of this function is O(n log n) where n is the number of students. This is because the dominant factor in the time complexity is the sorting operation on the redShirtHeights and blueShirtHeights arrays. The comparison of the students' heights in the loop following the sort operation will only take O(n) time, but because the sort operation is more complex, it is the factor that we consider when calculating time complexity."
   ]
  },
  {
   "cell_type": "markdown",
   "id": "8ea01908",
   "metadata": {},
   "source": [
    "### Space Complexity"
   ]
  },
  {
   "cell_type": "markdown",
   "id": "d196cbfa",
   "metadata": {},
   "source": [
    "The space complexity of this function is O(1), or constant, because the amount of additional space used does not increase with the size of the input array. The sorting operation is done in-place and does not require additional space that scales with input size."
   ]
  },
  {
   "cell_type": "markdown",
   "id": "8ec64f67",
   "metadata": {},
   "source": [
    "# 14) Tandem Bikes"
   ]
  },
  {
   "cell_type": "markdown",
   "id": "a30f5838",
   "metadata": {},
   "source": [
    "### Question"
   ]
  },
  {
   "cell_type": "markdown",
   "id": "36467329",
   "metadata": {},
   "source": [
    "A tandem bicycle is a bicycle that's operated by two people: person A and person B. Both people pedal the bicycle, but the person that pedals faster dictates the speed of the bicycle. So if person A pedals at a speed of 5, and person B pedals at a\n",
    "speed of 4, the tandem bicycle moves at a speed of 5 (i.e.,\n",
    "tandemSpeed = max(speedA, speedB) ).\n",
    "You're given two lists of positive integers: one that contains the speeds of riders wearing red shirts and one that contains the speeds of riders wearing blue shirts. Each rider is represented by a single positive integer, which is the speed that they pedal a tandem bicycle at. Both lists have the same length, meaning that there are as many red-shirt riders as there are blue-shirt riders. Your goal is to pair every rider wearing a red shirt with a rider wearing a blue shirt to operate a tandem bicycle. Write a function that returns the maximum possible total speed or the minimum possible total speed of all of the tandem bicycles being ridden based on an input parameter, fastest .If fastest = true, your function should return the maximum possible total speed; otherwise it should return the minimum total speed. \"Total speed\" is defined as the sum of the speeds of all the tandem bicycles being ridden. For example, if there are 4 riders (2 red-shirt riders and 2 blue-shirt riders) who have speeds of 1, 3, 4, 5, and if they're paired on tandem bicycles as follows: [1, 4], [5, 3], then the total speed of these tandem bicycles is 4 +5 = 9."
   ]
  },
  {
   "cell_type": "markdown",
   "id": "d68b80e5",
   "metadata": {},
   "source": [
    "### Test Input"
   ]
  },
  {
   "cell_type": "code",
   "execution_count": 8,
   "id": "0f383c02",
   "metadata": {},
   "outputs": [],
   "source": [
    "redShirtSpeeds = [5, 5, 3, 9, 2]\n",
    "blueShirtSpeeds = [3, 6, 7, 2, 1]\n",
    "fastest = True"
   ]
  },
  {
   "cell_type": "markdown",
   "id": "9d3bbe55",
   "metadata": {},
   "source": [
    "### Explanation"
   ]
  },
  {
   "cell_type": "markdown",
   "id": "1f508e5d",
   "metadata": {},
   "source": [
    "To achieve the maximum total speed, we pair the fastest rider of one team with the slowest rider of the other team. This can be done by sorting one team's speeds in ascending order, and the other team's speeds in descending order.\n",
    "\n",
    "For the minimum total speed, we pair the riders with the same ranks when both teams' speeds are sorted in ascending order."
   ]
  },
  {
   "cell_type": "markdown",
   "id": "6ad53261",
   "metadata": {},
   "source": [
    "### Code"
   ]
  },
  {
   "cell_type": "code",
   "execution_count": 13,
   "id": "6c018425",
   "metadata": {},
   "outputs": [],
   "source": [
    "def tandemBicycle(redShirtSpeeds, blueShirtSpeeds, fastest):\n",
    "    \n",
    "    redShirtSpeeds.sort()\n",
    "    blueShirtSpeeds.sort()\n",
    "    total = 0\n",
    "    \n",
    "    if fastest:\n",
    "        redShirtSpeeds.sort(reverse=True)\n",
    "    \n",
    "    for i in range(len(redShirtSpeeds)):\n",
    "        total+=max(redShirtSpeeds[i], blueShirtSpeeds[i])\n",
    "    \n",
    "    return total   "
   ]
  },
  {
   "cell_type": "markdown",
   "id": "e559e647",
   "metadata": {},
   "source": [
    "### Test Output"
   ]
  },
  {
   "cell_type": "code",
   "execution_count": 14,
   "id": "acf2cc3f",
   "metadata": {},
   "outputs": [
    {
     "data": {
      "text/plain": [
       "32"
      ]
     },
     "execution_count": 14,
     "metadata": {},
     "output_type": "execute_result"
    }
   ],
   "source": [
    "tandemBicycle(redShirtSpeeds, blueShirtSpeeds, fastest)"
   ]
  },
  {
   "cell_type": "markdown",
   "id": "845e0187",
   "metadata": {},
   "source": [
    "### Time Complexity"
   ]
  },
  {
   "cell_type": "markdown",
   "id": "fb964b69",
   "metadata": {},
   "source": [
    "The time complexity remains O(n log n), where n is the number of riders, because we are still sorting both the redShirtSpeeds and blueShirtSpeeds arrays, which dominates the time complexity."
   ]
  },
  {
   "cell_type": "markdown",
   "id": "3daffa51",
   "metadata": {},
   "source": [
    "### Space Complexity"
   ]
  },
  {
   "cell_type": "markdown",
   "id": "5f66b14c",
   "metadata": {},
   "source": [
    "The space complexity remains O(1), or constant, because we're not using additional space that scales with the size of the input. We're performing the sorting in-place."
   ]
  },
  {
   "cell_type": "markdown",
   "id": "bb86ad80",
   "metadata": {},
   "source": [
    "# 15) Optimal Freelancing "
   ]
  },
  {
   "cell_type": "markdown",
   "id": "ad7e0450",
   "metadata": {},
   "source": [
    "### Question"
   ]
  },
  {
   "cell_type": "markdown",
   "id": "3d93409a",
   "metadata": {},
   "source": [
    "You recently started freelance software development and have been offered a variety of job opportunities. Each job has a deadline, meaning there is no value in completing the work after the deadline. Additionally, each job has an associated payment representing the profit for completing that job. Given this information, write a function that returns the maximum profit that can be obtained in a 7-day period.\n",
    "Each job will take 1 full day to complete, and the deadline will be given as the number of days left to complete the job. For example, if a job has a deadline of 1, then it can only be completed if it is the first job worked on. If a job has a deadline of 2, then it could be started on the first or second day.\n",
    "\n",
    "Note: There is no requirement to complete all of the jobs. Only one job can be worked on at a time, meaning that in some scenarios it will be impossible to complete them all.\n"
   ]
  },
  {
   "cell_type": "markdown",
   "id": "a61f0ad3",
   "metadata": {},
   "source": [
    "### Test Input"
   ]
  },
  {
   "cell_type": "code",
   "execution_count": 24,
   "id": "a8f8f924",
   "metadata": {},
   "outputs": [],
   "source": [
    "jobs = [{\"deadline\": 1, \"payment\": 1}, {\"deadline\": 2, \"payment\": 1}, {\"deadline\": 2, \"payment\": 2}]"
   ]
  },
  {
   "cell_type": "markdown",
   "id": "68996679",
   "metadata": {},
   "source": [
    "### Explanation"
   ]
  },
  {
   "cell_type": "markdown",
   "id": "296b834a",
   "metadata": {},
   "source": [
    "This solution follows a greedy strategy to maximize profit. The jobs are sorted in descending order by their payment so that the most profitable jobs are considered first. A timeline is used to keep track of the days on which a job is scheduled. For each job, the algorithm looks for the latest possible day it can be scheduled without exceeding its deadline or the end of the week. If that day is available (indicated by False in the timeline), it schedules the job on that day and adds the job's payment to the total profit."
   ]
  },
  {
   "cell_type": "markdown",
   "id": "5f4d10bc",
   "metadata": {},
   "source": [
    "### Code"
   ]
  },
  {
   "cell_type": "code",
   "execution_count": 27,
   "id": "5c79299f",
   "metadata": {},
   "outputs": [],
   "source": [
    "def optimalFreelancing(jobs):\n",
    "    weekLength = 7\n",
    "    profit = 0\n",
    "    jobs.sort(key=lambda job: job[\"payment\"], reverse=True)\n",
    "    timeline = [False] * weekLength\n",
    "    for job in jobs:\n",
    "        maxTime = min(job[\"deadline\"], weekLength)\n",
    "        for time in reversed(range(maxTime)):\n",
    "            if timeline[time] == False:\n",
    "                timeline[time] = True \n",
    "                profit += job[\"payment\"]\n",
    "                break\n",
    "    return profit"
   ]
  },
  {
   "cell_type": "markdown",
   "id": "1d500f8b",
   "metadata": {},
   "source": [
    "### Test Output"
   ]
  },
  {
   "cell_type": "code",
   "execution_count": 28,
   "id": "6cb0c530",
   "metadata": {},
   "outputs": [
    {
     "data": {
      "text/plain": [
       "3"
      ]
     },
     "execution_count": 28,
     "metadata": {},
     "output_type": "execute_result"
    }
   ],
   "source": [
    "optimalFreelancing(jobs)"
   ]
  },
  {
   "cell_type": "markdown",
   "id": "5f642f7b",
   "metadata": {},
   "source": [
    "### Time Complexity"
   ]
  },
  {
   "cell_type": "markdown",
   "id": "db2542a9",
   "metadata": {},
   "source": [
    "The time complexity for this solution is primarily driven by the sorting operation, which is O(n log n) where n is the number of jobs. After sorting, the code goes through each job and, in the worst case, checks each day of the week to see if the job can be scheduled on that day. This can seem like it would add an additional O(n) complexity, making the overall complexity O(n^2).\n",
    "\n",
    "However, the key here is that every day of the week is only checked once overall, not once for each job. This is because when a day is marked as True in the timeline, it remains True and is never checked again. As a result, the total number of operations is still proportional to n, not n^2."
   ]
  },
  {
   "cell_type": "markdown",
   "id": "79585d3b",
   "metadata": {},
   "source": [
    "### Space Complexity"
   ]
  },
  {
   "cell_type": "markdown",
   "id": "e842265b",
   "metadata": {},
   "source": [
    "The space complexity is O(n). A timeline of length equal to the length of the week is used, but since the week length is a constant, the space complexity is dominated by the jobs array, which is O(n)."
   ]
  },
  {
   "cell_type": "markdown",
   "id": "afd6c139",
   "metadata": {},
   "source": [
    "# 16) Remove Duplicates From Linked List"
   ]
  },
  {
   "cell_type": "markdown",
   "id": "e512e498",
   "metadata": {},
   "source": [
    "### Question"
   ]
  },
  {
   "cell_type": "markdown",
   "id": "6a6b9c2b",
   "metadata": {},
   "source": [
    "You're given the head of a Singly Linked List whose nodes are in sorted order with respect to their values. Write a function that returns a modified version of the Linked List that doesn't contain any nodes with duplicate values. The Linked List should be modified in place (i.e., you shouldn't create a brand new list), and the modified Linked List should still have its nodes sorted with respect to their values.\n",
    "Each LinkedList node has an integer value as well as a next node pointing to the next node in the list or to None / null if it's the tail of the list."
   ]
  },
  {
   "cell_type": "markdown",
   "id": "9b75d59b",
   "metadata": {},
   "source": [
    "### Test Input"
   ]
  },
  {
   "cell_type": "code",
   "execution_count": 43,
   "id": "a5a35401",
   "metadata": {},
   "outputs": [],
   "source": [
    "linkedList = LinkedList(1)\n",
    "linkedList.next = LinkedList(1)\n",
    "linkedList.next.next = LinkedList(3)\n",
    "linkedList.next.next.next = LinkedList(4)\n",
    "linkedList.next.next.next.next = LinkedList(4)\n",
    "linkedList.next.next.next.next.next = LinkedList(4)\n",
    "linkedList.next.next.next.next.next.next = LinkedList(5)\n",
    "linkedList.next.next.next.next.next.next.next = LinkedList(6)\n",
    "linkedList.next.next.next.next.next.next.next.next = LinkedList(6)"
   ]
  },
  {
   "cell_type": "markdown",
   "id": "3a937f97",
   "metadata": {},
   "source": [
    "### Explanation"
   ]
  },
  {
   "cell_type": "markdown",
   "id": "92b787aa",
   "metadata": {},
   "source": [
    "The removeDuplicatesFromLinkedList function iterates over the linked list using currentNode. For each currentNode, it finds the next node that has a distinct value (i.e., a value different from currentNode.value). It does this by repeatedly moving nextDistinctNode to its next node while nextDistinctNode is not None and its value is the same as currentNode.value.\n",
    "\n",
    "When nextDistinctNode becomes either None (which means we've reached the end of the list) or a node with a distinct value, it updates currentNode.next to point to nextDistinctNode. This effectively skips over any nodes with the same value as currentNode, thus removing duplicates.\n",
    "\n",
    "Finally, it moves currentNode to nextDistinctNode and repeats this process until currentNode becomes None, which means we've processed the entire list. At this point, all duplicate nodes have been removed from the list."
   ]
  },
  {
   "cell_type": "markdown",
   "id": "29683160",
   "metadata": {},
   "source": [
    "### Code"
   ]
  },
  {
   "cell_type": "code",
   "execution_count": 44,
   "id": "32244982",
   "metadata": {},
   "outputs": [],
   "source": [
    "class LinkedList:\n",
    "    def __init__(self,value):\n",
    "        self.value = value\n",
    "        self.next = None \n",
    "        \n",
    "def removeDuplicatesFromLinkedList(linkedList):\n",
    "    currentNode = linkedList\n",
    "    while currentNode is not None:\n",
    "        nextDistinctNode = currentNode.next \n",
    "        while nextDistinctNode is not None and nextDistinctNode.value==currentNode.value:\n",
    "            nextDistinctNode=nextDistinctNode.next \n",
    "        currentNode.next = nextDistinctNode\n",
    "        currentNode = nextDistinctNode \n",
    "        return linkedList"
   ]
  },
  {
   "cell_type": "markdown",
   "id": "3a8524b0",
   "metadata": {},
   "source": [
    "### Test Output"
   ]
  },
  {
   "cell_type": "code",
   "execution_count": 45,
   "id": "580b8020",
   "metadata": {},
   "outputs": [
    {
     "name": "stdout",
     "output_type": "stream",
     "text": [
      "1 3 4 4 4 5 6 6 "
     ]
    }
   ],
   "source": [
    "removeDuplicatesFromLinkedList(linkedList)\n",
    "node = linkedList\n",
    "while node is not None:\n",
    "    print(node.value, end = \" \")\n",
    "    node = node.next"
   ]
  },
  {
   "cell_type": "markdown",
   "id": "4079b019",
   "metadata": {},
   "source": [
    "### Time Complexity"
   ]
  },
  {
   "cell_type": "markdown",
   "id": "6129f8d9",
   "metadata": {},
   "source": [
    "The time complexity is O(n), where n is the number of nodes in the linked list. This is because we are visiting each node of the linked list exactly once."
   ]
  },
  {
   "cell_type": "markdown",
   "id": "e2292c6b",
   "metadata": {},
   "source": [
    "### Space Complexity"
   ]
  },
  {
   "cell_type": "markdown",
   "id": "087c5138",
   "metadata": {},
   "source": [
    "The space complexity is O(1), as we are not using any additional space that scales with the input size. We are only using a few variables, so the space usage is constant."
   ]
  },
  {
   "cell_type": "markdown",
   "id": "b94abade",
   "metadata": {},
   "source": [
    "# 17) Middle Node"
   ]
  },
  {
   "cell_type": "markdown",
   "id": "7e713825",
   "metadata": {},
   "source": [
    "### Question"
   ]
  },
  {
   "cell_type": "markdown",
   "id": "0db44ad9",
   "metadata": {},
   "source": [
    "You're given a Linked List with at least one node. Write a function that returns the middle node of the Linked List. If there are two middle nodes (i.e. an even length list), your function should return the second of these nodes.\n",
    "Each LinkedList node has an integer value as well as a next node pointing to the next node in the list or to None / null if it's the tail of the list."
   ]
  },
  {
   "cell_type": "markdown",
   "id": "6fc7a0e0",
   "metadata": {},
   "source": [
    "### Test Input"
   ]
  },
  {
   "cell_type": "code",
   "execution_count": 46,
   "id": "e47e5fe3",
   "metadata": {},
   "outputs": [],
   "source": [
    "linkedList = LinkedList(2)\n",
    "linkedList.next = LinkedList(7)\n",
    "linkedList.next.next = LinkedList(3)\n",
    "linkedList.next.next.next = LinkedList(5)"
   ]
  },
  {
   "cell_type": "markdown",
   "id": "580e15e9",
   "metadata": {},
   "source": [
    "### Explanation"
   ]
  },
  {
   "cell_type": "markdown",
   "id": "de0c45dc",
   "metadata": {},
   "source": []
  },
  {
   "cell_type": "markdown",
   "id": "f5814f5b",
   "metadata": {},
   "source": [
    "### Code"
   ]
  },
  {
   "cell_type": "code",
   "execution_count": 47,
   "id": "46491eca",
   "metadata": {},
   "outputs": [],
   "source": [
    "def findMiddleNode(linkedList):\n",
    "    slow=linkedList\n",
    "    fast=linkedList\n",
    "    \n",
    "    while fast is not None and fast.next is not None:\n",
    "        slow=slow.next\n",
    "        fast=fast.next.next \n",
    "        \n",
    "    return slow "
   ]
  },
  {
   "cell_type": "markdown",
   "id": "51406ef6",
   "metadata": {},
   "source": [
    "### Test Output"
   ]
  },
  {
   "cell_type": "code",
   "execution_count": 48,
   "id": "71111e4a",
   "metadata": {},
   "outputs": [
    {
     "data": {
      "text/plain": [
       "<__main__.LinkedList at 0x1067b3fa0>"
      ]
     },
     "execution_count": 48,
     "metadata": {},
     "output_type": "execute_result"
    }
   ],
   "source": [
    "findMiddleNode(linkedList)"
   ]
  },
  {
   "cell_type": "markdown",
   "id": "7bc91e1a",
   "metadata": {},
   "source": [
    "### Time Complexity"
   ]
  },
  {
   "cell_type": "markdown",
   "id": "c1b8d44e",
   "metadata": {},
   "source": [
    "The time complexity is O(n), where n is the number of nodes in the linked list. This is because we are visiting each node of the linked list at most twice."
   ]
  },
  {
   "cell_type": "markdown",
   "id": "3dd44441",
   "metadata": {},
   "source": [
    "### Space Complexity"
   ]
  },
  {
   "cell_type": "markdown",
   "id": "7b1c8cf4",
   "metadata": {},
   "source": [
    "The space complexity is O(1), as we are not using any additional space that scales with the input size. We are only using a few variables, so the space usage is constant."
   ]
  },
  {
   "cell_type": "markdown",
   "id": "55d4dfe8",
   "metadata": {},
   "source": [
    "# 18) Nth Fibonacci"
   ]
  },
  {
   "cell_type": "markdown",
   "id": "25e039f5",
   "metadata": {},
   "source": [
    "### Question"
   ]
  },
  {
   "cell_type": "markdown",
   "id": "e4abec9a",
   "metadata": {},
   "source": [
    "The Fibonacci sequence is defined as follows: the first number of the sequence is , the second number is 1, and the nth number is the sum of the (n - 1)th and (n - 2)th numbers. Write a function that takes in an integer n and returns the nth Fibonacci number.\n",
    "Important note: the Fibonacci sequence is often defined with its first two numbers as FO = 0 and F1 = 1. For the purpose of this question, the first Fibonacci number is FO; therefore, getNthFib(1) is equal to F0, getNthFib(2) is equal to F1, etc.."
   ]
  },
  {
   "cell_type": "markdown",
   "id": "b6c11d5b",
   "metadata": {},
   "source": [
    "### Test Input"
   ]
  },
  {
   "cell_type": "code",
   "execution_count": 63,
   "id": "8afdcf18",
   "metadata": {},
   "outputs": [],
   "source": [
    "n=100"
   ]
  },
  {
   "cell_type": "markdown",
   "id": "1ce0820d",
   "metadata": {},
   "source": [
    "### Explanation"
   ]
  },
  {
   "cell_type": "markdown",
   "id": "a8b7780c",
   "metadata": {},
   "source": [
    "This Python solution calculates the nth Fibonacci number using an iterative approach and constant space.\n",
    "\n",
    "First, it initializes a list lastTwo with the first two Fibonacci numbers 0 and 1. The variable counter is initialized to 3, representing the position in the Fibonacci sequence the program is currently calculating.\n",
    "\n",
    "The while loop continues until counter exceeds n, the desired position in the Fibonacci sequence. In each iteration of the loop, the next Fibonacci number is calculated as the sum of the two preceding ones (nextFib = lastTwo[0] + lastTwo[1]). Then, the list lastTwo is updated: lastTwo[0] is replaced with lastTwo[1], and lastTwo[1] is replaced with nextFib. The counter is incremented by 1 in each loop.\n",
    "\n",
    "After the loop, the function returns the last computed Fibonacci number. If n is greater than 1, it returns lastTwo[1]; otherwise, it returns lastTwo[0]."
   ]
  },
  {
   "cell_type": "markdown",
   "id": "2c5c0b43",
   "metadata": {},
   "source": [
    "### Code"
   ]
  },
  {
   "cell_type": "code",
   "execution_count": 49,
   "id": "c05ec7b7",
   "metadata": {},
   "outputs": [],
   "source": [
    "#Memoized version - O(n) time but O(n) space\n",
    "\n",
    "def getNthFib(n, memoize={1:0, 2:1}):\n",
    "    if n in memoize:\n",
    "        return memoize[n]\n",
    "    else:\n",
    "        memoize[n]=getNthFib(n-1, memoize) + getNthFib(n-2, memoize)\n",
    "    return memoize[n]"
   ]
  },
  {
   "cell_type": "code",
   "execution_count": 61,
   "id": "6dd2d801",
   "metadata": {},
   "outputs": [],
   "source": [
    "# Iterative version - o(n) time and O(1) space \n",
    "def getNthFib(n):\n",
    "    lastTwo = [0,1]\n",
    "    counter=3\n",
    "    while counter<=n:\n",
    "        nextFib = lastTwo[0] + lastTwo[1]\n",
    "        lastTwo[0]= lastTwo[1]\n",
    "        lastTwo[1] = nextFib\n",
    "        counter+=1\n",
    "    return lastTwo[1] if n>1 else lastTwo[0]"
   ]
  },
  {
   "cell_type": "markdown",
   "id": "856677d2",
   "metadata": {},
   "source": [
    "### Test Output"
   ]
  },
  {
   "cell_type": "code",
   "execution_count": 64,
   "id": "edd77450",
   "metadata": {},
   "outputs": [
    {
     "data": {
      "text/plain": [
       "218922995834555169026"
      ]
     },
     "execution_count": 64,
     "metadata": {},
     "output_type": "execute_result"
    }
   ],
   "source": [
    "getNthFib(n)"
   ]
  },
  {
   "cell_type": "markdown",
   "id": "082d473b",
   "metadata": {},
   "source": [
    "### Time Complexity"
   ]
  },
  {
   "cell_type": "markdown",
   "id": "d4bfd69a",
   "metadata": {},
   "source": [
    "The function uses a while loop that iterates n-2 times (from the 3rd Fibonacci number to the nth). The operations within the loop are constant time, so the overall time complexity is linear in n."
   ]
  },
  {
   "cell_type": "markdown",
   "id": "0873047b",
   "metadata": {},
   "source": [
    "### Space Complexity"
   ]
  },
  {
   "cell_type": "markdown",
   "id": "6f0adf96",
   "metadata": {},
   "source": [
    "The space usage does not grow with n; it only uses a constant amount of space to store lastTwo and a few integer variables (counter, nextFib, n)."
   ]
  },
  {
   "cell_type": "markdown",
   "id": "c0072fb4",
   "metadata": {},
   "source": [
    "# 19) Product Sum"
   ]
  },
  {
   "cell_type": "markdown",
   "id": "ccfdd6ec",
   "metadata": {},
   "source": [
    "### Question"
   ]
  },
  {
   "cell_type": "markdown",
   "id": "89cc66f9",
   "metadata": {},
   "source": [
    "Write a function that takes in a \"special\" array and returns its product sum.\n",
    "\n",
    "A \"special\" array is a non-empty array that contains either integers or other \"special\" arrays. The product sum of a \"special\" array is the sum of its elements, where \"special\" arrays inside it are summed themselves and then multiplied by their level of depth.\n",
    "\n",
    "The depth of a \"special\" array is how far nested it is. For instance, the depth of [] is 1; the depth of the inner array in [[]] is 2; the depth of the innermost array in [[[]]] is 3 .Therefore, the product sum of [x, y] is x + y; the product sum of\n",
    "[x, [y, z]] is x + 2 * (y + z); the product sum of [x, [y, [z]]] is x + 2 * (y + 3z) ."
   ]
  },
  {
   "cell_type": "markdown",
   "id": "5acd6b87",
   "metadata": {},
   "source": [
    "### Test Input"
   ]
  },
  {
   "cell_type": "code",
   "execution_count": 67,
   "id": "2381ff6d",
   "metadata": {},
   "outputs": [],
   "source": [
    "array = [5, 2, [7, -1], 3, [6, [-13, 8], 4]]\n",
    "#Sample Output\n",
    "# 12 // calculated as: 5 + 2 + 2 * (7 − 1) + 3 + 2 * (6 + 3 ✶ (-13+8)+4)"
   ]
  },
  {
   "cell_type": "markdown",
   "id": "fcfdccce",
   "metadata": {},
   "source": [
    "### Explanation"
   ]
  },
  {
   "cell_type": "markdown",
   "id": "ab510d9a",
   "metadata": {},
   "source": [
    "The solution to this problem can be achieved using a recursive function which traverses through each element of the special array. If an element is an integer, it gets added to the sum, otherwise if the element is a special array, we recursively calculate its product sum and add it to the overall sum.\n",
    "\n",
    "In the function, we are initializing sum as 0. For each element in the array, if the element is of type list (i.e., it's a special array), we call productSum recursively on this special array with depth + 1. This result is then added to sum. If the element is an integer, it is directly added to sum.\n",
    "\n",
    "At the end of the function, we return the sum multiplied by the depth."
   ]
  },
  {
   "cell_type": "markdown",
   "id": "07cf9f61",
   "metadata": {},
   "source": [
    "### Code"
   ]
  },
  {
   "cell_type": "code",
   "execution_count": 65,
   "id": "d299e644",
   "metadata": {},
   "outputs": [],
   "source": [
    "def productSum(array, depth=1):\n",
    "    sum = 0\n",
    "    for i in array:\n",
    "        if type(i) is list:\n",
    "            sum+=productSum(i, depth+1)\n",
    "        else:\n",
    "            sum+=i\n",
    "    return sum * depth "
   ]
  },
  {
   "cell_type": "markdown",
   "id": "34df2c7b",
   "metadata": {},
   "source": [
    "### Test Output"
   ]
  },
  {
   "cell_type": "code",
   "execution_count": 68,
   "id": "8a468bc4",
   "metadata": {},
   "outputs": [
    {
     "data": {
      "text/plain": [
       "12"
      ]
     },
     "execution_count": 68,
     "metadata": {},
     "output_type": "execute_result"
    }
   ],
   "source": [
    "productSum(array, depth=1)"
   ]
  },
  {
   "cell_type": "markdown",
   "id": "8e7e1a07",
   "metadata": {},
   "source": [
    "### Time Complexity"
   ]
  },
  {
   "cell_type": "markdown",
   "id": "99cc5cf5",
   "metadata": {},
   "source": [
    "O(n), where n is the total number of elements in the array, including sub-elements of special arrays. This is because each element in the array is visited once."
   ]
  },
  {
   "cell_type": "markdown",
   "id": "929950c7",
   "metadata": {},
   "source": [
    "### Space Complexity"
   ]
  },
  {
   "cell_type": "markdown",
   "id": "c1189ebd",
   "metadata": {},
   "source": [
    "O(d), where d is the maximum depth of \"special\" arrays in the array. This is the space required for the call stack in a depth-first search traversal."
   ]
  },
  {
   "cell_type": "markdown",
   "id": "d4e5c5f4",
   "metadata": {},
   "source": [
    "# 20) Binary Search"
   ]
  },
  {
   "cell_type": "markdown",
   "id": "6fd2ff9e",
   "metadata": {},
   "source": [
    "### Question"
   ]
  },
  {
   "cell_type": "markdown",
   "id": "a70dd80d",
   "metadata": {},
   "source": [
    "Write a function that takes in a sorted array of integers as well as a target integer. The function should use the Binary Search algorithm to determine if the target integer is contained in the array and should return its index if it is, otherwise -1.\n",
    "If you're unfamiliar with Binary Search, we recommend watching the Conceptual Overview section of this question's video explanation before starting to code."
   ]
  },
  {
   "cell_type": "markdown",
   "id": "7b4f6002",
   "metadata": {},
   "source": [
    "### Test Input"
   ]
  },
  {
   "cell_type": "code",
   "execution_count": 69,
   "id": "8bfcfac0",
   "metadata": {},
   "outputs": [],
   "source": [
    "array = [0, 1, 21, 33, 45, 45, 61, 71, 72, 73]\n",
    "target = 33"
   ]
  },
  {
   "cell_type": "markdown",
   "id": "27b68524",
   "metadata": {},
   "source": [
    "### Explanation"
   ]
  },
  {
   "cell_type": "markdown",
   "id": "41e5bf6f",
   "metadata": {},
   "source": [
    "Binary search is an efficient algorithm for finding an item from a sorted list of items. It works by repeatedly dividing in half the portion of the list that could contain the item, until you've narrowed down the possible locations to just one.\n",
    "\n",
    "In the function, we start by initializing two pointers, left and right, to the start and end of the array respectively. Then, we enter a loop which continues as long as left is less than or equal to right. Inside the loop, we calculate the middle index (mid) and check the element at this index (potentialMatch). If it equals the target, we return mid. If the target is less than potentialMatch, we move right to mid - 1. If the target is greater than potentialMatch, we move left to mid + 1. If the loop ends without finding the target, we return -1."
   ]
  },
  {
   "cell_type": "markdown",
   "id": "bf513c6d",
   "metadata": {},
   "source": [
    "### Code"
   ]
  },
  {
   "cell_type": "code",
   "execution_count": 70,
   "id": "7bff4a3c",
   "metadata": {},
   "outputs": [],
   "source": [
    "def binarySearch(array, target):\n",
    "    left = 0\n",
    "    right = len(array)-1\n",
    "    \n",
    "    while left<=right:\n",
    "        mid = (left+right)//2\n",
    "\n",
    "        isTarget = array[mid]\n",
    "\n",
    "        if target == isTarget:\n",
    "            return mid \n",
    "        elif target<isTarget:\n",
    "            right=mid-1\n",
    "        else:\n",
    "            left=mid+1\n",
    "    \n",
    "    return -1"
   ]
  },
  {
   "cell_type": "markdown",
   "id": "3619bd31",
   "metadata": {},
   "source": [
    "### Test Output"
   ]
  },
  {
   "cell_type": "code",
   "execution_count": 71,
   "id": "6bf7e5d8",
   "metadata": {},
   "outputs": [
    {
     "data": {
      "text/plain": [
       "3"
      ]
     },
     "execution_count": 71,
     "metadata": {},
     "output_type": "execute_result"
    }
   ],
   "source": [
    "binarySearch(array, target)"
   ]
  },
  {
   "cell_type": "markdown",
   "id": "7970c228",
   "metadata": {},
   "source": [
    "### Time Complexity"
   ]
  },
  {
   "cell_type": "markdown",
   "id": "fb9d50d3",
   "metadata": {},
   "source": [
    "O(log(n)), where n is the number of elements in the array. This is because with each comparison, we are reducing the size of the array by half."
   ]
  },
  {
   "cell_type": "markdown",
   "id": "d9a028b2",
   "metadata": {},
   "source": [
    "### Space Complexity"
   ]
  },
  {
   "cell_type": "markdown",
   "id": "991e7131",
   "metadata": {},
   "source": [
    "O(1), because we are using a constant amount of space to store the pointers and variables, regardless of the input array size."
   ]
  },
  {
   "cell_type": "markdown",
   "id": "59becacf",
   "metadata": {},
   "source": [
    "# 21) Find Three Largest Numbers "
   ]
  },
  {
   "cell_type": "markdown",
   "id": "e8ca05f9",
   "metadata": {},
   "source": [
    "### Question"
   ]
  },
  {
   "cell_type": "markdown",
   "id": "c074c0f9",
   "metadata": {},
   "source": [
    "Write a function that takes in an array of at least three integers and, without sorting the input array, returns a sorted array of the three largest integers in the input array.\n",
    "The function should return duplicate integers if necessary; for example, it should return [10, 10, 12] for an input array of [10, 5, 9, 10, 12]."
   ]
  },
  {
   "cell_type": "markdown",
   "id": "abacb900",
   "metadata": {},
   "source": [
    "### Test Input"
   ]
  },
  {
   "cell_type": "code",
   "execution_count": 72,
   "id": "ca0633b3",
   "metadata": {},
   "outputs": [],
   "source": [
    "#Sample Input\n",
    "array = [141, 1, 17, -7, -17, -27, 18, 541, 8, 7, 7]\n",
    "#Sample Output\n",
    "#[18, 141, 541]"
   ]
  },
  {
   "cell_type": "markdown",
   "id": "5c4212d8",
   "metadata": {},
   "source": [
    "### Explanation"
   ]
  },
  {
   "cell_type": "markdown",
   "id": "fb0c478c",
   "metadata": {},
   "source": [
    "We can solve this problem by maintaining an array of three elements to store the three largest numbers. We will initially fill this array with None or negative infinity. Then, we iterate over the input array, and for each number, we check if it's larger than the smallest of the three largest numbers we've found so far. If it is, we update our array of three largest numbers.\n",
    "\n",
    "In this solution, updateLargest function is called for each number in the input array. Inside updateLargest, it checks if the number is larger than any of the numbers in the threeLargest array, starting from the largest. If the number is larger, it calls shiftAndUpdate to shift the numbers in threeLargest and update the correct number.\n",
    "\n",
    "The shiftAndUpdate function is meant to shift the numbers in the array to their left (towards the beginning of the array) and update the correct number. The parameter idx represents the index at which the new number, num, will be placed in the array.\n",
    "\n",
    "The function starts by iterating over the indices from 0 up to and including idx.\n",
    "\n",
    "If i is equal to idx (which is the final iteration), it assigns num to array[i]. This is the update step where the new number is placed in its correct position in the array.\n",
    "If i is not equal to idx, it assigns array[i + 1] to array[i]. This effectively shifts every number one position to the left. This allows the function to make space for num in its correct position and to eliminate the smallest of the three largest numbers found before the insertion of num.\n",
    "For instance, if array initially contains [10, 20, 30] and num is 25, idx will be 1. The function will then iterate twice (for i = 0 and i = 1), resulting in array becoming [20, 25, 30].\n",
    "\n",
    "This function ensures that the array always contains the three largest numbers found so far, sorted in ascending order."
   ]
  },
  {
   "cell_type": "markdown",
   "id": "76bafbf3",
   "metadata": {},
   "source": [
    "### Code"
   ]
  },
  {
   "cell_type": "code",
   "execution_count": 73,
   "id": "22bf9e41",
   "metadata": {},
   "outputs": [],
   "source": [
    "def threeLargestNumbers(array):\n",
    "    threeLargest = [None, None, None]\n",
    "    for num in array:\n",
    "        updateThreeLargest(threeLargest, num)\n",
    "    return threeLargest\n",
    "def updateThreeLargest(threeLargest, num):\n",
    "    if threeLargest[2] is None or threeLargest[2]<num:\n",
    "        shiftAndUpdate(threeLargest, num, 2)\n",
    "    elif threeLargest[1] is None or threeLargest[1]<num:\n",
    "        shiftAndUpdate(threeLargest, num, 1)\n",
    "    elif threeLargest[0] is None or threeLargest[0]<num:\n",
    "        shiftAndUpdate(threeLargest, num, 0)\n",
    "        \n",
    "def shiftAndUpdate(threeLargest, num, idx):\n",
    "    for i in range(idx+1):\n",
    "        if i==idx:\n",
    "            threeLargest[i]=num\n",
    "        else:\n",
    "            threeLargest[i]=threeLargest[i+1]"
   ]
  },
  {
   "cell_type": "markdown",
   "id": "7ecd954b",
   "metadata": {},
   "source": [
    "### Test Output"
   ]
  },
  {
   "cell_type": "code",
   "execution_count": 74,
   "id": "2e59f7b5",
   "metadata": {},
   "outputs": [
    {
     "data": {
      "text/plain": [
       "[18, 141, 541]"
      ]
     },
     "execution_count": 74,
     "metadata": {},
     "output_type": "execute_result"
    }
   ],
   "source": [
    "threeLargestNumbers(array)"
   ]
  },
  {
   "cell_type": "markdown",
   "id": "69d1dad4",
   "metadata": {},
   "source": [
    "### Time Complexity"
   ]
  },
  {
   "cell_type": "markdown",
   "id": "7ec7a5bf",
   "metadata": {},
   "source": [
    "O(n), where n is the length of the input array. This is because we're iterating over the array once."
   ]
  },
  {
   "cell_type": "markdown",
   "id": "074bcdbc",
   "metadata": {},
   "source": [
    "### Space Complexity"
   ]
  },
  {
   "cell_type": "markdown",
   "id": "9a7a72ae",
   "metadata": {},
   "source": [
    "O(1), because we're using a constant amount of space to store the three largest numbers, regardless of the size of the input array."
   ]
  },
  {
   "cell_type": "markdown",
   "id": "f76bac2f",
   "metadata": {},
   "source": [
    "# 22) Bubble Sort"
   ]
  },
  {
   "cell_type": "markdown",
   "id": "95920490",
   "metadata": {},
   "source": [
    "### Question"
   ]
  },
  {
   "cell_type": "markdown",
   "id": "9e1950a7",
   "metadata": {},
   "source": [
    "Write a function that takes in an array of integers and returns a sorted version of that array. Use the Bubble Sort algorithm to sort the array."
   ]
  },
  {
   "cell_type": "markdown",
   "id": "ccc47bf5",
   "metadata": {},
   "source": [
    "### Test Input"
   ]
  },
  {
   "cell_type": "code",
   "execution_count": 75,
   "id": "0de53bae",
   "metadata": {},
   "outputs": [],
   "source": [
    "#Sample Input\n",
    "array = [8, 5, 2, 9, 5, 6, 3]\n",
    "#Sample Output\n",
    "#[2, 3, 5, 5, 6, 8, 9]"
   ]
  },
  {
   "cell_type": "markdown",
   "id": "c918bbee",
   "metadata": {},
   "source": [
    "### Explanation"
   ]
  },
  {
   "cell_type": "markdown",
   "id": "2f591f10",
   "metadata": {},
   "source": [
    "The Bubble Sort algorithm sorts an array by repeatedly swapping adjacent elements if they are in the wrong order."
   ]
  },
  {
   "cell_type": "markdown",
   "id": "37a18581",
   "metadata": {},
   "source": [
    "### Code"
   ]
  },
  {
   "cell_type": "code",
   "execution_count": 80,
   "id": "cd9ed5e8",
   "metadata": {},
   "outputs": [],
   "source": [
    "def bubleSort(array):\n",
    "    isSorted=False \n",
    "    counter=0\n",
    "    while isSorted is False:\n",
    "        isSorted=True\n",
    "        for i in range(len(array)-1-counter):\n",
    "            if array[i]>array[i+1]:\n",
    "                array[i], array[i+1] = array[i+1], array[i]\n",
    "            isSorted=False\n",
    "        counter+=1\n",
    "    return array"
   ]
  },
  {
   "cell_type": "markdown",
   "id": "4b63ef55",
   "metadata": {},
   "source": [
    "### Test Output"
   ]
  },
  {
   "cell_type": "code",
   "execution_count": 81,
   "id": "5556ff63",
   "metadata": {},
   "outputs": [
    {
     "data": {
      "text/plain": [
       "[2, 3, 5, 5, 6, 8, 9]"
      ]
     },
     "execution_count": 81,
     "metadata": {},
     "output_type": "execute_result"
    }
   ],
   "source": [
    "bubleSort(array)"
   ]
  },
  {
   "cell_type": "markdown",
   "id": "0ed04617",
   "metadata": {},
   "source": [
    "### Time Complexity"
   ]
  },
  {
   "cell_type": "markdown",
   "id": "029f9785",
   "metadata": {},
   "source": [
    "O(n^2), where n is the length of the input array. In the worst-case scenario (when the input array is sorted in descending order), Bubble Sort would need to make n*(n-1)/2 comparisons, which simplifies to O(n^2)."
   ]
  },
  {
   "cell_type": "markdown",
   "id": "1759419c",
   "metadata": {},
   "source": [
    "### Space Complexity"
   ]
  },
  {
   "cell_type": "markdown",
   "id": "32ab8889",
   "metadata": {},
   "source": [
    "Bubble Sort is an in-place sorting algorithm, which means it sorts the elements directly in the array without requiring additional space."
   ]
  },
  {
   "cell_type": "markdown",
   "id": "0d3cffd6",
   "metadata": {},
   "source": [
    "# 23) Insertion Sort "
   ]
  },
  {
   "cell_type": "markdown",
   "id": "df33a6ff",
   "metadata": {},
   "source": [
    "### Question"
   ]
  },
  {
   "cell_type": "markdown",
   "id": "cc0ae23f",
   "metadata": {},
   "source": [
    "Write a function that takes in an array of integers and returns a sorted version of that array. Use the Insertion Sort algorithm to sort the array."
   ]
  },
  {
   "cell_type": "markdown",
   "id": "d16dbc42",
   "metadata": {},
   "source": [
    "### Test Input"
   ]
  },
  {
   "cell_type": "code",
   "execution_count": 82,
   "id": "7205c7b3",
   "metadata": {},
   "outputs": [],
   "source": [
    "#Sample Input\n",
    "array = [8, 5, 2, 9, 5, 6, 3]\n",
    "#Sample Output\n",
    "#[2, 3, 5, 5, 6, 8, 9]"
   ]
  },
  {
   "cell_type": "markdown",
   "id": "1e79b9b0",
   "metadata": {},
   "source": [
    "### Explanation"
   ]
  },
  {
   "cell_type": "markdown",
   "id": "57cd757d",
   "metadata": {},
   "source": [
    "The Insertion Sort algorithm sorts an array by building a sorted array one element at a time. It is much less efficient on larger lists than more advanced algorithms such as quicksort, heapsort, or merge sort. "
   ]
  },
  {
   "cell_type": "markdown",
   "id": "c88261b6",
   "metadata": {},
   "source": [
    "### Code"
   ]
  },
  {
   "cell_type": "code",
   "execution_count": 83,
   "id": "9434d690",
   "metadata": {},
   "outputs": [],
   "source": [
    "def insertionSort(array):\n",
    "    for i in range(1, len(array)):\n",
    "        j=i\n",
    "        while j>0 and array[j]<array[j-1]:\n",
    "            array[j], array[j-1] = array[j-1], array[j]\n",
    "            j-=1\n",
    "    return array "
   ]
  },
  {
   "cell_type": "markdown",
   "id": "892f010d",
   "metadata": {},
   "source": [
    "### Test Output"
   ]
  },
  {
   "cell_type": "code",
   "execution_count": 84,
   "id": "803e140d",
   "metadata": {},
   "outputs": [
    {
     "data": {
      "text/plain": [
       "[2, 3, 5, 5, 6, 8, 9]"
      ]
     },
     "execution_count": 84,
     "metadata": {},
     "output_type": "execute_result"
    }
   ],
   "source": [
    "insertionSort(array)"
   ]
  },
  {
   "cell_type": "markdown",
   "id": "d7d3f5e5",
   "metadata": {},
   "source": [
    "### Time Complexity"
   ]
  },
  {
   "cell_type": "markdown",
   "id": "5c40da44",
   "metadata": {},
   "source": [
    "O(n^2), where n is the length of the input array. Similar to Bubble Sort, in the worst-case scenario (when the input array is sorted in descending order), Insertion Sort would need to make n*(n-1)/2 comparisons, which simplifies to O(n^2)."
   ]
  },
  {
   "cell_type": "markdown",
   "id": "a2e23d08",
   "metadata": {},
   "source": [
    "### Space Complexity"
   ]
  },
  {
   "cell_type": "markdown",
   "id": "a366ca77",
   "metadata": {},
   "source": [
    "O(1). Insertion Sort is an in-place sorting algorithm, which means it sorts the elements directly in the array without requiring additional space."
   ]
  },
  {
   "cell_type": "markdown",
   "id": "e82427ed",
   "metadata": {},
   "source": [
    "# 24) Selection Sort "
   ]
  },
  {
   "cell_type": "markdown",
   "id": "f3f51f86",
   "metadata": {},
   "source": [
    "### Question"
   ]
  },
  {
   "cell_type": "markdown",
   "id": "0f7c8290",
   "metadata": {},
   "source": [
    "Write a function that takes in an array of integers and returns a sorted version of that array. Use the Selection Sort algorithm to sort the array."
   ]
  },
  {
   "cell_type": "markdown",
   "id": "cf23831f",
   "metadata": {},
   "source": [
    "### Test Input"
   ]
  },
  {
   "cell_type": "code",
   "execution_count": 85,
   "id": "e2f8931a",
   "metadata": {},
   "outputs": [],
   "source": [
    "#Sample Input\n",
    "array = [8, 5, 2, 9, 5, 6, 3]\n",
    "#Sample Output\n",
    "#[2, 3, 5, 5, 6, 8, 9]ß"
   ]
  },
  {
   "cell_type": "markdown",
   "id": "851cca64",
   "metadata": {},
   "source": [
    "### Explanation"
   ]
  },
  {
   "cell_type": "markdown",
   "id": "29ab0cb7",
   "metadata": {},
   "source": [
    "The Selection Sort algorithm sorts an array by repeatedly finding the minimum element from the unsorted part of the array and putting it at the beginning.  It works by dividing the array into a sorted and an unsorted region. The sorted region starts with the first element and with each subsequent iteration, the smallest element from the unsorted region is picked and swapped with the leftmost unsorted element (putting it in sorted order), and the iterator continues to the rest of the unsorted region.  "
   ]
  },
  {
   "cell_type": "markdown",
   "id": "7e2809ce",
   "metadata": {},
   "source": [
    "### Code"
   ]
  },
  {
   "cell_type": "code",
   "execution_count": 88,
   "id": "3f6d3576",
   "metadata": {},
   "outputs": [],
   "source": [
    "def selectionSort(array):\n",
    "    currentIdx = 0\n",
    "    while currentIdx < len(array)-1:\n",
    "        smallestIdx = currentIdx\n",
    "        for i in range(currentIdx+1, len(array)):\n",
    "            if array[smallestIdx] > array[i]:\n",
    "                smallestIdx = i \n",
    "        array[currentIdx], array[smallestIdx] = array[smallestIdx], array[currentIdx]\n",
    "        currentIdx+=1\n",
    "    return array"
   ]
  },
  {
   "cell_type": "markdown",
   "id": "6b070a39",
   "metadata": {},
   "source": [
    "### Test Output"
   ]
  },
  {
   "cell_type": "code",
   "execution_count": 89,
   "id": "51e7380c",
   "metadata": {},
   "outputs": [
    {
     "data": {
      "text/plain": [
       "[2, 3, 5, 5, 6, 8, 9]"
      ]
     },
     "execution_count": 89,
     "metadata": {},
     "output_type": "execute_result"
    }
   ],
   "source": [
    "selectionSort(array)"
   ]
  },
  {
   "cell_type": "markdown",
   "id": "edc1afeb",
   "metadata": {},
   "source": [
    "### Time Complexity"
   ]
  },
  {
   "cell_type": "markdown",
   "id": "2d301842",
   "metadata": {},
   "source": [
    "O(n^2), where n is the length of the input array. The inner loop runs n times for each element (as it's finding the smallest unsorted element), making the time complexity quadratic."
   ]
  },
  {
   "cell_type": "markdown",
   "id": "26f12720",
   "metadata": {},
   "source": [
    "### Space Complexity"
   ]
  },
  {
   "cell_type": "markdown",
   "id": "dfe57c0b",
   "metadata": {},
   "source": [
    "O(1). Selection Sort is an in-place sorting algorithm, which means it sorts the elements directly in the array without requiring additional space."
   ]
  },
  {
   "cell_type": "markdown",
   "id": "0c35d432",
   "metadata": {},
   "source": [
    "# 25) Plaindrome Check "
   ]
  },
  {
   "cell_type": "markdown",
   "id": "7e45e3ab",
   "metadata": {},
   "source": [
    "### Question"
   ]
  },
  {
   "cell_type": "markdown",
   "id": "7c0739b7",
   "metadata": {},
   "source": [
    "Write a function that takes in a non-empty string and that returns a boolean representing whether the string is a palindrome.\n",
    "A palindrome is defined as a string that's written the same forward and backward. Note that single-character strings are palindromes."
   ]
  },
  {
   "cell_type": "markdown",
   "id": "077176f6",
   "metadata": {},
   "source": [
    "### Test Input"
   ]
  },
  {
   "cell_type": "code",
   "execution_count": 91,
   "id": "5680e507",
   "metadata": {},
   "outputs": [],
   "source": [
    "#Sample Input\n",
    "string = \"abcdcba\"\n",
    "#Sample Output\n",
    "#true // it's written the same forward and backward"
   ]
  },
  {
   "cell_type": "markdown",
   "id": "ffb9a879",
   "metadata": {},
   "source": [
    "### Explanation"
   ]
  },
  {
   "cell_type": "markdown",
   "id": "87f9c8ae",
   "metadata": {},
   "source": [
    "The function starts with two pointers, one at the start of the string (firstIdx) and one at the end of the string (lastIdx). It checks if the characters at these pointers are equal. If they're not, the function immediately returns False because it means the string isn't a palindrome. If they are equal, it moves the pointers towards the center of the string and repeats the comparison. This process continues until the pointers meet in the middle. If the function hasn't returned False by this point, it means the string is a palindrome, so it returns True."
   ]
  },
  {
   "cell_type": "markdown",
   "id": "b8e34cd7",
   "metadata": {},
   "source": [
    "### Code"
   ]
  },
  {
   "cell_type": "code",
   "execution_count": 92,
   "id": "63750d0c",
   "metadata": {},
   "outputs": [],
   "source": [
    "def isPalindrome(string):\n",
    "    firstIdx=0\n",
    "    lastIdx=len(string)-1\n",
    "    \n",
    "    while firstIdx<lastIdx:\n",
    "        if string[firstIdx]!=string[lastIdx]:\n",
    "            return False\n",
    "        firstIdx+=1\n",
    "        lastIdx-=1\n",
    "    return True"
   ]
  },
  {
   "cell_type": "markdown",
   "id": "6c825d1a",
   "metadata": {},
   "source": [
    "### Test Output"
   ]
  },
  {
   "cell_type": "code",
   "execution_count": 93,
   "id": "cacac4f5",
   "metadata": {},
   "outputs": [
    {
     "data": {
      "text/plain": [
       "True"
      ]
     },
     "execution_count": 93,
     "metadata": {},
     "output_type": "execute_result"
    }
   ],
   "source": [
    "isPalindrome(string)"
   ]
  },
  {
   "cell_type": "markdown",
   "id": "5d9f9dc0",
   "metadata": {},
   "source": [
    "### Time Complexity"
   ]
  },
  {
   "cell_type": "markdown",
   "id": "d92c2417",
   "metadata": {},
   "source": [
    "O(n), where n is the length of the string. The function must read through half of the string to check if it's a palindrome."
   ]
  },
  {
   "cell_type": "markdown",
   "id": "d4bd6e28",
   "metadata": {},
   "source": [
    "### Space Complexity"
   ]
  },
  {
   "cell_type": "markdown",
   "id": "23163e66",
   "metadata": {},
   "source": [
    "The function only uses a constant amount of space to store the pointers and doesn't create any new strings."
   ]
  },
  {
   "cell_type": "markdown",
   "id": "2d635dd0",
   "metadata": {},
   "source": [
    "# 26) Caeser Cipher Encryptor"
   ]
  },
  {
   "cell_type": "markdown",
   "id": "a489a66d",
   "metadata": {},
   "source": [
    "### Question"
   ]
  },
  {
   "cell_type": "markdown",
   "id": "f1275325",
   "metadata": {},
   "source": [
    "Given a non-empty string of lowercase letters and a non-negative integer representing a key, write a function that returns a new string obtained by shifting every letter in the input string by k positions in the alphabet, where k is the key.\n",
    "Note that letters should \"wrap\" around the alphabet; in other words, the letter z shifted by one returns the letter a."
   ]
  },
  {
   "cell_type": "markdown",
   "id": "d55c63b0",
   "metadata": {},
   "source": [
    "### Test Input"
   ]
  },
  {
   "cell_type": "code",
   "execution_count": 95,
   "id": "cf5da19d",
   "metadata": {},
   "outputs": [],
   "source": [
    "#Sample Input\n",
    "string = \"xyz\"\n",
    "key= 2\n",
    "#Sample Output\n",
    "#\"zab\""
   ]
  },
  {
   "cell_type": "markdown",
   "id": "f8f6805f",
   "metadata": {},
   "source": [
    "### Explanation"
   ]
  },
  {
   "cell_type": "markdown",
   "id": "cfa57665",
   "metadata": {},
   "source": [
    "The caesarCipherEncryptor function applies the cipher to each letter in the string, while the get_new_letter function handles the logic of the cipher itself. We first calculate the ASCII value of the new letter by adding the key to the ASCII value of the original letter. If this value is less than or equal to 122 (the ASCII value for 'z'), we return the character corresponding to this ASCII value. Otherwise, we wrap around back to the start of the alphabet by taking the modulus of the new letter code with respect to 122 and adding it to 96 (the ASCII value for '' which is one less than 'a').\n",
    "\n",
    "The modulus operation new_key = key % 26 in caesarCipherEncryptor ensures that the key does not exceed the number of letters in the alphabet, making the function efficient for large keys. For example, shifting by 27 positions is the same as shifting by 1 position."
   ]
  },
  {
   "cell_type": "markdown",
   "id": "f76aba1f",
   "metadata": {},
   "source": [
    "### Code"
   ]
  },
  {
   "cell_type": "code",
   "execution_count": 96,
   "id": "85aa0b62",
   "metadata": {},
   "outputs": [],
   "source": [
    "def caesarCipherEncryptor(string, key):\n",
    "    new_letters = []\n",
    "    new_key = key%26\n",
    "    for letter in string:\n",
    "        new_letters.append(get_new_letter(letter, new_key))\n",
    "    return \" \".join(new_letters)\n",
    "\n",
    "def get_new_letter(letter, key):\n",
    "    new_letter_code = ord(letter) + key\n",
    "    return chr(new_letter_code) if new_letter_code<=122 else chr(96 + new_letter_code%122)"
   ]
  },
  {
   "cell_type": "markdown",
   "id": "01773338",
   "metadata": {},
   "source": [
    "### Test Output"
   ]
  },
  {
   "cell_type": "code",
   "execution_count": 97,
   "id": "4685946f",
   "metadata": {},
   "outputs": [
    {
     "data": {
      "text/plain": [
       "'z a b'"
      ]
     },
     "execution_count": 97,
     "metadata": {},
     "output_type": "execute_result"
    }
   ],
   "source": [
    "caesarCipherEncryptor(string, key)"
   ]
  },
  {
   "cell_type": "markdown",
   "id": "39264e8a",
   "metadata": {},
   "source": [
    "### Time Complexity"
   ]
  },
  {
   "cell_type": "markdown",
   "id": "31dda8d1",
   "metadata": {},
   "source": []
  },
  {
   "cell_type": "markdown",
   "id": "cf6721c7",
   "metadata": {},
   "source": [
    "### Space Complexity"
   ]
  },
  {
   "cell_type": "markdown",
   "id": "68ea8749",
   "metadata": {},
   "source": []
  },
  {
   "cell_type": "markdown",
   "id": "4a7c66ff",
   "metadata": {},
   "source": [
    "# 27) Run-Length Encoding"
   ]
  },
  {
   "cell_type": "markdown",
   "id": "e38a3771",
   "metadata": {},
   "source": [
    "### Question"
   ]
  },
  {
   "cell_type": "markdown",
   "id": "c0ee3a22",
   "metadata": {},
   "source": [
    "Write a function that takes in a non-empty string and returns its run-length encoding.\n",
    "\n",
    "From Wikipedia, \"run-length encoding is a form of lossless data compression in which runs of data are stored as a single data value and count, rather than as the original run.\" For this problem, a run of data is any sequence of consecutive, identical characters. So the run \"AAA\" would be run-length-encoded as \"3A\"\n",
    "\n",
    "To make things more complicated, however, the input string can contain all sorts of special characters, including numbers. And since encoded data must be decodable, this means that we can't naively run-length-encode long runs. \n",
    "\n",
    "For example, the run \"AAAAAAAAAAAA\" (12 A s), can't naively be encoded as \"12A\", since this string can be decoded as either 'AAAAAAAAAAAA\" or \"1AA\". Thus, long runs (runs of 10 or more characters) should be encoded in a split fashion; the aforementioned run should be encoded as \"9A3A\""
   ]
  },
  {
   "cell_type": "markdown",
   "id": "7b5f1a7d",
   "metadata": {},
   "source": [
    "### Test Input"
   ]
  },
  {
   "cell_type": "code",
   "execution_count": 107,
   "id": "7078dda6",
   "metadata": {},
   "outputs": [],
   "source": [
    "#Sample Input\n",
    "string = \"AAAAAAAAAAAAABBCCCCDD\"\n",
    "#Sample Output\n",
    "#\"9A4A2B4C2D\""
   ]
  },
  {
   "cell_type": "markdown",
   "id": "554299f5",
   "metadata": {},
   "source": [
    "### Explanation"
   ]
  },
  {
   "cell_type": "markdown",
   "id": "e11f9abc",
   "metadata": {},
   "source": [
    "This function runs through the input string from left to right and keeps track of the current run of characters by incrementing currentRunLength whenever it finds a matching character. When it encounters a different character or when currentRunLength hits 10, it appends the current run length and the current character to encodedStringCharacters, resets currentRunLength to zero, and then proceeds with the next run of characters. After the loop, it takes care of the last run, which is not covered in the loop. The function then joins all the characters in encodedStringCharacters into a single string and returns it."
   ]
  },
  {
   "cell_type": "markdown",
   "id": "3a507e05",
   "metadata": {},
   "source": [
    "### Code"
   ]
  },
  {
   "cell_type": "code",
   "execution_count": 109,
   "id": "5e617962",
   "metadata": {},
   "outputs": [],
   "source": [
    "def runLengthEncoding(string):\n",
    "    encodedStringCharacters = []\n",
    "    currentRunLength = 1\n",
    "\n",
    "    for i in range(1, len(string)):\n",
    "        currentCharacter = string[i]\n",
    "        previousCharacter = string[i - 1]\n",
    "\n",
    "        if currentCharacter != previousCharacter or currentRunLength == 9:\n",
    "            encodedStringCharacters.append(str(currentRunLength))\n",
    "            encodedStringCharacters.append(previousCharacter)\n",
    "            currentRunLength = 0\n",
    "\n",
    "        currentRunLength += 1\n",
    "\n",
    "    encodedStringCharacters.append(str(currentRunLength))\n",
    "    encodedStringCharacters.append(string[len(string) - 1])\n",
    "\n",
    "    return \"\".join(encodedStringCharacters) \n",
    "            "
   ]
  },
  {
   "cell_type": "markdown",
   "id": "2bda954b",
   "metadata": {},
   "source": [
    "### Test Output"
   ]
  },
  {
   "cell_type": "code",
   "execution_count": 110,
   "id": "2847ead7",
   "metadata": {},
   "outputs": [
    {
     "data": {
      "text/plain": [
       "'9A4A2B4C2D'"
      ]
     },
     "execution_count": 110,
     "metadata": {},
     "output_type": "execute_result"
    }
   ],
   "source": [
    "runLengthEncoding(string)"
   ]
  },
  {
   "cell_type": "markdown",
   "id": "23c23a1b",
   "metadata": {},
   "source": [
    "### Time Complexity"
   ]
  },
  {
   "cell_type": "markdown",
   "id": "73ad12a4",
   "metadata": {},
   "source": [
    "O(n), where n is the length of the string. This is because the function scans through the string once, performing a constant amount of work for each character."
   ]
  },
  {
   "cell_type": "markdown",
   "id": "4977362d",
   "metadata": {},
   "source": [
    "### Space Complexity"
   ]
  },
  {
   "cell_type": "markdown",
   "id": "c78fc015",
   "metadata": {},
   "source": [
    "O(n), where n is the length of the string. In the worst case, each character will be different from its neighbors, so the run length encoding will be twice as long as the input (one character for the count and one character for the value)."
   ]
  },
  {
   "cell_type": "markdown",
   "id": "3857b3b7",
   "metadata": {},
   "source": [
    "# 28) Common Characters "
   ]
  },
  {
   "cell_type": "markdown",
   "id": "1f296e84",
   "metadata": {},
   "source": [
    "### Question"
   ]
  },
  {
   "cell_type": "markdown",
   "id": "fdaa5215",
   "metadata": {},
   "source": []
  },
  {
   "cell_type": "markdown",
   "id": "56a8aabe",
   "metadata": {},
   "source": [
    "### Test Input"
   ]
  },
  {
   "cell_type": "code",
   "execution_count": null,
   "id": "84759d7a",
   "metadata": {},
   "outputs": [],
   "source": []
  },
  {
   "cell_type": "markdown",
   "id": "c7137949",
   "metadata": {},
   "source": [
    "### Explanation"
   ]
  },
  {
   "cell_type": "markdown",
   "id": "5405f1f8",
   "metadata": {},
   "source": []
  },
  {
   "cell_type": "markdown",
   "id": "5a434612",
   "metadata": {},
   "source": [
    "### Code"
   ]
  },
  {
   "cell_type": "code",
   "execution_count": null,
   "id": "d2310098",
   "metadata": {},
   "outputs": [],
   "source": []
  },
  {
   "cell_type": "markdown",
   "id": "8d0eeb8e",
   "metadata": {},
   "source": [
    "### Test Output"
   ]
  },
  {
   "cell_type": "code",
   "execution_count": null,
   "id": "487b596b",
   "metadata": {},
   "outputs": [],
   "source": []
  },
  {
   "cell_type": "markdown",
   "id": "319c514e",
   "metadata": {},
   "source": [
    "### Time Complexity"
   ]
  },
  {
   "cell_type": "markdown",
   "id": "8214528e",
   "metadata": {},
   "source": []
  },
  {
   "cell_type": "markdown",
   "id": "07613147",
   "metadata": {},
   "source": [
    "### Space Complexity"
   ]
  },
  {
   "cell_type": "markdown",
   "id": "1605e9da",
   "metadata": {},
   "source": []
  },
  {
   "cell_type": "markdown",
   "id": "1b9a8a4d",
   "metadata": {},
   "source": [
    "# 29) Generate Document "
   ]
  },
  {
   "cell_type": "markdown",
   "id": "d7cffa6d",
   "metadata": {},
   "source": [
    "### Question"
   ]
  },
  {
   "cell_type": "markdown",
   "id": "25da7827",
   "metadata": {},
   "source": []
  },
  {
   "cell_type": "markdown",
   "id": "26862de5",
   "metadata": {},
   "source": [
    "### Test Input"
   ]
  },
  {
   "cell_type": "code",
   "execution_count": null,
   "id": "7c0850d9",
   "metadata": {},
   "outputs": [],
   "source": []
  },
  {
   "cell_type": "markdown",
   "id": "9c43c35e",
   "metadata": {},
   "source": [
    "### Explanation"
   ]
  },
  {
   "cell_type": "markdown",
   "id": "b6bb8396",
   "metadata": {},
   "source": []
  },
  {
   "cell_type": "markdown",
   "id": "e35fa977",
   "metadata": {},
   "source": [
    "### Code"
   ]
  },
  {
   "cell_type": "code",
   "execution_count": null,
   "id": "b4d2f422",
   "metadata": {},
   "outputs": [],
   "source": []
  },
  {
   "cell_type": "markdown",
   "id": "2894b7cd",
   "metadata": {},
   "source": [
    "### Test Output"
   ]
  },
  {
   "cell_type": "code",
   "execution_count": null,
   "id": "09abb3aa",
   "metadata": {},
   "outputs": [],
   "source": []
  },
  {
   "cell_type": "markdown",
   "id": "8b87f6b6",
   "metadata": {},
   "source": [
    "### Time Complexity"
   ]
  },
  {
   "cell_type": "markdown",
   "id": "6df85506",
   "metadata": {},
   "source": []
  },
  {
   "cell_type": "markdown",
   "id": "b7dac51a",
   "metadata": {},
   "source": [
    "### Space Complexity"
   ]
  },
  {
   "cell_type": "markdown",
   "id": "0654c726",
   "metadata": {},
   "source": []
  },
  {
   "cell_type": "markdown",
   "id": "97ff83bd",
   "metadata": {},
   "source": [
    "# 30) First Non-repeating Character "
   ]
  },
  {
   "cell_type": "markdown",
   "id": "0d85668f",
   "metadata": {},
   "source": [
    "### Question"
   ]
  },
  {
   "cell_type": "markdown",
   "id": "0ce6a771",
   "metadata": {},
   "source": []
  },
  {
   "cell_type": "markdown",
   "id": "1530944e",
   "metadata": {},
   "source": [
    "### Test Input"
   ]
  },
  {
   "cell_type": "code",
   "execution_count": null,
   "id": "db9a3c02",
   "metadata": {},
   "outputs": [],
   "source": []
  },
  {
   "cell_type": "markdown",
   "id": "1d904500",
   "metadata": {},
   "source": [
    "### Explanation"
   ]
  },
  {
   "cell_type": "markdown",
   "id": "6f71cb4f",
   "metadata": {},
   "source": []
  },
  {
   "cell_type": "markdown",
   "id": "74211751",
   "metadata": {},
   "source": [
    "### Code"
   ]
  },
  {
   "cell_type": "code",
   "execution_count": null,
   "id": "0e9beaa7",
   "metadata": {},
   "outputs": [],
   "source": []
  },
  {
   "cell_type": "markdown",
   "id": "0293d4ed",
   "metadata": {},
   "source": [
    "### Test Output"
   ]
  },
  {
   "cell_type": "code",
   "execution_count": null,
   "id": "8ecb1bbd",
   "metadata": {},
   "outputs": [],
   "source": []
  },
  {
   "cell_type": "markdown",
   "id": "aa5e7b3e",
   "metadata": {},
   "source": [
    "### Time Complexity"
   ]
  },
  {
   "cell_type": "markdown",
   "id": "65f93ca8",
   "metadata": {},
   "source": []
  },
  {
   "cell_type": "markdown",
   "id": "8ef8630c",
   "metadata": {},
   "source": [
    "### Space Complexity"
   ]
  },
  {
   "cell_type": "markdown",
   "id": "edff5dba",
   "metadata": {},
   "source": []
  },
  {
   "cell_type": "markdown",
   "id": "8968e2f6",
   "metadata": {},
   "source": [
    "# 31) Semordnilap"
   ]
  },
  {
   "cell_type": "markdown",
   "id": "3b09bc6d",
   "metadata": {},
   "source": [
    "### Question"
   ]
  },
  {
   "cell_type": "markdown",
   "id": "daf44133",
   "metadata": {},
   "source": []
  },
  {
   "cell_type": "markdown",
   "id": "e085f50d",
   "metadata": {},
   "source": [
    "### Test Input"
   ]
  },
  {
   "cell_type": "code",
   "execution_count": null,
   "id": "6e0909fa",
   "metadata": {},
   "outputs": [],
   "source": []
  },
  {
   "cell_type": "markdown",
   "id": "e75583d3",
   "metadata": {},
   "source": [
    "### Explanation"
   ]
  },
  {
   "cell_type": "markdown",
   "id": "e51994c6",
   "metadata": {},
   "source": []
  },
  {
   "cell_type": "markdown",
   "id": "3b09e977",
   "metadata": {},
   "source": [
    "### Code"
   ]
  },
  {
   "cell_type": "code",
   "execution_count": null,
   "id": "1eeaca13",
   "metadata": {},
   "outputs": [],
   "source": []
  },
  {
   "cell_type": "markdown",
   "id": "ced5b9fc",
   "metadata": {},
   "source": [
    "### Test Output"
   ]
  },
  {
   "cell_type": "code",
   "execution_count": null,
   "id": "5299bf22",
   "metadata": {},
   "outputs": [],
   "source": []
  },
  {
   "cell_type": "markdown",
   "id": "eeeedd67",
   "metadata": {},
   "source": [
    "### Time Complexity"
   ]
  },
  {
   "cell_type": "markdown",
   "id": "e26e6388",
   "metadata": {},
   "source": []
  },
  {
   "cell_type": "markdown",
   "id": "eb7020af",
   "metadata": {},
   "source": [
    "### Space Complexity"
   ]
  },
  {
   "cell_type": "markdown",
   "id": "a8b1307d",
   "metadata": {},
   "source": []
  },
  {
   "cell_type": "markdown",
   "id": "82ce0578",
   "metadata": {},
   "source": [
    "# MEDIUM"
   ]
  },
  {
   "cell_type": "markdown",
   "id": "2b9412f9",
   "metadata": {},
   "source": [
    "# 1) Three Number Sum"
   ]
  },
  {
   "cell_type": "markdown",
   "id": "00c7c93b",
   "metadata": {},
   "source": [
    "### Question"
   ]
  },
  {
   "cell_type": "markdown",
   "id": "2814901d",
   "metadata": {},
   "source": [
    "Write a function that takes in a non-empty array of distinct integers and an integer representing a target sum. The function should find all triplets in the array that sum up to the target sum and return a two-dimensional array of all these triplets. The numbers in each triplet should be ordered in ascending order, and the triplets themselves should be ordered in ascending order with respect to the numbers they hold.\n",
    "If no three numbers sum up to the target sum, the function should return an empty array.\n"
   ]
  },
  {
   "cell_type": "markdown",
   "id": "ff2108c8",
   "metadata": {},
   "source": [
    "### Test Input"
   ]
  },
  {
   "cell_type": "code",
   "execution_count": 2,
   "id": "0fec49c0",
   "metadata": {},
   "outputs": [],
   "source": [
    "#Sample Input\n",
    "array = [12, 3, 1, 2, -6, 5, -8, 6] \n",
    "targetSum= 0\n",
    "\n",
    "#Sample Output\n",
    "#[[−8, 2, 6], [-8, 3, 5], [−6, 1, 5]]"
   ]
  },
  {
   "cell_type": "markdown",
   "id": "72da3cbc",
   "metadata": {},
   "source": [
    "### Explanation"
   ]
  },
  {
   "cell_type": "markdown",
   "id": "05c6256f",
   "metadata": {},
   "source": [
    "We will use a combination of sorting and two pointers technique.\n",
    "\n",
    "The main idea is to iterate through the array and for each element, find a pair of numbers in the rest of the array that sum up to the target sum minus the current number.\n",
    "\n",
    "Firstly, we sort the array in ascending order. Then, we loop over the numbers in the array, and for each number, we set two pointers: one at the beginning of the array (just after the current number) and the other at the end of the array. We calculate the sum of the numbers at these two pointers along with the current number, and:\n",
    "\n",
    "If the sum is equal to the target sum, we found a triplet. We add it to the results array, and move both pointers inward to look for other pairs that sum up to the target sum.\n",
    "If the sum is less than the target sum, we move the left pointer one step to the right (increase the sum).\n",
    "If the sum is greater than the target sum, we move the right pointer one step to the left (decrease the sum).\n",
    "This process is repeated until all pairs for the current number are exhausted. We then move to the next number in the array."
   ]
  },
  {
   "cell_type": "markdown",
   "id": "bfa8a610",
   "metadata": {},
   "source": [
    "### Code"
   ]
  },
  {
   "cell_type": "code",
   "execution_count": 9,
   "id": "e6f2400c",
   "metadata": {},
   "outputs": [],
   "source": [
    "def threeNumberSum(array, targetSum):\n",
    "    \n",
    "    array.sort()\n",
    "    triplets=[]\n",
    "    \n",
    "    for i in range(len(array)-2):\n",
    "        left = i+1\n",
    "        right = len(array)-1\n",
    "        while left<right:\n",
    "            currentSum = array[i]+array[left]+array[right]\n",
    "            if targetSum == currentSum:\n",
    "                triplets.append([array[i],array[left],array[right]])\n",
    "                left+=1\n",
    "                right-=1\n",
    "            elif currentSum<targetSum:\n",
    "                left+=1\n",
    "            elif currentSum>targetSum:\n",
    "                right-=1\n",
    "    return triplets                 "
   ]
  },
  {
   "cell_type": "markdown",
   "id": "871d1e59",
   "metadata": {},
   "source": [
    "### Test Output"
   ]
  },
  {
   "cell_type": "code",
   "execution_count": 10,
   "id": "1745d5a9",
   "metadata": {},
   "outputs": [
    {
     "data": {
      "text/plain": [
       "[[-8, 2, 6], [-8, 3, 5], [-6, 1, 5]]"
      ]
     },
     "execution_count": 10,
     "metadata": {},
     "output_type": "execute_result"
    }
   ],
   "source": [
    "threeNumberSum(array, targetSum)"
   ]
  },
  {
   "cell_type": "markdown",
   "id": "8d457c4f",
   "metadata": {},
   "source": [
    "### Time Complexity"
   ]
  },
  {
   "cell_type": "markdown",
   "id": "8c41acf2",
   "metadata": {},
   "source": [
    "O(n^2), where n is the length of the input array. The outer loop runs n times, and for each iteration, we run an inner loop (the two-pointer traversal). Hence, the quadratic time complexity."
   ]
  },
  {
   "cell_type": "markdown",
   "id": "1261c274",
   "metadata": {},
   "source": [
    "### Space Complexity"
   ]
  },
  {
   "cell_type": "markdown",
   "id": "5f5b7312",
   "metadata": {},
   "source": [
    "O(n), assuming the worst-case scenario where all possible triplets sum up to the target sum. In such a case, we would need space to store these n triplets."
   ]
  },
  {
   "cell_type": "markdown",
   "id": "d7a014e3",
   "metadata": {},
   "source": [
    "# 2) Smallest Difference "
   ]
  },
  {
   "cell_type": "markdown",
   "id": "1163e5d8",
   "metadata": {},
   "source": [
    "### Question"
   ]
  },
  {
   "cell_type": "markdown",
   "id": "7091502f",
   "metadata": {},
   "source": [
    "Write a function that takes in two non-empty arrays of integers, finds the pair of numbers (one from each array) whose absolute difference is closest to zero, and returns an array containing these two numbers, with the\n",
    "number from the first array in the first position.\n",
    "Note that the absolute difference of two integers is the distance between them on the real number line. For example, the absolute difference of -5 and 5 is 10, and the absolute difference of -5 and -4 is 1.\n",
    "You can assume that there will only be one pair of numbers with the smallest difference.\n"
   ]
  },
  {
   "cell_type": "markdown",
   "id": "bd337850",
   "metadata": {},
   "source": [
    "### Test Input"
   ]
  },
  {
   "cell_type": "code",
   "execution_count": 11,
   "id": "b5f68397",
   "metadata": {},
   "outputs": [],
   "source": [
    "#Sample Input\n",
    "arrayOne = [-1, 5, 10, 20, 28, 3] \n",
    "arrayTwo = [26, 134, 135, 15, 17]\n",
    "\n",
    "#Sample Output\n",
    "#[28, 26]"
   ]
  },
  {
   "cell_type": "markdown",
   "id": "3b3988a8",
   "metadata": {},
   "source": [
    "### Explanation"
   ]
  },
  {
   "cell_type": "markdown",
   "id": "503f35db",
   "metadata": {},
   "source": [
    "This Python function named smallestDifference aims to find a pair of numbers, one from each of two given arrays (arrayOne and arrayTwo), such that the absolute difference between the numbers is the smallest possible. Here's the step-by-step breakdown:\n",
    "\n",
    "The function first sorts both input arrays in ascending order.\n",
    "Then it initializes two pointers, idxOne and idxTwo, both set to 0, to point to the first element in arrayOne and arrayTwo, respectively.\n",
    "It also initializes two variables, smallest and current, to infinity. smallest keeps track of the smallest difference found so far, and current keeps track of the difference of the current pair of numbers being considered.\n",
    "\n",
    "A while loop is initiated to traverse both arrays simultaneously. At each step, it compares the number in the first array pointed to by idxOne with the number in the second array pointed to by idxTwo.\n",
    "\n",
    "If the number in the first array is less than the one in the second array, current is updated to their difference, and idxOne is incremented to move to the next number in the first array.\n",
    "\n",
    "If the number in the second array is less, current is updated and idxTwo is incremented. If the numbers are equal, the pair is immediately returned, as the smallest possible difference is 0.\n",
    "\n",
    "After each update of current, it is compared with smallest. If current is less than smallest, smallest and smallestPair are updated.\n",
    "This process continues until one of the arrays is fully traversed. The function then returns smallestPair, which contains the pair of numbers with the smallest difference."
   ]
  },
  {
   "cell_type": "markdown",
   "id": "383be8f2",
   "metadata": {},
   "source": [
    "### Code"
   ]
  },
  {
   "cell_type": "code",
   "execution_count": 18,
   "id": "7df73b66",
   "metadata": {},
   "outputs": [],
   "source": [
    "def smallestDifference(arrayOne, arrayTwo):\n",
    "    arrayOne.sort()\n",
    "    arrayTwo.sort()\n",
    "    idxOne, idxTwo = 0, 0\n",
    "    smallest, current = float('inf'),float('inf')\n",
    "    smallestPair = []\n",
    "    \n",
    "    while idxOne<len(arrayOne) and idxTwo<len(arrayTwo):\n",
    "        firstNum = arrayOne[idxOne]\n",
    "        secondNum = arrayTwo[idxTwo]\n",
    "        if firstNum<secondNum:\n",
    "            current = secondNum - firstNum\n",
    "            idxOne+=1\n",
    "        elif firstNum > secondNum:\n",
    "            current = firstNum-secondNum\n",
    "            idxTwo+=1\n",
    "            \n",
    "        else:\n",
    "            return [firstNum, secondNum]\n",
    "        \n",
    "        if smallest>current:\n",
    "            smallest = current\n",
    "            smallestPair = [firstNum, secondNum]\n",
    "    return smallestPair\n",
    "    "
   ]
  },
  {
   "cell_type": "markdown",
   "id": "5d6a02ed",
   "metadata": {},
   "source": [
    "### Test Output"
   ]
  },
  {
   "cell_type": "code",
   "execution_count": 19,
   "id": "728d90e0",
   "metadata": {},
   "outputs": [
    {
     "data": {
      "text/plain": [
       "[28, 26]"
      ]
     },
     "execution_count": 19,
     "metadata": {},
     "output_type": "execute_result"
    }
   ],
   "source": [
    "smallestDifference(arrayOne, arrayTwo)"
   ]
  },
  {
   "cell_type": "markdown",
   "id": "e7ffda89",
   "metadata": {},
   "source": [
    "### Time Complexity"
   ]
  },
  {
   "cell_type": "markdown",
   "id": "fe3ad158",
   "metadata": {},
   "source": [
    "O(nlog(n) + mlog(m)), where n and m are the lengths of the first and second input arrays, respectively. This is because the function first sorts both arrays, which takes O(nlog(n)) and O(mlog(m)) time. Then it traverses both arrays once, which takes O(n + m) time. The dominant terms are O(nlog(n)) and O(mlog(m)), hence, they are the ones that appear in the time complexity."
   ]
  },
  {
   "cell_type": "markdown",
   "id": "e7efee40",
   "metadata": {},
   "source": [
    "### Space Complexity"
   ]
  },
  {
   "cell_type": "markdown",
   "id": "abf5e768",
   "metadata": {},
   "source": [
    " O(1). The function only uses a constant amount of space to store the indices, the smallest difference, and the pair with the smallest difference. There are no data structures used that scale with the input size."
   ]
  },
  {
   "cell_type": "markdown",
   "id": "1d8bc3f5",
   "metadata": {},
   "source": [
    "# 3) Move Element To End"
   ]
  },
  {
   "cell_type": "markdown",
   "id": "701a3239",
   "metadata": {},
   "source": [
    "### Question"
   ]
  },
  {
   "cell_type": "markdown",
   "id": "41a0c8f8",
   "metadata": {},
   "source": [
    "You're given an array of integers and an integer. Write a function that moves all instances of that integer in the array to the end of the array and returns the array.\n",
    "The function should perform this in place (i.e., it should mutate the input array) and doesn't need to maintain the order of the other integers.\n"
   ]
  },
  {
   "cell_type": "markdown",
   "id": "0b79dd44",
   "metadata": {},
   "source": [
    "### Test Input"
   ]
  },
  {
   "cell_type": "code",
   "execution_count": 21,
   "id": "bd06528d",
   "metadata": {},
   "outputs": [],
   "source": [
    "#Sample Input\n",
    "array = [2, 1, 2, 2, 2, 3, 4, 2] \n",
    "toMove = 2\n",
    "#Sample Output\n",
    "#[1, 3, 4, 2, 2, 2, 2, 2] // the numbers 1, 3, and 4 could be ordered diff"
   ]
  },
  {
   "cell_type": "markdown",
   "id": "f7c56762",
   "metadata": {},
   "source": [
    "### Explanation"
   ]
  },
  {
   "cell_type": "markdown",
   "id": "d228f301",
   "metadata": {},
   "source": [
    "You can accomplish this task using the two-pointer technique. Here is the detailed breakdown of the approach:\n",
    "\n",
    "1) Initialize two pointers: one at the start of the array (i) and one at the end of the array (j).\n",
    "\n",
    "2) Use a while loop to continue the operation until i is less than j.\n",
    "\n",
    "3) Inside the while loop, check if the element at index i is equal to the integer to move. If it is, swap the element at index i with the element at index j and decrease j by 1. This moves the integer to the end of the array.\n",
    "\n",
    "4) If the element at index i is not equal to the integer to move, just increase i by 1.\n",
    "Continue the process until i is no longer less than j."
   ]
  },
  {
   "cell_type": "markdown",
   "id": "139e02a1",
   "metadata": {},
   "source": [
    "### Code"
   ]
  },
  {
   "cell_type": "code",
   "execution_count": 22,
   "id": "05e97de8",
   "metadata": {},
   "outputs": [],
   "source": [
    "def moveElementToEnd(array, toMove):\n",
    "    i=0\n",
    "    j=len(array) - 1\n",
    "    while i<j:\n",
    "        while i<j and array[j] == toMove:\n",
    "            j-=1\n",
    "        if array[i] == toMove:\n",
    "            array[i], array[j] = array[j], array[i]\n",
    "        i+=1\n",
    "    return array"
   ]
  },
  {
   "cell_type": "markdown",
   "id": "745d5e43",
   "metadata": {},
   "source": [
    "### Test Output"
   ]
  },
  {
   "cell_type": "code",
   "execution_count": 23,
   "id": "e0f83a0a",
   "metadata": {},
   "outputs": [
    {
     "data": {
      "text/plain": [
       "[4, 1, 3, 2, 2, 2, 2, 2]"
      ]
     },
     "execution_count": 23,
     "metadata": {},
     "output_type": "execute_result"
    }
   ],
   "source": [
    "moveElementToEnd(array, toMove)"
   ]
  },
  {
   "cell_type": "markdown",
   "id": "2e7b787c",
   "metadata": {},
   "source": [
    "### Time Complexity"
   ]
  },
  {
   "cell_type": "markdown",
   "id": "db9bc2af",
   "metadata": {},
   "source": [
    "O(n), where n is the length of the input array. This is because in the worst-case scenario, we are visiting every element in the array once."
   ]
  },
  {
   "cell_type": "markdown",
   "id": "8362b8a5",
   "metadata": {},
   "source": [
    "### Space Complexity"
   ]
  },
  {
   "cell_type": "markdown",
   "id": "c8e96d55",
   "metadata": {},
   "source": [
    " O(1). This function sorts the array in-place and does not use any additional space that scales with the input size."
   ]
  },
  {
   "cell_type": "markdown",
   "id": "25599ffb",
   "metadata": {},
   "source": [
    "# 4) Monotonic Array"
   ]
  },
  {
   "cell_type": "markdown",
   "id": "2156aacd",
   "metadata": {},
   "source": [
    "### Question"
   ]
  },
  {
   "cell_type": "markdown",
   "id": "528f6e1b",
   "metadata": {},
   "source": [
    "Write a function that takes in an array of integers and returns a boolean representing whether the array is monotonic.\n",
    "\n",
    "An array is said to be monotonic if its elements, from left to right, are entirely non-increasing or entirely non-decreasing.\n",
    "\n",
    "Non-increasing elements aren't necessarily exclusively decreasing; they simply don't increase. Similarly, non-decreasing elements aren't necessarily exclusively increasing; they simply don't decrease.\n",
    "\n",
    "Note that empty arrays and arrays of one element are monotonic.\n"
   ]
  },
  {
   "cell_type": "markdown",
   "id": "34596bdf",
   "metadata": {},
   "source": [
    "### Test Input"
   ]
  },
  {
   "cell_type": "code",
   "execution_count": 24,
   "id": "02d6b8d7",
   "metadata": {},
   "outputs": [],
   "source": [
    "#Sample Input\n",
    "array = [-1, -5, -10, -1100, -1100, -1101, -1102, -9001]\n",
    "#Sample Output\n",
    "#true"
   ]
  },
  {
   "cell_type": "markdown",
   "id": "35889ed7",
   "metadata": {},
   "source": [
    "### Explanation"
   ]
  },
  {
   "cell_type": "markdown",
   "id": "c8102ef2",
   "metadata": {},
   "source": []
  },
  {
   "cell_type": "markdown",
   "id": "f4092a52",
   "metadata": {},
   "source": [
    "### Code"
   ]
  },
  {
   "cell_type": "code",
   "execution_count": 25,
   "id": "45b3fc74",
   "metadata": {},
   "outputs": [],
   "source": [
    "def isMonotonic(array):\n",
    "    if len(array)<=1:\n",
    "        return True\n",
    "    \n",
    "    isDecreasing=True\n",
    "    isIncreasing=True\n",
    "    \n",
    "    for i in range(1, len(array)):\n",
    "        if array[i]<array[i-1]:\n",
    "            isIDecreasing=False\n",
    "        if array[i]>array[i-1]:\n",
    "            isIncreasing=False\n",
    "            \n",
    "    return isIncreasing or isDecreasing"
   ]
  },
  {
   "cell_type": "markdown",
   "id": "b1fbc081",
   "metadata": {},
   "source": [
    "### Test Output"
   ]
  },
  {
   "cell_type": "code",
   "execution_count": 26,
   "id": "2fc571b2",
   "metadata": {},
   "outputs": [
    {
     "data": {
      "text/plain": [
       "True"
      ]
     },
     "execution_count": 26,
     "metadata": {},
     "output_type": "execute_result"
    }
   ],
   "source": [
    "isMonotonic(array)"
   ]
  },
  {
   "cell_type": "markdown",
   "id": "c3f84ae3",
   "metadata": {},
   "source": [
    "### Time Complexity"
   ]
  },
  {
   "cell_type": "markdown",
   "id": "e9f4186a",
   "metadata": {},
   "source": [
    "The time complexity is O(n), where n is the length of the array. This is because we are going through the array once."
   ]
  },
  {
   "cell_type": "markdown",
   "id": "b7046826",
   "metadata": {},
   "source": [
    "### Space Complexity"
   ]
  },
  {
   "cell_type": "markdown",
   "id": "70558998",
   "metadata": {},
   "source": [
    "The space complexity is O(1) because we are using a constant amount of space. Our space usage does not increase with the size of the input array."
   ]
  },
  {
   "cell_type": "markdown",
   "id": "0418e4b2",
   "metadata": {},
   "source": [
    "# 5) Spiral Traverse"
   ]
  },
  {
   "cell_type": "markdown",
   "id": "2279eff7",
   "metadata": {},
   "source": [
    "### Question"
   ]
  },
  {
   "cell_type": "markdown",
   "id": "d2ecadea",
   "metadata": {},
   "source": [
    "Write a function that takes in an n x m two-dimensional array (that can be square-shaped when n = m) and returns a one-dimensional array of all the array's elements in spiral order.\n",
    "\n",
    "Spiral order starts at the top left corner of the two-dimensional array, goes to the right, and proceeds in a spiral pattern all the way until every element has been visited.\n",
    "\n"
   ]
  },
  {
   "cell_type": "markdown",
   "id": "df438b3b",
   "metadata": {},
   "source": [
    "### Test Input"
   ]
  },
  {
   "cell_type": "code",
   "execution_count": 27,
   "id": "7c8ab82f",
   "metadata": {},
   "outputs": [],
   "source": [
    "#Sample Input\n",
    "array = [\n",
    "[1, 2, 3, 4], [12, 13, 14, 5],[11, 16, 15, 6],[10,9, 8, 7]]\n",
    "#Sample Output\n",
    "#[1, 2, 3, 4, 5, 6, 7, 8, 9, 10, 11, 12, 13, 14, 15, 16]"
   ]
  },
  {
   "cell_type": "markdown",
   "id": "63b9bc04",
   "metadata": {},
   "source": [
    "### Explanation"
   ]
  },
  {
   "cell_type": "markdown",
   "id": "a55b5d4e",
   "metadata": {},
   "source": [
    "In this problem, we need to iterate over the 2D array in a spiral manner. The approach would be to keep four pointers which are: top, down, left and right which are initially pointing at the first index, last index, first index and last index of the array respectively.\n",
    "\n",
    "Then we perform steps in a loop until top <= down and left <= right:\n",
    "\n",
    "1) Print all elements from left to right of the top row. Then increment the top pointer.\n",
    "\n",
    "2) Print all elements from top to down of the last column. Then decrement the right pointer.\n",
    "\n",
    "3) If top <= down, print all elements from right to left of the bottom row. Then decrement the down pointer.\n",
    "\n",
    "4) If left <= right, print all elements from down to up of the first column. Then increment the left pointer."
   ]
  },
  {
   "cell_type": "markdown",
   "id": "ccab9da4",
   "metadata": {},
   "source": [
    "### Code"
   ]
  },
  {
   "cell_type": "code",
   "execution_count": 33,
   "id": "1a609e95",
   "metadata": {},
   "outputs": [],
   "source": [
    "def spiralTraverse(array):\n",
    "    result = []\n",
    "    startRow, endRow = 0, len(array)-1\n",
    "    startColumn, endColumn = 0, len(array[0])-1\n",
    "    \n",
    "    while startRow<=endRow and startColumn<=endColumn:\n",
    "        \n",
    "        for col in range(startColumn, endColumn+1):\n",
    "            result.append(array[startRow][col])\n",
    "        \n",
    "        for row in range(startRow+1, endRow+1):\n",
    "            result.append(array[row][endColumn])\n",
    "        \n",
    "        for col in reversed(range(startColumn, endColumn)):\n",
    "            if startRow==endRow:\n",
    "                break\n",
    "            result.append(array[endRow][col])\n",
    "        \n",
    "        for row in reversed(range(startRow+1, endRow)):\n",
    "            if startColumn==endColumn:\n",
    "                break\n",
    "            result.append(array[row][startColumn])\n",
    "            \n",
    "        startRow+=1\n",
    "        endRow-=1\n",
    "        startColumn+=1\n",
    "        endColumn-=1\n",
    "    return result"
   ]
  },
  {
   "cell_type": "markdown",
   "id": "70803a2c",
   "metadata": {},
   "source": [
    "### Test Output"
   ]
  },
  {
   "cell_type": "code",
   "execution_count": 34,
   "id": "4434e4ab",
   "metadata": {},
   "outputs": [
    {
     "data": {
      "text/plain": [
       "[1, 2, 3, 4, 5, 6, 7, 8, 9, 10, 11, 12, 13, 14, 15, 16]"
      ]
     },
     "execution_count": 34,
     "metadata": {},
     "output_type": "execute_result"
    }
   ],
   "source": [
    "spiralTraverse(array)"
   ]
  },
  {
   "cell_type": "markdown",
   "id": "25431cd0",
   "metadata": {},
   "source": [
    "### Time Complexity"
   ]
  },
  {
   "cell_type": "markdown",
   "id": "c9b3b8c1",
   "metadata": {},
   "source": [
    "The time complexity is O(n), where n is the total number of elements in the array. This is because we are visiting each element of the array once."
   ]
  },
  {
   "cell_type": "markdown",
   "id": "be38dcb9",
   "metadata": {},
   "source": [
    "### Space Complexity"
   ]
  },
  {
   "cell_type": "markdown",
   "id": "30086fc8",
   "metadata": {},
   "source": [
    "The space complexity is O(n), where n is the total number of elements in the array. This is because we are storing each element in the result array."
   ]
  },
  {
   "cell_type": "markdown",
   "id": "9dd2ac4f",
   "metadata": {},
   "source": [
    "# 6) Longest Peak "
   ]
  },
  {
   "cell_type": "markdown",
   "id": "fdb75874",
   "metadata": {},
   "source": [
    "### Question"
   ]
  },
  {
   "cell_type": "markdown",
   "id": "97024c2b",
   "metadata": {},
   "source": [
    "Write a function that takes in an array of integers and returns the length of the longest peak in the array.\n",
    "\n",
    "A peak is defined as adjacent integers in the array that are strictly increasing until they reach a tip (the highest value in the peak), at which point they become strictly decreasing. At least three integers are required to form a peak.\n",
    "For example, the integers 1, 4, 10, 2 form a peak, but the integers\n",
    "4, 0, 10 don't and neither do the integers 1, 2, 2, 0. Similarly, the integers 1, 2, 3 don't form a peak because there aren't any strictly decreasing integers after the 3.\n",
    "\n"
   ]
  },
  {
   "cell_type": "markdown",
   "id": "12360468",
   "metadata": {},
   "source": [
    "### Test Input"
   ]
  },
  {
   "cell_type": "code",
   "execution_count": 2,
   "id": "6f397b3b",
   "metadata": {},
   "outputs": [],
   "source": [
    "#Sample Input\n",
    "array = [1, 2, 3, 3, 4, 0, 10, 6, 5, -1, -3, 2, 3]\n",
    "#Sample Output\n",
    "#6 // 0, 10, 6, 5, −1, −3"
   ]
  },
  {
   "cell_type": "markdown",
   "id": "1e584102",
   "metadata": {},
   "source": [
    "### Explanation"
   ]
  },
  {
   "cell_type": "markdown",
   "id": "635908d9",
   "metadata": {},
   "source": [
    "1) We start from index 1 (i=1) because a peak can't start at the first index. It must have a number before it that's lower.\n",
    "\n",
    "2) We loop until the second last index because a peak can't end at the last index. It must have a number after it that's lower.\n",
    "\n",
    "3) In the loop, for each index 'i', we check if it's a peak tip, meaning that it's greater than both its previous number (array[i-1]) and its next number (array[i+1]). If it's not a peak tip, we just move on to the next index.\n",
    "\n",
    "4) If the current index is a peak tip, we want to find the length of this peak. We do this by expanding to both left and right directions until we can't expand anymore.\n",
    "\n",
    "5) We set leftIdx to the left of 'i' and keep moving left (leftIdx -= 1) as long as the current number is greater than the next one (array[leftIdx] < array[leftIdx + 1]).\n",
    "\n",
    "6) Similarly, we set rightIdx to the right of 'i' and keep moving right (rightIdx += 1) as long as the current number is greater than the previous one (array[rightIdx] < array[rightIdx - 1]).\n",
    "\n",
    "7) After expanding to both directions, we calculate the current peak's length by subtracting the left and right indices (currentPeakLength = rightIdx - leftIdx - 1), and update longestPeakLength if the current peak is longer.\n",
    "\n",
    "8) Now that we've explored the entire peak, instead of moving to the next index, we can actually skip to rightIdx, as we know that all numbers before rightIdx are part of the current peak and can't be part of another peak. This is a small optimization that improves the efficiency of our algorithm.\n",
    "\n",
    "9) The function finally returns the length of the longest peak it found."
   ]
  },
  {
   "cell_type": "markdown",
   "id": "7f4dba06",
   "metadata": {},
   "source": [
    "### Code"
   ]
  },
  {
   "cell_type": "code",
   "execution_count": 7,
   "id": "64645c91",
   "metadata": {},
   "outputs": [],
   "source": [
    "def longestPeak(array):\n",
    "    maxPeakLength=0\n",
    "    i=1\n",
    "    while i<len(array)-1:\n",
    "        isPeak=array[i-1]<array[i]>array[i+1]\n",
    "        if isPeak==False:\n",
    "            i+=1\n",
    "            continue\n",
    "        \n",
    "        leftIdx=i-2\n",
    "        while leftIdx>=0 and array[leftIdx]<array[leftIdx+1]:\n",
    "            leftIdx-=1\n",
    "        \n",
    "        rightIdx=i+2\n",
    "        while rightIdx<len(array) and array[rightIdx]<array[rightIdx-1]:\n",
    "            rightIdx+=1\n",
    "            \n",
    "        currentPeakLength = rightIdx - leftIdx - 1\n",
    "        maxPeakLength = max(currentPeakLength, maxPeakLength)\n",
    "        \n",
    "        i=rightIdx\n",
    "    return maxPeakLength"
   ]
  },
  {
   "cell_type": "markdown",
   "id": "c9f174a4",
   "metadata": {},
   "source": [
    "### Test Output"
   ]
  },
  {
   "cell_type": "code",
   "execution_count": 8,
   "id": "97a839dd",
   "metadata": {},
   "outputs": [
    {
     "data": {
      "text/plain": [
       "6"
      ]
     },
     "execution_count": 8,
     "metadata": {},
     "output_type": "execute_result"
    }
   ],
   "source": [
    "longestPeak(array)"
   ]
  },
  {
   "cell_type": "markdown",
   "id": "be889b1b",
   "metadata": {},
   "source": [
    "### Time Complexity"
   ]
  },
  {
   "cell_type": "markdown",
   "id": "ba636cd5",
   "metadata": {},
   "source": [
    "The time complexity is O(n), where n is the number of elements in the array. This is because we are traversing the array once. Even though there are two while loops inside the main for loop, we only use them to skip over the elements of a peak once we find one. Therefore, in total, each number is visited at most three times, which still results in a linear time complexity."
   ]
  },
  {
   "cell_type": "markdown",
   "id": "a9df25a6",
   "metadata": {},
   "source": [
    "### Space Complexity"
   ]
  },
  {
   "cell_type": "markdown",
   "id": "58ecadd5",
   "metadata": {},
   "source": [
    "The space complexity is O(1), because we only use a constant amount of space to store the indices and the length of the longest peak. We are not using any data structures that scale with the size of the input."
   ]
  },
  {
   "cell_type": "markdown",
   "id": "086c10db",
   "metadata": {},
   "source": [
    "# 7) Array of Products"
   ]
  },
  {
   "cell_type": "markdown",
   "id": "f735586f",
   "metadata": {},
   "source": [
    "### Question"
   ]
  },
  {
   "cell_type": "markdown",
   "id": "ffad07c8",
   "metadata": {},
   "source": [
    "Write a function that takes in a non-empty array of integers and returns an array of the same length, where each element in the output array is equal to the product of every other number in the input array.\n",
    "\n",
    "In other words, the value at output[i] is equal to the product of every number in the input array other than input[i].\n",
    "\n",
    "Note that you're expected to solve this problem without using division.\n",
    "\n"
   ]
  },
  {
   "cell_type": "markdown",
   "id": "5d36325b",
   "metadata": {},
   "source": [
    "### Test Input"
   ]
  },
  {
   "cell_type": "code",
   "execution_count": 9,
   "id": "3c7bad94",
   "metadata": {},
   "outputs": [],
   "source": [
    "#Sample Input\n",
    "array = [5, 1, 4, 2]\n",
    "#Sample Output\n",
    "#[8, 40, 10, 20]\n",
    "#// 8 is equal to 1 x 4 x 2 // 40 is equal to 5 x 4 x 2 // 10 is equal to 5 x 1 x 2 // 20 is equal to 5 x 1 x 4"
   ]
  },
  {
   "cell_type": "markdown",
   "id": "1f9622b9",
   "metadata": {},
   "source": [
    "### Explanation"
   ]
  },
  {
   "cell_type": "markdown",
   "id": "3f5939be",
   "metadata": {},
   "source": [
    "Consider the input array [5, 1, 4, 2].\n",
    "\n",
    "The goal is to have every element in the output array be the product of every other number in the input array.\n",
    "\n",
    "First, we start with the products array which is initialized to [1, 1, 1, 1]. Here, 1 is the neutral element for multiplication. This means any number multiplied by 1 remains the same.\n",
    "\n",
    "Next, we compute the running product of the numbers to the left of the current index and update the products array:\n",
    "\n",
    "For index 0 (element 5), there are no numbers to the left. So, the left running product is 1.\n",
    "For index 1 (element 1), the left running product is 5 (i.e., 5).\n",
    "For index 2 (element 4), the left running product is 5 (i.e., 5*1).\n",
    "For index 3 (element 2), the left running product is 20 (i.e., 514).\n",
    "This updates our products array to [1, 5, 5, 20].\n",
    "\n",
    "Next, we compute the running product of the numbers to the right of the current index and update the products array again:\n",
    "\n",
    "For index 3 (element 2), there are no numbers to the right. So, the right running product is 1.\n",
    "For index 2 (element 4), the right running product is 2 (i.e., 2).\n",
    "For index 1 (element 1), the right running product is 8 (i.e., 2*4).\n",
    "For index 0 (element 5), the right running product is 8 (i.e., 241).\n",
    "This time, we multiply the current products array elements with the corresponding right running product, updating our products array to [8, 40, 10, 20].\n",
    "\n",
    "In the end, we return the products array, which contains the product of all elements in the input array except for the element at the corresponding index."
   ]
  },
  {
   "cell_type": "markdown",
   "id": "8efb0818",
   "metadata": {},
   "source": [
    "### Code"
   ]
  },
  {
   "cell_type": "code",
   "execution_count": 12,
   "id": "3f154336",
   "metadata": {},
   "outputs": [],
   "source": [
    "def arrayOfProducts(array):\n",
    "    products = [1 for _ in range(len(array))]\n",
    "    leftRunningProduct=1\n",
    "    for i in range(len(array)):\n",
    "        products[i]=leftRunningProduct\n",
    "        leftRunningProduct*=array[i]\n",
    "    rightRunningProduct=1\n",
    "    for i in reversed(range(len(array))):\n",
    "        products[i] *= rightRunningProduct\n",
    "        rightRunningProduct*=array[i]\n",
    "    return products"
   ]
  },
  {
   "cell_type": "markdown",
   "id": "9a1bc3a8",
   "metadata": {},
   "source": [
    "### Test Output"
   ]
  },
  {
   "cell_type": "code",
   "execution_count": 13,
   "id": "a113841e",
   "metadata": {},
   "outputs": [
    {
     "data": {
      "text/plain": [
       "[8, 40, 10, 20]"
      ]
     },
     "execution_count": 13,
     "metadata": {},
     "output_type": "execute_result"
    }
   ],
   "source": [
    "arrayOfProducts(array)"
   ]
  },
  {
   "cell_type": "markdown",
   "id": "cea8fe56",
   "metadata": {},
   "source": [
    "### Time Complexity"
   ]
  },
  {
   "cell_type": "markdown",
   "id": "545269f5",
   "metadata": {},
   "source": [
    "The time complexity for this function is O(n), where n is the length of the input array. We have to iterate over the array three times: once to initialize the products array, once to calculate the leftRunningProduct, and once more to calculate the rightRunningProduct."
   ]
  },
  {
   "cell_type": "markdown",
   "id": "a1de80e3",
   "metadata": {},
   "source": [
    "### Space Complexity"
   ]
  },
  {
   "cell_type": "markdown",
   "id": "f326695a",
   "metadata": {},
   "source": [
    "The space complexity is also O(n) because we're creating a new array of size n."
   ]
  },
  {
   "cell_type": "markdown",
   "id": "d226d721",
   "metadata": {},
   "source": [
    "# 8) First Duplicate Value"
   ]
  },
  {
   "cell_type": "markdown",
   "id": "099275c7",
   "metadata": {},
   "source": [
    "### Question"
   ]
  },
  {
   "cell_type": "markdown",
   "id": "11050d78",
   "metadata": {},
   "source": [
    "Given an array of integers between 1 and n, inclusive, where n is the length of the array, write a function that returns the first integer that appears more than once (when the array is read from left to right).\n",
    "\n",
    "In other words, out of all the integers that might occur more than once in the input array, your function should return the one whose first duplicate value has the minimum index.\n",
    "\n",
    "If no integer appears more than once, your function should return -1\n",
    "\n",
    "Note that you're allowed to mutate the input array.\n",
    "\n"
   ]
  },
  {
   "cell_type": "markdown",
   "id": "cb1bddfd",
   "metadata": {},
   "source": [
    "### Test Input"
   ]
  },
  {
   "cell_type": "code",
   "execution_count": 14,
   "id": "683063e4",
   "metadata": {},
   "outputs": [],
   "source": [
    "#Sample Input #1\n",
    "array = [2, 1, 5, 2, 3, 3, 4]\n",
    "#Sample Output #1\n",
    "#2 // 2 is the first integer that appears more than once. // 3 also appears more than once, but the second 3 appeal"
   ]
  },
  {
   "cell_type": "markdown",
   "id": "b533f784",
   "metadata": {},
   "source": [
    "### Explanation"
   ]
  },
  {
   "cell_type": "markdown",
   "id": "a24e7df7",
   "metadata": {},
   "source": [
    "The key to this solution lies in the specific conditions of the problem: each element in the array is an integer that is between 1 and n (the size of the array), inclusive.\n",
    "\n",
    "This means that each element in the array, minus one, could be used as an index of the array itself. If we take an element and use its value (minus one) as an index and there is already a negative number at that index, it means that this element is a duplicate.\n",
    "\n",
    "Let's work through an example: consider the array [2, 1, 5, 2, 3, 3, 4]\n",
    "\n",
    "The first element is 2. If we subtract 1, we get 1, which is an index of the array. The value at index 1 in the array is 1, which is not negative, so we make it negative to mark that we have \"seen\" the number 2.\n",
    "\n",
    "Next, we move to the second element in the array, which is 1. We subtract 1 to get 0, and look at the array element at index 0, which is 2 (not negative). So we negate it to mark that we have \"seen\" the number 1.\n",
    "\n",
    "We continue this process. When we come to the fourth element of the array, which is 2, we subtract 1 to get 1, and look at the array element at index 1, which is -1. It's negative! This means we have already \"seen\" a 2 before, so we return 2.\n",
    "\n",
    "This way, we're using the array itself as a kind of map to keep track of which numbers we've seen, and because we're using each number's own value to determine its position in the array, we can be sure that the first duplicate we encounter is the one with the lowest index.\n",
    "\n",
    "I hope this clears up the logic for you! This is a slightly more complex problem because it uses the values and the structure of the array in a non-intuitive way, but it's a powerful technique that can be really useful in certain situations."
   ]
  },
  {
   "cell_type": "markdown",
   "id": "de921349",
   "metadata": {},
   "source": [
    "### Code"
   ]
  },
  {
   "cell_type": "code",
   "execution_count": 15,
   "id": "348126ba",
   "metadata": {},
   "outputs": [],
   "source": [
    "def firstDuplicate(array):\n",
    "    for num in array:\n",
    "        absValue = abs(num)\n",
    "        if array[absValue-1]<0:\n",
    "            return absValue\n",
    "        else:\n",
    "            array[absValue-1]*=-1\n",
    "    return -1"
   ]
  },
  {
   "cell_type": "markdown",
   "id": "c004fafa",
   "metadata": {},
   "source": [
    "### Test Output"
   ]
  },
  {
   "cell_type": "code",
   "execution_count": 16,
   "id": "943e72b5",
   "metadata": {},
   "outputs": [
    {
     "data": {
      "text/plain": [
       "2"
      ]
     },
     "execution_count": 16,
     "metadata": {},
     "output_type": "execute_result"
    }
   ],
   "source": [
    "firstDuplicate(array)"
   ]
  },
  {
   "cell_type": "markdown",
   "id": "84249e40",
   "metadata": {},
   "source": [
    "### Time Complexity"
   ]
  },
  {
   "cell_type": "markdown",
   "id": "3a4950de",
   "metadata": {},
   "source": [
    "The time complexity is O(n) where n is the length of the array. This is because we are just iterating over the array once.\n",
    "\n"
   ]
  },
  {
   "cell_type": "markdown",
   "id": "a35af76d",
   "metadata": {},
   "source": [
    "### Space Complexity"
   ]
  },
  {
   "cell_type": "markdown",
   "id": "79e599cf",
   "metadata": {},
   "source": [
    "The space complexity is O(1) because we are not using any additional data structures that scale with the input."
   ]
  },
  {
   "cell_type": "markdown",
   "id": "0a730664",
   "metadata": {},
   "source": [
    "# 9) Merge Overlapping Intervals"
   ]
  },
  {
   "cell_type": "markdown",
   "id": "27967ac8",
   "metadata": {},
   "source": [
    "### Question"
   ]
  },
  {
   "cell_type": "markdown",
   "id": "a691d74c",
   "metadata": {},
   "source": [
    "Write a function that takes in a non-empty array of arbitrary intervals, merges any overlapping intervals, and returns the new intervals in no particular order.\n",
    "\n",
    "Each interval interval is an array of two integers, with interval [0] as the start of the interval and interval[1] as the end of the interval. Note that back-to-back intervals aren't considered to be overlapping. For example, [1, 5] and [6, 7] aren't overlapping; however, [1, 6] and [6, 7] are indeed overlapping.\n",
    "\n",
    "Also note that the start of any particular interval will always be less than or equal to the end of that interval.\n"
   ]
  },
  {
   "cell_type": "markdown",
   "id": "7b7757e6",
   "metadata": {},
   "source": [
    "### Test Input"
   ]
  },
  {
   "cell_type": "code",
   "execution_count": 17,
   "id": "baac26cc",
   "metadata": {},
   "outputs": [],
   "source": [
    "#Sample Input\n",
    "intervals = [[1, 2], [3, 5], [4, 7], [6, 8], [9, 10]]\n",
    "#Sample Output\n",
    "#[[1, 2], [3, 8], [9, 10]]\n",
    "#// Merge the intervals [3, 5], [4, 7], and [6, 8].\n",
    "#// The intervals could be ordered differently"
   ]
  },
  {
   "cell_type": "markdown",
   "id": "28cd310a",
   "metadata": {},
   "source": [
    "### Explanation"
   ]
  },
  {
   "cell_type": "markdown",
   "id": "217dcb21",
   "metadata": {},
   "source": [
    "1) First, sort the intervals by their start times. This allows us to efficiently compare all intervals to the next one.\n",
    "\n",
    "2) Initialize the result array with the first interval.\n",
    "Then, for each of the remaining intervals, compare it with the last interval in the result array.\n",
    "\n",
    "3) If the current interval's start time is greater than or equal to the last interval's end time, they are not overlapping, and we can add the current interval to the result array.\n",
    "\n",
    "4) If they are overlapping, we merge them by setting the end time of the last interval in the result array to the maximum of its own end time and the end time of the current interval.\n",
    "\n",
    "5) Return the result array."
   ]
  },
  {
   "cell_type": "markdown",
   "id": "bc7a8fa2",
   "metadata": {},
   "source": [
    "### Code"
   ]
  },
  {
   "cell_type": "code",
   "execution_count": 27,
   "id": "c3e7812f",
   "metadata": {},
   "outputs": [],
   "source": [
    "def overlappingIntervals(intervals):\n",
    "    intervals.sort(key=lambda x: x[0])\n",
    "    results=[intervals[0]]\n",
    "    \n",
    "    for current in intervals[1:]:\n",
    "        _, end = results[-1]\n",
    "        if current[0]>end:\n",
    "            results.append(current)\n",
    "        else:\n",
    "            results[-1][1]=max(end, current[1])\n",
    "            \n",
    "    return results      \n",
    "    "
   ]
  },
  {
   "cell_type": "markdown",
   "id": "34d2ff67",
   "metadata": {},
   "source": [
    "### Test Output"
   ]
  },
  {
   "cell_type": "code",
   "execution_count": 28,
   "id": "67e7c450",
   "metadata": {},
   "outputs": [
    {
     "data": {
      "text/plain": [
       "[[1, 2], [3, 8], [9, 10]]"
      ]
     },
     "execution_count": 28,
     "metadata": {},
     "output_type": "execute_result"
    }
   ],
   "source": [
    "overlappingIntervals(intervals)"
   ]
  },
  {
   "cell_type": "markdown",
   "id": "926c7387",
   "metadata": {},
   "source": [
    "### Time Complexity"
   ]
  },
  {
   "cell_type": "markdown",
   "id": "039a5749",
   "metadata": {},
   "source": [
    "The time complexity is O(n log(n)) because we're sorting the intervals. The sort operation dominates the time complexity as the other operations inside the loop take linear time."
   ]
  },
  {
   "cell_type": "markdown",
   "id": "9c6c39e3",
   "metadata": {},
   "source": [
    "### Space Complexity"
   ]
  },
  {
   "cell_type": "markdown",
   "id": "b841bcf8",
   "metadata": {},
   "source": [
    "The space complexity is O(n) because in the worst-case scenario (when no intervals overlap), the output will be the same length as the input.\n",
    "\n"
   ]
  },
  {
   "cell_type": "markdown",
   "id": "e668e9f3",
   "metadata": {},
   "source": [
    "# 10) Best Seat "
   ]
  },
  {
   "cell_type": "markdown",
   "id": "a17f6a54",
   "metadata": {},
   "source": [
    "### Question"
   ]
  },
  {
   "cell_type": "markdown",
   "id": "4bd3891d",
   "metadata": {},
   "source": [
    "You walk into a theatre you're about to see a show in. The usher within the theatre walks you to your row and mentions you're allowed to sit anywhere within the given row. Naturally you'd like to sit in the seat that gives you the most space. You also would prefer this space to be evenly distributed on either side of you (e.g. if there are three empty seats in a row, you would prefer to sit in the middle of those three seats).\n",
    "\n",
    "Given the theatre row represented as an integer array, return the seat index of where you should sit. Ones represent occupied seats and zeroes represent empty seats.\n",
    "\n",
    "You may assume that someone is always sitting in the first and last seat of the row. Whenever there are two equally good seats, you should sit in the seat with the lower index. \n",
    "\n",
    "If there is no seat to sit in, return -1. The given array will always have a length of at least one and contain only ones and zeroes.\n"
   ]
  },
  {
   "cell_type": "markdown",
   "id": "78662c01",
   "metadata": {},
   "source": [
    "### Test Input"
   ]
  },
  {
   "cell_type": "code",
   "execution_count": 29,
   "id": "a9e265e9",
   "metadata": {},
   "outputs": [],
   "source": [
    "#Sample Input\n",
    "seats = [1, 0, 1, 0, 0, 0, 1]\n",
    "#Sample Output\n",
    "#4"
   ]
  },
  {
   "cell_type": "markdown",
   "id": "aeeb4606",
   "metadata": {},
   "source": [
    "### Explanation"
   ]
  },
  {
   "cell_type": "markdown",
   "id": "71fb4217",
   "metadata": {},
   "source": []
  },
  {
   "cell_type": "markdown",
   "id": "cbb6cba8",
   "metadata": {},
   "source": [
    "### Code"
   ]
  },
  {
   "cell_type": "code",
   "execution_count": 36,
   "id": "9a7997a7",
   "metadata": {},
   "outputs": [],
   "source": [
    "def find_seat(seats):\n",
    "    best_start = -1\n",
    "    best_length = -1\n",
    "    current_start = -1\n",
    "    for i, seat in enumerate(seats):\n",
    "        if seat==0 and current_start==-1:\n",
    "            current_start=i\n",
    "        elif seat==1 and current_start!=-1:\n",
    "            current_length = i-current_start\n",
    "            \n",
    "            if current_length>best_length:\n",
    "                best_start=current_start\n",
    "                best_length=current_length\n",
    "            current_start=-1\n",
    "    if best_start==-1:\n",
    "        return -1\n",
    "    else:\n",
    "        return best_start + best_length // 2"
   ]
  },
  {
   "cell_type": "markdown",
   "id": "2e2faec7",
   "metadata": {},
   "source": [
    "### Test Output"
   ]
  },
  {
   "cell_type": "code",
   "execution_count": 37,
   "id": "2e7caffc",
   "metadata": {},
   "outputs": [
    {
     "data": {
      "text/plain": [
       "4"
      ]
     },
     "execution_count": 37,
     "metadata": {},
     "output_type": "execute_result"
    }
   ],
   "source": [
    "find_seat(seats)"
   ]
  },
  {
   "cell_type": "markdown",
   "id": "0231d207",
   "metadata": {},
   "source": [
    "### Time Complexity"
   ]
  },
  {
   "cell_type": "markdown",
   "id": "86a2f88b",
   "metadata": {},
   "source": [
    "O(n) because it performs a single pass through the array.\n",
    "Explanation: It examines each seat once, so the time it takes scales linearly with the number of seats."
   ]
  },
  {
   "cell_type": "markdown",
   "id": "4897bcbd",
   "metadata": {},
   "source": [
    "### Space Complexity"
   ]
  },
  {
   "cell_type": "markdown",
   "id": "9d995be6",
   "metadata": {},
   "source": [
    "O(1) because it uses a fixed amount of space to store its variables.\n",
    "Explanation: It doesn't use any additional data structures whose size depends on the input."
   ]
  },
  {
   "cell_type": "markdown",
   "id": "0e0b4495",
   "metadata": {},
   "source": [
    "# 11) Zero Sum Subarray "
   ]
  },
  {
   "cell_type": "markdown",
   "id": "f7e71278",
   "metadata": {},
   "source": [
    "### Question"
   ]
  },
  {
   "cell_type": "markdown",
   "id": "ab0a39ea",
   "metadata": {},
   "source": [
    "You're given a list of integers nums. Write a function that returns a boolean representing whether there exists a zero-sum subarray of nums. A zero-sum subarray is any subarray where all of the values add up to zero. A subarray is any contiguous section of the array. For the purposes of this problem, a subarray can be as small as one element and as long as the original array.\n"
   ]
  },
  {
   "cell_type": "markdown",
   "id": "7a32369f",
   "metadata": {},
   "source": [
    "### Test Input"
   ]
  },
  {
   "cell_type": "code",
   "execution_count": 3,
   "id": "9aa3633a",
   "metadata": {},
   "outputs": [],
   "source": [
    "#Sample Input\n",
    "nums = [-5, -5, 2, 3, -2]\n",
    "#Sample Output\n",
    "#True // The subarray [-5, 2, 3] has a sum of ◊"
   ]
  },
  {
   "cell_type": "markdown",
   "id": "5e74a915",
   "metadata": {},
   "source": [
    "### Explanation"
   ]
  },
  {
   "cell_type": "markdown",
   "id": "1aac1090",
   "metadata": {},
   "source": [
    "We can solve this problem using the concept of prefix sums and the property of subarrays. In this problem, we will use a set to store the prefix sum of the array. If at any point in the array, the prefix sum is zero or the prefix sum is already present in the set, it means we have found a zero-sum subarray.\n",
    "\n",
    "This function first computes the prefix sum for the array. The prefix sum is simply the cumulative sum of the array elements up to a certain point. If the prefix sum at any point is zero, or we have seen the same prefix sum before, that means there is a zero-sum subarray.\n"
   ]
  },
  {
   "cell_type": "markdown",
   "id": "45723784",
   "metadata": {},
   "source": [
    "### Code"
   ]
  },
  {
   "cell_type": "code",
   "execution_count": 5,
   "id": "72a230e4",
   "metadata": {},
   "outputs": [],
   "source": [
    "def zeroSumSubarray(nums):\n",
    "    sums = set([0])\n",
    "    subTotal=0\n",
    "    for num in nums:\n",
    "        subTotal+=num\n",
    "        if subTotal in sums:\n",
    "            return True\n",
    "        sums.add(subTotal)\n",
    "    return False"
   ]
  },
  {
   "cell_type": "markdown",
   "id": "da3dee09",
   "metadata": {},
   "source": [
    "### Test Output"
   ]
  },
  {
   "cell_type": "code",
   "execution_count": 6,
   "id": "a9fd247b",
   "metadata": {},
   "outputs": [
    {
     "data": {
      "text/plain": [
       "True"
      ]
     },
     "execution_count": 6,
     "metadata": {},
     "output_type": "execute_result"
    }
   ],
   "source": [
    "zeroSumSubarray(nums)"
   ]
  },
  {
   "cell_type": "markdown",
   "id": "6ea3e29b",
   "metadata": {},
   "source": [
    "### Time Complexity"
   ]
  },
  {
   "cell_type": "markdown",
   "id": "a7dc6a47",
   "metadata": {},
   "source": [
    "O(n) because it performs a single pass through the array. We just scan through the array once, hence the time complexity is linear."
   ]
  },
  {
   "cell_type": "markdown",
   "id": "753a80ac",
   "metadata": {},
   "source": [
    "### Space Complexity"
   ]
  },
  {
   "cell_type": "markdown",
   "id": "63898490",
   "metadata": {},
   "source": [
    "O(n) because we use a set to store the prefix sums. In the worst case, we might end up storing all prefix sums in the set."
   ]
  },
  {
   "cell_type": "markdown",
   "id": "55ee2836",
   "metadata": {},
   "source": [
    "# 12) Missing Numbers "
   ]
  },
  {
   "cell_type": "markdown",
   "id": "b16d891e",
   "metadata": {},
   "source": [
    "### Question"
   ]
  },
  {
   "cell_type": "markdown",
   "id": "1d8e1683",
   "metadata": {},
   "source": [
    "You're given an unordered list of unique integers nums in the range\n",
    "[1, n], where n represents the length of nums + 2 . This means that two numbers in this range are missing from the list.\n",
    "Write a function that takes in this list and returns a new list with the two\n",
    "missing numbers, sorted numerically.\n"
   ]
  },
  {
   "cell_type": "markdown",
   "id": "3a2f6031",
   "metadata": {},
   "source": [
    "### Test Input"
   ]
  },
  {
   "cell_type": "code",
   "execution_count": 27,
   "id": "4c88dbfc",
   "metadata": {},
   "outputs": [],
   "source": [
    "#Sample Input\n",
    "nums = [1, 4, 3]\n",
    "#Sample Output\n",
    "#[2, 5] // n is 5, meaning the completed list should be"
   ]
  },
  {
   "cell_type": "markdown",
   "id": "8fcf11a9",
   "metadata": {},
   "source": [
    "### Explanation"
   ]
  },
  {
   "cell_type": "markdown",
   "id": "5bfd6110",
   "metadata": {},
   "source": [
    "The function takes an array nums, and two 'infinity' values are added to the end of this array. This is done to account for the two missing numbers from the range [1, n].\n",
    "\n",
    "It then goes through the array from start to the second last element (len(nums)-2), and for each element in the array, it treats the absolute value of the element as an index (visitedIndex = abs(nums[index])-1) and negates the element at this index in the array (nums[visitedIndex]*=-1).\n",
    "\n",
    "In doing so, the array elements at indices that are present in the array get negated, while the ones missing stay positive (considering they were positive or zero to start with, and no number is repeated).\n",
    "\n",
    "After this, it iterates through the array again, and if it encounters a positive number, it knows that the index+1 is a missing number (because indices start from 0), so it appends it to the missing array.\n",
    "\n",
    "Finally, it returns the missing array which contains the two missing numbers.\n",
    "\n",
    "In essence, this algorithm leverages the indices of the array to track which numbers from the range [1, n] were present in the original array. The ones that were missing are then found in the final loop."
   ]
  },
  {
   "cell_type": "markdown",
   "id": "e22fa497",
   "metadata": {},
   "source": [
    "### Code"
   ]
  },
  {
   "cell_type": "code",
   "execution_count": 28,
   "id": "51d9086d",
   "metadata": {},
   "outputs": [],
   "source": [
    "def missingNumbers(nums):\n",
    "    nums+=[float(\"inf\"), float(\"inf\")]\n",
    "\n",
    "    for index in range(len(nums)-2):\n",
    "        visitedIndex = abs(nums[index])-1\n",
    "        nums[visitedIndex]*=-1\n",
    "\n",
    "    missing=[]\n",
    "    for index, num in enumerate(nums):\n",
    "        if num>0:\n",
    "            missing.append(index+1)\n",
    "    return missing"
   ]
  },
  {
   "cell_type": "markdown",
   "id": "68351cca",
   "metadata": {},
   "source": [
    "### Test Output"
   ]
  },
  {
   "cell_type": "code",
   "execution_count": 29,
   "id": "f9a77c20",
   "metadata": {},
   "outputs": [
    {
     "data": {
      "text/plain": [
       "[2, 5]"
      ]
     },
     "execution_count": 29,
     "metadata": {},
     "output_type": "execute_result"
    }
   ],
   "source": [
    "missingNumbers(nums)"
   ]
  },
  {
   "cell_type": "markdown",
   "id": "f1c89588",
   "metadata": {},
   "source": [
    "### Time Complexity"
   ]
  },
  {
   "cell_type": "markdown",
   "id": "6fffbbe9",
   "metadata": {},
   "source": [
    "The time complexity of the function is O(n) because we do a single pass over the array to calculate the actual sum and sum of squares. "
   ]
  },
  {
   "cell_type": "markdown",
   "id": "aa963bd7",
   "metadata": {},
   "source": [
    "### Space Complexity"
   ]
  },
  {
   "cell_type": "markdown",
   "id": "c7380fd8",
   "metadata": {},
   "source": [
    "The space complexity is O(1) because we use a constant amount of space to store the sums and the missing numbers."
   ]
  },
  {
   "cell_type": "markdown",
   "id": "d6702334",
   "metadata": {},
   "source": [
    "# 13) Majority Elements"
   ]
  },
  {
   "cell_type": "markdown",
   "id": "ec3417fa",
   "metadata": {},
   "source": [
    "### Question"
   ]
  },
  {
   "cell_type": "markdown",
   "id": "24d87230",
   "metadata": {},
   "source": [
    "Write a function that takes in a non-empty, unordered array of positive integers and returns the array's majority element without sorting the array and without using more than constant space.\n",
    "\n",
    "An array's majority element is an element of the array that appears in over half of its indices. Note that the most common element of an array (the element that appears the most times in the array) isn't necessarily the array's majority element; for example, the arrays [3, 2, 2, 1] and [3, 4, 2, 2, 1] both have 2 as their most common element, yet neither of these arrays have a majority element, because neither 2 nor any other element appears in over half of the respective arrays' indices. You can assume that the input array will always have a majority element.\n"
   ]
  },
  {
   "cell_type": "markdown",
   "id": "0268e9f1",
   "metadata": {},
   "source": [
    "### Test Input"
   ]
  },
  {
   "cell_type": "code",
   "execution_count": 36,
   "id": "54bf372a",
   "metadata": {},
   "outputs": [],
   "source": [
    "#numsSample Input\n",
    "nums = [1, 2, 3, 2, 2, 1, 2]\n",
    "#Sample Output\n",
    "#2 // 2 occurs in 4/7 array indices, making it the majori"
   ]
  },
  {
   "cell_type": "markdown",
   "id": "96039d0f",
   "metadata": {},
   "source": [
    "### Explanation"
   ]
  },
  {
   "cell_type": "markdown",
   "id": "cbfbdb2d",
   "metadata": {},
   "source": [
    "The problem can be solved using Boyer–Moore Majority Vote Algorithm. This algorithm operates in O(n) time complexity and O(1) space complexity. It maintains a counter of the majority number, and at each step, if the next number is the current candidate, the counter is incremented, otherwise, it is decremented. If the counter is 0, we pick a new candidate. The last candidate standing is the majority element.\n",
    "\n",
    "The reason this works is that the majority element appears more than n/2 times, so it will always \"outlast\" the other elements. If the majority element is replaced as the candidate, it will eventually be picked up again and survive until the end. Please note that this algorithm assumes that there is a majority element. If there is no majority element, it will still return an element, so additional checks might be necessary in a more general context."
   ]
  },
  {
   "cell_type": "markdown",
   "id": "58f7bd38",
   "metadata": {},
   "source": [
    "### Code"
   ]
  },
  {
   "cell_type": "code",
   "execution_count": 37,
   "id": "feabe2f0",
   "metadata": {},
   "outputs": [],
   "source": [
    "def findMajorityElement(nums):\n",
    "    candidate = None\n",
    "    count = 0\n",
    "\n",
    "    for num in nums:\n",
    "        if count == 0:\n",
    "            candidate, count = num, 1\n",
    "        elif num == candidate:\n",
    "            count += 1\n",
    "        else:\n",
    "            count -= 1\n",
    "\n",
    "    return candidate\n"
   ]
  },
  {
   "cell_type": "markdown",
   "id": "3e49630c",
   "metadata": {},
   "source": [
    "### Test Output"
   ]
  },
  {
   "cell_type": "code",
   "execution_count": 38,
   "id": "e9eb18b7",
   "metadata": {},
   "outputs": [
    {
     "data": {
      "text/plain": [
       "2"
      ]
     },
     "execution_count": 38,
     "metadata": {},
     "output_type": "execute_result"
    }
   ],
   "source": [
    "majorityElement(nums)"
   ]
  },
  {
   "cell_type": "markdown",
   "id": "f23a761a",
   "metadata": {},
   "source": [
    "### Time Complexity"
   ]
  },
  {
   "cell_type": "markdown",
   "id": "8b4044a8",
   "metadata": {},
   "source": [
    "O(n)"
   ]
  },
  {
   "cell_type": "markdown",
   "id": "f04ed08a",
   "metadata": {},
   "source": [
    "### Space Complexity"
   ]
  },
  {
   "cell_type": "markdown",
   "id": "b83daddd",
   "metadata": {},
   "source": [
    "O(1)"
   ]
  },
  {
   "cell_type": "markdown",
   "id": "19e0d585",
   "metadata": {},
   "source": [
    "# 14) Sweet and Savory "
   ]
  },
  {
   "cell_type": "markdown",
   "id": "c9687db0",
   "metadata": {},
   "source": [
    "### Question"
   ]
  },
  {
   "cell_type": "markdown",
   "id": "03fdc6e5",
   "metadata": {},
   "source": [
    "You're hosting an event at a food festival and want to showcase the best possible pairing of two dishes from the festival that complement each other's flavor profile.\n",
    "Each dish has a flavor profile represented by an integer. A negative integer means a dish is sweet, while a positive integer means a dish is savory. The absolute value of that integer represents the intensity of that flavor. For example, a flavor profile of -3 is slightly sweet, one of -10 is extremely sweet, one of 2 is mildly savory, and one of 8 is significantly savory.\n",
    "You're given an array of these dishes and a target combined flavor profile. Write a function that returns the best possible pairing of two dishes (the pairing with a total flavor profile that's closest to the target one). Note that this pairing must include one sweet and one savory dish. You're also concerned about the dish being too savory, so your pairing should never be more savory than the target flavor profile.\n",
    "All dishes will have a positive or negative flavor profile; there are no dishes with a O value. For simplicity, you can assume that there will be at most one best solution. If there isn't a valid solution, your function should return [0, 0]. The returned array should be sorted, meaning the sweet dish should always come first."
   ]
  },
  {
   "cell_type": "markdown",
   "id": "9953699e",
   "metadata": {},
   "source": [
    "### Test Input"
   ]
  },
  {
   "cell_type": "code",
   "execution_count": 52,
   "id": "5f5173c2",
   "metadata": {},
   "outputs": [],
   "source": [
    "#Sample Input #1\n",
    "dishes1 = [-3, -5, 1, 7] \n",
    "target1 = 8\n",
    "#Sample Output #1\n",
    "#[-3, 7] // The combined profile of 4 is closest without!\n",
    "\n",
    "#Sample Input #2\n",
    "dishes2 = [3, 5, 7, 2, 6, 8, 1]\n",
    "target2 = 10\n",
    "#Sample Output #2\n",
    "#[0, 0] // There are no sweet dishes\n",
    "\n",
    "#Sample Input #3\n",
    "dishes3 = [2, 5, -4, -7, 12, 100, -25] \n",
    "target3=-20\n",
    "#Sample Output #3\n",
    "#[-25, 5] // This pairing gets the exact combined profile"
   ]
  },
  {
   "cell_type": "markdown",
   "id": "ec158773",
   "metadata": {},
   "source": [
    "### Explanation"
   ]
  },
  {
   "cell_type": "markdown",
   "id": "e67b6a3d",
   "metadata": {},
   "source": [
    "In this function, we first divide the array into two different lists: sweet dishes (negative numbers) and savory dishes (positive numbers). Then, we sort these two arrays in ascending order. If either of the lists is empty, we return [0, 0] as it's not possible to find a pair. We initialize two pointers, left at the start of the sweet list and right at the end of the savory list. Then, we calculate the sum of the two dishes at the positions indicated by these pointers. If the sum is less than the target, we move left one position to the right; if the sum is greater than the target, we move right one position to the left. If the sum is closer to the target than our previously saved best combination, we update closest and pair.\n",
    "\n"
   ]
  },
  {
   "cell_type": "markdown",
   "id": "f015481c",
   "metadata": {},
   "source": [
    "### Code"
   ]
  },
  {
   "cell_type": "code",
   "execution_count": 56,
   "id": "639aab85",
   "metadata": {},
   "outputs": [],
   "source": [
    "def best_dish_pair(dishes, target):\n",
    "    sweet = sorted([d for d in dishes if d < 0])\n",
    "    savory = sorted([d for d in dishes if d > 0])\n",
    "\n",
    "    if not sweet or not savory:\n",
    "        return [0, 0]\n",
    "\n",
    "    closest = float('inf')\n",
    "    pair = [0, 0]\n",
    "    left, right = 0, len(savory) - 1\n",
    "\n",
    "    while left < len(sweet) and right >= 0:\n",
    "        current = sweet[left] + savory[right]\n",
    "\n",
    "        if abs(target - current) < closest and current <= target:\n",
    "            closest = abs(target - current)\n",
    "            pair = [sweet[left], savory[right]]\n",
    "\n",
    "        if current < target:\n",
    "            left += 1\n",
    "        else:\n",
    "            right -= 1\n",
    "\n",
    "    return pair if closest != float('inf') else [0, 0]\n"
   ]
  },
  {
   "cell_type": "markdown",
   "id": "2d49fcc6",
   "metadata": {},
   "source": [
    "### Test Output"
   ]
  },
  {
   "cell_type": "code",
   "execution_count": 59,
   "id": "ed317824",
   "metadata": {},
   "outputs": [
    {
     "data": {
      "text/plain": [
       "[-3, 7]"
      ]
     },
     "execution_count": 59,
     "metadata": {},
     "output_type": "execute_result"
    }
   ],
   "source": [
    "best_dish_pair(dishes1, target1)"
   ]
  },
  {
   "cell_type": "code",
   "execution_count": 60,
   "id": "0c068c34",
   "metadata": {},
   "outputs": [
    {
     "data": {
      "text/plain": [
       "[0, 0]"
      ]
     },
     "execution_count": 60,
     "metadata": {},
     "output_type": "execute_result"
    }
   ],
   "source": [
    "best_dish_pair(dishes2, target2)"
   ]
  },
  {
   "cell_type": "code",
   "execution_count": 61,
   "id": "73b37992",
   "metadata": {},
   "outputs": [
    {
     "data": {
      "text/plain": [
       "[-25, 5]"
      ]
     },
     "execution_count": 61,
     "metadata": {},
     "output_type": "execute_result"
    }
   ],
   "source": [
    "best_dish_pair(dishes3, target3)"
   ]
  },
  {
   "cell_type": "markdown",
   "id": "1ec8f028",
   "metadata": {},
   "source": [
    "### Time Complexity"
   ]
  },
  {
   "cell_type": "markdown",
   "id": "5e2ed93f",
   "metadata": {},
   "source": [
    "O(n log n) - Sorting the array contributes to the majority of the time complexity which is n log n. The two-pointer scan is linear, i.e., O(n), but it does not dominate the time complexity."
   ]
  },
  {
   "cell_type": "markdown",
   "id": "ff6b9de7",
   "metadata": {},
   "source": [
    "### Space Complexity"
   ]
  },
  {
   "cell_type": "markdown",
   "id": "10939c7d",
   "metadata": {},
   "source": [
    "O(n) - We create two additional arrays: sweet and savory. The maximum space required would be when the dishes are evenly divided into sweet and savory. In this case, the space complexity is half the size of the input array, making it linear, i.e., O(n)."
   ]
  },
  {
   "cell_type": "markdown",
   "id": "d62b1522",
   "metadata": {},
   "source": [
    "# 15) BST Construction "
   ]
  },
  {
   "cell_type": "markdown",
   "id": "6285692f",
   "metadata": {},
   "source": [
    "### Question"
   ]
  },
  {
   "cell_type": "markdown",
   "id": "b5bcddda",
   "metadata": {},
   "source": [
    "Write a BST class for a Binary Search Tree. The class should support:\n",
    "\n",
    "• Inserting values with the insert method.\n",
    "\n",
    "• Searching for values with the contains method.\n",
    "\n",
    "• Removing values with the remove method; this method should only remove the first instance of a given value.\n",
    "\n",
    "Note that you can't remove values from a single-node tree. In other words, calling the remove method on a single-node tree should simply not do anything.\n",
    "\n",
    "Each BST node has an integer value, a left child node, and a right child node. A node is said to be a valid BST node if and only if it satisfies the BST property: its value is strictly greater than the values of every node to its left; its value is less than or equal to the values of every node to its right; and its children nodes are either valid BST nodes themselves or None / null."
   ]
  },
  {
   "cell_type": "markdown",
   "id": "b8edfc2a",
   "metadata": {},
   "source": [
    "### Test Input"
   ]
  },
  {
   "cell_type": "code",
   "execution_count": null,
   "id": "8ce881ce",
   "metadata": {},
   "outputs": [],
   "source": []
  },
  {
   "cell_type": "markdown",
   "id": "1ad8c41e",
   "metadata": {},
   "source": [
    "### Explanation"
   ]
  },
  {
   "cell_type": "markdown",
   "id": "a0b976a6",
   "metadata": {},
   "source": [
    "The `remove` method in the Binary Search Tree (BST) is used to delete a node with a specific value. \n",
    "\n",
    "Here is the step-by-step explanation of how the method works:\n",
    "\n",
    "1. **Initialization**: We start from the root of the tree and initialize the `currentNode` with the root and `parentNode` as `None`.\n",
    "\n",
    "2. **Search for the Node to be Removed**: We traverse the tree to find the node that contains the value to be removed. If the value is less than the current node's value, we move to the left subtree. If it's greater, we move to the right subtree.\n",
    "\n",
    "3. **Removing the Node**: Once we find the node to be removed:\n",
    "\n",
    "   * **Case 1: The node has both left and right children**: We replace the node's value with the minimum value from the right subtree, found by using the `getMinValue()` method. After this, we call `remove` again on the right subtree to remove the node that now contains the duplicate value.\n",
    "\n",
    "   * **Case 2: The node to be removed is the root node**: If the root has a left child, we replace the root node's value with its left child's value and then set the root's left and right children to its left child's left and right children, respectively. If the root has no left child but has a right child, we do a similar operation with the right child. If the tree has only one node (i.e., the root node), we don't do anything.\n",
    "\n",
    "   * **Case 3: The node to be removed is not the root**: If the node to be removed is a left child, its parent's left child is set to the node to be removed's child if it exists, or else to its right child. The similar operation is done if the node to be removed is a right child. \n",
    "\n",
    "\n",
    "4. **Return the Tree**: Finally, we return the root of the BST after removal. \n",
    "\n",
    "The `getMinValue` method starts at a node and traverses down its left children until it reaches the left-most node, which contains the minimum value in a BST. \n"
   ]
  },
  {
   "cell_type": "markdown",
   "id": "bc17ec7b",
   "metadata": {},
   "source": [
    "### Code"
   ]
  },
  {
   "cell_type": "code",
   "execution_count": null,
   "id": "0617d89e",
   "metadata": {},
   "outputs": [],
   "source": [
    "class Node:\n",
    "    def __init__(self, value):\n",
    "        self.value = value\n",
    "        self.left = None\n",
    "        self.right = None\n",
    "\n",
    "class BST:\n",
    "    def __init__(self, value):\n",
    "        self.root = Node(value)\n",
    "\n",
    "    def insert(self, value):\n",
    "        currentNode = self\n",
    "        while currentNode is not None:\n",
    "            if value<currentNode.value:\n",
    "                if currentNode.left is None:\n",
    "                    currentNode.left.value = BST(value)\n",
    "                else:\n",
    "                    currentNode = currentNode.left \n",
    "            else:\n",
    "                if currentNode.right is None:\n",
    "                    currentNode.right.value = BST(value)\n",
    "                else:\n",
    "                    currentNode = currentNode.right\n",
    "\n",
    "    def contains(self, value):\n",
    "        currentNode = self\n",
    "        while currentNode is not None:\n",
    "            if value<currentNode.value:\n",
    "               currentNode=currentNode.left\n",
    "            elif value>currentNode.value:\n",
    "                currentNode=currentNode.right\n",
    "            else:\n",
    "                return True\n",
    "            \n",
    "\n",
    "    def remove(self, value, parentNode=None):\n",
    "        # Start from the root of the tree.\n",
    "        currentNode = self.root\n",
    "        # Traverse until we find the node (value) to be removed.\n",
    "        while currentNode is not None:\n",
    "            if value < currentNode.value: \n",
    "                # If value is less than current node's value, go to left subtree.\n",
    "                parentNode = currentNode\n",
    "                currentNode = currentNode.left \n",
    "            elif value > currentNode.value:\n",
    "                # If value is greater than current node's value, go to right subtree.\n",
    "                parentNode = currentNode\n",
    "                currentNode = currentNode.right \n",
    "            else: \n",
    "                # Found the node to be removed.\n",
    "                if currentNode.left is not None and currentNode.right is not None: \n",
    "                    # If the current node has both left and right children.\n",
    "                    currentNode.value = currentNode.right.getMinValue() \n",
    "                    # Replace current node's value with the minimum value from right subtree.\n",
    "                    currentNode.right.remove(currentNode.value, currentNode) \n",
    "                    # Remove the node that now contains a duplicate value in right subtree.\n",
    "                elif parentNode is None: \n",
    "                    # If the node to remove is the root node (parentNode is None).\n",
    "                    if currentNode.left is not None:\n",
    "                        # If the root has a left child.\n",
    "                        currentNode.value = currentNode.left.value \n",
    "                        currentNode.right = currentNode.left.right\n",
    "                        currentNode.left = currentNode.left.left\n",
    "                    elif currentNode.right is not None:\n",
    "                        # If the root has no left child but has a right child.\n",
    "                        currentNode.value = currentNode.right.value \n",
    "                        currentNode.left = currentNode.right.left\n",
    "                        currentNode.right = currentNode.right.right\n",
    "                    else: \n",
    "                        # This is a single-node tree; do nothing.\n",
    "                        pass\n",
    "                elif parentNode.left == currentNode: \n",
    "                    # If the node to remove is a left child.\n",
    "                    parentNode.left = currentNode.left if currentNode.left is not None else currentNode.right \n",
    "                    # If the node to be removed has a child, it replaces its parent.\n",
    "                elif parentNode.right == currentNode: \n",
    "                    # If the node to remove is a right child.\n",
    "                    parentNode.right = currentNode.left if currentNode.left is not None else currentNode.right\n",
    "                    # If the node to be removed has a child, it replaces its parent.\n",
    "                break\n",
    "        return self.root\n",
    "\n",
    "    def getMinValue(self):\n",
    "        # Start from the root of the subtree.\n",
    "        currentNode = self.root\n",
    "        # If the current node has a left child, continue moving left in the tree.\n",
    "        while currentNode.left is not None:\n",
    "            currentNode = currentNode.left \n",
    "            # Move to the left child.\n",
    "        return currentNode.value\n",
    "        # After reaching the left-most node, return its value - it's the minimum value in the subtree.\n"
   ]
  },
  {
   "cell_type": "markdown",
   "id": "a03c749a",
   "metadata": {},
   "source": [
    "### Test Output"
   ]
  },
  {
   "cell_type": "code",
   "execution_count": null,
   "id": "47f47949",
   "metadata": {},
   "outputs": [],
   "source": []
  },
  {
   "cell_type": "markdown",
   "id": "2b5d35ba",
   "metadata": {},
   "source": [
    "### Time Complexity"
   ]
  },
  {
   "cell_type": "markdown",
   "id": "68df8379",
   "metadata": {},
   "source": [
    "O(log(N))"
   ]
  },
  {
   "cell_type": "markdown",
   "id": "9df1eaa8",
   "metadata": {},
   "source": [
    "### Space Complexity"
   ]
  },
  {
   "cell_type": "markdown",
   "id": "3d626799",
   "metadata": {},
   "source": [
    "O(1)"
   ]
  },
  {
   "cell_type": "markdown",
   "id": "6f5dcec5",
   "metadata": {},
   "source": [
    "# 16) Validate BST "
   ]
  },
  {
   "cell_type": "markdown",
   "id": "ca0282cb",
   "metadata": {},
   "source": [
    "### Question"
   ]
  },
  {
   "cell_type": "markdown",
   "id": "30e8148a",
   "metadata": {},
   "source": [
    "Write a function that takes in a potentially invalid Binary Search Tree (BST) and returns a boolean representing whether the BST is valid.\n",
    "\n",
    "Each BST node has an integer value, a left child node, and a right child node. A node is said to be a valid BST node if and only if it satisfies the BST property: its value is strictly greater than the values of every node to its left; its value is less than or equal to the values of every node to its right; and its children nodes are either valid BST nodes themselves or None / null.\n",
    "\n",
    "A BST is valid if and only if all of its nodes are valid BST nodes."
   ]
  },
  {
   "cell_type": "markdown",
   "id": "273168bf",
   "metadata": {},
   "source": [
    "### Test Input"
   ]
  },
  {
   "cell_type": "code",
   "execution_count": null,
   "id": "db6a2da9",
   "metadata": {},
   "outputs": [],
   "source": []
  },
  {
   "cell_type": "markdown",
   "id": "c67c1383",
   "metadata": {},
   "source": [
    "### Explanation"
   ]
  },
  {
   "cell_type": "markdown",
   "id": "fffbe6d0",
   "metadata": {},
   "source": [
    "A recursive function will be the most intuitive solution. At each node, we'll make sure that all values in the left subtree are less than the node's value and all values in the right subtree are greater than or equal to the node's value. We'll also pass down the information about the maximum possible and minimum possible values a node can take.\n",
    "\n",
    "In the code, validateBst function initially calls the validateBstHelper function, setting minValue and maxValue to negative and positive infinity, respectively. It is because the root of a BST can be any integer value.\n",
    "\n",
    "In validateBstHelper function, if we reach a leaf node (where node is None), we return True, indicating that all ancestor nodes follow BST property. We check if the current node's value is not within the valid range, we return False, indicating a violation of BST property. Finally, we recursively check the left and right subtree, updating the minValue and maxValue accordingly."
   ]
  },
  {
   "cell_type": "markdown",
   "id": "15e2b209",
   "metadata": {},
   "source": [
    "### Code"
   ]
  },
  {
   "cell_type": "code",
   "execution_count": 1,
   "id": "3dd31603",
   "metadata": {},
   "outputs": [],
   "source": [
    "def validateBst(tree):\n",
    "    return validateBstHelper(tree, float('-inf'), float('inf'))\n",
    "\n",
    "def validateBstHelper(node, minValue, maxValue):\n",
    "    if node is None:\n",
    "        return True\n",
    "    if node.value<minValue or node.value>=maxValue:\n",
    "        return False\n",
    "    leftIsValid = validateBstHelper(node.left, minValue, node.value)\n",
    "    rightIsValid=validateBstHelper(node.right, node.value, maxValue)\n",
    "    return leftIsValid and rightIsValid"
   ]
  },
  {
   "cell_type": "markdown",
   "id": "6eb3fc53",
   "metadata": {},
   "source": [
    "### Test Output"
   ]
  },
  {
   "cell_type": "code",
   "execution_count": null,
   "id": "d840c0f6",
   "metadata": {},
   "outputs": [],
   "source": []
  },
  {
   "cell_type": "markdown",
   "id": "0dc104bf",
   "metadata": {},
   "source": [
    "### Time Complexity"
   ]
  },
  {
   "cell_type": "markdown",
   "id": "b790b7fe",
   "metadata": {},
   "source": [
    "O(n), where n is the number of nodes in the BST. We are visiting each node exactly once, so the time complexity is linear."
   ]
  },
  {
   "cell_type": "markdown",
   "id": "1305bfe9",
   "metadata": {},
   "source": [
    "### Space Complexity"
   ]
  },
  {
   "cell_type": "markdown",
   "id": "12f7f465",
   "metadata": {},
   "source": [
    "O(d), where d is the depth of the BST. This is because we are making a recursive call for each level of the BST and storing that information in the call stack."
   ]
  },
  {
   "cell_type": "markdown",
   "id": "d6989e64",
   "metadata": {},
   "source": [
    "# 17) BST Travel "
   ]
  },
  {
   "cell_type": "markdown",
   "id": "08841901",
   "metadata": {},
   "source": [
    "### Question"
   ]
  },
  {
   "cell_type": "markdown",
   "id": "1371fcc3",
   "metadata": {},
   "source": [
    "Write three functions that take in a Binary Search Tree (BST) and an empty array, traverse the BST, add its nodes' values to the input array, and return that array. The three functions should traverse the BST using the in-order, pre-order, and post-order tree-traversal techniques, respectively.\n",
    "If you're unfamiliar with tree-traversal techniques, we recommend watching the Conceptual Overview section of this question's video explanation before starting to code.\n",
    "Each BST node has an integer value, a left child node, and a right child node. A node is said to be a valid BST node if and only if it satisfies the BST property: its value is strictly greater than the values of every node to its left; its value is less than or equal to the values of every node to its right; and its children nodes are either valid BST nodes themselves or None / null."
   ]
  },
  {
   "cell_type": "markdown",
   "id": "50761aa0",
   "metadata": {},
   "source": [
    "### Test Input"
   ]
  },
  {
   "cell_type": "code",
   "execution_count": null,
   "id": "af61cdcd",
   "metadata": {},
   "outputs": [],
   "source": []
  },
  {
   "cell_type": "markdown",
   "id": "038edc2c",
   "metadata": {},
   "source": [
    "### Explanation"
   ]
  },
  {
   "cell_type": "markdown",
   "id": "3a7d71d1",
   "metadata": {},
   "source": [
    "Tree traversal techniques are the methods used to visit and check each node in a tree data structure. There are three types of depth-first traversal methods:\n",
    "\n",
    "In-Order: Visit the left branch, then the current node, and finally, the right branch.\n",
    "\n",
    "Pre-Order: Visit the current node before its child nodes.\n",
    "\n",
    "Post-Order: Visit the current node after its child nodes.\n"
   ]
  },
  {
   "cell_type": "markdown",
   "id": "a6482d10",
   "metadata": {},
   "source": [
    "### Code"
   ]
  },
  {
   "cell_type": "code",
   "execution_count": 3,
   "id": "8698db27",
   "metadata": {},
   "outputs": [],
   "source": [
    "def inOrderTraverse(tree, array):\n",
    "    if tree:\n",
    "        inOrderTraverse(tree.left, array)\n",
    "        array.append(tree.value)\n",
    "        inOrderTraverse(tree.right, array)\n",
    "    return array\n",
    "\n",
    "def preOrderTraverse(tree, array):\n",
    "    if tree:\n",
    "        \n",
    "        array.append(tree.value)\n",
    "        preOrderTraverse(tree.left, array)\n",
    "        preOrderTraverse(tree.right, array)\n",
    "\n",
    "    return array\n",
    "\n",
    "def postOrderTraverse(tree, array):\n",
    "    if tree:\n",
    "        postOrderTraverse(tree.left, array)\n",
    "        postOrderTraverse(tree.right, array)\n",
    "        array.append(tree.value)\n",
    "    return array\n"
   ]
  },
  {
   "cell_type": "markdown",
   "id": "13ce6b3f",
   "metadata": {},
   "source": [
    "### Test Output"
   ]
  },
  {
   "cell_type": "code",
   "execution_count": null,
   "id": "1e62f21e",
   "metadata": {},
   "outputs": [],
   "source": []
  },
  {
   "cell_type": "markdown",
   "id": "f00703b2",
   "metadata": {},
   "source": [
    "### Time Complexity"
   ]
  },
  {
   "cell_type": "markdown",
   "id": "c2dbd383",
   "metadata": {},
   "source": [
    "O(n) for all three traversals, where n is the number of nodes in the BST. We are visiting each node exactly once, so the time complexity is linear."
   ]
  },
  {
   "cell_type": "markdown",
   "id": "34dc47b5",
   "metadata": {},
   "source": [
    "### Space Complexity"
   ]
  },
  {
   "cell_type": "markdown",
   "id": "4aa2631b",
   "metadata": {},
   "source": [
    "O(n) for all three traversals, where n is the number of nodes in the BST. The worst case scenario occurs when a tree is extremely unbalanced (essentially a linked list), which would result in n recursive calls, so we'd need to store n elements on the call stack."
   ]
  },
  {
   "cell_type": "markdown",
   "id": "7d854891",
   "metadata": {},
   "source": [
    "# 18) Min Height BST "
   ]
  },
  {
   "cell_type": "markdown",
   "id": "32e83211",
   "metadata": {},
   "source": [
    "### Question"
   ]
  },
  {
   "cell_type": "markdown",
   "id": "a4a6e86a",
   "metadata": {},
   "source": []
  },
  {
   "cell_type": "markdown",
   "id": "51d495d2",
   "metadata": {},
   "source": [
    "### Test Input"
   ]
  },
  {
   "cell_type": "code",
   "execution_count": null,
   "id": "89c81101",
   "metadata": {},
   "outputs": [],
   "source": []
  },
  {
   "cell_type": "markdown",
   "id": "aafd613a",
   "metadata": {},
   "source": [
    "### Explanation"
   ]
  },
  {
   "cell_type": "markdown",
   "id": "8cfc5bed",
   "metadata": {},
   "source": [
    "We can solve this problem recursively. The basic idea is to construct the BST from 'the middle'. The middle element of the array becomes the root of the BST and we recursively do the same for the left half and the right half of the array. This way, we ensure that the height of the BST is minimized, as it makes the BST as balanced as possible."
   ]
  },
  {
   "cell_type": "markdown",
   "id": "c6622f2b",
   "metadata": {},
   "source": [
    "### Code"
   ]
  },
  {
   "cell_type": "code",
   "execution_count": 4,
   "id": "f9139106",
   "metadata": {},
   "outputs": [],
   "source": [
    "def minHeightBst(array):\n",
    "    return minHeightBstHelper(array, 0, len(array)-1)\n",
    "\n",
    "def minHeightBstHelper(array, startIdx, endIdx):\n",
    "    if endIdx<startIdx:\n",
    "        return None\n",
    "    midIdx=(startIdx+endIdx)//2\n",
    "    bst = BST(array[midIdx])\n",
    "    bst.left=minHeightBstHelper(array, startIdx, midIdx-1)\n",
    "    bst.right=minHeightBstHelper(array, midIdx+1, endIdx)\n",
    "    return bst"
   ]
  },
  {
   "cell_type": "markdown",
   "id": "3998f9d9",
   "metadata": {},
   "source": [
    "### Test Output"
   ]
  },
  {
   "cell_type": "code",
   "execution_count": null,
   "id": "ddcaf115",
   "metadata": {},
   "outputs": [],
   "source": []
  },
  {
   "cell_type": "markdown",
   "id": "2e43b0b5",
   "metadata": {},
   "source": [
    "### Time Complexity"
   ]
  },
  {
   "cell_type": "markdown",
   "id": "f9f1ff1b",
   "metadata": {},
   "source": [
    "O(n), where n is the number of elements in the array. Each element is visited exactly once."
   ]
  },
  {
   "cell_type": "markdown",
   "id": "beda914c",
   "metadata": {},
   "source": [
    "### Space Complexity"
   ]
  },
  {
   "cell_type": "markdown",
   "id": "1e91263c",
   "metadata": {},
   "source": [
    "O(n), where n is the number of elements in the array. This is because we're creating a new node for each element in the array."
   ]
  },
  {
   "cell_type": "markdown",
   "id": "a0b1a792",
   "metadata": {},
   "source": [
    "# 19) Find Kth Largest Value in BST "
   ]
  },
  {
   "cell_type": "markdown",
   "id": "e5f6d08f",
   "metadata": {},
   "source": [
    "### Question"
   ]
  },
  {
   "cell_type": "markdown",
   "id": "5e65c56c",
   "metadata": {},
   "source": [
    "Write a function that takes in a Binary Search Tree (BST) and a positive integer k and returns the kth largest integer contained in the BST.\n",
    "\n",
    "You can assume that there will only be integer values in the BST and that k is less than or equal to the number of nodes in the tree.\n",
    "\n",
    "Also, for the purpose of this question, duplicate integers will be treated as distinct values. In other words, the second largest value in a BST containing values {5, 7, 7} will be 7-not 5.\n",
    "\n",
    "Each BST node has an integer value, a left child node, and a right child node. A node is said to be a valid BST node if and only if it satisfies the BST property: its value is strictly greater than the values of every node to its left; its value is less than or equal to the values of every node to its right; and its children nodes are either valid BST nodes themselves or None / null ."
   ]
  },
  {
   "cell_type": "markdown",
   "id": "f9483df5",
   "metadata": {},
   "source": [
    "### Test Input"
   ]
  },
  {
   "cell_type": "code",
   "execution_count": null,
   "id": "961d3017",
   "metadata": {},
   "outputs": [],
   "source": []
  },
  {
   "cell_type": "markdown",
   "id": "c8372e6e",
   "metadata": {},
   "source": [
    "### Explanation"
   ]
  },
  {
   "cell_type": "markdown",
   "id": "cc2ebf86",
   "metadata": {},
   "source": [
    "This solution finds the kth largest value in a Binary Search Tree (BST). To accomplish this, it uses a reverse in-order traversal (right, root, left), which is essentially an in-order traversal (left, root, right) but starting from the right.\n",
    "\n",
    "The code defines a BST class to create a node with a value, a left child, and a right child.\n",
    "\n",
    "A helper class TreeInfo is also defined to keep track of the traversal. It has two attributes: numberOfNodesVisited and latestVisitedNodeValue. numberOfNodesVisited is incremented each time a new node is visited, and latestVisitedNodeValue stores the value of the latest visited node.\n",
    "\n",
    "The findKthLargestValueInBst function initiates the TreeInfo object and starts the reverse in-order traversal.\n",
    "\n",
    "The reverseInOrderTraverse function does the actual traversal. The base case for this recursion is when the node is None (we've reached a leaf node) or when numberOfNodesVisited is equal to or larger than k (we've found the kth largest node). If these conditions are not met, the function calls itself recursively first on the right node, then updates the node visited count and latest node value (if numberOfNodesVisited is less than k), and finally calls itself on the left node.\n",
    "\n",
    "When the kth largest node is found, the traversal stops and the value of this node (treeInfo.latestVisitedNodeValue) is returned by the findKthLargestValueInBst function.\n",
    "\n"
   ]
  },
  {
   "cell_type": "markdown",
   "id": "a3ec5d86",
   "metadata": {},
   "source": [
    "Let's say we have a Binary Search Tree (BST) as shown below, and we are asked to find the 3rd largest value.\n",
    "\n",
    "markdown\n",
    "Copy code\n",
    "    8\n",
    "   / \\\n",
    "  3   10\n",
    " / \\    \\\n",
    "1   6    14\n",
    "   /  \\   /\n",
    "  4   7  13\n",
    "Now, we will perform a reverse in-order traversal (Right - Root - Left) which will visit nodes in descending order, and keep track of how many nodes have been visited.\n",
    "\n",
    "The sequence of the traversal and the nodes visited (with count) is as follows:\n",
    "\n",
    "Visit the right child of 8 (node 10). (nodes visited = 0)\n",
    "Visit the right child of 10 (node 14). (nodes visited = 0)\n",
    "Visit the left child of 14 (node 13). (nodes visited = 0)\n",
    "There are no more children of node 13. Node 13 is visited. (nodes visited = 1)\n",
    "Backtrack to node 14. Node 14 is visited. (nodes visited = 2)\n",
    "Backtrack to node 10. Node 10 is visited. (nodes visited = 3)\n",
    "Since we've visited 3 nodes now, and we were looking for the 3rd largest node, we stop here. So, in this tree, the 3rd largest value is 10.\n",
    "\n",
    "This algorithm works because the reverse in-order traversal of a BST visits the nodes in descending order, and by keeping track of how many nodes we've visited, we can stop as soon as we've visited the kth node. In this case, k was 3, so we stopped after visiting the 3rd node in descending order, which is the 3rd largest node."
   ]
  },
  {
   "cell_type": "markdown",
   "id": "aed44c19",
   "metadata": {},
   "source": [
    "When doing a depth-first traversal such as in-order, pre-order or post-order, the current node (whether it's a root, a right child, or a left child) isn't marked as visited until its respective turn comes up in the order of the traversal.\n",
    "\n",
    "In the case of a reverse in-order traversal (Right - Root - Left), when we start from the root (node 8 in our example), we first move to the right child (node 10), but we don't mark this node as visited just yet because we are following the order of traversal, and the right subtree of node 10 should be visited first.\n",
    "\n",
    "The same logic applies to node 14. Even though we have reached node 14, we still have to visit its left child (node 13) before marking node 14 as visited.\n",
    "\n",
    "That's why we don't count nodes 10 and 14 as visited when we first reach them. They are only marked as visited after all their right children (for node 10) and left children (for node 14) have been visited, according to the rules of the reverse in-order traversal.\n",
    "\n",
    "So, in our example:\n",
    "\n",
    "We start from node 8, but before we can visit it, we have to visit its right subtree. So we move to node 10.\n",
    "At node 10, we again have to visit the right subtree first, so we move to node 14.\n",
    "At node 14, the traversal rules tell us to first visit its left child, so we move to node 13.\n",
    "Node 13 has no children, so we can finally visit it and mark it as visited. This is our first visit.\n",
    "We then move back to node 14 (backtrack). Now that we've visited all of its left children (node 13), we can mark node 14 as visited. This is our second visit.\n",
    "We move back to node 10. Now that we've visited all of its right children (nodes 14 and 13), we can mark node 10 as visited. This is our third visit."
   ]
  },
  {
   "cell_type": "markdown",
   "id": "662c07b1",
   "metadata": {},
   "source": [
    "TreeInfo is a helper class that is being used to keep track of two things during the traversal:\n",
    "\n",
    "numberOfNodesVisited: This is a count of how many nodes have been visited during the traversal so far.\n",
    "latestVisitedNodeValue: This stores the value of the most recently visited node.\n",
    "We're using a class to store these two pieces of information because we need to maintain and update this state throughout the recursive traversal. Python does not support passing primitives (like integers) by reference, so if we tried to pass these two pieces of information as separate variables to our recursive function, any changes made to them inside the function wouldn't be reflected outside of the function.\n",
    "\n",
    "However, objects in Python (like instances of a class) are passed by reference. This means that if we make changes to the attributes of an object inside a function, those changes will persist outside of the function as well. By storing numberOfNodesVisited and latestVisitedNodeValue as attributes of a TreeInfo object, we can update these attributes inside our recursive function and those changes will be reflected outside of the function as well.\n",
    "\n",
    "So in our case, TreeInfo allows us to:\n",
    "\n",
    "Keep a count of the nodes as they're visited.\n",
    "Store the value of the kth node once we've visited k nodes.\n",
    "Stop the traversal once we've visited k nodes.\n",
    "Without TreeInfo, we wouldn't be able to accomplish all of this."
   ]
  },
  {
   "cell_type": "markdown",
   "id": "871201ea",
   "metadata": {},
   "source": [
    "### Code"
   ]
  },
  {
   "cell_type": "code",
   "execution_count": 6,
   "id": "d2b767b8",
   "metadata": {},
   "outputs": [],
   "source": [
    "class BST:\n",
    "    def __init__(self, value, left=None, right=None):\n",
    "        self.value = value\n",
    "        self.left = left\n",
    "        self.right = right\n",
    "\n",
    "def findKthLargestValueInBst(tree, k):\n",
    "    # Create a helper class to maintain state during traversal\n",
    "    class TreeInfo:\n",
    "        def __init__(self, numberOfNodesVisited, latestVisitedNodeValue):\n",
    "            self.numberOfNodesVisited = numberOfNodesVisited\n",
    "            self.latestVisitedNodeValue = latestVisitedNodeValue\n",
    "    \n",
    "    # Start the in-order traversal\n",
    "    treeInfo = TreeInfo(0, -1)\n",
    "    reverseInOrderTraversal(tree, k, treeInfo)\n",
    "    return treeInfo.latestVisitedNodeValue\n",
    "\n",
    "def reverseInOrderTraversal(node, k, treeInfo):\n",
    "    if node is None or treeInfo.numberOfNodesVisited >= k:\n",
    "        return\n",
    "    reverseInOrderTraversal(node.right, k, treeInfo)\n",
    "    if treeInfo.numberOfNodesVisited < k:\n",
    "        treeInfo.numberOfNodesVisited += 1\n",
    "        treeInfo.latestVisitedNodeValue = node.value\n",
    "        reverseInOrderTraversal(node.left, k, treeInfo)\n"
   ]
  },
  {
   "cell_type": "markdown",
   "id": "8b3e20be",
   "metadata": {},
   "source": [
    "### Test Output"
   ]
  },
  {
   "cell_type": "code",
   "execution_count": null,
   "id": "3a2f151d",
   "metadata": {},
   "outputs": [],
   "source": []
  },
  {
   "cell_type": "markdown",
   "id": "1a5098f4",
   "metadata": {},
   "source": [
    "### Time Complexity"
   ]
  },
  {
   "cell_type": "markdown",
   "id": "fa4c2c2c",
   "metadata": {},
   "source": [
    "O(h + k) where h is the height of the tree and k is the input value. This is because in the worst case, we may have to traverse to the deepest leaf (height h) and then traverse k elements."
   ]
  },
  {
   "cell_type": "markdown",
   "id": "0341d837",
   "metadata": {},
   "source": [
    "### Space Complexity"
   ]
  },
  {
   "cell_type": "markdown",
   "id": "2447991b",
   "metadata": {},
   "source": [
    "O(h), where h is the height of the tree. This is due to the space required for the recursive call stack in the depth-first search."
   ]
  },
  {
   "cell_type": "markdown",
   "id": "eba77306",
   "metadata": {},
   "source": [
    "# 20) Reconstruct BST"
   ]
  },
  {
   "cell_type": "markdown",
   "id": "f5f43670",
   "metadata": {},
   "source": [
    "### Question"
   ]
  },
  {
   "cell_type": "markdown",
   "id": "efe91cf8",
   "metadata": {},
   "source": [
    "The pre-order traversal of a Binary Tree is a traversal technique that starts at the tree's root node and visits nodes in the following order:\n",
    "\n",
    "1. Current node\n",
    "\n",
    "2. Left subtree\n",
    "\n",
    "3. Right subtree\n",
    "\n",
    "Given a non-empty array of integers representing the pre-order traversal of a\n",
    "Binary Search Tree (BST), write a function that creates the relevant BST and returns its root node.\n",
    "\n",
    "The input array will contain the values of BST nodes in the order in which these nodes would be visited with a pre-order traversal.\n",
    "\n",
    "Each BST node has an integer value, a left child node, and a right child node. A node is said to be a valid BST node if and only if it satisfies the BST property: its value is strictly greater than the values of every node to its left; its value is less than or equal to the values of every node to its right; and its children nodes are either valid BST nodes themselves or None / null."
   ]
  },
  {
   "cell_type": "markdown",
   "id": "a1e889f2",
   "metadata": {},
   "source": [
    "### Test Input"
   ]
  },
  {
   "cell_type": "code",
   "execution_count": 8,
   "id": "719ffbd5",
   "metadata": {},
   "outputs": [],
   "source": [
    "preOrderTraversalValues = [10,4,2,1,5,17,19,18]"
   ]
  },
  {
   "cell_type": "markdown",
   "id": "ebc9f689",
   "metadata": {},
   "source": [
    "### Explanation"
   ]
  },
  {
   "cell_type": "markdown",
   "id": "d479481f",
   "metadata": {},
   "source": [
    "It starts by defining two classes, BST and TreeInfo. BST is used to create new nodes for the BST, and TreeInfo is used to keep track of the current index in the pre-order traversal array.\n",
    "\n",
    "The reconstructBst function takes in the pre-order traversal array, initializes TreeInfo with a root index of 0, and calls the helper function reconstructFromRange with the minimum and maximum allowable values (-inf and inf, respectively).\n",
    "\n",
    "The reconstructFromRange function is the core of this implementation. It's a recursive function that takes in the minimum and maximum allowable values for the root node of the current subtree, the pre-order traversal array, and the current subtree info (which includes the current root index).\n",
    "\n",
    "If the root index has reached the end of the pre-order traversal array, it returns None, indicating that there are no more nodes to process.\n",
    "\n",
    "If the root value is not within the allowable range, it also returns None, as such a node cannot exist in the current subtree due to the BST properties.\n",
    "\n",
    "Otherwise, it increments the root index, and recursively constructs the left and right subtrees by calling reconstructFromRange. The left subtree's values are between the current lower bound and the root value, and the right subtree's values are between the root value and the current upper bound.\n",
    "\n",
    "Finally, it returns a new BST node constructed with the root value and the left and right subtrees.\n",
    "\n",
    "This code works efficiently by making a single pass through the pre-order traversal array and is well-organized and easy to understand. It correctly implements the optimized solution, having a time complexity of O(n) and a space complexity of O(d), where n is the length of the input array and d is the depth of the BST.\n",
    "\n",
    "\n",
    "\n"
   ]
  },
  {
   "cell_type": "markdown",
   "id": "055eea46",
   "metadata": {},
   "source": [
    "### Code"
   ]
  },
  {
   "cell_type": "code",
   "execution_count": 7,
   "id": "91d7c43f",
   "metadata": {},
   "outputs": [],
   "source": [
    "# This is an input class. Do not edit.\n",
    "class BST:\n",
    "    def __init__(self, value, left=None, right=None):\n",
    "        self.value = value\n",
    "        self.left = left\n",
    "        self.right = right\n",
    "\n",
    "# Create a class to store the current root index\n",
    "class TreeInfo:\n",
    "    def __init__(self, rootIdx):\n",
    "        self.rootIdx=rootIdx\n",
    "\n",
    "# Main function to start the BST reconstruction        \n",
    "def reconstructBst(preOrderTraversalValues):\n",
    "    # Initialize the root index to 0\n",
    "    treeInfo = TreeInfo(0)\n",
    "    # Start the BST reconstruction from the entire range\n",
    "    return reconstructFromRange(float('-inf'), float('inf'), preOrderTraversalValues, treeInfo)\n",
    "\n",
    "\n",
    "def reconstructFromRange(lowerBound, upperBound, preOrderTraversalValues, currentSubtreeInfo):\n",
    "    # If the entire pre-order traversal array has been processed, return None\n",
    "    if currentSubtreeInfo.rootIdx == len(preOrderTraversalValues):\n",
    "        return None\n",
    "\n",
    "    rootValue = preOrderTraversalValues[currentSubtreeInfo.rootIdx]\n",
    "    # If the root value is not within the allowable range, return None\n",
    "    if rootValue < lowerBound or rootValue >= upperBound:\n",
    "        return None\n",
    "\n",
    "    # Move to the next root index\n",
    "    currentSubtreeInfo.rootIdx+=1\n",
    "    # Construct the left subtree from the remaining values that are less than the root value\n",
    "    leftSubtree =  reconstructFromRange(lowerBound, rootValue, preOrderTraversalValues, currentSubtreeInfo)\n",
    "    # Construct the right subtree from the remaining values that are more than or equal to the root value\n",
    "    rightSubtree =  reconstructFromRange(rootValue, upperBound, preOrderTraversalValues, currentSubtreeInfo)\n",
    "\n",
    "    # Create a new node with the root value and the left and right subtrees, and return it\n",
    "    return BST(rootValue, leftSubtree, rightSubtree)"
   ]
  },
  {
   "cell_type": "markdown",
   "id": "cdf6319f",
   "metadata": {},
   "source": [
    "### Test Output"
   ]
  },
  {
   "cell_type": "code",
   "execution_count": 9,
   "id": "900ce3d6",
   "metadata": {},
   "outputs": [
    {
     "data": {
      "text/plain": [
       "<__main__.BST at 0x1043fbb20>"
      ]
     },
     "execution_count": 9,
     "metadata": {},
     "output_type": "execute_result"
    }
   ],
   "source": [
    "reconstructBst(preOrderTraversalValues)"
   ]
  },
  {
   "cell_type": "markdown",
   "id": "c91063dc",
   "metadata": {},
   "source": [
    "### Time Complexity"
   ]
  },
  {
   "cell_type": "markdown",
   "id": "7c279c38",
   "metadata": {},
   "source": [
    "The time complexity is O(n) since we visit each node only once."
   ]
  },
  {
   "cell_type": "markdown",
   "id": "c17cd04a",
   "metadata": {},
   "source": [
    "### Space Complexity"
   ]
  },
  {
   "cell_type": "markdown",
   "id": "ecfe8a80",
   "metadata": {},
   "source": [
    "The space complexity is O(d) which is the maximum depth of recursive calls. "
   ]
  },
  {
   "cell_type": "markdown",
   "id": "2caf3f54",
   "metadata": {},
   "source": [
    "# 21) Invert Binary Tree"
   ]
  },
  {
   "cell_type": "markdown",
   "id": "7da09e01",
   "metadata": {},
   "source": [
    "### Question"
   ]
  },
  {
   "cell_type": "markdown",
   "id": "0e88450e",
   "metadata": {},
   "source": [
    "Write a function that takes in a Binary Tree and inverts it. In other words, the function should swap every left node in the tree for its corresponding right node.\n",
    "Each BinaryTree node has an integer value, a left child node, and a right child node. Children nodes can either be BinaryTree nodes themselves or None / null."
   ]
  },
  {
   "cell_type": "markdown",
   "id": "3687bfab",
   "metadata": {},
   "source": [
    "### Test Input"
   ]
  },
  {
   "cell_type": "code",
   "execution_count": null,
   "id": "8dc5ac8b",
   "metadata": {},
   "outputs": [],
   "source": []
  },
  {
   "cell_type": "markdown",
   "id": "8981f186",
   "metadata": {},
   "source": [
    "### Explanation"
   ]
  },
  {
   "cell_type": "markdown",
   "id": "c2295855",
   "metadata": {},
   "source": [
    "We can solve this problem by using a simple recursive depth-first search (DFS) approach. We start from the root node and then, for each node, we swap its left child and right child. After swapping, we recursively invert the left child and the right child"
   ]
  },
  {
   "cell_type": "markdown",
   "id": "1d356b60",
   "metadata": {},
   "source": [
    "### Code"
   ]
  },
  {
   "cell_type": "code",
   "execution_count": 10,
   "id": "707af368",
   "metadata": {},
   "outputs": [],
   "source": [
    "def invertBinaryTree(tree):\n",
    "    if tree is None:\n",
    "        return\n",
    "    tree.left,tree.right=tree.right,tree.left\n",
    "    invertBinaryTree(tree.left)\n",
    "    invertBinaryTree(tree.right)"
   ]
  },
  {
   "cell_type": "markdown",
   "id": "71d47744",
   "metadata": {},
   "source": [
    "### Test Output"
   ]
  },
  {
   "cell_type": "code",
   "execution_count": null,
   "id": "7d9c192a",
   "metadata": {},
   "outputs": [],
   "source": []
  },
  {
   "cell_type": "markdown",
   "id": "bde37655",
   "metadata": {},
   "source": [
    "### Time Complexity"
   ]
  },
  {
   "cell_type": "markdown",
   "id": "7e4ba303",
   "metadata": {},
   "source": [
    "The time complexity for this algorithm is O(n), where n is the number of nodes in the binary tree. This is because we are visiting each node once."
   ]
  },
  {
   "cell_type": "markdown",
   "id": "0fb2339b",
   "metadata": {},
   "source": [
    "### Space Complexity"
   ]
  },
  {
   "cell_type": "markdown",
   "id": "fddd9f37",
   "metadata": {},
   "source": [
    "The space complexity for this algorithm is O(d), where d is the depth (or height) of the binary tree. This is because the deepest we can possibly go in our recursive call stack is the height of the tree."
   ]
  },
  {
   "cell_type": "markdown",
   "id": "e46b26e0",
   "metadata": {},
   "source": [
    "# 22) Binary Tree Diameter"
   ]
  },
  {
   "cell_type": "markdown",
   "id": "77cfaaa8",
   "metadata": {},
   "source": [
    "### Question"
   ]
  },
  {
   "cell_type": "markdown",
   "id": "36c0b728",
   "metadata": {},
   "source": [
    "Write a function that takes in a Binary Tree and returns its diameter. The diameter of a binary tree is defined as the length of its longest path, even if that path doesn't pass through the root of the tree.\n",
    "\n",
    "A path is a collection of connected nodes in a tree, where no node is connected to more than two other nodes. The length of a path is the number of edges between the path's first node and its last node.\n",
    "\n",
    "Each BinaryTree node has an integer value, a left child node, and a right child node. Children nodes can either be BinaryTree nodes themselves or None / null ."
   ]
  },
  {
   "cell_type": "markdown",
   "id": "d3f45d36",
   "metadata": {},
   "source": [
    "### Test Input"
   ]
  },
  {
   "cell_type": "code",
   "execution_count": 16,
   "id": "e2a34403",
   "metadata": {},
   "outputs": [],
   "source": [
    "import json\n",
    "\n",
    "# JSON data provided\n",
    "data = \"\"\"\n",
    "{\n",
    "  \"nodes\": [\n",
    "    {\"id\": \"1\", \"left\": \"3\", \"right\": \"2\", \"value\": 1},\n",
    "    {\"id\": \"3\", \"left\": \"7\", \"right\": \"4\", \"value\": 3},\n",
    "    {\"id\": \"7\", \"left\": \"8\", \"right\": null, \"value\": 7},\n",
    "    {\"id\": \"8\", \"left\": \"9\", \"right\": null, \"value\": 8},\n",
    "    {\"id\": \"9\", \"left\": null, \"right\": null, \"value\": 9},\n",
    "    {\"id\": \"4\", \"left\": null, \"right\": \"5\", \"value\": 4},\n",
    "    {\"id\": \"5\", \"left\": null, \"right\": \"6\", \"value\": 5},\n",
    "    {\"id\": \"6\", \"left\": null, \"right\": null, \"value\": 6},\n",
    "    {\"id\": \"2\", \"left\": null, \"right\": null, \"value\": 2}\n",
    "  ],\n",
    "  \"root\": \"1\"\n",
    "}\n",
    "\"\"\"\n",
    "\n",
    "# parse JSON data into Python dictionary\n",
    "tree_dict = json.loads(data)\n",
    "\n",
    "# create a dictionary to hold all nodes with id as key and BinaryTree node as value\n",
    "nodes = {node['id']: BinaryTree(node['value']) for node in tree_dict['nodes']}\n",
    "\n",
    "# link all nodes according to 'left' and 'right' values\n",
    "for node in tree_dict['nodes']:\n",
    "    if node['left']:\n",
    "        nodes[node['id']].left = nodes[node['left']]\n",
    "    if node['right']:\n",
    "        nodes[node['id']].right = nodes[node['right']]\n",
    "\n",
    "\n"
   ]
  },
  {
   "cell_type": "markdown",
   "id": "36c5b3e7",
   "metadata": {},
   "source": [
    "### Explanation"
   ]
  },
  {
   "cell_type": "markdown",
   "id": "24ae791a",
   "metadata": {},
   "source": [
    "        1\n",
    "       / \\\n",
    "      2   3\n",
    "     / \\  \n",
    "    4   5\n",
    "   / \\\n",
    "  6   7\n",
    "\n",
    "\n",
    "Starting at the root, we see that there is a left child and a right child. We'll start a depth-first search on the left child.\n",
    "\n",
    "We follow the left child (2), and again see that there is a left child (4) and a right child (5). We recursively call our function on the left child (4).\n",
    "\n",
    "Following the left child (4), we find two more children (6 and 7). We make another recursive call for the left child (6).\n",
    "\n",
    "At node 6, there are no children, so the height is 1 and the diameter is 0 (since there's only one node). We return this information to the parent call at node 4.\n",
    "\n",
    "At node 4, we have the information about the left subtree, but we still need the information from the right subtree. We make a recursive call for the right child (7).\n",
    "\n",
    "At node 7, like node 6, there are no children. So, the height is 1 and the diameter is 0. We return this information to the parent call at node 4.\n",
    "\n",
    "Now at node 4, we have the heights of both subtrees, which are equal to 1. So, the height at node 4 is max(1, 1) + 1 = 2. The longest path through node 4 is 1 (left height) + 1 (right height) = 2, which is also the diameter at node 4.\n",
    "\n",
    "We return this information (height = 2, diameter = 2) to the parent call at node 2. Now we make a recursive call for the right child (5) of node 2.\n",
    "\n",
    "At node 5, there are no children, so the height is 1 and the diameter is 0. We return this information to the parent call at node 2.\n",
    "\n",
    "At node 2, we now have the heights of both subtrees (left height = 2, right height = 1). So, the height at node 2 is max(2, 1) + 1 = 3. The longest path through node 2 is 2 (left height) + 1 (right height) = 3, which is also the diameter at node 2 (since it's larger than the diameter of the left subtree).\n",
    "\n",
    "We return this information (height = 3, diameter = 3) to the parent call at node 1. Now we make a recursive call for the right child (3) of node 1.\n",
    "\n",
    "At node 3, there are no children, so the height is 1 and the diameter is 0. We return this information to the parent call at node 1.\n",
    "\n",
    "Now at the root node 1, we have the heights of both subtrees (left height = 3, right height = 1). So, the height at node 1 is max(3, 1) + 1 = 4. The longest path through node 1 is 3 (left height) + 1 (right height) = 4, which is also the diameter at node 1 (since it's larger than the diameters of both subtrees).\n",
    "\n",
    "We've finished our traversal and found that the diameter of the tree is 4.\n",
    "\n",
    "So, we return 4 as the final output. The nodes on this path are 6 - 4 - 2 - 1."
   ]
  },
  {
   "cell_type": "markdown",
   "id": "5252e005",
   "metadata": {},
   "source": [
    "### Code"
   ]
  },
  {
   "cell_type": "code",
   "execution_count": 15,
   "id": "ce85aed0",
   "metadata": {},
   "outputs": [],
   "source": [
    "class BinaryTree:\n",
    "    def __init__(self, value, left=None, right=None):\n",
    "        self.value = value\n",
    "        self.left = left\n",
    "        self.right = right\n",
    "\n",
    "class TreeInfo: # Define a helper class to store the diameter and the height of a tree\n",
    "    def __init__(self, diameter, height):\n",
    "        self.diameter = diameter # the longest path in the tree (not necessarily passing through the root)\n",
    "        self.height = height # the longest path from the root to any leaf\n",
    "\n",
    "def binaryTreeDiameter(tree):\n",
    "    return getTreeInfo(tree).diameter # Begin the recursion with the root, we are only interested in the diameter\n",
    "\n",
    "def getTreeInfo(tree):\n",
    "    if tree is None: # Base case for recursion: if the tree is empty, its diameter and height are 0\n",
    "        return TreeInfo(0, 0)\n",
    "\n",
    "    # Recursive case: get the TreeInfo for the left and right children\n",
    "    leftTreeInfo = getTreeInfo(tree.left)\n",
    "    rightTreeInfo = getTreeInfo(tree.right)\n",
    "\n",
    "    # The longest path that passes through the root is the sum of heights of left and right subtrees\n",
    "    longestPathThroughRoot = leftTreeInfo.height + rightTreeInfo.height\n",
    "    # The maximum diameter is the maximum between the longest path through root and the diameters of left and right subtrees\n",
    "    maxDiameterSoFar = max(leftTreeInfo.diameter, rightTreeInfo.diameter)\n",
    "    currentDiameter = max(longestPathThroughRoot, maxDiameterSoFar)\n",
    "    # The current height is the maximum height of the two subtrees plus 1 (for the edge to the parent)\n",
    "    currentHeight = max(leftTreeInfo.height, rightTreeInfo.height) + 1\n",
    "\n",
    "    return TreeInfo(currentDiameter, currentHeight) # Return a new TreeInfo object with the current diameter and height\n"
   ]
  },
  {
   "cell_type": "markdown",
   "id": "9716fafb",
   "metadata": {},
   "source": [
    "### Test Output"
   ]
  },
  {
   "cell_type": "code",
   "execution_count": 17,
   "id": "a1f906ce",
   "metadata": {},
   "outputs": [
    {
     "name": "stdout",
     "output_type": "stream",
     "text": [
      "6\n"
     ]
    }
   ],
   "source": [
    "# use 'root' value to get the root of the binary tree\n",
    "root = nodes[tree_dict['root']]\n",
    "\n",
    "# test binaryTreeDiameter function\n",
    "print(binaryTreeDiameter(root))  # output should be 6"
   ]
  },
  {
   "cell_type": "markdown",
   "id": "535c3716",
   "metadata": {},
   "source": [
    "### Time Complexity"
   ]
  },
  {
   "cell_type": "markdown",
   "id": "2a9bf206",
   "metadata": {},
   "source": [
    "The time complexity of the function is O(n), where n is the number of nodes in the binary tree. This is because we visit each node exactly once."
   ]
  },
  {
   "cell_type": "markdown",
   "id": "7f39923e",
   "metadata": {},
   "source": [
    "### Space Complexity"
   ]
  },
  {
   "cell_type": "markdown",
   "id": "21129c09",
   "metadata": {},
   "source": [
    "The space complexity is O(h), where h is the height of the binary tree. This is the space required by the call stack during the recursive traversal."
   ]
  },
  {
   "cell_type": "markdown",
   "id": "118ebb54",
   "metadata": {},
   "source": [
    "# 23) Find Successor"
   ]
  },
  {
   "cell_type": "markdown",
   "id": "cafad486",
   "metadata": {},
   "source": [
    "### Question"
   ]
  },
  {
   "cell_type": "markdown",
   "id": "231fea33",
   "metadata": {},
   "source": [
    "Write a function that takes in a Binary Tree (where nodes have an additional pointer to their parent node) as well as a node contained in that tree and\n",
    "returns the given node's successor.\n",
    "A node's successor is the next node to be visited (immediately after the given node) when traversing its tree using the in-order tree-traversal technique. A node has no successor if it's the last node to be visited in the in-order\n",
    "traversal.\n",
    "If a node has no successor, your function should return None / null.\n",
    "Each BinaryTree node has an integer value, a parent node, a left child node, and a right child node. Children nodes can either be BinaryTree nodes themselves or None / null."
   ]
  },
  {
   "cell_type": "markdown",
   "id": "2cb68a0e",
   "metadata": {},
   "source": [
    "### Test Input"
   ]
  },
  {
   "cell_type": "code",
   "execution_count": null,
   "id": "27f0de35",
   "metadata": {},
   "outputs": [],
   "source": []
  },
  {
   "cell_type": "markdown",
   "id": "977d4aad",
   "metadata": {},
   "source": [
    "### Explanation"
   ]
  },
  {
   "cell_type": "markdown",
   "id": "ee8e7e15",
   "metadata": {},
   "source": [
    "Given the Binary Tree:\n",
    "\n",
    "markdown\n",
    "Copy code\n",
    "         5\n",
    "       /   \\\n",
    "      3     8\n",
    "     / \\   / \\\n",
    "    2   4 7   9\n",
    "   /\n",
    "  1 \n",
    "If we want to find the successor of node 4, we would proceed as follows:\n",
    "\n",
    "Since the node does not have a right child, we need to find the first ancestor that the node is a left child of. In this case, the first such ancestor is node 5, which is our answer.\n",
    "On the other hand, if we were looking for the successor of node 3, we would do the following:\n",
    "\n",
    "Node 3 has a right child, so we traverse down the right subtree to find the leftmost node, which is node 4. This is the successor of node 3."
   ]
  },
  {
   "cell_type": "markdown",
   "id": "80d245f0",
   "metadata": {},
   "source": [
    "### Code"
   ]
  },
  {
   "cell_type": "code",
   "execution_count": 20,
   "id": "7f454cbd",
   "metadata": {},
   "outputs": [],
   "source": [
    "# This is an input class. Do not edit.\n",
    "class BinaryTree:\n",
    "    def __init__(self, value, left=None, right=None, parent=None):\n",
    "        self.value = value\n",
    "        self.left = left\n",
    "        self.right = right\n",
    "        self.parent = parent\n",
    "        \n",
    "def findSuccessor(tree, node):\n",
    "    if node.right is not None:\n",
    "        return getLeftMostNode(node.right)\n",
    "    else:\n",
    "        return getRightMostParent(node)\n",
    "    \n",
    "def getLeftMostNode(node):\n",
    "    while node.left is not Node:\n",
    "        node=node.left\n",
    "    return node\n",
    "\n",
    "def getRightMostParent(node):\n",
    "    while node.parent is not None and node.parent.right==node:\n",
    "        node=node.parent\n",
    "    return node.parent"
   ]
  },
  {
   "cell_type": "markdown",
   "id": "6774155e",
   "metadata": {},
   "source": [
    "### Test Output"
   ]
  },
  {
   "cell_type": "code",
   "execution_count": null,
   "id": "2f25444b",
   "metadata": {},
   "outputs": [],
   "source": []
  },
  {
   "cell_type": "markdown",
   "id": "ddc7f33b",
   "metadata": {},
   "source": [
    "### Time Complexity"
   ]
  },
  {
   "cell_type": "markdown",
   "id": "a116fd65",
   "metadata": {},
   "source": [
    "O(h), where h is the height of the tree. This is because in the worst-case scenario, we would need to travel up to the height of the tree.\n",
    "\n"
   ]
  },
  {
   "cell_type": "markdown",
   "id": "c13d082a",
   "metadata": {},
   "source": [
    "### Space Complexity"
   ]
  },
  {
   "cell_type": "markdown",
   "id": "45314c5f",
   "metadata": {},
   "source": [
    "O(1), as we're not utilizing any data structure that scales with the input size."
   ]
  },
  {
   "cell_type": "markdown",
   "id": "d3d67676",
   "metadata": {},
   "source": [
    "# 24) Height Balanced Binary Tree"
   ]
  },
  {
   "cell_type": "markdown",
   "id": "18d00b06",
   "metadata": {},
   "source": [
    "### Question"
   ]
  },
  {
   "cell_type": "markdown",
   "id": "eb978ab4",
   "metadata": {},
   "source": [
    "You're given the root node of a Binary Tree. Write a function that returns true if this Binary Tree is height balanced and false if it isn't.\n",
    "\n",
    "A Binary Tree is height balanced if for each node in the tree, the difference between the height of its left subtree and the height of its right subtree is at most 1.\n",
    "\n",
    "Each BinaryTree node has an integer value, a left child node, and a right child node. \n",
    "\n",
    "Children nodes can either be BinaryTree nodes themselves or None / null."
   ]
  },
  {
   "cell_type": "markdown",
   "id": "80f56032",
   "metadata": {},
   "source": [
    "### Test Input"
   ]
  },
  {
   "cell_type": "code",
   "execution_count": 29,
   "id": "1ba08132",
   "metadata": {},
   "outputs": [],
   "source": []
  },
  {
   "cell_type": "markdown",
   "id": "c49b052c",
   "metadata": {},
   "source": [
    "### Explanation"
   ]
  },
  {
   "cell_type": "markdown",
   "id": "9cb7fb77",
   "metadata": {},
   "source": [
    "Suppose we have the following binary tree:\n",
    "\n",
    "    1\n",
    "   / \\\n",
    "  2   3\n",
    " / \\\n",
    "4   5\n",
    "\n",
    "In-order traversal gives us: 4, 2, 5, 1, 3.\n",
    "\n",
    "Let's traverse the tree:\n",
    "\n",
    "Start at the root node (1). Check its left and right subtrees.\n",
    "For the left subtree rooted at node (2), check its left and right subtrees.\n",
    "Node (4) is a leaf node. It's balanced, with a height of 0.\n",
    "Node (5) is also a leaf node. It's balanced, with a height of 0.\n",
    "Now check node (2). Both its subtrees are balanced, and the height difference is 0. So, it's balanced, with a height of 1.\n",
    "Check the right subtree rooted at node (3). It's a leaf node, so it's balanced with a height of 0.\n",
    "Finally, check the root node (1). Both its subtrees are balanced, and the height difference is 1, so it's balanced as well.\n",
    "So the tree is height-balanced."
   ]
  },
  {
   "cell_type": "markdown",
   "id": "93116d28",
   "metadata": {},
   "source": [
    "### Code"
   ]
  },
  {
   "cell_type": "code",
   "execution_count": 30,
   "id": "f98b8988",
   "metadata": {},
   "outputs": [],
   "source": [
    "class BinaryTree:\n",
    "    def __init__(self, value, left=None, right=None):\n",
    "        self.value=value\n",
    "        self.left=left\n",
    "        self.right=right\n",
    "        \n",
    "class TreeInfo:\n",
    "    def __init__(self, isBalanced, height):\n",
    "        self.isBalanced=isBalanced\n",
    "        self.height=height\n",
    "        \n",
    "def heightBalancedBinaryTree(tree):\n",
    "    return TreeInfo.isBalanced\n",
    "\n",
    "def balancedTreeInfo(node):\n",
    "    if node is None:\n",
    "        return TreeInfo(True, -1)\n",
    "    \n",
    "    leftSubTreeInfo=balancedTreeInfo(node.left)\n",
    "    rightSubTreeInfo=balancedTreeInfo(node.right)\n",
    "    \n",
    "    isBalanced = (\n",
    "    leftSubTreeInfo.isBalanced and rightSubTreeInfo.isBalanced and\n",
    "    abs(leftSubTreeInfo.height-rightSubTreeInfo.height)<=1)\n",
    "    height= max(leftSubTreeInfo.height, rightSubTreeInfo.height)+1\n",
    "    return TreeInfo(isBalanced,height)"
   ]
  },
  {
   "cell_type": "markdown",
   "id": "a617ea80",
   "metadata": {},
   "source": [
    "### Test Output"
   ]
  },
  {
   "cell_type": "code",
   "execution_count": null,
   "id": "de49968d",
   "metadata": {},
   "outputs": [],
   "source": []
  },
  {
   "cell_type": "markdown",
   "id": "2ee62831",
   "metadata": {},
   "source": [
    "### Time Complexity"
   ]
  },
  {
   "cell_type": "markdown",
   "id": "44a1c018",
   "metadata": {},
   "source": [
    "O(n), where n is the number of nodes in the tree. This is because we're doing a simple depth-first traversal of the tree, visiting each node once."
   ]
  },
  {
   "cell_type": "markdown",
   "id": "9a1d5331",
   "metadata": {},
   "source": [
    "### Space Complexity"
   ]
  },
  {
   "cell_type": "markdown",
   "id": "ebf44473",
   "metadata": {},
   "source": [
    "O(h), where h is the height of the tree. This represents the maximum depth of the recursive call stack."
   ]
  },
  {
   "cell_type": "markdown",
   "id": "7e92e352",
   "metadata": {},
   "source": [
    "# 25) Merge Binary Trees"
   ]
  },
  {
   "cell_type": "markdown",
   "id": "20e88e16",
   "metadata": {},
   "source": [
    "### Question"
   ]
  },
  {
   "cell_type": "markdown",
   "id": "76a1e666",
   "metadata": {},
   "source": [
    "Given two binary trees, merge them and return the resulting tree. If two nodes overlap during the merger then sum the values, otherwise use the existing node.\n",
    "Note that your solution can either mutate the existing trees or return a new tree."
   ]
  },
  {
   "cell_type": "markdown",
   "id": "c1ede1a2",
   "metadata": {},
   "source": [
    "### Test Input"
   ]
  },
  {
   "cell_type": "code",
   "execution_count": null,
   "id": "a4f5caa6",
   "metadata": {},
   "outputs": [],
   "source": []
  },
  {
   "cell_type": "markdown",
   "id": "81d972c5",
   "metadata": {},
   "source": [
    "### Explanation"
   ]
  },
  {
   "cell_type": "markdown",
   "id": "0c6e1915",
   "metadata": {},
   "source": [
    "Tree 1:\n",
    "    1\n",
    "   / \\\n",
    "  3   2\n",
    " /  \n",
    "5\n",
    "Tree 2:\n",
    "\n",
    "    2\n",
    "   / \\\n",
    "  1   3\n",
    "   \\   \\\n",
    "    4   7\n",
    "We start from the root. Both trees have the root, so we add their values (1+2=3). Then we recursively merge the left subtrees (3 from Tree 1 and 1 from Tree 2) and the right subtrees (2 from Tree 1 and 3 from Tree 2).\n",
    "\n",
    "The result is:\n",
    "\n",
    "    3\n",
    "   / \\\n",
    "  4   5\n",
    " / \\   \\\n",
    "5   4   7"
   ]
  },
  {
   "cell_type": "markdown",
   "id": "539d7215",
   "metadata": {},
   "source": [
    "### Code"
   ]
  },
  {
   "cell_type": "code",
   "execution_count": 31,
   "id": "b46a1da6",
   "metadata": {},
   "outputs": [],
   "source": [
    "class BinaryTree:\n",
    "    def __init__(self, value, left=None, right=None):\n",
    "        self.value = value\n",
    "        self.left = left\n",
    "        self.right = right\n",
    "        \n",
    "def mergeBinaryTrees(tree1, tree2):\n",
    "    \n",
    "    # Base cases: if either tree is null, return the other tree    \n",
    "    if tree1 is None:\n",
    "        return tree2\n",
    "    if tree2 is None:\n",
    "        return tree1\n",
    "    \n",
    "    # If both nodes exist, add their values together\n",
    "    tree1.value+=tree2.value\n",
    "    \n",
    "    # Recursively merge the left and right children\n",
    "    tree1.left = mergeBinaryTrees(tree1.left,tree2.left)\n",
    "    tree1.right = mergeBinaryTrees(tree1.right, tree2.right)\n",
    "    \n",
    "    return tree1"
   ]
  },
  {
   "cell_type": "markdown",
   "id": "da2254eb",
   "metadata": {},
   "source": [
    "### Test Output"
   ]
  },
  {
   "cell_type": "code",
   "execution_count": null,
   "id": "cae5a763",
   "metadata": {},
   "outputs": [],
   "source": []
  },
  {
   "cell_type": "markdown",
   "id": "4cf702f7",
   "metadata": {},
   "source": [
    "### Time Complexity"
   ]
  },
  {
   "cell_type": "markdown",
   "id": "85aefa04",
   "metadata": {},
   "source": [
    "O(n), where n is the minimum number of nodes from the two given trees. This is because we're visiting each node from the two trees once."
   ]
  },
  {
   "cell_type": "markdown",
   "id": "e45d1f50",
   "metadata": {},
   "source": [
    "### Space Complexity"
   ]
  },
  {
   "cell_type": "markdown",
   "id": "271b8fa1",
   "metadata": {},
   "source": [
    "O(d), where n is the height of the recursion stack, which, in the worst case, can be the minimum number of nodes from the two given trees"
   ]
  },
  {
   "cell_type": "markdown",
   "id": "438424b6",
   "metadata": {},
   "source": [
    "# 26) Symmetrical Tree "
   ]
  },
  {
   "cell_type": "markdown",
   "id": "ce7bc178",
   "metadata": {},
   "source": [
    "### Question"
   ]
  },
  {
   "cell_type": "markdown",
   "id": "5eca34df",
   "metadata": {},
   "source": [
    "Write a function that takes in a Binary Tree and returns if that tree is symmetrical. A tree is symmetrical if the left and right subtrees are mirror images of each other.\n",
    "Each BinaryTree node has an integer value, a left child node, and a right child node. Children nodes can either be BinaryTree nodes themselves or None / null."
   ]
  },
  {
   "cell_type": "markdown",
   "id": "3f027417",
   "metadata": {},
   "source": [
    "### Test Input"
   ]
  },
  {
   "cell_type": "code",
   "execution_count": null,
   "id": "e4c36124",
   "metadata": {},
   "outputs": [],
   "source": []
  },
  {
   "cell_type": "markdown",
   "id": "a1af9caf",
   "metadata": {},
   "source": [
    "### Explanation"
   ]
  },
  {
   "cell_type": "markdown",
   "id": "8324b139",
   "metadata": {},
   "source": [
    "The symmetry in a binary tree can be determined by comparing its left and right subtrees. Two trees are a mirror reflection of each other if their root values are the same, left subtree of the left tree and right subtree of the right tree are mirror images, and right subtree of the left tree and the left subtree of the right tree are mirror images.\n",
    "\n",
    "Let's take an example to understand better:\n",
    "\n",
    "markdown\n",
    "Copy code\n",
    "    1\n",
    "   / \\\n",
    "  2   2\n",
    " / \\ / \\\n",
    "3  4 4  3\n",
    "We start from the root. We see that the root value is the same, so we proceed further. We then check if the left subtree of the left tree (root value 2) is a mirror image of the right subtree of the right tree (root value 2) and vice versa. We do this recursively until we have traversed all the nodes."
   ]
  },
  {
   "cell_type": "markdown",
   "id": "77ef9854",
   "metadata": {},
   "source": [
    "### Code"
   ]
  },
  {
   "cell_type": "code",
   "execution_count": 32,
   "id": "48918dcb",
   "metadata": {},
   "outputs": [],
   "source": [
    "class BinaryTree:\n",
    "    def __init__(self, value, left=None, right=None):\n",
    "        self.value = value\n",
    "        self.left = left\n",
    "        self.right = right\n",
    "        \n",
    "def symmetricalTree(tree):\n",
    "    if tree is None:\n",
    "        return True\n",
    "    return isSymmetrical(tree.left, tree.right)\n",
    "\n",
    "def isSymmetrical(node1, node2):\n",
    "    if node1 is None and node2 is None:\n",
    "        return True\n",
    "    \n",
    "    if node1 is None or node2 is None:\n",
    "        return False \n",
    "    \n",
    "    return ((node1.value==node2.value) and (node1.left==node2.right) and (node1.right==node2.left))\n"
   ]
  },
  {
   "cell_type": "markdown",
   "id": "f1560f29",
   "metadata": {},
   "source": [
    "### Test Output"
   ]
  },
  {
   "cell_type": "code",
   "execution_count": null,
   "id": "fcd27b7f",
   "metadata": {},
   "outputs": [],
   "source": []
  },
  {
   "cell_type": "markdown",
   "id": "ea2a7e10",
   "metadata": {},
   "source": [
    "### Time Complexity"
   ]
  },
  {
   "cell_type": "markdown",
   "id": "3d1ce7ed",
   "metadata": {},
   "source": [
    "O(n), where n is the number of nodes in the tree. This is because we are visiting each node once.\n"
   ]
  },
  {
   "cell_type": "markdown",
   "id": "9d0de0cc",
   "metadata": {},
   "source": [
    "### Space Complexity"
   ]
  },
  {
   "cell_type": "markdown",
   "id": "0c2d4eb2",
   "metadata": {},
   "source": [
    "O(n), where n is the height of the recursion stack, which, in the worst case, can be the number of nodes in the tree (in case of a skewed tree)."
   ]
  },
  {
   "cell_type": "markdown",
   "id": "178472b3",
   "metadata": {},
   "source": [
    "# 27) Split Binary Tree"
   ]
  },
  {
   "cell_type": "markdown",
   "id": "eb4e065d",
   "metadata": {},
   "source": [
    "### Question"
   ]
  },
  {
   "cell_type": "markdown",
   "id": "87617c25",
   "metadata": {},
   "source": [
    "Write a function that takes in a Binary Tree with at least one node and checks if that Binary Tree can be split into two Binary Trees of equal sum by removing a single edge. If this split is possible, return the new sum of each Binary Tree, otherwise return 0. Note that you do not need to return the edge that was removed.\n",
    "The sum of a Binary Tree is the sum of all values in that Binary Tree.\n",
    "Each BinaryTree node has an integer value, a left child node, and a right child node. Children nodes can either be BinaryTree nodes themselves or None / null."
   ]
  },
  {
   "cell_type": "markdown",
   "id": "0b8b9bee",
   "metadata": {},
   "source": [
    "### Test Input"
   ]
  },
  {
   "cell_type": "code",
   "execution_count": null,
   "id": "aae5efef",
   "metadata": {},
   "outputs": [],
   "source": []
  },
  {
   "cell_type": "markdown",
   "id": "059a9697",
   "metadata": {},
   "source": [
    "### Explanation"
   ]
  },
  {
   "cell_type": "markdown",
   "id": "30024d41",
   "metadata": {},
   "source": [
    "This is a binary tree problem where you are given a binary tree and asked to find if it's possible to split the tree into two subtrees such that the sum of their nodes is equal. If yes, the function returns the sum of the nodes in one of the subtrees; otherwise, it returns 0.\n",
    "\n",
    "Here's how the code works:\n",
    "\n",
    "In the splitBinaryTree function, it first calculates the total sum of the binary tree using the getTreeSum function. If the binary tree can be split into two subtrees with equal sums, this total sum must be even, so the desired subtree sum is half of the total sum.\n",
    "\n",
    "The trySubtrees function is then called to determine whether there exists a subtree with a sum equal to the desired subtree sum. This function uses recursion to explore all subtrees in the binary tree.\n",
    "\n",
    "The base case for the trySubtrees function is when it's called with a null tree, in which case it returns a sum of 0 and False indicating that a null tree can't be split.\n",
    "\n",
    "For a non-null tree, trySubtrees first recursively computes the sums of the left and right subtrees. It then computes the sum of the current tree as the sum of its value and the sums of its left and right subtrees.\n",
    "\n",
    "A binary tree can be split into two subtrees with equal sums if its left or right subtree can be split, or if the sum of the current tree equals the desired subtree sum. So, trySubtrees returns the sum of the current tree and whether it can be split.\n",
    "\n",
    "The getTreeSum function is a simple recursive function that computes the sum of a binary tree. Its base case is a null tree, for which it returns a sum of 0. For a non-null tree, it computes the sum as the sum of the tree's value and the sums of its left and right subtrees."
   ]
  },
  {
   "cell_type": "markdown",
   "id": "bc289d5d",
   "metadata": {},
   "source": [
    "### Code"
   ]
  },
  {
   "cell_type": "code",
   "execution_count": null,
   "id": "76ad3fe2",
   "metadata": {},
   "outputs": [],
   "source": [
    "class BinaryTree:\n",
    "    def __init__(self, value, left=None, right=None):\n",
    "        self.value = value\n",
    "        self.left = left\n",
    "        self.right = right\n",
    "        \n",
    "    def splitBinaryTree(tree):\n",
    "        desiredSubtreeSum = getTreeSum(tree)/2\n",
    "        canBeSplit=trySubtrees(tree, desiredSubtreeSum)\n",
    "        return desiredSubtreeSum if canBeSplit else 0\n",
    "    \n",
    "    def getTreeSum(tree):\n",
    "        if tree is None:\n",
    "            return 0\n",
    "        else:\n",
    "            tree.value + getTreeSum(tree.left) + getTreeSum(tree.right)\n",
    "            \n",
    "    def trySubtrees(tree, desiredSubtreeSum):\n",
    "        if tree is None:\n",
    "            return (0, False)\n",
    "        \n",
    "        leftSum, leftCanBeSplit = trySubtrees(tree.left, desiredSubtreeSum)\n",
    "        rightSum, rightCanBeSplit = trySubtrees(tree.right, desiredSubtreeSum)\n",
    "        currentTreeSum = tree.value + leftSum + rightSum \n",
    "        canBeSplit = leftCanBeSplit or rightCanBeSplit or currentTreeSum == desiredSubtreeSum\n",
    "        \n",
    "        return (currentTreeSum, canBeSplitß)\n",
    "        \n",
    "        "
   ]
  },
  {
   "cell_type": "markdown",
   "id": "6279d12f",
   "metadata": {},
   "source": [
    "### Test Output"
   ]
  },
  {
   "cell_type": "code",
   "execution_count": null,
   "id": "d1770a07",
   "metadata": {},
   "outputs": [],
   "source": []
  },
  {
   "cell_type": "markdown",
   "id": "98dc6905",
   "metadata": {},
   "source": [
    "### Time Complexity"
   ]
  },
  {
   "cell_type": "markdown",
   "id": "f95c74f8",
   "metadata": {},
   "source": [
    "The time complexity is O(n), where n is the number of nodes in the binary tree. This is because each node is visited exactly once when computing the total sum and then once more when determining whether the tree can be split."
   ]
  },
  {
   "cell_type": "markdown",
   "id": "da213cf7",
   "metadata": {},
   "source": [
    "### Space Complexity"
   ]
  },
  {
   "cell_type": "markdown",
   "id": "ef4c8173",
   "metadata": {},
   "source": [
    "The space complexity is O(h), where h is the height of the binary tree. This is the maximum amount of space required by the call stack for the recursive calls."
   ]
  },
  {
   "cell_type": "markdown",
   "id": "6f6baf4f",
   "metadata": {},
   "source": [
    "# 28) Max Subset Sum No Adjacent"
   ]
  },
  {
   "cell_type": "markdown",
   "id": "c7e37a4b",
   "metadata": {},
   "source": [
    "### Question"
   ]
  },
  {
   "cell_type": "markdown",
   "id": "73b1645a",
   "metadata": {},
   "source": [
    "Write a function that takes in an array of positive integers and returns the maximum sum of non-adjacent elements in the array.\n",
    "If the input array is empty, the function should return 0.\n"
   ]
  },
  {
   "cell_type": "markdown",
   "id": "6c1ba18b",
   "metadata": {},
   "source": [
    "### Test Input"
   ]
  },
  {
   "cell_type": "code",
   "execution_count": 1,
   "id": "71cb1289",
   "metadata": {},
   "outputs": [],
   "source": [
    "#Sample Input\n",
    "array = [75, 105, 120, 75, 90, 135]\n",
    "#Sample Output\n",
    "#330 // 75 + 120 + 135"
   ]
  },
  {
   "cell_type": "markdown",
   "id": "6a2e9ad8",
   "metadata": {},
   "source": [
    "### Explanation"
   ]
  },
  {
   "cell_type": "markdown",
   "id": "a90b8c81",
   "metadata": {},
   "source": [
    "1. Underlying logic/intuition behind the solution:\n",
    "\n",
    "This approach optimizes space by using variables instead of an array to keep track of the maximum sums. It uses two variables, first and second, to keep track of the maximum sum including the previous element and the one before the previous element respectively.\n",
    "\n",
    "2. Step by step explanation with an example:\n",
    "\n",
    "For the given array [75, 105, 120, 75, 90, 135]:\n",
    "\n",
    "Initialize second as 75 and first as max(75, 105) = 105\n",
    "\n",
    "For index 2: current = max(105, 75+120) = 195. Update second to 105 and first to 195.\n",
    "\n",
    "For index 3: current = max(195, 105+75) = 195. Update second to 195 and first stays 195.\n",
    "\n",
    "For index 4: current = max(195, 195+90) = 285. Update second to 195 and first to 285.\n",
    "\n",
    "For index 5: current = max(285, 195+135) = 330. Update second to 285 and first to 330.\n",
    "\n",
    "Final answer is 330.\n"
   ]
  },
  {
   "cell_type": "markdown",
   "id": "1ea2d271",
   "metadata": {},
   "source": [
    "### Code"
   ]
  },
  {
   "cell_type": "code",
   "execution_count": 4,
   "id": "12fc87cb",
   "metadata": {},
   "outputs": [],
   "source": [
    "def maxSubsetSumNoAdjacent(array):\n",
    "    # If the array is empty, return 0.\n",
    "    if len(array) == 0:\n",
    "        return 0\n",
    "    # If there's only one element in the array, return that element.\n",
    "    elif len(array) == 1:\n",
    "        return array[0]\n",
    "    \n",
    "    # Initialize `second` with the first element and `first` with the maximum of first two elements.\n",
    "    second = array[0]\n",
    "    first = max(array[0], array[1])\n",
    "    \n",
    "    # Iterate from the third element\n",
    "    for i in range(2, len(array)):\n",
    "        # Calculate the current max sum including this element.\n",
    "        current = max(first, second + array[i])\n",
    "        # Update `second` with the value of `first` and `first` with the value of `current`.\n",
    "        second = first\n",
    "        first = current\n",
    "        \n",
    "    # The result will be stored in `first`.\n",
    "    return first\n"
   ]
  },
  {
   "cell_type": "markdown",
   "id": "e8980e3c",
   "metadata": {},
   "source": [
    "### Test Output"
   ]
  },
  {
   "cell_type": "code",
   "execution_count": 5,
   "id": "24fa5d14",
   "metadata": {},
   "outputs": [
    {
     "data": {
      "text/plain": [
       "330"
      ]
     },
     "execution_count": 5,
     "metadata": {},
     "output_type": "execute_result"
    }
   ],
   "source": [
    "maxSubsetSumNoAdjacent(array)"
   ]
  },
  {
   "cell_type": "markdown",
   "id": "cdce6e25",
   "metadata": {},
   "source": [
    "### Time Complexity"
   ]
  },
  {
   "cell_type": "markdown",
   "id": "447bd415",
   "metadata": {},
   "source": [
    "O(n), where n is the number of elements in the array. We iterate through the array once."
   ]
  },
  {
   "cell_type": "markdown",
   "id": "8c766ab4",
   "metadata": {},
   "source": [
    "### Space Complexity"
   ]
  },
  {
   "cell_type": "markdown",
   "id": "e9d852b6",
   "metadata": {},
   "source": [
    "O(1), because the space used is constant irrespective of the size of the input, thanks to the use of a few variables instead of a separate list."
   ]
  },
  {
   "cell_type": "markdown",
   "id": "44b8e882",
   "metadata": {},
   "source": [
    "# 29) Number of Ways to Make Change"
   ]
  },
  {
   "cell_type": "markdown",
   "id": "96b6a50a",
   "metadata": {},
   "source": [
    "### Question"
   ]
  },
  {
   "cell_type": "markdown",
   "id": "0c52e1dd",
   "metadata": {},
   "source": [
    "Given an array of distinct positive integers representing coin denominations and a single non-negative integer n representing a target amount of money, write a function that returns the number of ways to make change for that target amount using the given coin denominations.\n",
    "\n",
    "Note that an unlimited amount of coins is at your disposal.\n"
   ]
  },
  {
   "cell_type": "markdown",
   "id": "9d11e41c",
   "metadata": {},
   "source": [
    "### Test Input"
   ]
  },
  {
   "cell_type": "code",
   "execution_count": 7,
   "id": "ee050980",
   "metadata": {},
   "outputs": [],
   "source": [
    "#Sample Input\n",
    "n = 10\n",
    "denoms = [1, 5, 10, 25]\n",
    "#Sample Output\n",
    "#4"
   ]
  },
  {
   "cell_type": "markdown",
   "id": "a1351d70",
   "metadata": {},
   "source": []
  },
  {
   "cell_type": "markdown",
   "id": "5d2779ee",
   "metadata": {},
   "source": [
    "### Explanation"
   ]
  },
  {
   "cell_type": "markdown",
   "id": "06c4c945",
   "metadata": {},
   "source": [
    "Imagine you have a certain amount n and some coin denominations. You have an unlimited supply of each of your coin denominations. Your task is to determine the number of distinct ways you can arrange the coins to make up that amount.\n",
    "\n",
    "Let's use a dynamic programming approach. We will create a list ways of size (n + 1) that will store the number of ways to make up each amount from 0 to n.\n",
    "\n",
    "Initially, the number of ways to make up the amount 0 is 1 (using no coins). Thus, ways[0] = 1.\n",
    "\n",
    "Now, for each coin denomination, we will go through the ways list and update the number of ways to make up each amount using that coin.\n",
    "\n",
    "1. Initialize the list ways with size (n + 1) as all zeros, except for ways[0] which is 1.\n",
    "For n=6: ways = [1, 0, 0, 0, 0, 0, 0]\n",
    "\n",
    "2. Start with the smallest denomination, which is 1 in our example.\n",
    "\n",
    "For this denomination, every amount from 1 to n can be achieved by adding 1 multiple times.\n",
    "\n",
    "So, we update ways for every index by adding the value from the index minus the denomination.\n",
    "\n",
    "After processing denomination 1, ways becomes: [1, 1, 1, 1, 1, 1, 1]\n",
    "\n",
    "Move to the next denomination, which is 5.\n",
    "3. For amount 1 to 4, denomination 5 cannot be used because it's larger than these amounts.\n",
    "\n",
    "For amount 5, we can use one 5 coin, in addition to the previous ways (which is using five 1 coins). So, \n",
    "ways[5] becomes 2.\n",
    "\n",
    "For amount 6, we can use one 5 coin and one 1 coin, in addition to the previous ways (which is using six 1 coins). So, ways[6] becomes 2.\n",
    "\n",
    "After processing denomination 5, ways becomes: [1, 1, 1, 1, 1, 2, 2]\n",
    "\n",
    "4. The answer is in the last index of ways, which is 2."
   ]
  },
  {
   "cell_type": "markdown",
   "id": "d5c85a34",
   "metadata": {},
   "source": [
    "### Code"
   ]
  },
  {
   "cell_type": "code",
   "execution_count": 8,
   "id": "83ce7c1e",
   "metadata": {},
   "outputs": [],
   "source": [
    "def numberOfWaysToMakeChange(n, denoms):\n",
    "    ways = [0] * (n+1)\n",
    "    ways[0]=1\n",
    "    \n",
    "    for denom in denoms:\n",
    "        for amount in range(1, n+1):\n",
    "            if denom<=amount:\n",
    "                ways[amount]+=ways[amount-denom]\n",
    "    \n",
    "    return ways[n]"
   ]
  },
  {
   "cell_type": "markdown",
   "id": "b5d9ed23",
   "metadata": {},
   "source": [
    "### Test Output"
   ]
  },
  {
   "cell_type": "code",
   "execution_count": 9,
   "id": "1b516a61",
   "metadata": {},
   "outputs": [
    {
     "data": {
      "text/plain": [
       "4"
      ]
     },
     "execution_count": 9,
     "metadata": {},
     "output_type": "execute_result"
    }
   ],
   "source": [
    "numberOfWaysToMakeChange(n, denoms)"
   ]
  },
  {
   "cell_type": "markdown",
   "id": "dfc64153",
   "metadata": {},
   "source": [
    "### Time Complexity"
   ]
  },
  {
   "cell_type": "markdown",
   "id": "0555cc63",
   "metadata": {},
   "source": [
    "For each denomination, we iterate through all amounts up to n.\n",
    "\n",
    "If there are d denominations, the time complexity is O(nd)."
   ]
  },
  {
   "cell_type": "markdown",
   "id": "303c2c58",
   "metadata": {},
   "source": [
    "### Space Complexity"
   ]
  },
  {
   "cell_type": "markdown",
   "id": "960f2812",
   "metadata": {},
   "source": [
    "We only use an additional list of size n regardless of the number of denominations.\n",
    "\n",
    "Thus, space complexity is O(n)."
   ]
  },
  {
   "cell_type": "markdown",
   "id": "aa432946",
   "metadata": {},
   "source": [
    "# 30) Min Number of Coins for Change"
   ]
  },
  {
   "cell_type": "markdown",
   "id": "6aac93d2",
   "metadata": {},
   "source": [
    "### Question"
   ]
  },
  {
   "cell_type": "markdown",
   "id": "5f230da6",
   "metadata": {},
   "source": [
    "Given an array of positive integers representing coin denominations and a single non- negative integer n representing a target amount of money, write a function that returns the smallest number of coins needed to make change for (to sum up to) that target amount using the given coin denominations.\n",
    "\n",
    "Note that you have access to an unlimited amount of coins. In other words, if the denominations are [1, 5, 10], you have access to an unlimited amount of 1 s, 5 s, and 10 s.\n",
    "\n",
    "If it's impossible to make change for the target amount, return -1\n"
   ]
  },
  {
   "cell_type": "markdown",
   "id": "54ff07a6",
   "metadata": {},
   "source": [
    "### Test Input"
   ]
  },
  {
   "cell_type": "code",
   "execution_count": 10,
   "id": "d0db021f",
   "metadata": {},
   "outputs": [],
   "source": [
    "#Sample Input\n",
    "n = 7\n",
    "denoms = [1, 5, 10]\n",
    "#Sample Output\n",
    "#3 // 2x1 + 1x5"
   ]
  },
  {
   "cell_type": "markdown",
   "id": "be97c9c1",
   "metadata": {},
   "source": [
    "### Explanation"
   ]
  },
  {
   "cell_type": "markdown",
   "id": "9724f644",
   "metadata": {},
   "source": [
    "The idea is to use dynamic programming to build up a table (num_coins) where each entry at index i represents the minimum number of coins needed to make the amount i. For each denomination and for each amount up to n, you consider if you can use that denomination to make the amount in a way that requires fewer coins than previously found.\n",
    "\n",
    "For n=7 and denoms=[1,5,10]:\n",
    "\n",
    "Create num_coins table with size n+1 and initialize with inf. num_coins[0] is set to 0 because you need 0 coins to make the amount 0.\n",
    "\n",
    "Start iterating over each amount up to n.\n",
    "\n",
    "For each amount, iterate over each coin denomination.\n",
    "\n",
    "If the coin denomination is less than or equal to the current amount, you check if using that coin leads to a solution with fewer coins.\n",
    "\n",
    "Update num_coins with the minimum of the current value or 1 + num_coins[i - denom].\n",
    "\n",
    "Result for n=7 and denoms=[1,5,10]: num_coins will look like [0, 1, 2, 3, 4, 1, 2, 3], so the answer is 3 (2 coins of 1 + 1 coin of 5).\n",
    "\n"
   ]
  },
  {
   "cell_type": "markdown",
   "id": "7b751dd1",
   "metadata": {},
   "source": [
    "### Code"
   ]
  },
  {
   "cell_type": "code",
   "execution_count": 13,
   "id": "8f19aee3",
   "metadata": {},
   "outputs": [],
   "source": [
    "def minNumberOfCoinsForChange(n, denoms):\n",
    "    table = [float('inf') for _ in range(n+1)]\n",
    "    table[0] = 0\n",
    "    \n",
    "    for i in range(n+1): \n",
    "        for denom in denoms: \n",
    "            if denom<=i: \n",
    "                table[i] = min(table[i], table[i-denom]+1) \n",
    "                \n",
    "    return table[n] if table[n]!=float('inf') else -1\n"
   ]
  },
  {
   "cell_type": "markdown",
   "id": "02612f8e",
   "metadata": {},
   "source": [
    "### Test Output"
   ]
  },
  {
   "cell_type": "code",
   "execution_count": 14,
   "id": "eb0027f5",
   "metadata": {},
   "outputs": [
    {
     "data": {
      "text/plain": [
       "3"
      ]
     },
     "execution_count": 14,
     "metadata": {},
     "output_type": "execute_result"
    }
   ],
   "source": [
    "minNumberOfCoinsForChange(n, denoms)"
   ]
  },
  {
   "cell_type": "markdown",
   "id": "ad1588d8",
   "metadata": {},
   "source": [
    "### Time Complexity"
   ]
  },
  {
   "cell_type": "markdown",
   "id": "e7901a29",
   "metadata": {},
   "source": [
    "O(n×m) where n is the target amount and m is the number of coin denominations."
   ]
  },
  {
   "cell_type": "markdown",
   "id": "d9dc0bfd",
   "metadata": {},
   "source": [
    "### Space Complexity"
   ]
  },
  {
   "cell_type": "markdown",
   "id": "a705d0b5",
   "metadata": {},
   "source": [
    "O(n). This is because we only maintain a table of size n+1 to store the minimum coin counts."
   ]
  },
  {
   "cell_type": "markdown",
   "id": "369dc762",
   "metadata": {},
   "source": [
    "# 31) Levenshtein Distance"
   ]
  },
  {
   "cell_type": "markdown",
   "id": "0aa43532",
   "metadata": {},
   "source": [
    "### Question"
   ]
  },
  {
   "cell_type": "markdown",
   "id": "9edcf634",
   "metadata": {},
   "source": [
    "Write a function that takes in two strings and returns the minimum number of edit operations that need to be performed on the first string to obtain the second string.\n",
    "There are three edit operations: insertion of a character, deletion of a character, and substitution of a character for another.\n"
   ]
  },
  {
   "cell_type": "markdown",
   "id": "b903ebe0",
   "metadata": {},
   "source": [
    "### Test Input"
   ]
  },
  {
   "cell_type": "code",
   "execution_count": null,
   "id": "f8436fb4",
   "metadata": {},
   "outputs": [],
   "source": [
    "#Sample Input\n",
    "str1 = \"abc\"\n",
    "str2 = \"yabd\"\n",
    "#Sample Output\n",
    "#2 // insert \"y\"; substitute \"c\" for \"d\""
   ]
  },
  {
   "cell_type": "markdown",
   "id": "e26fda69",
   "metadata": {},
   "source": [
    "### Explanation"
   ]
  },
  {
   "cell_type": "markdown",
   "id": "4a0ed0f6",
   "metadata": {},
   "source": [
    "Instead of building the solution from top to bottom (from small problems to large), this approach starts by considering the entire strings and works its way backwards.\n",
    "\n",
    "The loops run in reverse order.\n",
    "The initialization for base cases is done differently. Instead of initializing the first row and column directly based on their index, it initializes based on the differences in lengths.\n",
    "\n",
    "For str1 = \"abc\" and str2 = \"yabd\":\n",
    "\n",
    "Initialize a 2D array cache of size (m+1) x (n+1) filled with inf.\n",
    "\n",
    "Initialize the last row of cache to represent the distance between a substring of str1 and an empty str2.\n",
    "\n",
    "Initialize the last column of cache to represent the distance between an empty str1 and a substring of str2.\n",
    "\n",
    "Starting from the last characters of str1 and str2, move backwards:\n",
    "\n",
    "If characters match, copy the diagonal value from cache.\n",
    "\n",
    "If not, choose the minimum value from the delete, insert, or substitute operation and add 1.\n",
    "\n",
    "cache[0][0] will have the final answer which is 2."
   ]
  },
  {
   "cell_type": "markdown",
   "id": "7aed6ae1",
   "metadata": {},
   "source": [
    "### Code"
   ]
  },
  {
   "cell_type": "code",
   "execution_count": null,
   "id": "25b7003a",
   "metadata": {},
   "outputs": [],
   "source": [
    "def editDistance(str1, str2):\n",
    "    "
   ]
  },
  {
   "cell_type": "markdown",
   "id": "8913272f",
   "metadata": {},
   "source": [
    "### Test Output"
   ]
  },
  {
   "cell_type": "code",
   "execution_count": null,
   "id": "ece215a1",
   "metadata": {},
   "outputs": [],
   "source": []
  },
  {
   "cell_type": "markdown",
   "id": "70f9f7b5",
   "metadata": {},
   "source": [
    "### Time Complexity"
   ]
  },
  {
   "cell_type": "markdown",
   "id": "8b34e266",
   "metadata": {},
   "source": [
    "O(m×n) where m and n are the lengths of str1 and str2 respectively. This is because we iterate over each character of both strings."
   ]
  },
  {
   "cell_type": "markdown",
   "id": "bbf6e31b",
   "metadata": {},
   "source": [
    "### Space Complexity"
   ]
  },
  {
   "cell_type": "markdown",
   "id": "356de9aa",
   "metadata": {},
   "source": [
    "O(m×n) due to the 2D cache array."
   ]
  },
  {
   "cell_type": "markdown",
   "id": "d0e7df81",
   "metadata": {},
   "source": [
    "# 32) Number of Ways to Traverse a Graph"
   ]
  },
  {
   "cell_type": "markdown",
   "id": "ef3f00a2",
   "metadata": {},
   "source": [
    "### Question"
   ]
  },
  {
   "cell_type": "markdown",
   "id": "fcff0d2a",
   "metadata": {},
   "source": [
    "You're given two positive integers representing the width and height of a grid-shaped, rectangular graph. Write a function that returns the number of ways to reach the bottom right corner of the graph when starting at the top left corner. Each move you take must either go down or right. In other words, you can never move up or left in the graph.\n",
    "\n",
    "Note: you may assume that width ⋆ height >= 2 . In other words, the graph will never be a 1x1 grid.\n"
   ]
  },
  {
   "cell_type": "markdown",
   "id": "83cefa25",
   "metadata": {},
   "source": [
    "### Test Input"
   ]
  },
  {
   "cell_type": "code",
   "execution_count": 2,
   "id": "c3d2cc16",
   "metadata": {},
   "outputs": [],
   "source": [
    "#Sample Input\n",
    "width = 4\n",
    "height = 3\n",
    "#Sample Output\n",
    "#10"
   ]
  },
  {
   "cell_type": "markdown",
   "id": "e45bd30a",
   "metadata": {},
   "source": [
    "### Explanation"
   ]
  },
  {
   "cell_type": "markdown",
   "id": "367eab9f",
   "metadata": {},
   "source": [
    "The fundamental idea here is dynamic programming. At each cell (i, j), the number of ways to get to this cell is the sum of the number of ways to get to the cell above it (i-1, j) and the number of ways to get to the cell to the left of it (i, j-1).\n",
    "\n",
    "Using a 3x3 grid (width = 3, height = 3) as an example:\n",
    "\n",
    "Start with a 4x4 grid of zeros (because of 1-indexing). The top-left cell is initialized to 1.\n",
    "\n",
    "Move through each cell:\n",
    "\n",
    "For each cell, the number of ways to reach it = ways from cell above + ways from cell to the left.\n",
    "\n",
    "E.g., for cell (2, 2), ways = (1,2) + (2,1) = 2 ways (right-down or down-right).\n",
    "\n",
    "Continue this process for every cell.\n",
    "\n",
    "The bottom-right cell (3, 3) will contain the total number of ways to traverse the grid."
   ]
  },
  {
   "cell_type": "markdown",
   "id": "64eb8433",
   "metadata": {},
   "source": [
    "### Code"
   ]
  },
  {
   "cell_type": "code",
   "execution_count": 1,
   "id": "787b9d23",
   "metadata": {},
   "outputs": [],
   "source": [
    "def numberOfWaysToTraverseGraph(width, height):\n",
    "    # Initialize a 2D grid with all zeros\n",
    "    graph = [[0]*(width+1) for _ in range(height+1)]\n",
    "    \n",
    "    # Starting point has 1 way (i.e., just starting, no movement)\n",
    "    graph[1][1] = 1\n",
    "\n",
    "    # Traverse each cell in the grid\n",
    "    for i in range(1, height+1):\n",
    "        for j in range(1, width+1):\n",
    "            # If not at the rightmost column, can move to the right\n",
    "            if j+1 <= width:\n",
    "                graph[i][j+1] += graph[i][j]\n",
    "                \n",
    "            # If not at the bottommost row, can move downwards\n",
    "            if i+1 <= height:\n",
    "                graph[i+1][j] += graph[i][j]\n",
    "    \n",
    "    # Return the number of ways to reach the bottom-right cell\n",
    "    return graph[height][width] \n"
   ]
  },
  {
   "cell_type": "markdown",
   "id": "1af05290",
   "metadata": {},
   "source": [
    "### Test Output"
   ]
  },
  {
   "cell_type": "code",
   "execution_count": 3,
   "id": "ee929cc1",
   "metadata": {},
   "outputs": [
    {
     "data": {
      "text/plain": [
       "10"
      ]
     },
     "execution_count": 3,
     "metadata": {},
     "output_type": "execute_result"
    }
   ],
   "source": [
    "numberOfWaysToTraverseGraph(width, height)"
   ]
  },
  {
   "cell_type": "markdown",
   "id": "e91d8c28",
   "metadata": {},
   "source": [
    "### Time Complexity"
   ]
  },
  {
   "cell_type": "markdown",
   "id": "bac3f22f",
   "metadata": {},
   "source": [
    "O(width×height). We have to fill out a 2D array of dimensions width x height."
   ]
  },
  {
   "cell_type": "markdown",
   "id": "20840142",
   "metadata": {},
   "source": [
    "### Space Complexity"
   ]
  },
  {
   "cell_type": "markdown",
   "id": "b77241d4",
   "metadata": {},
   "source": [
    "O(width×height) because of the 2D graph array."
   ]
  },
  {
   "cell_type": "markdown",
   "id": "4c029276",
   "metadata": {},
   "source": [
    "# 33) Kadane's Algorithm "
   ]
  },
  {
   "cell_type": "markdown",
   "id": "94fc8660",
   "metadata": {},
   "source": [
    "### Question"
   ]
  },
  {
   "cell_type": "markdown",
   "id": "1ca43bc5",
   "metadata": {},
   "source": []
  },
  {
   "cell_type": "markdown",
   "id": "20e4ee40",
   "metadata": {},
   "source": [
    "### Test Input"
   ]
  },
  {
   "cell_type": "code",
   "execution_count": null,
   "id": "070beaad",
   "metadata": {},
   "outputs": [],
   "source": []
  },
  {
   "cell_type": "markdown",
   "id": "4b2ea9a3",
   "metadata": {},
   "source": [
    "### Explanation"
   ]
  },
  {
   "cell_type": "markdown",
   "id": "7a5bea20",
   "metadata": {},
   "source": []
  },
  {
   "cell_type": "markdown",
   "id": "f39cca07",
   "metadata": {},
   "source": [
    "### Code"
   ]
  },
  {
   "cell_type": "code",
   "execution_count": null,
   "id": "7ad9c5f9",
   "metadata": {},
   "outputs": [],
   "source": []
  },
  {
   "cell_type": "markdown",
   "id": "741b415f",
   "metadata": {},
   "source": [
    "### Test Output"
   ]
  },
  {
   "cell_type": "code",
   "execution_count": null,
   "id": "f8c52a38",
   "metadata": {},
   "outputs": [],
   "source": []
  },
  {
   "cell_type": "markdown",
   "id": "abccb6c3",
   "metadata": {},
   "source": [
    "### Time Complexity"
   ]
  },
  {
   "cell_type": "markdown",
   "id": "5bd7a892",
   "metadata": {},
   "source": []
  },
  {
   "cell_type": "markdown",
   "id": "20859c69",
   "metadata": {},
   "source": [
    "### Space Complexity"
   ]
  },
  {
   "cell_type": "markdown",
   "id": "d6a5b99c",
   "metadata": {},
   "source": []
  },
  {
   "cell_type": "markdown",
   "id": "c23cd67d",
   "metadata": {},
   "source": [
    "# 34) Stable Internships"
   ]
  },
  {
   "cell_type": "markdown",
   "id": "4533ce21",
   "metadata": {},
   "source": [
    "### Question"
   ]
  },
  {
   "cell_type": "markdown",
   "id": "6e9e1187",
   "metadata": {},
   "source": []
  },
  {
   "cell_type": "markdown",
   "id": "810b5d89",
   "metadata": {},
   "source": [
    "### Test Input"
   ]
  },
  {
   "cell_type": "code",
   "execution_count": null,
   "id": "de3238a5",
   "metadata": {},
   "outputs": [],
   "source": []
  },
  {
   "cell_type": "markdown",
   "id": "dabdfa9e",
   "metadata": {},
   "source": [
    "### Explanation"
   ]
  },
  {
   "cell_type": "markdown",
   "id": "a9b9eb0d",
   "metadata": {},
   "source": []
  },
  {
   "cell_type": "markdown",
   "id": "1a3d5527",
   "metadata": {},
   "source": [
    "### Code"
   ]
  },
  {
   "cell_type": "code",
   "execution_count": null,
   "id": "ae08c3fc",
   "metadata": {},
   "outputs": [],
   "source": []
  },
  {
   "cell_type": "markdown",
   "id": "f9542e19",
   "metadata": {},
   "source": [
    "### Test Output"
   ]
  },
  {
   "cell_type": "code",
   "execution_count": null,
   "id": "ee021031",
   "metadata": {},
   "outputs": [],
   "source": []
  },
  {
   "cell_type": "markdown",
   "id": "0c08644b",
   "metadata": {},
   "source": [
    "### Time Complexity"
   ]
  },
  {
   "cell_type": "markdown",
   "id": "6b7b8cb5",
   "metadata": {},
   "source": []
  },
  {
   "cell_type": "markdown",
   "id": "9f709b27",
   "metadata": {},
   "source": [
    "### Space Complexity"
   ]
  },
  {
   "cell_type": "markdown",
   "id": "6b801ff7",
   "metadata": {},
   "source": []
  },
  {
   "cell_type": "markdown",
   "id": "1195e204",
   "metadata": {},
   "source": [
    "# 35) Union Find"
   ]
  },
  {
   "cell_type": "markdown",
   "id": "beb0996d",
   "metadata": {},
   "source": [
    "### Question"
   ]
  },
  {
   "cell_type": "markdown",
   "id": "5041aa83",
   "metadata": {},
   "source": []
  },
  {
   "cell_type": "markdown",
   "id": "1d598fde",
   "metadata": {},
   "source": [
    "### Test Input"
   ]
  },
  {
   "cell_type": "code",
   "execution_count": null,
   "id": "19873bc8",
   "metadata": {},
   "outputs": [],
   "source": []
  },
  {
   "cell_type": "markdown",
   "id": "8ae210e4",
   "metadata": {},
   "source": [
    "### Explanation"
   ]
  },
  {
   "cell_type": "markdown",
   "id": "30092eff",
   "metadata": {},
   "source": []
  },
  {
   "cell_type": "markdown",
   "id": "4b4c6f3d",
   "metadata": {},
   "source": [
    "### Code"
   ]
  },
  {
   "cell_type": "code",
   "execution_count": null,
   "id": "3310cc9e",
   "metadata": {},
   "outputs": [],
   "source": []
  },
  {
   "cell_type": "markdown",
   "id": "ed0086e5",
   "metadata": {},
   "source": [
    "### Test Output"
   ]
  },
  {
   "cell_type": "code",
   "execution_count": null,
   "id": "b1326e85",
   "metadata": {},
   "outputs": [],
   "source": []
  },
  {
   "cell_type": "markdown",
   "id": "f488472e",
   "metadata": {},
   "source": [
    "### Time Complexity"
   ]
  },
  {
   "cell_type": "markdown",
   "id": "245c9902",
   "metadata": {},
   "source": []
  },
  {
   "cell_type": "markdown",
   "id": "9e1ada2f",
   "metadata": {},
   "source": [
    "### Space Complexity"
   ]
  },
  {
   "cell_type": "markdown",
   "id": "3d98c721",
   "metadata": {},
   "source": []
  },
  {
   "cell_type": "markdown",
   "id": "24539c2f",
   "metadata": {},
   "source": [
    "# 36) Single Cycle Check"
   ]
  },
  {
   "cell_type": "markdown",
   "id": "09b312cf",
   "metadata": {},
   "source": [
    "### Question"
   ]
  },
  {
   "cell_type": "markdown",
   "id": "bb9e28ee",
   "metadata": {},
   "source": []
  },
  {
   "cell_type": "markdown",
   "id": "0e983397",
   "metadata": {},
   "source": [
    "### Test Input"
   ]
  },
  {
   "cell_type": "code",
   "execution_count": null,
   "id": "3122a189",
   "metadata": {},
   "outputs": [],
   "source": []
  },
  {
   "cell_type": "markdown",
   "id": "10aaa2f7",
   "metadata": {},
   "source": [
    "### Explanation"
   ]
  },
  {
   "cell_type": "markdown",
   "id": "ba9a6f35",
   "metadata": {},
   "source": []
  },
  {
   "cell_type": "markdown",
   "id": "f28b2a45",
   "metadata": {},
   "source": [
    "### Code"
   ]
  },
  {
   "cell_type": "code",
   "execution_count": null,
   "id": "2cddb599",
   "metadata": {},
   "outputs": [],
   "source": []
  },
  {
   "cell_type": "markdown",
   "id": "405c38df",
   "metadata": {},
   "source": [
    "### Test Output"
   ]
  },
  {
   "cell_type": "code",
   "execution_count": null,
   "id": "f034df78",
   "metadata": {},
   "outputs": [],
   "source": []
  },
  {
   "cell_type": "markdown",
   "id": "e0f2733a",
   "metadata": {},
   "source": [
    "### Time Complexity"
   ]
  },
  {
   "cell_type": "markdown",
   "id": "9ae7f88d",
   "metadata": {},
   "source": []
  },
  {
   "cell_type": "markdown",
   "id": "5682645e",
   "metadata": {},
   "source": [
    "### Space Complexity"
   ]
  },
  {
   "cell_type": "markdown",
   "id": "41641055",
   "metadata": {},
   "source": []
  },
  {
   "cell_type": "markdown",
   "id": "fab4cc97",
   "metadata": {},
   "source": [
    "# 37) Breadth-first Search"
   ]
  },
  {
   "cell_type": "markdown",
   "id": "17b07f0b",
   "metadata": {},
   "source": [
    "### Question"
   ]
  },
  {
   "cell_type": "markdown",
   "id": "85871207",
   "metadata": {},
   "source": []
  },
  {
   "cell_type": "markdown",
   "id": "2f7a7154",
   "metadata": {},
   "source": [
    "### Test Input"
   ]
  },
  {
   "cell_type": "code",
   "execution_count": null,
   "id": "17f0bf67",
   "metadata": {},
   "outputs": [],
   "source": []
  },
  {
   "cell_type": "markdown",
   "id": "04d565f0",
   "metadata": {},
   "source": [
    "### Explanation"
   ]
  },
  {
   "cell_type": "markdown",
   "id": "12c5aa22",
   "metadata": {},
   "source": []
  },
  {
   "cell_type": "markdown",
   "id": "de30a9ee",
   "metadata": {},
   "source": [
    "### Code"
   ]
  },
  {
   "cell_type": "code",
   "execution_count": null,
   "id": "e2811cae",
   "metadata": {},
   "outputs": [],
   "source": []
  },
  {
   "cell_type": "markdown",
   "id": "41e8a69a",
   "metadata": {},
   "source": [
    "### Test Output"
   ]
  },
  {
   "cell_type": "code",
   "execution_count": null,
   "id": "d0d6f359",
   "metadata": {},
   "outputs": [],
   "source": []
  },
  {
   "cell_type": "markdown",
   "id": "4b2cbd7e",
   "metadata": {},
   "source": [
    "### Time Complexity"
   ]
  },
  {
   "cell_type": "markdown",
   "id": "0cff398a",
   "metadata": {},
   "source": []
  },
  {
   "cell_type": "markdown",
   "id": "cf05e52d",
   "metadata": {},
   "source": [
    "### Space Complexity"
   ]
  },
  {
   "cell_type": "markdown",
   "id": "04de4964",
   "metadata": {},
   "source": []
  },
  {
   "cell_type": "markdown",
   "id": "1fba6770",
   "metadata": {},
   "source": [
    "# 38) River Sizes"
   ]
  },
  {
   "cell_type": "markdown",
   "id": "fae74fae",
   "metadata": {},
   "source": [
    "### Question"
   ]
  },
  {
   "cell_type": "markdown",
   "id": "c5e8027c",
   "metadata": {},
   "source": []
  },
  {
   "cell_type": "markdown",
   "id": "81195ccf",
   "metadata": {},
   "source": [
    "### Test Input"
   ]
  },
  {
   "cell_type": "code",
   "execution_count": null,
   "id": "74a5ccd6",
   "metadata": {},
   "outputs": [],
   "source": []
  },
  {
   "cell_type": "markdown",
   "id": "350299a0",
   "metadata": {},
   "source": [
    "### Explanation"
   ]
  },
  {
   "cell_type": "markdown",
   "id": "c02ac01d",
   "metadata": {},
   "source": []
  },
  {
   "cell_type": "markdown",
   "id": "40f4a74a",
   "metadata": {},
   "source": [
    "### Code"
   ]
  },
  {
   "cell_type": "code",
   "execution_count": null,
   "id": "79a9fdf2",
   "metadata": {},
   "outputs": [],
   "source": []
  },
  {
   "cell_type": "markdown",
   "id": "4e9e743e",
   "metadata": {},
   "source": [
    "### Test Output"
   ]
  },
  {
   "cell_type": "code",
   "execution_count": null,
   "id": "aac7bf48",
   "metadata": {},
   "outputs": [],
   "source": []
  },
  {
   "cell_type": "markdown",
   "id": "5fcd3d0f",
   "metadata": {},
   "source": [
    "### Time Complexity"
   ]
  },
  {
   "cell_type": "markdown",
   "id": "b0a526a0",
   "metadata": {},
   "source": []
  },
  {
   "cell_type": "markdown",
   "id": "924f724e",
   "metadata": {},
   "source": [
    "### Space Complexity"
   ]
  },
  {
   "cell_type": "markdown",
   "id": "56b711fc",
   "metadata": {},
   "source": []
  },
  {
   "cell_type": "markdown",
   "id": "04b77c68",
   "metadata": {},
   "source": [
    "# 39)Youngest Common Ancestor"
   ]
  },
  {
   "cell_type": "markdown",
   "id": "8061b988",
   "metadata": {},
   "source": [
    "### Question"
   ]
  },
  {
   "cell_type": "markdown",
   "id": "0922379a",
   "metadata": {},
   "source": []
  },
  {
   "cell_type": "markdown",
   "id": "44d45eb9",
   "metadata": {},
   "source": [
    "### Test Input"
   ]
  },
  {
   "cell_type": "code",
   "execution_count": null,
   "id": "ab0f78fc",
   "metadata": {},
   "outputs": [],
   "source": []
  },
  {
   "cell_type": "markdown",
   "id": "df2bbdee",
   "metadata": {},
   "source": [
    "### Explanation"
   ]
  },
  {
   "cell_type": "markdown",
   "id": "8e772bfd",
   "metadata": {},
   "source": []
  },
  {
   "cell_type": "markdown",
   "id": "07f90c1c",
   "metadata": {},
   "source": [
    "### Code"
   ]
  },
  {
   "cell_type": "code",
   "execution_count": null,
   "id": "0ba5e234",
   "metadata": {},
   "outputs": [],
   "source": []
  },
  {
   "cell_type": "markdown",
   "id": "61818cf1",
   "metadata": {},
   "source": [
    "### Test Output"
   ]
  },
  {
   "cell_type": "code",
   "execution_count": null,
   "id": "0d90e388",
   "metadata": {},
   "outputs": [],
   "source": []
  },
  {
   "cell_type": "markdown",
   "id": "6a1264f8",
   "metadata": {},
   "source": [
    "### Time Complexity"
   ]
  },
  {
   "cell_type": "markdown",
   "id": "0fc69ea0",
   "metadata": {},
   "source": []
  },
  {
   "cell_type": "markdown",
   "id": "c8e6a099",
   "metadata": {},
   "source": [
    "### Space Complexity"
   ]
  },
  {
   "cell_type": "markdown",
   "id": "1789f580",
   "metadata": {},
   "source": []
  },
  {
   "cell_type": "markdown",
   "id": "0d7b2ae3",
   "metadata": {},
   "source": [
    "# 40) Remove Islands"
   ]
  },
  {
   "cell_type": "markdown",
   "id": "466ccee2",
   "metadata": {},
   "source": [
    "### Question"
   ]
  },
  {
   "cell_type": "markdown",
   "id": "7bd3da30",
   "metadata": {},
   "source": []
  },
  {
   "cell_type": "markdown",
   "id": "4ebf540f",
   "metadata": {},
   "source": [
    "### Test Input"
   ]
  },
  {
   "cell_type": "code",
   "execution_count": null,
   "id": "4738f418",
   "metadata": {},
   "outputs": [],
   "source": []
  },
  {
   "cell_type": "markdown",
   "id": "e4386b02",
   "metadata": {},
   "source": [
    "### Explanation"
   ]
  },
  {
   "cell_type": "markdown",
   "id": "6880eb45",
   "metadata": {},
   "source": []
  },
  {
   "cell_type": "markdown",
   "id": "a9c96ad2",
   "metadata": {},
   "source": [
    "### Code"
   ]
  },
  {
   "cell_type": "code",
   "execution_count": null,
   "id": "ef734ea6",
   "metadata": {},
   "outputs": [],
   "source": []
  },
  {
   "cell_type": "markdown",
   "id": "83d5fdfe",
   "metadata": {},
   "source": [
    "### Test Output"
   ]
  },
  {
   "cell_type": "code",
   "execution_count": null,
   "id": "a71feda3",
   "metadata": {},
   "outputs": [],
   "source": []
  },
  {
   "cell_type": "markdown",
   "id": "bd29cc0d",
   "metadata": {},
   "source": [
    "### Time Complexity"
   ]
  },
  {
   "cell_type": "markdown",
   "id": "e3458e50",
   "metadata": {},
   "source": []
  },
  {
   "cell_type": "markdown",
   "id": "2c70c1f0",
   "metadata": {},
   "source": [
    "### Space Complexity"
   ]
  },
  {
   "cell_type": "markdown",
   "id": "79314944",
   "metadata": {},
   "source": []
  },
  {
   "cell_type": "markdown",
   "id": "2f11fa03",
   "metadata": {},
   "source": [
    "# 41)Cycle In Graph"
   ]
  },
  {
   "cell_type": "markdown",
   "id": "5410825d",
   "metadata": {},
   "source": [
    "### Question"
   ]
  },
  {
   "cell_type": "markdown",
   "id": "e624c9af",
   "metadata": {},
   "source": []
  },
  {
   "cell_type": "markdown",
   "id": "4db344f4",
   "metadata": {},
   "source": [
    "### Test Input"
   ]
  },
  {
   "cell_type": "code",
   "execution_count": null,
   "id": "d675e7ea",
   "metadata": {},
   "outputs": [],
   "source": []
  },
  {
   "cell_type": "markdown",
   "id": "02716733",
   "metadata": {},
   "source": [
    "### Explanation"
   ]
  },
  {
   "cell_type": "markdown",
   "id": "ecafb58e",
   "metadata": {},
   "source": []
  },
  {
   "cell_type": "markdown",
   "id": "cf1424cd",
   "metadata": {},
   "source": [
    "### Code"
   ]
  },
  {
   "cell_type": "code",
   "execution_count": null,
   "id": "eb37bf7c",
   "metadata": {},
   "outputs": [],
   "source": []
  },
  {
   "cell_type": "markdown",
   "id": "4dc1bcff",
   "metadata": {},
   "source": [
    "### Test Output"
   ]
  },
  {
   "cell_type": "code",
   "execution_count": null,
   "id": "0d52033d",
   "metadata": {},
   "outputs": [],
   "source": []
  },
  {
   "cell_type": "markdown",
   "id": "c1297690",
   "metadata": {},
   "source": [
    "### Time Complexity"
   ]
  },
  {
   "cell_type": "markdown",
   "id": "b884e4e4",
   "metadata": {},
   "source": []
  },
  {
   "cell_type": "markdown",
   "id": "1cbbfdb4",
   "metadata": {},
   "source": [
    "### Space Complexity"
   ]
  },
  {
   "cell_type": "markdown",
   "id": "ed1ecb71",
   "metadata": {},
   "source": []
  },
  {
   "cell_type": "markdown",
   "id": "773ee89d",
   "metadata": {},
   "source": [
    "# 42) Minimum Passes Of Matrix"
   ]
  },
  {
   "cell_type": "markdown",
   "id": "0629bc63",
   "metadata": {},
   "source": [
    "### Question"
   ]
  },
  {
   "cell_type": "markdown",
   "id": "5ea10604",
   "metadata": {},
   "source": []
  },
  {
   "cell_type": "markdown",
   "id": "0d840146",
   "metadata": {},
   "source": [
    "### Test Input"
   ]
  },
  {
   "cell_type": "code",
   "execution_count": null,
   "id": "5db49389",
   "metadata": {},
   "outputs": [],
   "source": []
  },
  {
   "cell_type": "markdown",
   "id": "9c1c2832",
   "metadata": {},
   "source": [
    "### Explanation"
   ]
  },
  {
   "cell_type": "markdown",
   "id": "d92510a2",
   "metadata": {},
   "source": []
  },
  {
   "cell_type": "markdown",
   "id": "d8e42165",
   "metadata": {},
   "source": [
    "### Code"
   ]
  },
  {
   "cell_type": "code",
   "execution_count": null,
   "id": "cc76ec5b",
   "metadata": {},
   "outputs": [],
   "source": []
  },
  {
   "cell_type": "markdown",
   "id": "d4332e91",
   "metadata": {},
   "source": [
    "### Test Output"
   ]
  },
  {
   "cell_type": "code",
   "execution_count": null,
   "id": "35ebad6f",
   "metadata": {},
   "outputs": [],
   "source": []
  },
  {
   "cell_type": "markdown",
   "id": "4ac9ef9a",
   "metadata": {},
   "source": [
    "### Time Complexity"
   ]
  },
  {
   "cell_type": "markdown",
   "id": "2d4342aa",
   "metadata": {},
   "source": []
  },
  {
   "cell_type": "markdown",
   "id": "a3a5f659",
   "metadata": {},
   "source": [
    "### Space Complexity"
   ]
  },
  {
   "cell_type": "markdown",
   "id": "08f92448",
   "metadata": {},
   "source": []
  },
  {
   "cell_type": "markdown",
   "id": "2016aed0",
   "metadata": {},
   "source": [
    "# 43) Two-Colorable"
   ]
  },
  {
   "cell_type": "markdown",
   "id": "696e4eef",
   "metadata": {},
   "source": [
    "### Question"
   ]
  },
  {
   "cell_type": "markdown",
   "id": "cdf2241e",
   "metadata": {},
   "source": []
  },
  {
   "cell_type": "markdown",
   "id": "10e318c7",
   "metadata": {},
   "source": [
    "### Test Input"
   ]
  },
  {
   "cell_type": "code",
   "execution_count": null,
   "id": "a6260c43",
   "metadata": {},
   "outputs": [],
   "source": []
  },
  {
   "cell_type": "markdown",
   "id": "68f758ba",
   "metadata": {},
   "source": [
    "### Explanation"
   ]
  },
  {
   "cell_type": "markdown",
   "id": "7c2923bd",
   "metadata": {},
   "source": []
  },
  {
   "cell_type": "markdown",
   "id": "e4328a3d",
   "metadata": {},
   "source": [
    "### Code"
   ]
  },
  {
   "cell_type": "code",
   "execution_count": null,
   "id": "9a7b6acf",
   "metadata": {},
   "outputs": [],
   "source": []
  },
  {
   "cell_type": "markdown",
   "id": "14b01137",
   "metadata": {},
   "source": [
    "### Test Output"
   ]
  },
  {
   "cell_type": "code",
   "execution_count": null,
   "id": "d914f231",
   "metadata": {},
   "outputs": [],
   "source": []
  },
  {
   "cell_type": "markdown",
   "id": "8fc07b46",
   "metadata": {},
   "source": [
    "### Time Complexity"
   ]
  },
  {
   "cell_type": "markdown",
   "id": "5e2c3dc2",
   "metadata": {},
   "source": []
  },
  {
   "cell_type": "markdown",
   "id": "57fc7617",
   "metadata": {},
   "source": [
    "### Space Complexity"
   ]
  },
  {
   "cell_type": "markdown",
   "id": "d6584b76",
   "metadata": {},
   "source": []
  },
  {
   "cell_type": "markdown",
   "id": "09442a6c",
   "metadata": {},
   "source": [
    "# 44) Task Assignment"
   ]
  },
  {
   "cell_type": "markdown",
   "id": "32750e92",
   "metadata": {},
   "source": [
    "### Question"
   ]
  },
  {
   "cell_type": "markdown",
   "id": "03bd2347",
   "metadata": {},
   "source": [
    "You're given an integer k representing a number of workers and an array of positive integers representing durations of tasks that must be completed by the workers. Specifically, each worker must complete two unique tasks and can only work on one task at a time. The number of tasks will always be equal to 2k such that each worker always has exactly two tasks to complete. All tasks are independent of one another and can be completed in any order. Workers will complete their assigned tasks in parallel, and the time taken to complete all tasks will be equal to the time taken to complete the longest pair of tasks (see the sample output for an explanation).\n",
    "\n",
    "Write a function that returns the optimal assignment of tasks to each worker such that the tasks are completed as fast as possible. Your function should return a list of pairs, where each pair stores the indices of the tasks that should be completed by one worker. The pairs should be in the following format: [task1, task2], where the order of task1 and task2 doesn't matter. Your function can return the pairs in any order. If multiple optimal assignments exist, any correct answer will be accepted.\n",
    "\n",
    "Note: you'll always be given at least one worker (i.e., k will always be greater than 0).\n"
   ]
  },
  {
   "cell_type": "markdown",
   "id": "76d2b5fe",
   "metadata": {},
   "source": [
    "### Test Input"
   ]
  },
  {
   "cell_type": "code",
   "execution_count": 68,
   "id": "f8b44867",
   "metadata": {},
   "outputs": [],
   "source": [
    "#Sample Input\n",
    "k = 3\n",
    "tasks = [1, 3, 5, 3, 1, 4]\n",
    "\n",
    "#Sample Output\n",
    "#The fastest time to complete all tasks is 6.\n",
    "#Note: there are multiple correct answers for this sample input."
   ]
  },
  {
   "cell_type": "markdown",
   "id": "007c2822",
   "metadata": {},
   "source": [
    "### Explanation"
   ]
  },
  {
   "cell_type": "markdown",
   "id": "16593bcc",
   "metadata": {},
   "source": [
    "The problem can be solved by using a two-pointer technique and sorting. We can sort the array in increasing order and create the pairs of tasks such that one task is the smallest unpaired task and the other one is the largest unpaired task. This ensures that the workers are always working on the tasks with the least total duration possible.\n",
    "\n",
    "For each worker, we're assigning a pair of tasks where one of them is the task with the least duration that has not been paired yet and the other is the task with the most duration that hasn't been paired yet.\n",
    "\n",
    "Example:\n",
    "\n",
    "Input:\n",
    "k = 3, tasks = [1, 3, 5, 3, 1, 4]\n",
    "Output:\n",
    "[[0, 5], [1, 4], [2, 3]]\n",
    "\n",
    "Explanation:\n",
    "The optimal assignment of tasks is as follows:\n",
    "\n",
    "Worker 1 should work on tasks 1 and 6, which take 1 and 4 units of time, respectively.\n",
    "Worker 2 should work on tasks 2 and 5, which take 3 and 1 units of time, respectively.\n",
    "Worker 3 should work on tasks 3 and 4, which take 5 and 3 units of time, respectively.\n",
    "The tasks are completed in 5 units of time, which is the minimum possible time to complete all tasks."
   ]
  },
  {
   "cell_type": "markdown",
   "id": "e516a16e",
   "metadata": {},
   "source": [
    "### Code"
   ]
  },
  {
   "cell_type": "code",
   "execution_count": 73,
   "id": "3009b963",
   "metadata": {},
   "outputs": [],
   "source": [
    "def taskAssignment(k, tasks):\n",
    "    tasks = sorted((t,i) for i, t in enumerate(tasks))\n",
    "    pairs=[]\n",
    "    for i in range(k):\n",
    "        pairs.append([tasks[i][1],tasks[-i][1]])\n",
    "    return pairs \n"
   ]
  },
  {
   "cell_type": "markdown",
   "id": "b901cec1",
   "metadata": {},
   "source": [
    "### Test Output"
   ]
  },
  {
   "cell_type": "code",
   "execution_count": 74,
   "id": "791dbcbe",
   "metadata": {},
   "outputs": [
    {
     "data": {
      "text/plain": [
       "[[0, 0], [4, 2], [1, 5]]"
      ]
     },
     "execution_count": 74,
     "metadata": {},
     "output_type": "execute_result"
    }
   ],
   "source": [
    "taskAssignment(k, tasks)"
   ]
  },
  {
   "cell_type": "markdown",
   "id": "48148652",
   "metadata": {},
   "source": [
    "### Time Complexity"
   ]
  },
  {
   "cell_type": "markdown",
   "id": "3872d06c",
   "metadata": {},
   "source": [
    "This solution has a time complexity of O(n log n) due to the sorting operation."
   ]
  },
  {
   "cell_type": "markdown",
   "id": "159b4344",
   "metadata": {},
   "source": [
    "### Space Complexity"
   ]
  },
  {
   "cell_type": "markdown",
   "id": "3dfda812",
   "metadata": {},
   "source": [
    "It has a space complexity of O(n) for storing the task pairs, where n is the number of tasks."
   ]
  },
  {
   "cell_type": "markdown",
   "id": "507bbffb",
   "metadata": {},
   "source": [
    "# 45) Valid Starting City"
   ]
  },
  {
   "cell_type": "markdown",
   "id": "8e86e51e",
   "metadata": {},
   "source": [
    "### Question"
   ]
  },
  {
   "cell_type": "markdown",
   "id": "d445f27f",
   "metadata": {},
   "source": [
    "Imagine you have a set of cities that are laid out in a circle, connected by a circular road that runs clockwise. Each city has a gas station that provides gallons of fuel, and each city is some distance away from the next city.\n",
    "\n",
    "You have a car that can drive some number of miles per gallon of fuel, and your goal is to pick a starting city such that you can fill up your car with that city's fuel, drive to the next city, refill up your car with that city's fuel, drive to the next city, and so on and so forth until you return back to the starting city with 0 or more gallons of fuel left.\n",
    "\n",
    "This city is called a valid starting city, and it's guaranteed that there will always be exactly one valid starting city. For the actual problem, you'll be given an array of distances such that city i is distances [i] away from city i + 1. Since the cities are connected via a circular road, the last city is connected to the first city. In other words, the last distance in the distances array is equal to the distance from the last city to the first city. You'll also be given an array of fuel available at each city, where fuel[i] is equal to the fuel available at city i. The total amount of fuel available (from all cities combined) is exactly enough to travel to all cities. Your fuel tank always starts out empty, and you're given a positive integer value for the number of miles that your car can travel per gallon of fuel (miles per gallon, or MPG). You can assume that you will always be given at least two cities.\n",
    "\n",
    "Write a function that returns the index of the valid starting city.\n",
    "\n"
   ]
  },
  {
   "cell_type": "markdown",
   "id": "5e336bfb",
   "metadata": {},
   "source": [
    "### Test Input"
   ]
  },
  {
   "cell_type": "code",
   "execution_count": 69,
   "id": "59f5d9be",
   "metadata": {},
   "outputs": [],
   "source": [
    "#Sample Input\n",
    "distances = [5, 25, 15, 10, 15]\n",
    "fuel = [1, 2, 1, 0, 3]\n",
    "mpg = 10\n",
    "#Sample Output\n",
    "#4"
   ]
  },
  {
   "cell_type": "markdown",
   "id": "e6993532",
   "metadata": {},
   "source": [
    "### Explanation"
   ]
  },
  {
   "cell_type": "markdown",
   "id": "f75c4bb2",
   "metadata": {},
   "source": [
    "The condition if remainingFuel < minRemainingFuel: helps us to find the point where the remaining fuel is at its minimum throughout the journey. This minimum point represents the \"tightest\" point in the trip where we had the least fuel surplus.\n",
    "\n",
    "If we can survive that tightest point (i.e., our fuel didn't run out at that point), it means we can survive any other point because, at any other point, we have more fuel surplus. The remaining fuel at any point is computed based on the assumption that we started from city 0, but if we start from the city just after the tightest point, we will never hit a point with less fuel.\n",
    "\n",
    "For instance, consider a scenario where we're on a circular path, and we started tracking our fuel from a certain arbitrary point. Suppose we noticed that at some point, our fuel dropped drastically to almost empty but didn't run out. However, just after that point, there's a city with a lot of fuel, so our fuel went up again. If we had started our journey from the city just after this \"dangerous\" point, we'd never encounter a situation where we're almost out of fuel, because by the time we reach this city (on our next round), we would have a lot of fuel.\n",
    "\n",
    "So, that's the reason behind choosing the starting city as the one after the city where we have the least amount of fuel (minRemainingFuel). This ensures that we always have enough fuel to reach the next city. It's a strategy to avoid the part of the journey where fuel is most scarce."
   ]
  },
  {
   "cell_type": "markdown",
   "id": "9cdb10f7",
   "metadata": {},
   "source": [
    "### Code"
   ]
  },
  {
   "cell_type": "code",
   "execution_count": 75,
   "id": "052a1f8e",
   "metadata": {},
   "outputs": [
    {
     "data": {
      "text/plain": [
       "2"
      ]
     },
     "execution_count": 75,
     "metadata": {},
     "output_type": "execute_result"
    }
   ],
   "source": [
    "7 % 5"
   ]
  },
  {
   "cell_type": "markdown",
   "id": "1bd9a4cd",
   "metadata": {},
   "source": [
    "### Test Output"
   ]
  },
  {
   "cell_type": "code",
   "execution_count": null,
   "id": "3839df58",
   "metadata": {},
   "outputs": [],
   "source": []
  },
  {
   "cell_type": "markdown",
   "id": "1363bd78",
   "metadata": {},
   "source": [
    "### Time Complexity"
   ]
  },
  {
   "cell_type": "markdown",
   "id": "184722b2",
   "metadata": {},
   "source": []
  },
  {
   "cell_type": "markdown",
   "id": "dffa8b17",
   "metadata": {},
   "source": [
    "### Space Complexity"
   ]
  },
  {
   "cell_type": "markdown",
   "id": "5145d0b8",
   "metadata": {},
   "source": []
  },
  {
   "cell_type": "markdown",
   "id": "2bfbee56",
   "metadata": {},
   "source": [
    "# 46) Min Heap Construction"
   ]
  },
  {
   "cell_type": "markdown",
   "id": "9c206a67",
   "metadata": {},
   "source": [
    "### Question"
   ]
  },
  {
   "cell_type": "markdown",
   "id": "5fb5cc32",
   "metadata": {},
   "source": [
    "Implement a MinHeap class that supports:\n",
    "\n",
    "•Building a Min Heap from an input array of integers. Inserting integers in the heap.\n",
    "\n",
    "• Removing the heap's minimum / root value.\n",
    "\n",
    "• Peeking at the heap's minimum / root value.\n",
    "\n",
    "Sifting integers up and down the heap, which is to be used when inserting and removing values.\n",
    "\n",
    "Note that the heap should be represented in the form of an array.\n",
    "\n"
   ]
  },
  {
   "cell_type": "markdown",
   "id": "09326051",
   "metadata": {},
   "source": [
    "### Test Input"
   ]
  },
  {
   "cell_type": "code",
   "execution_count": null,
   "id": "6700609c",
   "metadata": {},
   "outputs": [],
   "source": [
    "#Sample Usage\n",
    "array = [48, 12, 24, 7, 8, -5, 24, 391, 24, 56, 2, 6, 8, 41]\n",
    "#// All operations below are performed sequentially.\n",
    "#MinHeap (array): - // instantiate a MinHeap (calls the buildHeap method and populates the heap) buildHeap(array):\n",
    "#[-5, 2, 6, 7, 8, 8, 24, 391, 24, 56, 12, 24, 48, 41]\n",
    "#insert(76): \n",
    "#peek(): -5\n",
    "#[-5, 2, 6, 7, 8, 8, 24, 391, 24, 56, 12, 24, 48, 41, 76]\n",
    "#remove(): -5 \n",
    "#[2, 7, 6, 24, 8, 8, 24, 391, 76, 56, 12, 24, 48, 41] \n",
    "#peek(): 2\n",
    "#remove(): 2 [6, 7, 8, 24, 8, 24, 24, 391, 76, 56, 12, 41, 48] \n",
    "#peek(): 6 \n",
    "#insert(87):\n",
    "#[6, 7, 8, 24, 8, 24, 24, 391, 76, 56, 12, 41, 48, 87]"
   ]
  },
  {
   "cell_type": "markdown",
   "id": "5ab5bcce",
   "metadata": {},
   "source": [
    "### Explanation"
   ]
  },
  {
   "cell_type": "markdown",
   "id": "85a97458",
   "metadata": {},
   "source": []
  },
  {
   "cell_type": "markdown",
   "id": "3281b960",
   "metadata": {},
   "source": [
    "### Code"
   ]
  },
  {
   "cell_type": "code",
   "execution_count": null,
   "id": "1a14f7d6",
   "metadata": {},
   "outputs": [],
   "source": []
  },
  {
   "cell_type": "markdown",
   "id": "a944bf3e",
   "metadata": {},
   "source": [
    "### Test Output"
   ]
  },
  {
   "cell_type": "code",
   "execution_count": null,
   "id": "6864040f",
   "metadata": {},
   "outputs": [],
   "source": [
    "insert(76): \n",
    "peek(): -5\n",
    "remove(): -5\n",
    "peek(): 2\n",
    "remove(): 2 \n",
    "peek(): 6 \n",
    "insert(87):\n",
    "#[6, 7, 8, 24, 8, 24, 24, 391, 76, 56, 12, 41, 48, 87]"
   ]
  },
  {
   "cell_type": "markdown",
   "id": "57558cea",
   "metadata": {},
   "source": [
    "### Time Complexity"
   ]
  },
  {
   "cell_type": "markdown",
   "id": "a1fa9ad3",
   "metadata": {},
   "source": []
  },
  {
   "cell_type": "markdown",
   "id": "2ab94b5e",
   "metadata": {},
   "source": [
    "### Space Complexity"
   ]
  },
  {
   "cell_type": "markdown",
   "id": "278ed9cc",
   "metadata": {},
   "source": []
  },
  {
   "cell_type": "markdown",
   "id": "9d929ed8",
   "metadata": {},
   "source": [
    "# 47) Linked List Construction"
   ]
  },
  {
   "cell_type": "markdown",
   "id": "31748cdf",
   "metadata": {},
   "source": [
    "### Question"
   ]
  },
  {
   "cell_type": "markdown",
   "id": "3472e095",
   "metadata": {},
   "source": [
    "Write a DoublyLinkedList class that has a head and a tail, both of which point to either a linked list Node or None / null. The class should support:\n",
    "\n",
    "• Setting the head and tail of the linked list.\n",
    "\n",
    "• Inserting nodes before and after other nodes as well as at given positions (the position of the head node is 1).\n",
    "\n",
    "• Removing given nodes and removing nodes with given values.\n",
    "\n",
    "• Searching for nodes with given values.\n",
    "\n",
    "Note that the setHead, setTail, insertBefore, insertAfter, insertAtPosition, and remove methods all take in actual Node s as input parameters—not integers (except for  insertAtPosition, which also takes in an integer representing the position); this means that you don't need to create any new Node s in these methods. The input nodes can be either stand-alone nodes or nodes that are already in the linked list. If they're nodes that are already in the linked list, the methods will effectively be moving the nodes within the linked list. You won't be told if the input nodes are already in the linked list, so your code will have to defensively handle this scenario.\n",
    "\n",
    "If you're doing this problem in an untyped language like Python or JavaScript, you may want to look at the various function signatures in a typed language like Java or TypeScript to get a better idea of what each input parameter is.\n",
    "\n",
    "Each Node has an integer value as well as a prev node and a next node, both of which can point to either another node or None / null."
   ]
  },
  {
   "cell_type": "markdown",
   "id": "25551433",
   "metadata": {},
   "source": [
    "### Test Input"
   ]
  },
  {
   "cell_type": "code",
   "execution_count": null,
   "id": "320b37e3",
   "metadata": {},
   "outputs": [],
   "source": []
  },
  {
   "cell_type": "markdown",
   "id": "fa453563",
   "metadata": {},
   "source": [
    "### Explanation"
   ]
  },
  {
   "cell_type": "markdown",
   "id": "da7b7c21",
   "metadata": {},
   "source": []
  },
  {
   "cell_type": "markdown",
   "id": "9a48983b",
   "metadata": {},
   "source": [
    "### Code"
   ]
  },
  {
   "cell_type": "code",
   "execution_count": 76,
   "id": "1baf3d46",
   "metadata": {},
   "outputs": [],
   "source": [
    "# This is an input class. Do not edit.\n",
    "class Node:\n",
    "    def __init__(self, value):\n",
    "        self.value = value\n",
    "        self.prev = None\n",
    "        self.next = None\n",
    "\n",
    "\n",
    "# Feel free to add new properties and methods to the class.\n",
    "class DoublyLinkedList:\n",
    "    def __init__(self):\n",
    "        self.head = None\n",
    "        self.tail = None\n",
    "\n",
    "    def setHead(self, node):\n",
    "        if self.head is None:\n",
    "            self.head = node\n",
    "            self.tail = node\n",
    "            return\n",
    "        self.insertBefore(self.head, node)\n",
    "\n",
    "    def setTail(self, node):\n",
    "        if self.tail is None:\n",
    "            self.setHead(node)\n",
    "            return\n",
    "        self.insertAfter(self.tail, node) \n",
    "\n",
    "    def insertBefore(self, node, nodeToInsert):\n",
    "        if nodeToInsert == self.head and nodeToInsert == self.tail: \n",
    "            return\n",
    "        self.remove(nodeToInsert)\n",
    "        nodeToInsert.prev=node.prev\n",
    "        nodeToInsert.next = node \n",
    "        if node.prev is None:\n",
    "            self.head = nodeToInsert\n",
    "        else:\n",
    "            node.prev.next = nodeToInsert\n",
    "        node.prev = nodeToInsert\n",
    "\n",
    "    def insertAfter(self, node, nodeToInsert):\n",
    "        if nodeToInsert == self.head and nodeToInsert == self.tail: \n",
    "            return\n",
    "        self.remove(nodeToInsert)\n",
    "        nodeToInsert.next = node.next\n",
    "        nodeToInsert.prev = node\n",
    "        if node.next is None:\n",
    "            self.tail = nodeToInsert\n",
    "        else:\n",
    "            node.next.prev = nodeToInsert\n",
    "        node.next=nodeToInsert\n",
    "\n",
    "    def insertAtPosition(self, position, nodeToInsert):\n",
    "        if position==1:\n",
    "            self.setHead(nodeToInsert)\n",
    "            return\n",
    "        node=self.head\n",
    "        currentPosition=1\n",
    "        while node is not None and currentPosition!=position:\n",
    "            node=node.next\n",
    "            currentPosition+=1\n",
    "        if node is not None:\n",
    "            self.insertBefore(node,nodeToInsert)\n",
    "        else:\n",
    "            self.setTail(nodeToInsert)\n",
    "        \n",
    "    def removeNodesWithValue(self, value):\n",
    "        node=self.head\n",
    "        while node is not None:\n",
    "            nodeToRemove = node\n",
    "            node = node.next\n",
    "            if nodeToRemove.value == value:\n",
    "                self.remove(nodeToRemove)\n",
    "            \n",
    "    def remove(self, node):\n",
    "        if (node==self.head):\n",
    "            self.head=self.head.next\n",
    "        if (node==self.tail):\n",
    "            self.tail = self.tail.prev\n",
    "\n",
    "        self.removeNodeBindings(node)\n",
    "        \n",
    "    def containsNodeWithValue(self, value):\n",
    "        node = self.head \n",
    "        while node is not None and node.value != value:\n",
    "            node=node.next\n",
    "        return node is not None\n",
    "\n",
    "    def removeNodeBindings(self, node):\n",
    "        if node.prev is not None:\n",
    "            node.prev.next = node.next\n",
    "        if node.next is not None: \n",
    "            node.next.prev = node.prev \n",
    "        node.prev = None\n",
    "        node.next=None \n",
    "            "
   ]
  },
  {
   "cell_type": "markdown",
   "id": "fae8a2e1",
   "metadata": {},
   "source": [
    "### Test Output"
   ]
  },
  {
   "cell_type": "code",
   "execution_count": null,
   "id": "33116ebf",
   "metadata": {},
   "outputs": [],
   "source": []
  },
  {
   "cell_type": "markdown",
   "id": "1b5c2113",
   "metadata": {},
   "source": [
    "### Time Complexity"
   ]
  },
  {
   "cell_type": "markdown",
   "id": "d36c98db",
   "metadata": {},
   "source": []
  },
  {
   "cell_type": "markdown",
   "id": "09493d66",
   "metadata": {},
   "source": [
    "### Space Complexity"
   ]
  },
  {
   "cell_type": "markdown",
   "id": "c34990d4",
   "metadata": {},
   "source": []
  },
  {
   "cell_type": "markdown",
   "id": "ba9c9b67",
   "metadata": {},
   "source": [
    "# 48) Remove Kth Node From End"
   ]
  },
  {
   "cell_type": "markdown",
   "id": "24e8fee9",
   "metadata": {},
   "source": [
    "### Question"
   ]
  },
  {
   "cell_type": "markdown",
   "id": "761b9463",
   "metadata": {},
   "source": [
    "Write a function that takes in the head of a Singly Linked List and an integer k and removes the kth node from the end of the list.\n",
    "\n",
    "The removal should be done in place, meaning that the original data structure should be mutated (no new structure should be created).\n",
    "\n",
    "Furthermore, the input head of the linked list should remain the head of the linked list after the removal is done, even if the head is the node that's supposed to be removed. In other words, if the head is the node that's supposed to be removed, your function should simply mutate its value and next pointer. Note that your function doesn't need to return anything.\n",
    "\n",
    "You can assume that the input Linked List will always have at least two nodes and, more specifically, at least k nodes.\n",
    "\n",
    "Each LinkedList node has an integer value as well as a next node pointing to the next node in the list or to None / null if it's the tail of the list.\n"
   ]
  },
  {
   "cell_type": "markdown",
   "id": "02a294fe",
   "metadata": {},
   "source": [
    "### Test Input"
   ]
  },
  {
   "cell_type": "markdown",
   "id": "7fd66aea",
   "metadata": {},
   "source": [
    "Sample Input\n",
    "\n",
    "head = 0 -> 1 −> 2 −> 3 −> 4 −> 5 −> 6 −> 7 -> 8 -> 9 // the head node with vali k = 4\n",
    "\n",
    "Sample Output\n",
    "// No output required.\n",
    "// The 4th node from the end of the list (the node with value 6) is removed.\n",
    "\n",
    "0 -> 1 -> 2 −> 3 -> 4 −> 5 −> 7 -> 8 -> 9"
   ]
  },
  {
   "cell_type": "markdown",
   "id": "182719e7",
   "metadata": {},
   "source": [
    "### Explanation"
   ]
  },
  {
   "cell_type": "markdown",
   "id": "46734851",
   "metadata": {},
   "source": [
    "This algorithm uses a \"two pointer\" technique, which is common in linked list problems.\n",
    "\n",
    "First, we define two pointers both starting at the head of the list. Then we advance the \"fast\" pointer k steps ahead. If moving the fast pointer k steps ahead would cause it to fall off the end, this means k is equal to the length of the list. Therefore, the head of the list should be removed, and we return the next node after the head.\n",
    "\n",
    "If the fast pointer doesn't fall off the end, we move both pointers simultaneously until the fast pointer hits the end. At this point, the slow pointer will be k nodes behind the fast pointer, hence it will be at the node right before the one we want to remove.\n",
    "\n",
    "Finally, we modify the next pointer of the slow node to point to the node after the node we want to remove. This effectively removes the kth node from the end.\n",
    "\n",
    "Let's consider the given example. If we want to remove the 4th node from the end (6) in the list: 0 -> 1 -> 2 -> 3 -> 4 -> 5 -> 6 -> 7 -> 8 -> 9, the algorithm will work as follows:\n",
    "\n",
    "The fast pointer moves 4 steps ahead, resulting in: slow at 0, fast at 4.\n",
    "Then we move both pointers simultaneously until the fast pointer reaches the end. So, the final position will be: slow at 5, fast at 9.\n",
    "The next node of slow (5) is our target node (6), we remove it by pointing the next of slow to the node after 6, which is 7. Resulting list: 0 -> 1 -> 2 -> 3 -> 4 -> 5 -> 7 -> 8 -> 9.\n",
    "Time and space complexities with explanation:\n",
    "\n",
    "\n"
   ]
  },
  {
   "cell_type": "markdown",
   "id": "08ff2ec8",
   "metadata": {},
   "source": [
    "### Code"
   ]
  },
  {
   "cell_type": "code",
   "execution_count": 77,
   "id": "5eecaf0f",
   "metadata": {},
   "outputs": [],
   "source": [
    "# Define the structure for a single node in the linked list\n",
    "class ListNode:\n",
    "    def __init__(self, x):\n",
    "        self.val = x\n",
    "        self.next = None\n",
    "\n",
    "def removeKthFromEnd(head, k):\n",
    "    # Define two pointers, both start from the head\n",
    "    fast = slow = head\n",
    "    \n",
    "    # Move the fast pointer k steps ahead\n",
    "    for _ in range(k):\n",
    "        fast = fast.next\n",
    "    \n",
    "    # If this would cause the fast pointer to fall off the end, k is equal to the length of the list\n",
    "    # So the head of the list should be removed\n",
    "    if not fast:\n",
    "        return head.next\n",
    "    \n",
    "    # Move both pointers until fast pointer hits the end\n",
    "    while fast.next:\n",
    "        fast = fast.next\n",
    "        slow = slow.next\n",
    "    \n",
    "    # Now slow pointer is at the node before the target, we can change its next pointer to skip the target node\n",
    "    slow.next = slow.next.next\n",
    "    \n",
    "    return head"
   ]
  },
  {
   "cell_type": "markdown",
   "id": "6d448bc4",
   "metadata": {},
   "source": [
    "### Test Output"
   ]
  },
  {
   "cell_type": "code",
   "execution_count": null,
   "id": "f66db525",
   "metadata": {},
   "outputs": [],
   "source": []
  },
  {
   "cell_type": "markdown",
   "id": "a67cbf03",
   "metadata": {},
   "source": [
    "### Time Complexity"
   ]
  },
  {
   "cell_type": "markdown",
   "id": "e4050fc5",
   "metadata": {},
   "source": [
    "Time Complexity: O(n) - In the worst case scenario, we traverse the linked list twice, where n is the length of the list. So, the time complexity is linear."
   ]
  },
  {
   "cell_type": "markdown",
   "id": "2904c984",
   "metadata": {},
   "source": [
    "### Space Complexity"
   ]
  },
  {
   "cell_type": "markdown",
   "id": "f59d6fd0",
   "metadata": {},
   "source": [
    "Space Complexity: O(1) - We only used a constant amount of space to store our two pointers, regardless of the size of the input linked list. Therefore, the space complexity is constant."
   ]
  },
  {
   "cell_type": "markdown",
   "id": "1cb35352",
   "metadata": {},
   "source": [
    "# 49) Sum of Linked Lists"
   ]
  },
  {
   "cell_type": "markdown",
   "id": "39f837c4",
   "metadata": {},
   "source": [
    "### Question"
   ]
  },
  {
   "cell_type": "markdown",
   "id": "31e4433d",
   "metadata": {},
   "source": [
    "You're given two Linked Lists of potentially unequal length. Each Linked List represents a non-negative integer, where each node in the Linked List is a digit of that integer, and the first node in each Linked List always represents the least significant digit of the integer. Write a function that returns the head of a new Linked List that represents the sum of the integers represented by the two input Linked Lists.\n",
    "value as well as a next node None / null if it's the tail of the\n",
    "\n",
    "Each LinkedList node has an integer pointing to the next node in the list or to list. The value of each LinkedList node is always in the range of 0 - 9.\n",
    "\n",
    "Note: your function must create and return a new Linked List, and you're not allowed to modify either of the input Linked Lists."
   ]
  },
  {
   "cell_type": "markdown",
   "id": "66d91e86",
   "metadata": {},
   "source": [
    "### Test Input"
   ]
  },
  {
   "cell_type": "markdown",
   "id": "27eb6d8c",
   "metadata": {},
   "source": [
    "Sample Input\n",
    "\n",
    "linkedListOne = 2 -> 4 -> 7 -> 1 linkedListTwo = 9 -> 4 −> 5\n",
    "\n",
    "Sample Output\n",
    "\n",
    "1 -> 9 -> 2 -> 2\n",
    "\n",
    "// linkedListOne represents 1742 // linkedListTwo represents 549 // 1742 + 549 = 2291"
   ]
  },
  {
   "cell_type": "markdown",
   "id": "33f082de",
   "metadata": {},
   "source": [
    "### Explanation"
   ]
  },
  {
   "cell_type": "markdown",
   "id": "a2336d8a",
   "metadata": {},
   "source": [
    "This algorithm uses a \"two pointer\" technique, which is common in linked list problems.\n",
    "\n",
    "First, we define two pointers both starting at the head of the list. Then we advance the \"fast\" pointer k steps ahead. If moving the fast pointer k steps ahead would cause it to fall off the end, this means k is equal to the length of the list. Therefore, the head of the list should be removed, and we return the next node after the head.\n",
    "\n",
    "If the fast pointer doesn't fall off the end, we move both pointers simultaneously until the fast pointer hits the end. At this point, the slow pointer will be k nodes behind the fast pointer, hence it will be at the node right before the one we want to remove.\n",
    "\n",
    "Finally, we modify the next pointer of the slow node to point to the node after the node we want to remove. This effectively removes the kth node from the end.\n",
    "\n",
    "Let's consider the given example. If we want to remove the 4th node from the end (6) in the list: 0 -> 1 -> 2 -> 3 -> 4 -> 5 -> 6 -> 7 -> 8 -> 9, the algorithm will work as follows:\n",
    "\n",
    "The fast pointer moves 4 steps ahead, resulting in: slow at 0, fast at 4.\n",
    "\n",
    "Then we move both pointers simultaneously until the fast pointer reaches the end. So, the final position will be: slow at 5, fast at 9.\n",
    "\n",
    "The next node of slow (5) is our target node (6), we remove it by pointing the next of slow to the node after 6, which is 7. Resulting list: 0 -> 1 -> 2 -> 3 -> 4 -> 5 -> 7 -> 8 -> 9.\n",
    "\n",
    "\n"
   ]
  },
  {
   "cell_type": "markdown",
   "id": "c69b8cf2",
   "metadata": {},
   "source": [
    "### Code"
   ]
  },
  {
   "cell_type": "code",
   "execution_count": 3,
   "id": "1540c7bf",
   "metadata": {},
   "outputs": [],
   "source": [
    "# Define the structure for a single node in the linked list\n",
    "class ListNode:\n",
    "    def __init__(self, x):\n",
    "        self.val = x\n",
    "        self.next = None\n",
    "\n",
    "def addTwoNumbers(l1, l2):\n",
    "    # Initialize current node to dummy of the returning list\n",
    "    dummy_head = ListNode(0)\n",
    "    p1, p2, current = l1, l2, dummy_head\n",
    "    carry = 0\n",
    "    \n",
    "    # Loop through lists l1 and l2 until you reach both ends\n",
    "    while p1 is not None or p2 is not None:\n",
    "        # At the start of each iteration, we should add carry from last iteration\n",
    "        x = p1.val if p1 is not None else 0\n",
    "        y = p2.val if p2 is not None else 0\n",
    "        sum = carry + x + y\n",
    "        # update carry for next calculation\n",
    "        carry = sum // 10\n",
    "        # update current node\n",
    "        current.next = ListNode(sum % 10)\n",
    "        current = current.next\n",
    "        # move to next\n",
    "        if p1 is not None:\n",
    "            p1 = p1.next\n",
    "        if p2 is not None:\n",
    "            p2 = p2.next\n",
    "    if carry > 0:\n",
    "        current.next = ListNode(carry)\n",
    "    # return dummy's next node\n",
    "    return dummy_head.next"
   ]
  },
  {
   "cell_type": "markdown",
   "id": "490841a5",
   "metadata": {},
   "source": [
    "### Test Output"
   ]
  },
  {
   "cell_type": "code",
   "execution_count": null,
   "id": "8450a374",
   "metadata": {},
   "outputs": [],
   "source": []
  },
  {
   "cell_type": "markdown",
   "id": "7ee29c15",
   "metadata": {},
   "source": [
    "### Time Complexity"
   ]
  },
  {
   "cell_type": "markdown",
   "id": "ac747461",
   "metadata": {},
   "source": [
    "Time Complexity: O(n) - In the worst case scenario, we traverse the linked list twice, where n is the length of the list. So, the time complexity is linear."
   ]
  },
  {
   "cell_type": "markdown",
   "id": "992c27d4",
   "metadata": {},
   "source": [
    "### Space Complexity"
   ]
  },
  {
   "cell_type": "markdown",
   "id": "ae89c84f",
   "metadata": {},
   "source": [
    "Space Complexity: O(1) - We only used a constant amount of space to store our two pointers, regardless of the size of the input linked list. Therefore, the space complexity is constant."
   ]
  },
  {
   "cell_type": "markdown",
   "id": "fcf27553",
   "metadata": {},
   "source": [
    "# 50) Merging Linked Lists"
   ]
  },
  {
   "cell_type": "markdown",
   "id": "f463a0cb",
   "metadata": {},
   "source": [
    "### Question"
   ]
  },
  {
   "cell_type": "markdown",
   "id": "54be0fcc",
   "metadata": {},
   "source": [
    "You're given two Linked Lists of potentially unequal length. These Linked Lists potentially merge at a shared intersection node. Write a function that returns the intersection node or returns None / null if there is no intersection.\n",
    "\n",
    "Each LinkedList node has an integer value as well as a next node pointing to the next node in the list or to None / null if it's the tail of the list.\n",
    "\n",
    "Note: Your function should return an existing node. It should not modify either Linked List, and it should not create any new Linked Lists.\n"
   ]
  },
  {
   "cell_type": "markdown",
   "id": "23a88682",
   "metadata": {},
   "source": [
    "### Test Input"
   ]
  },
  {
   "cell_type": "markdown",
   "id": "581c207f",
   "metadata": {},
   "source": [
    "Sample Input\n",
    "\n",
    "linkedListOne = 2 -> 3 -> 1 -> 4 linkedListTwo = 8 -> 7 -> 1 -> 4\n",
    "\n",
    "Sample Output\n",
    "\n",
    "1 -> 4 // The lists intersect at the node with value 1"
   ]
  },
  {
   "cell_type": "markdown",
   "id": "141f3845",
   "metadata": {},
   "source": [
    "### Explanation"
   ]
  },
  {
   "cell_type": "markdown",
   "id": "8385c980",
   "metadata": {},
   "source": [
    "We first initialize two pointers at the heads of both lists. We then start traversing both lists. If one pointer reaches the end of a list, we reset it to the start of the other list. If there is an intersection, both pointers will meet at the intersection node because they would have traversed the same amount of nodes in total. If there is no intersection, they will both reach the end of the respective lists (None), and hence the while loop will terminate."
   ]
  },
  {
   "cell_type": "markdown",
   "id": "e0587f4a",
   "metadata": {},
   "source": [
    "### Code"
   ]
  },
  {
   "cell_type": "code",
   "execution_count": 4,
   "id": "98fe1c3d",
   "metadata": {},
   "outputs": [],
   "source": [
    "class Node:\n",
    "    def __init__(self, value):\n",
    "        self.value = value\n",
    "        self.next = None\n",
    "\n",
    "def getIntersectionNode(headA, headB):\n",
    "    ptr1, ptr2 = headA, headB\n",
    "    resetA, resetB = False, False \n",
    "    \n",
    "    while ptr1 != ptr2:\n",
    "        if ptr1 is None:\n",
    "            if resetA:\n",
    "                return None\n",
    "            ptr1=headB\n",
    "            resetA=True\n",
    "        else:\n",
    "            ptr1=ptr1.next\n",
    "            \n",
    "        if ptr2 is None:\n",
    "            if resetB:\n",
    "                return None\n",
    "            ptr2=headA\n",
    "            resetB=True\n",
    "        else:\n",
    "            ptr2=ptr2.next\n",
    "            \n",
    "    return ptr1\n",
    "        "
   ]
  },
  {
   "cell_type": "markdown",
   "id": "9c0d2a66",
   "metadata": {},
   "source": [
    "### Test Output"
   ]
  },
  {
   "cell_type": "code",
   "execution_count": null,
   "id": "255375db",
   "metadata": {},
   "outputs": [],
   "source": []
  },
  {
   "cell_type": "markdown",
   "id": "8c583d65",
   "metadata": {},
   "source": [
    "### Time Complexity"
   ]
  },
  {
   "cell_type": "markdown",
   "id": "34bf2599",
   "metadata": {},
   "source": [
    "O(m+n), where m and n are the lengths of the two linked lists. This is because in the worst-case scenario, each pointer could traverse the full length of both lists."
   ]
  },
  {
   "cell_type": "markdown",
   "id": "9ca9bf5f",
   "metadata": {},
   "source": [
    "### Space Complexity"
   ]
  },
  {
   "cell_type": "markdown",
   "id": "6484535f",
   "metadata": {},
   "source": [
    "O(1), as we are using a constant amount of space, regardless of the size of the linked lists.\n",
    "\n"
   ]
  },
  {
   "cell_type": "markdown",
   "id": "ee3b0dfc",
   "metadata": {},
   "source": [
    "# 51) Permutations"
   ]
  },
  {
   "cell_type": "markdown",
   "id": "704d7e38",
   "metadata": {},
   "source": [
    "### Question"
   ]
  },
  {
   "cell_type": "markdown",
   "id": "250f5cbd",
   "metadata": {},
   "source": [
    "Write a function that takes in an array of unique integers and returns an array of all permutations of those integers in no particular order.\n",
    "\n",
    "If the input array is empty, the function should return an empty array.\n"
   ]
  },
  {
   "cell_type": "markdown",
   "id": "096fdf0d",
   "metadata": {},
   "source": [
    "### Test Input"
   ]
  },
  {
   "cell_type": "code",
   "execution_count": 33,
   "id": "e7131818",
   "metadata": {},
   "outputs": [],
   "source": [
    "#Sample Input\n",
    "array = [1, 2, 3]\n",
    "#Sample Output\n",
    "#[[1, 2, 3], [1, 3, 2], [2, 1, 3], [2, 3, 1], [3, 1, 2], [3, 2, 1]]"
   ]
  },
  {
   "cell_type": "markdown",
   "id": "ffa45002",
   "metadata": {},
   "source": [
    "### Explanation"
   ]
  },
  {
   "cell_type": "markdown",
   "id": "202241e5",
   "metadata": {},
   "source": [
    "Let's consider an input array: [1, 2, 3]\n",
    "\n",
    "On the first level of recursion, we're swapping the first element (1) with each element in the array (including itself), and then recursively finding all permutations for the rest of the array.\n",
    "\n",
    "On the second level of recursion, we're doing the same thing for the second element (2), and so on, until we reach the end of the array, at which point we have a valid permutation, which we add to our result array.\n",
    "\n",
    "This process generates all possible permutations of the array."
   ]
  },
  {
   "cell_type": "markdown",
   "id": "ff2c4f0f",
   "metadata": {},
   "source": [
    "### Code"
   ]
  },
  {
   "cell_type": "code",
   "execution_count": 37,
   "id": "21aac4d3",
   "metadata": {},
   "outputs": [],
   "source": [
    "def getPermutations(array):\n",
    "    permutations = []\n",
    "    helper(0, array, permutations)\n",
    "    return permutations\n",
    "    \n",
    "def helper(i, array, permutations):\n",
    "    if i == len(array)-1:\n",
    "        permutations.append(array[:])\n",
    "    else: \n",
    "        for j in range(i, len(array)):\n",
    "            swap(array, i ,j)\n",
    "            helper(i+1, array, permutations)\n",
    "            swap(array, i, j)\n",
    "            \n",
    "                       \n",
    "def swap(array, i, j):\n",
    "    array[i],array[j]=array[j], array[i]"
   ]
  },
  {
   "cell_type": "markdown",
   "id": "ea55cd57",
   "metadata": {},
   "source": [
    "### Test Output"
   ]
  },
  {
   "cell_type": "code",
   "execution_count": 38,
   "id": "2e68d4af",
   "metadata": {},
   "outputs": [
    {
     "data": {
      "text/plain": [
       "[[1, 2, 3], [1, 3, 2], [2, 1, 3], [2, 3, 1], [3, 2, 1], [3, 1, 2]]"
      ]
     },
     "execution_count": 38,
     "metadata": {},
     "output_type": "execute_result"
    }
   ],
   "source": [
    "getPermutations(array)"
   ]
  },
  {
   "cell_type": "markdown",
   "id": "77d7e6c5",
   "metadata": {},
   "source": [
    "### Time Complexity"
   ]
  },
  {
   "cell_type": "markdown",
   "id": "337083e9",
   "metadata": {},
   "source": [
    "The time complexity of this algorithm is O(n*n!) because there are n! permutations and we're spending O(n) time on each one (to make a copy of it and add it to our result array)."
   ]
  },
  {
   "cell_type": "markdown",
   "id": "c8dd6234",
   "metadata": {},
   "source": [
    "### Space Complexity"
   ]
  },
  {
   "cell_type": "markdown",
   "id": "b3d492c8",
   "metadata": {},
   "source": [
    "The space complexity is O(n*n!) as well, because we have n! permutations and each one is a list of length n."
   ]
  },
  {
   "cell_type": "markdown",
   "id": "cdbd8299",
   "metadata": {},
   "source": [
    "# 52) Powerset"
   ]
  },
  {
   "cell_type": "markdown",
   "id": "af7a858c",
   "metadata": {},
   "source": [
    "### Question"
   ]
  },
  {
   "cell_type": "markdown",
   "id": "1e1cff74",
   "metadata": {},
   "source": [
    "Write a function that takes in an array of unique integers and returns its powerset.\n",
    "\n",
    "The powerset P(X) of a set X is the set of all subsets of X. For example, the powerset of [1,2] is [[], [1], [2], [1,2]].\n",
    "\n",
    "Note that the sets in the powerset do not need to be in any particular order.\n"
   ]
  },
  {
   "cell_type": "markdown",
   "id": "08a4103c",
   "metadata": {},
   "source": [
    "### Test Input"
   ]
  },
  {
   "cell_type": "code",
   "execution_count": 39,
   "id": "8674df4d",
   "metadata": {},
   "outputs": [],
   "source": [
    "#Sample Input\n",
    "array = [1, 2, 3]\n",
    "#Sample Output\n",
    "#[[], [1], [2], [3], [1, 2], [1, 3], [2, 3], [1, 2, 3]]"
   ]
  },
  {
   "cell_type": "markdown",
   "id": "15ba9f1f",
   "metadata": {},
   "source": [
    "### Explanation"
   ]
  },
  {
   "cell_type": "markdown",
   "id": "176ccd7d",
   "metadata": {},
   "source": [
    "This function starts by initializing the subsets list with the empty set, which is a subset of any set. Then for each element in the original set, it creates new subsets by adding the current element to all existing subsets and adds these new subsets to the powerset. It continues this process until it has iterated through all elements of the original set.\n",
    "\n",
    "Start with the initial empty set: [[]]\n",
    "\n",
    "Add the first element (1) to all subsets: [[], [1]]\n",
    "\n",
    "Add the second element (2) to all subsets: [[], [1], [2], [1, 2]]\n",
    "\n",
    "Add the third element (3) to all subsets: [[], [1], [2], [1, 2], [3], [1, 3], [2, 3], [1, 2, 3]]\n",
    "\n",
    "Return the result."
   ]
  },
  {
   "cell_type": "markdown",
   "id": "7ca55af5",
   "metadata": {},
   "source": [
    "### Code"
   ]
  },
  {
   "cell_type": "code",
   "execution_count": 40,
   "id": "8b6efde2",
   "metadata": {},
   "outputs": [],
   "source": [
    "def powerSet(array):\n",
    "    powerSets=[[]]\n",
    "    for element in array:\n",
    "        for i in range(len(powerSets)):\n",
    "            currentSubSet = powerSets[i]\n",
    "            powerSets.append(currentSubSet + [element])\n",
    "    return powerSets"
   ]
  },
  {
   "cell_type": "markdown",
   "id": "947c6f7f",
   "metadata": {},
   "source": [
    "### Test Output"
   ]
  },
  {
   "cell_type": "code",
   "execution_count": 41,
   "id": "db19e049",
   "metadata": {},
   "outputs": [
    {
     "data": {
      "text/plain": [
       "[[], [1], [2], [1, 2], [3], [1, 3], [2, 3], [1, 2, 3]]"
      ]
     },
     "execution_count": 41,
     "metadata": {},
     "output_type": "execute_result"
    }
   ],
   "source": [
    "powerSet(array)"
   ]
  },
  {
   "cell_type": "markdown",
   "id": "486a336a",
   "metadata": {},
   "source": [
    "### Time Complexity"
   ]
  },
  {
   "cell_type": "markdown",
   "id": "d309216b",
   "metadata": {},
   "source": [
    "The time complexity is O(n*2^n) because for each element in the array, we are effectively doubling the number of subsets in the powerset."
   ]
  },
  {
   "cell_type": "markdown",
   "id": "c13c3da5",
   "metadata": {},
   "source": [
    "### Space Complexity"
   ]
  },
  {
   "cell_type": "markdown",
   "id": "37966fec",
   "metadata": {},
   "source": [
    "The space complexity is O(n*2^n) because that's the total number of subsets that will be created."
   ]
  },
  {
   "cell_type": "markdown",
   "id": "44382600",
   "metadata": {},
   "source": [
    "# 53) Phone Number Mnemonics"
   ]
  },
  {
   "cell_type": "markdown",
   "id": "fea0a71b",
   "metadata": {},
   "source": [
    "### Question"
   ]
  },
  {
   "cell_type": "markdown",
   "id": "e9d42bbb",
   "metadata": {},
   "source": [
    "If you open the keypad of your mobile phone, it'll likely look like this:Almost every digit is associated with some letters in the alphabet; this allows certain phone numbers to spell out actual words. For example, the phone number 8464747328 can be written as timisgreat; similarly, the phone number 2686463 can be written as antoine or as ant6463.\n",
    "\n",
    "It's important to note that a phone number doesn't represent a single sequence of letters, but rather multiple combinations of letters. For instance, the digit 2 can represent three different letters (a, b, and c).\n",
    "\n",
    "A mnemonic is defined as a pattern of letters, ideas, or associations that assist in remembering something. Companies oftentimes use a mnemonic for their phone number to make it easier to remember.\n",
    "\n",
    "Given a stringified phone number of any non-zero length, write a function that returns all mnemonics for this phone number, in any order.\n",
    "\n",
    "For this problem, a valid mnemonic may only contain letters and the digits and 1. In other words, if a digit is able to be represented by a letter, then it must be. Digits 0 and 1 are the only two digits that don't have letter representations on the keypad.\n",
    "\n",
    "Note that you should rely on the keypad illustrated above for digit-letter associations.\n"
   ]
  },
  {
   "cell_type": "markdown",
   "id": "2992b274",
   "metadata": {},
   "source": [
    "### Test Input"
   ]
  },
  {
   "cell_type": "code",
   "execution_count": 3,
   "id": "0817f2fa",
   "metadata": {},
   "outputs": [],
   "source": [
    "#Sample Input\n",
    "phoneNumber = \"1905\"\n",
    "#Sample Output\n",
    "#[\"1w0j\",\"1w0k\",\"1w0l\",\"1x0j\",\"1x0k\",\"1x01\",\"1y0j\",\"1y0k\",\"1y0l\",\"1z0j\",\"1z0k\",\"1z0l\"]\n",
    "#The mnemonics could be ordered differently."
   ]
  },
  {
   "cell_type": "markdown",
   "id": "2fe97174",
   "metadata": {},
   "source": [
    "### Explanation"
   ]
  },
  {
   "cell_type": "markdown",
   "id": "5e17e617",
   "metadata": {},
   "source": [
    "The phoneNumberMnemonicsHelper function is called recursively for each digit in the phone number. In each recursive call, the function goes one level deeper and tries to replace the current digit with all possible letters.\n",
    "\n",
    "If the current index idx is equal to the length of the phone number, it means that we have replaced all digits in the current mnemonic. At this point, we convert the list of characters currentMnemonic to a string and append it to the list of all mnemonics mnemonicsFound.\n",
    "\n",
    "After replacing the current digit with a letter, the function calls itself with the next index idx + 1. This process continues until all digits have been replaced and all possible mnemonics have been generated.\n",
    "\n",
    "The phoneNumberMnemonics function starts the process by initializing currentMnemonic and mnemonicsFound, and calling phoneNumberMnemonicsHelper with the initial index 0.\n",
    "\n",
    "\n",
    "\n"
   ]
  },
  {
   "cell_type": "markdown",
   "id": "898f27d2",
   "metadata": {},
   "source": [
    "### Code"
   ]
  },
  {
   "cell_type": "code",
   "execution_count": 6,
   "id": "90ca61ea",
   "metadata": {},
   "outputs": [],
   "source": [
    "keypad = {\n",
    "        \"0\": [\"0\"],\n",
    "        \"1\": [\"1\"],\n",
    "        \"2\": [\"a\", \"b\", \"c\"],\n",
    "        \"3\": [\"d\", \"e\", \"f\"],\n",
    "        \"4\": [\"g\", \"h\", \"i\"],\n",
    "        \"5\": [\"j\", \"k\", \"l\"],\n",
    "        \"6\": [\"m\", \"n\", \"o\"],\n",
    "        \"7\": [\"p\", \"q\", \"r\", \"s\"],\n",
    "        \"8\": [\"t\", \"u\", \"v\"],\n",
    "        \"9\": [\"w\", \"x\", \"y\", \"z\"],\n",
    "    }\n",
    "\n",
    "def phoneNumberMnemonics(phoneNumber):\n",
    "    currentMnemoic = [\"0\"]* len(phoneNumber)\n",
    "    mnemoicsFound=[]\n",
    "    mnemoicsHelper(0, phoneNumber, currentMnemoic, mnemoicsFound)\n",
    "    return mnemoicsFound\n",
    "\n",
    "def mnemoicsHelper(idx, phoneNumber, currentMnemoic, mnemoicsFound):\n",
    "    if idx == len(phoneNumber):\n",
    "        mnemoic =\"\".join(currentMnemoic)\n",
    "        mnemoicsFound.append(mnemoic)\n",
    "    else: \n",
    "        digit = phoneNumber[idx]\n",
    "        letters = keypad[digit]\n",
    "        for letter in letters: \n",
    "            currentMnemoic[idx]=letter\n",
    "            mnemoicsHelper(idx+1, phoneNumber, currentMnemoic, mnemoicsFound)\n",
    "            "
   ]
  },
  {
   "cell_type": "markdown",
   "id": "7aaa7430",
   "metadata": {},
   "source": [
    "### Test Output"
   ]
  },
  {
   "cell_type": "code",
   "execution_count": 7,
   "id": "22696357",
   "metadata": {},
   "outputs": [
    {
     "data": {
      "text/plain": [
       "['1w0j',\n",
       " '1w0k',\n",
       " '1w0l',\n",
       " '1x0j',\n",
       " '1x0k',\n",
       " '1x0l',\n",
       " '1y0j',\n",
       " '1y0k',\n",
       " '1y0l',\n",
       " '1z0j',\n",
       " '1z0k',\n",
       " '1z0l']"
      ]
     },
     "execution_count": 7,
     "metadata": {},
     "output_type": "execute_result"
    }
   ],
   "source": [
    "phoneNumberMnemonics(phoneNumber)"
   ]
  },
  {
   "cell_type": "markdown",
   "id": "964a7416",
   "metadata": {},
   "source": [
    "### Time Complexity"
   ]
  },
  {
   "cell_type": "markdown",
   "id": "09168bf1",
   "metadata": {},
   "source": [
    "The time complexity is O(4^n * n) because in the worst case, each digit has 4 possible letters and we need to generate all 4^n combinations. The factor n is for creating new strings for each mnemonic.\n",
    "\n"
   ]
  },
  {
   "cell_type": "markdown",
   "id": "a1a5db3e",
   "metadata": {},
   "source": [
    "### Space Complexity"
   ]
  },
  {
   "cell_type": "markdown",
   "id": "375ed2f0",
   "metadata": {},
   "source": [
    "This solution is efficient, as it generates each mnemonic only once without repeating any combinations. Also, it uses a constant amount of space for currentMnemonic, as it's updated in-place for each digit, and all mnemonics are stored in mnemonicsFound. However, the size of mnemonicsFound will grow exponentially with the number of digits, so the space complexity is still O(4^n * n)."
   ]
  },
  {
   "cell_type": "markdown",
   "id": "f3792376",
   "metadata": {},
   "source": [
    "# 54) Staircase Traversal"
   ]
  },
  {
   "cell_type": "markdown",
   "id": "a40fffa3",
   "metadata": {},
   "source": [
    "### Question"
   ]
  },
  {
   "cell_type": "markdown",
   "id": "0acd1de9",
   "metadata": {},
   "source": [
    "You're given two positive integers representing the height of a staircase and the maximum number of steps that you can advance up the staircase at a time. Write a function that returns the number of ways in which you can climb the staircase.\n",
    "\n",
    "For example, if you were given a staircase of height = 3 and maxSteps = 2 you could climb the staircase in 3 ways. You could take 1 step, 1 step, then 1 step, you could also take 1 step, then 2 steps, and you could take 2 steps, then 1 step.\n",
    "\n",
    "Note that maxSteps <= height will always be true.\n"
   ]
  },
  {
   "cell_type": "markdown",
   "id": "ec3b8bce",
   "metadata": {},
   "source": [
    "### Test Input"
   ]
  },
  {
   "cell_type": "code",
   "execution_count": 9,
   "id": "f2f6adf4",
   "metadata": {},
   "outputs": [],
   "source": [
    "#Sample Input\n",
    "height = 4 \n",
    "maxSteps = 2\n",
    "\n",
    "#Sample Output\n",
    "#5\n",
    "#// You can climb the staircase in the following ways:\n",
    "#// 1, 1, 1, 1\n",
    "#// 1, 1, 2\n",
    "#// 1, 2, 1\n",
    "#// 2, 1,\n",
    "#// 2, 2\n",
    "#1"
   ]
  },
  {
   "cell_type": "markdown",
   "id": "db618142",
   "metadata": {},
   "source": [
    "### Explanation"
   ]
  },
  {
   "cell_type": "markdown",
   "id": "ead6f6a8",
   "metadata": {},
   "source": [
    "Suppose the height of the staircase is 4 and the maximum number of steps that can be taken at a time is 2.\n",
    "\n",
    "For the first step (height = 1), the window of steps that can reach it is just the ground level (0 to 0). There is 1 way to reach the ground level, so there is 1 way to reach the first step.\n",
    "For the second step (height = 2), the window of steps that can reach it is from the ground level to the first step (0 to 1). There are 1 + 1 = 2 ways to reach the second step.\n",
    "For the third step (height = 3), the window of steps that can reach it is from the first step to the second step (1 to 2). There are 1 + 2 = 3 ways to reach the third step.\n",
    "For the fourth step (height = 4), the window of steps that can reach it is from the second step to the third step (2 to 3). However, we subtract the number of ways to reach the start of the window, which is 1 (the number of ways to reach the first step), from the current number of ways. So, there are 3 + 2 - 1 = 4 ways to reach the fourth step.\n",
    "So, there are 4 ways to climb a staircase of height 4 with a maximum step size of 2."
   ]
  },
  {
   "cell_type": "markdown",
   "id": "3653912f",
   "metadata": {},
   "source": [
    "### Code"
   ]
  },
  {
   "cell_type": "code",
   "execution_count": 10,
   "id": "2374dfcb",
   "metadata": {},
   "outputs": [],
   "source": [
    "def staircaseTraversal(height, maxSteps):\n",
    "    # Variable to store the number of ways to reach current step\n",
    "    currentNumberOfWays = 0\n",
    "    \n",
    "    # Array to store the number of ways to reach each step, with 1 way to reach the ground level\n",
    "    waysToTop=[1]\n",
    "    \n",
    "    # Loop from the first step to the height of the staircase\n",
    "    for currentHeight in range(1, height + 1):\n",
    "        # Start of the window of steps that can reach the current step\n",
    "        startOfWindow = currentHeight - maxSteps - 1\n",
    "        \n",
    "        # End of the window of steps that can reach the current step\n",
    "        endOfWindow = currentHeight - 1\n",
    "        \n",
    "        # If the start of the window is not before the ground level, subtract the number of ways to reach the start of the window\n",
    "        if startOfWindow >= 0:\n",
    "            currentNumberOfWays -= waysToTop[startOfWindow]\n",
    "            \n",
    "        # Add the number of ways to reach the end of the window\n",
    "        currentNumberOfWays += waysToTop[endOfWindow]\n",
    "        \n",
    "        # Append the number of ways to reach the current step to the array\n",
    "        waysToTop.append(currentNumberOfWays)\n",
    "        \n",
    "    # Return the number of ways to reach the top of the staircase\n",
    "    return waysToTop[height]\n"
   ]
  },
  {
   "cell_type": "markdown",
   "id": "742c655b",
   "metadata": {},
   "source": [
    "### Test Output"
   ]
  },
  {
   "cell_type": "code",
   "execution_count": 11,
   "id": "cc84a4ad",
   "metadata": {},
   "outputs": [
    {
     "data": {
      "text/plain": [
       "5"
      ]
     },
     "execution_count": 11,
     "metadata": {},
     "output_type": "execute_result"
    }
   ],
   "source": [
    "staircaseTraversal(height, maxSteps)"
   ]
  },
  {
   "cell_type": "markdown",
   "id": "a8906dd4",
   "metadata": {},
   "source": [
    "### Time Complexity"
   ]
  },
  {
   "cell_type": "markdown",
   "id": "a51c80ea",
   "metadata": {},
   "source": [
    "The time complexity of the function is O(n), where n is the height of the stairs, because we iterate through each step from 1 to the height of the stairs."
   ]
  },
  {
   "cell_type": "markdown",
   "id": "1aa98f7e",
   "metadata": {},
   "source": [
    "### Space Complexity"
   ]
  },
  {
   "cell_type": "markdown",
   "id": "ed240e6c",
   "metadata": {},
   "source": [
    "The space complexity is O(n) because we store the number of ways to reach each step from 0 to the height of the stairs."
   ]
  },
  {
   "cell_type": "markdown",
   "id": "b1bdf9f2",
   "metadata": {},
   "source": [
    "# 55) Blackjack Probability"
   ]
  },
  {
   "cell_type": "markdown",
   "id": "5c037ed7",
   "metadata": {},
   "source": [
    "### Question"
   ]
  },
  {
   "cell_type": "markdown",
   "id": "f29fbcd4",
   "metadata": {},
   "source": [
    "In the game of Blackjack, the dealer must draw cards until the sum of the values of their cards is greater than or equal to a target value minus 4. For example, traditional Blackjack uses a target value of 21, so the dealer must draw cards until their total is greater than or equal to 17, at which point they stop drawing cards (they \"stand\"). If the dealer draws a card that brings their total above the target (above 21 in traditional Blackjack), they lose (they \"bust\").\n",
    "\n",
    "Naturally, when a dealer is drawing cards, they can either end up standing or busting, and this is entirely up to the luck of their draw. Write a function that takes in a target value as well as a dealer's startingHand value and returns the probability that the dealer will bust (go over the target value before standing). The target value will always be a positive integer, and the startingHand value will always be a positive integer that's smaller than or equal to the target value.\n",
    "\n",
    "For simplicity, you can assume that the dealer has an infinite deck of cards and that each card has a value between 1 and 10 inclusive. The likelihood of drawing a card of any value is always the same, regardless of previous draws.\n",
    "Your solution should be rounded to 3 decimal places and to the nearest value. For example, a probability of 0.314159 would be rounded to 0.314, while a probability of 0.1337 would be rounded to 0.134.\n"
   ]
  },
  {
   "cell_type": "markdown",
   "id": "6ccab08f",
   "metadata": {},
   "source": [
    "### Test Input"
   ]
  },
  {
   "cell_type": "code",
   "execution_count": 12,
   "id": "fe5e3d1a",
   "metadata": {},
   "outputs": [],
   "source": [
    "#Sample Input\n",
    "target = 21\n",
    "startingHand = 15\n",
    "#Sample Output\n",
    "#0.45 // Drawing a 2-6 would result in the dealer standing.\n",
    "#// Drawing a 7-10 would result in the dealer busting.\n",
    "#// Drawing a 1 would result in a 16, meaning the dealer keeps drawing.\n",
    "#// Drawing with a 16 results in a 0.5 probability of busting (6-10 all result in busts).\n",
    "#// The overall probability of busting is 0.4 + (0.1 * 0.5)\n",
    "#// (the probability of busting on the first draw the probability of busting on the second)."
   ]
  },
  {
   "cell_type": "markdown",
   "id": "b2765c5d",
   "metadata": {},
   "source": [
    "### Explanation"
   ]
  },
  {
   "cell_type": "markdown",
   "id": "ef10bcba",
   "metadata": {},
   "source": [
    "Initialize a memoization dictionary to store the total probability of each hand.\n",
    "\n",
    "If the current hand is greater than the target, return 1, because we've busted. \n",
    "\n",
    "If the current hand plus four is greater than or equal to the target, return 0, because the dealer will stop drawing.\n",
    "\n",
    "For each card from 1 to 10, calculate the probability of busting recursively and sum them up. The probability of each card being drawn is 0.1 as each card has an equal chance.\n",
    "\n",
    "Store the total probability of the current hand in the memoization dictionary to avoid repeated calculation.\n",
    "\n",
    "Return the total probability of the current hand, rounded to 3 decimal places."
   ]
  },
  {
   "cell_type": "markdown",
   "id": "9bee917d",
   "metadata": {},
   "source": [
    "### Code"
   ]
  },
  {
   "cell_type": "code",
   "execution_count": 13,
   "id": "6585074e",
   "metadata": {},
   "outputs": [],
   "source": [
    "def blackjackProbability(target, startingHand):\n",
    "    # initialize memoization dictionary\n",
    "    memo = {}\n",
    "    # calculate probability with memoization and round the result to 3 decimal places\n",
    "    return round(calculateProbability(startingHand, target, memo),3)\n",
    "\n",
    "def calculateProbability(currentHand, target, memo):\n",
    "    # If current hand is in memo dictionary, return its value. \n",
    "    if currentHand in memo:\n",
    "        return memo[currentHand]\n",
    "    # If current hand is greater than target, return 1 as it means we have busted.\n",
    "    if currentHand > target:\n",
    "        return 1 \n",
    "    # If current hand + 4 is greater or equal to target, return 0 as dealer will stop drawing.\n",
    "    if currentHand + 4 >= target:\n",
    "        return 0\n",
    "\n",
    "    totalProbability = 0\n",
    "    # for each card from 1 to 10, calculate probability recursively and sum them up. Multiply with 0.1 as each card has equal probability.\n",
    "    for drawnCard in range(1,11):\n",
    "        totalProbability += 0.1 * calculateProbability(currentHand+drawnCard, target, memo)\n",
    "\n",
    "    # Store the total probability of current hand in memo\n",
    "    memo[currentHand] = totalProbability\n",
    "    return totalProbability"
   ]
  },
  {
   "cell_type": "markdown",
   "id": "8933887b",
   "metadata": {},
   "source": [
    "### Test Output"
   ]
  },
  {
   "cell_type": "code",
   "execution_count": 14,
   "id": "e9e344df",
   "metadata": {},
   "outputs": [
    {
     "data": {
      "text/plain": [
       "0.45"
      ]
     },
     "execution_count": 14,
     "metadata": {},
     "output_type": "execute_result"
    }
   ],
   "source": [
    "blackjackProbability(target, startingHand)"
   ]
  },
  {
   "cell_type": "markdown",
   "id": "f9f9e011",
   "metadata": {},
   "source": [
    "### Time Complexity"
   ]
  },
  {
   "cell_type": "markdown",
   "id": "d306e735",
   "metadata": {},
   "source": [
    "O(N), where N is the target value. We make a single pass through the possible hands from the starting hand to the target."
   ]
  },
  {
   "cell_type": "markdown",
   "id": "78dd2685",
   "metadata": {},
   "source": [
    "### Space Complexity"
   ]
  },
  {
   "cell_type": "markdown",
   "id": "c5cbfd54",
   "metadata": {},
   "source": [
    "O(N), where N is the target value. We use a dictionary to store the total probability of each hand, where the hand can range from the starting hand to the target."
   ]
  },
  {
   "cell_type": "markdown",
   "id": "e17f58a6",
   "metadata": {},
   "source": [
    "# 56) Reveal Minesweeper"
   ]
  },
  {
   "cell_type": "markdown",
   "id": "b4d1a0e7",
   "metadata": {},
   "source": [
    "### Question"
   ]
  },
  {
   "cell_type": "markdown",
   "id": "882bf496",
   "metadata": {},
   "source": [
    "Minesweeper is a popular video game. From Wikipedia, \"The game features a grid of clickable squares, with hidden \"mines\" scattered throughout the board. The objective is to clear the board without detonating any mines, with help from clues about the number of neighboring mines in each field.\" Specifically, when a player clicks on a square (also called a cell) that doesn't contain a mine, the square reveals a number representing the number of immediately adjacent mines (including diagonally adjacent mines).\n",
    "\n",
    "You're given a two-dimensional array of strings that represents a Minesweeper board for a game in progress. You're also given a row and a column representing the indices of the next square that the player clicks on the board. Write a function that returns an updated board after the click (your function can mutate the input board).\n",
    "\n",
    "The board will always contain only strings, and each string will be one of the following:\n",
    "\n",
    "\"M\" A mine that has not been clicked on.\n",
    "\n",
    "\"X\" : A mine that has been clicked on, indicating a lost game.\n",
    "\n",
    "\"H\": A cell with no mine, but whose content is still hidden to the player. \n",
    "\n",
    "\"0-8\" : A cell with no mine, with an integer from 0 to 8 representing the number of adjacent mines. Note that this is a single-digit integer represented as a string. For example \"2\" would mean there are 2 adjacent cells with mines. Numbered cells are not clickable as they have already been revealed.\n",
    "\n",
    "If the player clicks on a mine, replace the \"M\" with \"X\", indicating the game was lost.\n",
    "\n",
    "If the player clicks on a cell adjacent to a mine, replace the \"H\" with a string representing the number of adjacent mines.\n",
    "\n",
    "If the player clicks on a cell with no adjacent mines, replace the \"H\" with \"0\". Additionally, reveal all of the adjacent hidden cells as if the player had clicked on those cells as well.\n",
    "\n",
    "You can assume the given row and column will always represent a legal move. The board can be of any size and have any number of mines in it.\n"
   ]
  },
  {
   "cell_type": "markdown",
   "id": "4a4879d1",
   "metadata": {},
   "source": [
    "### Test Input"
   ]
  },
  {
   "cell_type": "code",
   "execution_count": 61,
   "id": "af5f929d",
   "metadata": {},
   "outputs": [],
   "source": [
    "#Sample Input #1\n",
    "board1 = [[\"M\", \"M\"],[\"H\", \"X\"],[\"H\", \"H\"]]\n",
    "row1 = 2\n",
    "col1=0\n",
    "#Sample Output #1\n",
    "#[#[\"M\", \"M\"],#[\"2\", \"2\"],#[\"0\", \"0\"]]"
   ]
  },
  {
   "cell_type": "code",
   "execution_count": 62,
   "id": "aa17fe96",
   "metadata": {},
   "outputs": [],
   "source": [
    "#Sample Input #2\n",
    "board2 = [[\"H\", \"H\", \"H\", \"H\", \"M\"], [\"H\", \"1\", \"M\", \"H\", \"1\"],[\"H\", \"H\", \"X\", \"X\", \"X\"],\n",
    "[\"H\", \"H\", \"H\", \"X\", \"X\"]]\n",
    "row2 = 3\n",
    "col2 = 4\n",
    "#Sample Output #2\n",
    "#[[\"0\", \"1\", \"X\", \"H\", \"M\"], [\"0\", \"1\", \"M\", \"2\", \"1\"],[\"0\", \"1\", \"1\", \"1\", \"0\"], \n",
    "#[\"0\", \"0\", \"0\", \"0\", \"0\"]]"
   ]
  },
  {
   "cell_type": "markdown",
   "id": "88963eea",
   "metadata": {},
   "source": [
    "### Explanation"
   ]
  },
  {
   "cell_type": "markdown",
   "id": "8ecba207",
   "metadata": {},
   "source": [
    "The code is a solution to the problem of revealing cells in a game of Minesweeper when a cell is clicked. The function click() is called with the game board and the coordinates of the clicked cell.\n",
    "\n",
    "The click() function first checks whether the clicked cell contains a mine. If it does, the cell is marked with 'X' and the updated board is returned as the game is over. If not, it calls a recursive helper function dfs() to reveal the cell and possibly more cells.\n",
    "\n",
    "The dfs() function (short for Depth-First Search) is used to reveal the cells in the board. If the cell is not valid (i.e., it's out of bounds) or if it is not hidden ('H'), it returns without making any changes. Otherwise, it checks all eight neighboring cells to count the number of mines.\n",
    "\n",
    "For each valid neighbor, if it contains a mine ('M'), the count is incremented. If the final count of neighboring mines is greater than zero, the current cell is set to the count (i.e., it's converted from 'H' to a digit representing the number of adjacent mines). If the count is zero (i.e., there are no adjacent mines), the current cell is set to '0' and the dfs() function is recursively called on all neighboring cells. This way, it continues to reveal cells until it hits a cell that has at least one neighboring mine.\n",
    "\n",
    "The is_valid() function is a helper function to check if a cell is valid, i.e., if its coordinates are within the bounds of the board.\n",
    "\n",
    "The directions list is used to easily get the coordinates of all eight neighboring cells. This is a common technique used when you need to check or modify neighboring cells in a grid or matrix.\n",
    "\n",
    "In terms of time complexity, the code operates in O(n) where n is the number of cells in the board. The DFS algorithm ensures each cell is visited once in the worst-case scenario. The space complexity is also O(n) because in the worst case, each cell could be added to the call stack, such as in a scenario where all cells are empty and DFS traverses each one."
   ]
  },
  {
   "cell_type": "markdown",
   "id": "03a1c522",
   "metadata": {},
   "source": [
    "### Code"
   ]
  },
  {
   "cell_type": "code",
   "execution_count": 65,
   "id": "fffd11a1",
   "metadata": {},
   "outputs": [],
   "source": [
    "def revealMinesweeper(board, row, col):\n",
    "    if board[row][col] == 'M':\n",
    "        board[row][col]='X'\n",
    "    else:\n",
    "        dfs(board, row, col)\n",
    "    return board\n",
    "\n",
    "def dfs(board,row,col):\n",
    "    if not isValid(board,row,col) or board[row][col]!='H':\n",
    "        return\n",
    "\n",
    "    directions = [(-1,-1),(-1,0),(-1,1),(0,1),(1,1),(1,0),\n",
    "                 (1,-1),(0,-1)]\n",
    "    mineCount=0\n",
    "\n",
    "    for direction in directions:\n",
    "        r, c = row+direction[0], col+direction[1]\n",
    "        if isValid(board,r,c) and board[r][c]=='M':\n",
    "            mineCount+=1\n",
    "\n",
    "    if mineCount>0:\n",
    "        board[row][col]=str(mineCount)\n",
    "    else:\n",
    "        board[row][col]='0'\n",
    "        \n",
    "        for direction in directions:\n",
    "            r, c = row+direction[0], col+direction[1]\n",
    "            dfs(board,r,c)\n",
    "\n",
    "def isValid(board,row,col):\n",
    "    return 0<=row<len(board) and 0<=col<len(board[0])\n"
   ]
  },
  {
   "cell_type": "markdown",
   "id": "a62023f4",
   "metadata": {},
   "source": [
    "### Test Output"
   ]
  },
  {
   "cell_type": "code",
   "execution_count": 66,
   "id": "b9fc1d28",
   "metadata": {},
   "outputs": [
    {
     "data": {
      "text/plain": [
       "[['M', 'M'], ['2', 'X'], ['0', '0']]"
      ]
     },
     "execution_count": 66,
     "metadata": {},
     "output_type": "execute_result"
    }
   ],
   "source": [
    "revealMinesweeper(board1, row1, col1)"
   ]
  },
  {
   "cell_type": "code",
   "execution_count": 67,
   "id": "4285971e",
   "metadata": {},
   "outputs": [
    {
     "data": {
      "text/plain": [
       "[['H', 'H', 'H', 'H', 'M'],\n",
       " ['H', '1', 'M', 'H', '1'],\n",
       " ['H', 'H', 'X', 'X', 'X'],\n",
       " ['H', 'H', 'H', 'X', 'X']]"
      ]
     },
     "execution_count": 67,
     "metadata": {},
     "output_type": "execute_result"
    }
   ],
   "source": [
    "revealMinesweeper(board2, row2, col2)"
   ]
  },
  {
   "cell_type": "markdown",
   "id": "9f869215",
   "metadata": {},
   "source": [
    "### Time Complexity"
   ]
  },
  {
   "cell_type": "markdown",
   "id": "eecc1500",
   "metadata": {},
   "source": [
    "O(w*h) time where w is the width of the board, and\n",
    "h is the height of the board. This is because in the worst-case scenario, we may need to visit each cell on the board."
   ]
  },
  {
   "cell_type": "markdown",
   "id": "7dc7da16",
   "metadata": {},
   "source": [
    "### Space Complexity"
   ]
  },
  {
   "cell_type": "markdown",
   "id": "0e0a4f05",
   "metadata": {},
   "source": [
    "O(w*h) space, due to the depth-first search, which could potentially fill up the function call stack with n function calls. This is the worst-case scenario and would occur when all cells on the board are empty and DFS visits every cell. "
   ]
  },
  {
   "cell_type": "markdown",
   "id": "5ec3e21a",
   "metadata": {},
   "source": [
    "# 57) Search In Sorted Matrix "
   ]
  },
  {
   "cell_type": "markdown",
   "id": "b88f13cf",
   "metadata": {},
   "source": [
    "### Question"
   ]
  },
  {
   "cell_type": "markdown",
   "id": "afe5a28e",
   "metadata": {},
   "source": [
    "You're given a two-dimensional array (a matrix) of distinct integers and a target integer. Each row in the matrix is sorted, and each column is also sorted; the matrix doesn't necessarily have the same height and width.\n",
    "\n",
    "Write a function that returns an array of the row and column indices of the target integer if it's contained in the matrix, otherwise [-1, -1].\n"
   ]
  },
  {
   "cell_type": "markdown",
   "id": "ca8cb93d",
   "metadata": {},
   "source": [
    "### Test Input"
   ]
  },
  {
   "cell_type": "code",
   "execution_count": 45,
   "id": "7904ede9",
   "metadata": {},
   "outputs": [],
   "source": [
    "#Sample Input\n",
    "matrix = [[1, 4, 7, 12, 15, 1000], \n",
    "          [2, 5, 19, 31, 32, 1001], \n",
    "          [3, 8, 24, 33, 35, 1002],\n",
    "          [40, 41, 42, 44, 45, 1003],\n",
    "          [99, 100, 103, 106, 128, 1004]]\n",
    "target = 44\n",
    "#Sample Output\n",
    "#[3, 3]"
   ]
  },
  {
   "cell_type": "markdown",
   "id": "087b5024",
   "metadata": {},
   "source": [
    "### Explanation"
   ]
  },
  {
   "cell_type": "markdown",
   "id": "2caf5db4",
   "metadata": {},
   "source": [
    "We start from the top-right corner of the matrix, where the value is 1000.\n",
    "\n",
    "Since 1000 is greater than 44, we move one column to the left, where the value is 15.\n",
    "\n",
    "15 is less than 44, so we move one row down to 32.\n",
    "\n",
    "32 is less than 44, so we move one row down to 35.\n",
    "\n",
    "35 is less than 44, so we move one row down to 45.\n",
    "\n",
    "45 is larger than 44, so we move one column to the left, where we find 44.\n",
    "\n",
    "Since we've found our target, we return its indices, [3, 3]."
   ]
  },
  {
   "cell_type": "markdown",
   "id": "1a1e916e",
   "metadata": {},
   "source": [
    "### Code"
   ]
  },
  {
   "cell_type": "code",
   "execution_count": 47,
   "id": "55b7894c",
   "metadata": {},
   "outputs": [],
   "source": [
    "def searchSortedMatrix(matrix, target):\n",
    "    row = 0\n",
    "    col = len(matrix[0])-1\n",
    "    \n",
    "    while row<len(matrix) and col>=0:\n",
    "        if matrix[row][col]>target:\n",
    "            col-=1\n",
    "        elif matrix[row][col]<target:\n",
    "            row+=1\n",
    "        else:\n",
    "            return [row,col]\n",
    "    return [-1,-1]"
   ]
  },
  {
   "cell_type": "markdown",
   "id": "62d47b0a",
   "metadata": {},
   "source": [
    "### Test Output"
   ]
  },
  {
   "cell_type": "code",
   "execution_count": 48,
   "id": "e441ce5c",
   "metadata": {},
   "outputs": [
    {
     "data": {
      "text/plain": [
       "[3, 3]"
      ]
     },
     "execution_count": 48,
     "metadata": {},
     "output_type": "execute_result"
    }
   ],
   "source": [
    "searchSortedMatrix(matrix, target)"
   ]
  },
  {
   "cell_type": "markdown",
   "id": "e15bb87d",
   "metadata": {},
   "source": [
    "### Time Complexity"
   ]
  },
  {
   "cell_type": "markdown",
   "id": "c55dfb3b",
   "metadata": {},
   "source": [
    "The time complexity is O(n + m) where n is the number of rows and m is the number of columns. In the worst case, we might have to traverse the entire row (from the top-right corner to the top-left corner) and the entire column (from the top-left corner to the bottom-left corner)."
   ]
  },
  {
   "cell_type": "markdown",
   "id": "7e728cad",
   "metadata": {},
   "source": [
    "### Space Complexity"
   ]
  },
  {
   "cell_type": "markdown",
   "id": "5de4a52b",
   "metadata": {},
   "source": [
    "The space complexity is O(1) since we don't use any additional data structures whose size scales with the input."
   ]
  },
  {
   "cell_type": "markdown",
   "id": "026c9ab5",
   "metadata": {},
   "source": [
    "# 58) Three Number Sort"
   ]
  },
  {
   "cell_type": "markdown",
   "id": "3d47d567",
   "metadata": {},
   "source": [
    "### Question"
   ]
  },
  {
   "cell_type": "markdown",
   "id": "9087a449",
   "metadata": {},
   "source": [
    "You're given an array of integers and another array of three distinct integers. The first array is guaranteed to only contain integers that are in the second array, and the second array represents a desired order for the integers in the first array. For example, a second array of [x, y, z] represents a desired order of [x, x, ......., y, y, ........, z, z] in the first array.\n",
    "\n",
    "Write a function that sorts the first array according to the desired order in the second array.\n",
    "\n",
    "The function should perform this in place (i.e., it should mutate the input array), and it shouldn't use any auxiliary space (i.e., it should run with constant space: 0(1) space).\n",
    "\n",
    "Note that the desired order won't necessarily be ascending or descending and that the first array won't necessarily contain all three integers found in the second array-it might only contain one or two.\n"
   ]
  },
  {
   "cell_type": "markdown",
   "id": "835df7ca",
   "metadata": {},
   "source": [
    "### Test Input"
   ]
  },
  {
   "cell_type": "code",
   "execution_count": 52,
   "id": "8b81ebd0",
   "metadata": {},
   "outputs": [],
   "source": [
    "#Sample Input\n",
    "array = [1, 0, 0, -1, -1, 0, 1, 1] \n",
    "order = [0, 1, -1]\n",
    "#Sample Output\n",
    "#[0, 0, 0, 1, 1, 1, −1, −1]"
   ]
  },
  {
   "cell_type": "markdown",
   "id": "b123a620",
   "metadata": {},
   "source": [
    "### Explanation"
   ]
  },
  {
   "cell_type": "markdown",
   "id": "00235d5a",
   "metadata": {},
   "source": [
    "Let's consider an example where array = [1, 0, 0, -1, -1, 0, 1, 1] and order = [0, 1, -1].\n",
    "\n",
    "We initialize firstElement = 0, secondElement = 0, and thirdElement = 7.\n",
    "\n",
    "We start by iterating through the array with secondElement pointer. If the current element is 0 (first value in order), we swap it with the element at firstElement pointer and move both pointers to the right. If the current element is 1 (second value in order), we just move the secondElement pointer to the right. If the current element is -1 (third value in order), we swap it with the element at thirdElement pointer and move the thirdElement pointer to the left. We continue this process until the secondElement pointer is not greater than the thirdElement pointer. The final array would look like this: [0, 0, 0, 1, 1, 1, -1, -1].\n",
    "\n",
    "This algorithm works because it gradually groups elements of the same kind together and it maintains the relative order between different groups.\n",
    "\n",
    "This table explains the movement of pointers and the array at each step:\n",
    "\n",
    "Array State\tfirstElement Value\tsecondElement Value\tthirdElement Value\n",
    "[1, 0, 0, -1, -1, 0, 1, 1]\t0\t0\t7\n",
    "[1, 0, 0, -1, -1, 0, 1, 1]\t0\t1\t6\n",
    "[0, 1, 0, -1, -1, 0, 1, 1]\t1\t2\t6\n",
    "[0, 0, 1, -1, -1, 0, 1, 1]\t2\t3\t6\n",
    "[0, 0, 1, -1, -1, 0, 1, 1]\t2\t3\t5\n",
    "[0, 0, -1, 1, -1, 0, 1, 1]\t2\t4\t5\n",
    "[0, 0, -1, 1, -1, 0, 1, 1]\t2\t4\t4\n",
    "[0, 0, -1, -1, 1, 0, 1, 1]\t2\t5\t4\n",
    "[0, 0, 0, -1, 1, -1, 1, 1]\t3\t6\t4\n",
    "[0, 0, 0, 1, 1, -1, -1, 1]\t3\t7\t3"
   ]
  },
  {
   "cell_type": "markdown",
   "id": "ae1e3ad2",
   "metadata": {},
   "source": [
    "### Code"
   ]
  },
  {
   "cell_type": "code",
   "execution_count": 55,
   "id": "3991cee9",
   "metadata": {},
   "outputs": [],
   "source": [
    "def threeNumberSort(array, order):\n",
    "    first, second, third = 0 , 0 , len(array)-1\n",
    "    while second<=third:\n",
    "        value=array[second]\n",
    "        if value==order[0]:\n",
    "            array[first],array[second]=array[second],array[first]\n",
    "            first+=1\n",
    "            second+=1\n",
    "        elif value==order[1]:\n",
    "            second+=1\n",
    "        else:\n",
    "            array[second],array[third]=array[third],array[second]\n",
    "            third-=1\n",
    "    return array"
   ]
  },
  {
   "cell_type": "markdown",
   "id": "93de295f",
   "metadata": {},
   "source": [
    "### Test Output"
   ]
  },
  {
   "cell_type": "code",
   "execution_count": 56,
   "id": "03c62776",
   "metadata": {},
   "outputs": [
    {
     "data": {
      "text/plain": [
       "[0, 0, 0, 1, 1, 1, -1, -1]"
      ]
     },
     "execution_count": 56,
     "metadata": {},
     "output_type": "execute_result"
    }
   ],
   "source": [
    "threeNumberSort(array, order)"
   ]
  },
  {
   "cell_type": "markdown",
   "id": "79a17440",
   "metadata": {},
   "source": [
    "### Time Complexity"
   ]
  },
  {
   "cell_type": "markdown",
   "id": "2a5c19b4",
   "metadata": {},
   "source": [
    "The time complexity is O(n), where n is the length of the input array. This is because we're iterating over each element of the array exactly once."
   ]
  },
  {
   "cell_type": "markdown",
   "id": "011db6c0",
   "metadata": {},
   "source": [
    "### Space Complexity"
   ]
  },
  {
   "cell_type": "markdown",
   "id": "4010360a",
   "metadata": {},
   "source": [
    "The space complexity is O(1), because we're sorting the array in-place and not using any auxiliary data structures."
   ]
  },
  {
   "cell_type": "markdown",
   "id": "6d62a4ee",
   "metadata": {},
   "source": [
    "# 59) Min Max Stack Construction "
   ]
  },
  {
   "cell_type": "markdown",
   "id": "c99eb057",
   "metadata": {},
   "source": [
    "### Question"
   ]
  },
  {
   "cell_type": "markdown",
   "id": "0b85082c",
   "metadata": {},
   "source": [
    "Write a MinMaxStack class for a Min Max Stack. The class should support:\n",
    "\n",
    "Pushing and popping values on and off the stack.\n",
    "\n",
    "Peeking at the value at the top of the stack.\n",
    "\n",
    "Getting both the minimum and the maximum values in the stack at any given point in time.\n",
    "\n",
    "All class methods, when considered independently, should run in constant time and with constant space.\n",
    "\n"
   ]
  },
  {
   "cell_type": "markdown",
   "id": "3378e670",
   "metadata": {},
   "source": [
    "### Test Input"
   ]
  },
  {
   "cell_type": "markdown",
   "id": "47cf4e87",
   "metadata": {},
   "source": [
    "Sample Usage\n",
    "\n",
    "\n",
    "// All operations below are performed sequentially. MinMaxStack(): - // instantiate a \n",
    "\n",
    "MinMaxStack\n",
    "\n",
    "push(5): -\n",
    "\n",
    "getMin(): 5\n",
    "\n",
    "getMax(): 5\n",
    "\n",
    "peek(): 5\n",
    "\n",
    "push(7): -\n",
    "\n",
    "getMin(): 5\n",
    "\n",
    "getMax(): 7\n",
    "\n",
    "peek(): 7\n",
    "\n",
    "push(2): -\n",
    "\n",
    "getMin(): 2\n",
    "\n",
    "getMax(): 7\n",
    "\n",
    "peek(): 2\n",
    "\n",
    "pop(): 2\n",
    "\n",
    "pop(): 7\n",
    "\n",
    "getMin(): 5\n",
    "\n",
    "getMax(): 5\n",
    "\n",
    "peek(): 5\n"
   ]
  },
  {
   "cell_type": "markdown",
   "id": "e7433699",
   "metadata": {},
   "source": [
    "### Explanation"
   ]
  },
  {
   "cell_type": "markdown",
   "id": "cfface91",
   "metadata": {},
   "source": [
    "For the given problem, we need to be able to keep track of the minimum and maximum values of the stack at any given point in time.\n",
    "\n",
    "We maintain two stacks:\n",
    "One for storing the actual values (stack).\n",
    "One for storing a dictionary with the minimum and maximum values up to that point (minMaxStack).\n",
    "For example:\n",
    "\n",
    "When pushing 5, stack becomes [5], and minMaxStack becomes [{'min': 5, 'max': 5}].\n",
    "When pushing 7, stack becomes [5, 7], and minMaxStack becomes [{'min': 5, 'max': 5}, {'min': 5, 'max': 7}].\n",
    "When pushing 2, stack becomes [5, 7, 2], and minMaxStack becomes [{'min': 5, 'max': 5}, {'min': 5, 'max': 7}, {'min': 2, 'max': 7}].\n",
    "... and so on."
   ]
  },
  {
   "cell_type": "markdown",
   "id": "f7a8e8ba",
   "metadata": {},
   "source": [
    "### Code"
   ]
  },
  {
   "cell_type": "code",
   "execution_count": 5,
   "id": "c6b9790f",
   "metadata": {},
   "outputs": [],
   "source": [
    "class MinMaxStack:\n",
    "    def __init__(self, value):\n",
    "        self.minMaxStack=[]\n",
    "        self.stack=[]\n",
    "        \n",
    "    def peek(self):\n",
    "        return self.stack[-1]\n",
    "\n",
    "    def pop(self):\n",
    "        self.minMaxStack.pop()\n",
    "        return self.stack.pop()\n",
    "\n",
    "    def push(self, number):\n",
    "        self.stack.append(number)\n",
    "        if not self.minMaxStack:\n",
    "            self.minMaxStack.append({\"min\": number, \"max\":number})\n",
    "        else:\n",
    "            lastMinMax = self.minMaxStack[-1]\n",
    "            newMinMax={\n",
    "                'min': min(number,lastMinMax['min']),\n",
    "                'max':max(number, lastMinMax['max'])\n",
    "            }\n",
    "            self.minMaxStack.append(newMinMax)\n",
    "    def getMin(self):\n",
    "        return self.minMaxStack[-1]['min']\n",
    "        \n",
    "    def getMax(self):\n",
    "        return self.minMaxStack[-1]['max']"
   ]
  },
  {
   "cell_type": "markdown",
   "id": "b7fd5efb",
   "metadata": {},
   "source": [
    "### Time and Space Complexity"
   ]
  },
  {
   "cell_type": "markdown",
   "id": "bcf7c5c3",
   "metadata": {},
   "source": [
    "push(): O(1) time and O(1) space - It takes constant time and space to push a value onto both the stacks.\n",
    "\n",
    "pop(): O(1) time and O(1) space - Popping from both stacks takes constant time and space.\n",
    "\n",
    "getMin(): O(1) time and O(1) space - We are just fetching the last item from the minMaxStack.\n",
    "\n",
    "getMax(): O(1) time and O(1) space - Same as getMin().\n",
    "\n",
    "peek(): O(1) time and O(1) space - We are just fetching the last item from the stack."
   ]
  },
  {
   "cell_type": "markdown",
   "id": "2915e147",
   "metadata": {},
   "source": [
    "# 60) Balanced Brackets "
   ]
  },
  {
   "cell_type": "markdown",
   "id": "343ba751",
   "metadata": {},
   "source": [
    "### Question"
   ]
  },
  {
   "cell_type": "markdown",
   "id": "17988bc1",
   "metadata": {},
   "source": [
    "Write a function that takes in a string made up of brackets ((, [, {, ), ], and } ) and other optional characters. The function should return a boolean representing whether the string is balanced with regards to brackets.\n",
    "\n",
    "A string is said to be balanced if it has as many opening brackets of a certain type as it has closing brackets of that type and if no bracket is unmatched. Note that an opening bracket can't match a corresponding closing bracket that comes before it, and similarly, a closing bracket can't match a corresponding opening bracket that comes after it. Also, brackets can't overlap each other as in [(]).\n",
    "\n"
   ]
  },
  {
   "cell_type": "markdown",
   "id": "093821ef",
   "metadata": {},
   "source": [
    "### Test Input"
   ]
  },
  {
   "cell_type": "code",
   "execution_count": 10,
   "id": "46148b48",
   "metadata": {},
   "outputs": [],
   "source": [
    "#Sample Input\n",
    "string = \"([]) () { } ( ( ) ) ( ) ( )\"\n",
    "#Sample Output\n",
    "#true // it's balanced"
   ]
  },
  {
   "cell_type": "markdown",
   "id": "b6ffff3d",
   "metadata": {},
   "source": [
    "### Explanation"
   ]
  },
  {
   "cell_type": "markdown",
   "id": "84a4bf0e",
   "metadata": {},
   "source": [
    "Following function determines if a string of brackets is balanced using a stack data structure.\n",
    "\n",
    "For each character in the string:\n",
    "\n",
    "If it's an opening bracket (([{), push it onto the stack.\n",
    "\n",
    "If it's a closing bracket ()]}):\n",
    "\n",
    "If the stack is empty, the string is not balanced (because there's no corresponding opening bracket).\n",
    "\n",
    "If the top of the stack matches the corresponding opening bracket for the current closing bracket, pop the stack.\n",
    "\n",
    "If it doesn't match, the string is not balanced.\n",
    "\n",
    "After processing all the characters, if the stack is empty, the string is balanced.\n",
    "\n",
    "For example:\n",
    "\n",
    "With the string \"([])(){}(()())()\":\n",
    "\n",
    "The first character is (, so push it onto the stack.\n",
    "\n",
    "The next character is [, so push it onto the stack.\n",
    "\n",
    "The next character is ]. The top of the stack is [, which matches the closing bracket, so pop the stack.\n",
    "\n",
    "This process continues for the entire string.\n",
    "\n",
    "By the end, the stack will be empty, indicating that the string is balanced."
   ]
  },
  {
   "cell_type": "markdown",
   "id": "b20227c2",
   "metadata": {},
   "source": [
    "### Code"
   ]
  },
  {
   "cell_type": "code",
   "execution_count": 13,
   "id": "24d471ef",
   "metadata": {},
   "outputs": [],
   "source": [
    "def balancedBrackets(string):\n",
    "    openingBrackets = '([{'\n",
    "    closingBrackets = ')]}'\n",
    "    matchingBrackets = {')':'(', ']':'[', '}':'{'}\n",
    "    stack = []\n",
    "    for char in string:\n",
    "        # If the character is an opening bracket\n",
    "        if char in openingBrackets:\n",
    "            stack.append(char)\n",
    "        # If the character is a closing bracket\n",
    "        elif char in closingBrackets:\n",
    "            # If the stack is empty, it's not balanced\n",
    "            if len(stack) == 0:\n",
    "                return False\n",
    "            # Check if the last character in the stack matches the corresponding opening bracket\n",
    "            if stack[-1] == matchingBrackets[char]:\n",
    "                stack.pop()\n",
    "            else:\n",
    "                return False \n",
    "    # If the stack is empty, the string is balanced\n",
    "    return len(stack) == 0\n"
   ]
  },
  {
   "cell_type": "markdown",
   "id": "165b8e18",
   "metadata": {},
   "source": [
    "### Test Output"
   ]
  },
  {
   "cell_type": "code",
   "execution_count": 12,
   "id": "17575a44",
   "metadata": {},
   "outputs": [
    {
     "data": {
      "text/plain": [
       "True"
      ]
     },
     "execution_count": 12,
     "metadata": {},
     "output_type": "execute_result"
    }
   ],
   "source": [
    "balancedBrackets(string)"
   ]
  },
  {
   "cell_type": "markdown",
   "id": "84e6ec90",
   "metadata": {},
   "source": [
    "### Time Complexity"
   ]
  },
  {
   "cell_type": "markdown",
   "id": "08bddd8a",
   "metadata": {},
   "source": [
    " O(n) - We traverse the string of length n once."
   ]
  },
  {
   "cell_type": "markdown",
   "id": "5cafa698",
   "metadata": {},
   "source": [
    "### Space Complexity"
   ]
  },
  {
   "cell_type": "markdown",
   "id": "b1c5d714",
   "metadata": {},
   "source": [
    "O(n) - In the worst case, we might push all characters onto the stack."
   ]
  },
  {
   "cell_type": "markdown",
   "id": "7660d671",
   "metadata": {},
   "source": [
    "# 61) Sunset Views"
   ]
  },
  {
   "cell_type": "markdown",
   "id": "f6139141",
   "metadata": {},
   "source": [
    "### Question"
   ]
  },
  {
   "cell_type": "markdown",
   "id": "b8483002",
   "metadata": {},
   "source": [
    "Given an array of buildings and a direction that all of the buildings face, return an array of the indices of the buildings that can see the sunset.\n",
    "\n",
    "A building can see the sunset if it's strictly taller than all of the buildings that come after it in the direction that it faces.\n",
    "\n",
    "The input array named buildings contains positive, non-zero integers representing the heights of the buildings. A building at index i thus has a height denoted by buildings[i]. All of the buildings face the same direction, and this direction is either east or west, denoted by the input string named direction, which will always be equal to either \"EAST\" or \"WEST\". In relation to the input array, you can interpret these directions as right for east and left for west.\n",
    "\n",
    "Important note: the indices in the ouput array should be sorted in ascending order.\n"
   ]
  },
  {
   "cell_type": "markdown",
   "id": "764dca6c",
   "metadata": {},
   "source": [
    "### Test Input"
   ]
  },
  {
   "cell_type": "code",
   "execution_count": 15,
   "id": "5559bb7a",
   "metadata": {},
   "outputs": [],
   "source": [
    "#Sample Input #1\n",
    "buildings1 = [3, 5, 4, 4, 3, 1, 3, 2]\n",
    "direction1 =\"EAST\"\n",
    "#Sample Output #1\n",
    "#[1, 3, 6, 7]\n",
    "#Sample Input #2\n",
    "buildings2 = [3, 5, 4, 4, 3, 1, 3, 2]\n",
    "direction2 =\"WEST\"\n",
    "#Sample Output #2\n",
    "#[0,1]"
   ]
  },
  {
   "cell_type": "markdown",
   "id": "d0b5d092",
   "metadata": {},
   "source": [
    "### Explanation"
   ]
  },
  {
   "cell_type": "markdown",
   "id": "cbd9edbc",
   "metadata": {},
   "source": [
    "#### 1) Array Solution:\n",
    "\n",
    "The task is to find buildings which can see the sunset. A building can see the sunset if no subsequent buildings (in the given direction) are taller than it.\n",
    "\n",
    "We start by setting up our traversal direction based on the direction of the sunset. If the direction is \"EAST\", we begin from the last building. Otherwise, we begin from the first.\n",
    "We iterate over the array, and with each building, we check if its height is greater than the current maximum height we have seen so far. If it is, we add it to our canSee list.\n",
    "We update our current maximum height with every building.\n",
    "Finally, if the direction is \"EAST\", we return our result in reversed order. Otherwise, we return it as is.\n",
    "For the example:\n",
    "buildings = [3, 5, 4, 4, 3, 1, 3, 2] and direction = \"EAST\"\n",
    "\n",
    "We start from the end and traverse backwards. Buildings with indices 7, 6, and 1 can see the sunset. We add them to our list in the order [7, 6, 1].\n",
    "Since the direction is \"EAST\", we return the reversed list as [1, 6, 7].\n",
    "\n",
    "#### 2) Stack Solution:\n",
    "\n",
    "We want to determine which buildings can see the sunset. The main idea is to traverse the list of buildings from one end based on the direction of the sunset. We use a list candidateBuildings to keep track of buildings that are candidates for viewing the sunset.\n",
    "\n",
    "We start from one end of the buildings array based on the sunset direction.\n",
    "\n",
    "For each building, we check its height against the most recent building height stored in candidateBuildings.\n",
    "If the current building is taller than the last building in candidateBuildings, we pop the last building from the list. We repeat this until we find a taller building or the list becomes empty.\n",
    "\n",
    "We then append the current building to the candidateBuildings list.\n",
    "\n",
    "Once all buildings are processed, if the direction is \"WEST\", we return the reversed list of candidateBuildings to get the result in ascending order. Otherwise, we return the list as it is.\n",
    "\n",
    "For the example:\n",
    "buildings = [3, 5, 4, 4, 3, 1, 3, 2] and direction = \"EAST\"\n",
    "\n",
    "We start from the end of the array.\n",
    "\n",
    "We keep adding buildings to our candidateBuildings list until we find a taller building.\n",
    "\n",
    "Finally, we return [1, 6, 7] as buildings with these indices can see the sunset."
   ]
  },
  {
   "cell_type": "markdown",
   "id": "aa5b4cc0",
   "metadata": {},
   "source": [
    "### Code"
   ]
  },
  {
   "cell_type": "code",
   "execution_count": 25,
   "id": "3570d6a1",
   "metadata": {},
   "outputs": [],
   "source": [
    "def sunsetViewsArraySol(buildings, direction):\n",
    "    canSee=[]\n",
    "    currentMax=0\n",
    "    startIdx = 0 if direction==\"WEST\" else len(buildings)-1\n",
    "    step = 1 if direction==\"WEST\" else -1 \n",
    "    idx=startIdx\n",
    "    while idx>=0 and idx<len(buildings):\n",
    "        height=buildings[idx]\n",
    "        if height>currentMax:\n",
    "            canSee.append(idx)\n",
    "        currentMax=max(currentMax,height)\n",
    "        idx+=step \n",
    "    if direction=='EAST':\n",
    "       return canSee[::-1]\n",
    "    return canSee"
   ]
  },
  {
   "cell_type": "code",
   "execution_count": 30,
   "id": "1ea05113",
   "metadata": {},
   "outputs": [],
   "source": [
    "\n",
    "def sunsetViewsStackSol(buildings, direction):\n",
    "    candidateBuildings = []\n",
    "\n",
    "    # Set up starting index based on direction\n",
    "    startIdx = 0 if direction == \"EAST\" else len(buildings) - 1\n",
    "    step = 1 if direction == \"EAST\" else -1\n",
    "    idx = startIdx\n",
    "    \n",
    "    while idx >= 0 and idx < len(buildings):\n",
    "        buildingHeight = buildings[idx]\n",
    "        \n",
    "        # Pop buildings from candidateBuildings list until we find a building taller than current\n",
    "        while len(candidateBuildings) > 0 and buildings[candidateBuildings[-1]] <= buildingHeight:\n",
    "            candidateBuildings.pop()\n",
    "        \n",
    "        # Add current building's index to candidateBuildings\n",
    "        candidateBuildings.append(idx)\n",
    "        \n",
    "        # Move to the next building in the specified direction\n",
    "        idx += step\n",
    "    \n",
    "    # Return result based on direction\n",
    "    if direction == \"WEST\":\n",
    "        return candidateBuildings[::-1]\n",
    "    \n",
    "    return candidateBuildings\n"
   ]
  },
  {
   "cell_type": "markdown",
   "id": "d1a81216",
   "metadata": {},
   "source": [
    "### Test Output"
   ]
  },
  {
   "cell_type": "code",
   "execution_count": 27,
   "id": "acec843f",
   "metadata": {},
   "outputs": [
    {
     "data": {
      "text/plain": [
       "[1, 3, 6, 7]"
      ]
     },
     "execution_count": 27,
     "metadata": {},
     "output_type": "execute_result"
    }
   ],
   "source": [
    "sunsetViewsArraySol(buildings1, direction1)"
   ]
  },
  {
   "cell_type": "code",
   "execution_count": 26,
   "id": "c5064026",
   "metadata": {},
   "outputs": [
    {
     "data": {
      "text/plain": [
       "[0, 1]"
      ]
     },
     "execution_count": 26,
     "metadata": {},
     "output_type": "execute_result"
    }
   ],
   "source": [
    "sunsetViewsArraySol(buildings2, direction2)"
   ]
  },
  {
   "cell_type": "code",
   "execution_count": 31,
   "id": "58eb35f8",
   "metadata": {},
   "outputs": [
    {
     "data": {
      "text/plain": [
       "[1, 3, 6, 7]"
      ]
     },
     "execution_count": 31,
     "metadata": {},
     "output_type": "execute_result"
    }
   ],
   "source": [
    "sunsetViewsStackSol(buildings1, direction1)"
   ]
  },
  {
   "cell_type": "code",
   "execution_count": 32,
   "id": "24126422",
   "metadata": {},
   "outputs": [
    {
     "data": {
      "text/plain": [
       "[0, 1]"
      ]
     },
     "execution_count": 32,
     "metadata": {},
     "output_type": "execute_result"
    }
   ],
   "source": [
    "sunsetViewsStackSol(buildings2, direction2)"
   ]
  },
  {
   "cell_type": "markdown",
   "id": "3d254c71",
   "metadata": {},
   "source": [
    "### Time Complexity"
   ]
  },
  {
   "cell_type": "markdown",
   "id": "41b5f595",
   "metadata": {},
   "source": [
    "Solution-1:\n",
    "\n",
    "We traverse the buildings array once, and potentially reverse the result which takes O(n).\n",
    "\n",
    "Solution-2:\n",
    "\n",
    "We traverse the buildings array once, and the while loop for popping from the candidate list ensures that each building is processed only once. "
   ]
  },
  {
   "cell_type": "markdown",
   "id": "03436871",
   "metadata": {},
   "source": [
    "### Space Complexity"
   ]
  },
  {
   "cell_type": "markdown",
   "id": "101ce1b7",
   "metadata": {},
   "source": [
    "Solution-1:\n",
    "\n",
    "In the worst case, all buildings can see the sunset, so our result list will have n elements.\n",
    "\n",
    "Solution-2:\n",
    "\n",
    "In the worst case, all buildings might be stored in the candidateBuildings list."
   ]
  },
  {
   "cell_type": "markdown",
   "id": "68936de5",
   "metadata": {},
   "source": [
    "# 62) Best Digits "
   ]
  },
  {
   "cell_type": "markdown",
   "id": "eb61b5f4",
   "metadata": {},
   "source": [
    "### Question"
   ]
  },
  {
   "cell_type": "markdown",
   "id": "02d513ec",
   "metadata": {},
   "source": [
    "Write a function that takes a positive integer represented as a string number and an integer numDigits. \n",
    "Remove numDigits from the string so that the number represented by the string is as large as possible afterwards.\n",
    "\n",
    "Note that the order of the remaining digits cannot be changed. You can assume numDigits will always be less than the length of number and greater than or equal to 0.\n"
   ]
  },
  {
   "cell_type": "markdown",
   "id": "8385e896",
   "metadata": {},
   "source": [
    "### Test Input"
   ]
  },
  {
   "cell_type": "code",
   "execution_count": 33,
   "id": "6d2e95c9",
   "metadata": {},
   "outputs": [],
   "source": [
    "#Sample Input\n",
    "number = \"462839\"\n",
    "numDigits = 2\n",
    "#Sample Output\n",
    "#\"6839\" // remove digits 4 and 2"
   ]
  },
  {
   "cell_type": "markdown",
   "id": "d247c3ec",
   "metadata": {},
   "source": [
    "### Explanation"
   ]
  },
  {
   "cell_type": "markdown",
   "id": "00652ba5",
   "metadata": {},
   "source": [
    "The goal is to remove numDigits from the number string in a way that the remaining number is maximized. The approach is to use a stack to keep track of digits.\n",
    "\n",
    "For every digit in the number, if the current digit is greater than the digit at the top of the stack, and we still have some digits to remove, then we pop the top of the stack.\n",
    "\n",
    "If we have removed all necessary digits before processing the whole number, then we append the rest of the digits from the number to the stack.\n",
    "\n",
    "If there are still some digits left to remove after processing the entire number, then we pop from the stack until we've removed the required number of digits.\n",
    "\n",
    "We convert the stack into a string, and remove any leading zeros.\n",
    "\n",
    "For the example:\n",
    "\n",
    "number = \"462839\" and numDigits = 2\n",
    "\n",
    "We start with the digit \"4\", stack is empty, so we add \"4\" to the stack.\n",
    "\n",
    "Next is \"6\", which is greater than \"4\". We remove \"4\" from the stack and add \"6\".\n",
    "\n",
    "\"2\" is next, and it's less than \"6\". So, we just add \"2\" to the stack.\n",
    "\n",
    "\"8\" is greater than \"2\". We remove \"2\" and add \"8\". At this point, we've removed 2 digits.\n",
    "\n",
    "We add the rest of the digits \"3\" and \"9\" to the stack.\n",
    "\n",
    "The resulting number from the stack is \"6839\"."
   ]
  },
  {
   "cell_type": "markdown",
   "id": "dc3fcf1c",
   "metadata": {},
   "source": [
    "### Code"
   ]
  },
  {
   "cell_type": "code",
   "execution_count": 36,
   "id": "b209a87a",
   "metadata": {},
   "outputs": [],
   "source": [
    "def bestDigits(number, numDigits):\n",
    "    # Use a stack to hold the digits.\n",
    "    stack = []\n",
    "    \n",
    "    for digit in number:\n",
    "        # Pop from stack if the current digit is greater than the top of the stack\n",
    "        # and we still need to remove some digits.\n",
    "        while numDigits > 0 and stack and stack[-1] < digit:\n",
    "            stack.pop()\n",
    "            numDigits -= 1\n",
    "        stack.append(digit)\n",
    "\n",
    "    # Handle cases where the largest digits are at the end.\n",
    "    # For example, \"11122\" and numDigits = 2, we should remove the last two digits.\n",
    "    while numDigits > 0:\n",
    "        stack.pop()\n",
    "        numDigits -= 1\n",
    "\n",
    "    # Convert the stack to a string.\n",
    "    # We also handle the case where the result might have leading zeros.\n",
    "    return ''.join(stack).lstrip('0') or '0'\n"
   ]
  },
  {
   "cell_type": "markdown",
   "id": "6fad7cf9",
   "metadata": {},
   "source": [
    "### Test Output"
   ]
  },
  {
   "cell_type": "code",
   "execution_count": 37,
   "id": "a55a6f54",
   "metadata": {},
   "outputs": [
    {
     "data": {
      "text/plain": [
       "'6839'"
      ]
     },
     "execution_count": 37,
     "metadata": {},
     "output_type": "execute_result"
    }
   ],
   "source": [
    "bestDigits(number, numDigits)"
   ]
  },
  {
   "cell_type": "markdown",
   "id": "bb51ed6c",
   "metadata": {},
   "source": [
    "### Time Complexity"
   ]
  },
  {
   "cell_type": "markdown",
   "id": "2e3d3343",
   "metadata": {},
   "source": [
    "O(n) - We process each digit in the number string once. Despite there is an inner while loop, since numDIgits will always be less than the length of number, it is still O(n)."
   ]
  },
  {
   "cell_type": "markdown",
   "id": "a901fa3a",
   "metadata": {},
   "source": [
    "### Space Complexity"
   ]
  },
  {
   "cell_type": "markdown",
   "id": "55f3e2c5",
   "metadata": {},
   "source": [
    "O(n) - In the worst case, we might store all digits in the stack."
   ]
  },
  {
   "cell_type": "markdown",
   "id": "27e93417",
   "metadata": {},
   "source": [
    "# 63) Sort Stack "
   ]
  },
  {
   "cell_type": "markdown",
   "id": "ad9a70fc",
   "metadata": {},
   "source": [
    "### Question"
   ]
  },
  {
   "cell_type": "markdown",
   "id": "0e8d65b9",
   "metadata": {},
   "source": [
    "Write a function that takes in an array of integers representing a stack, recursively sorts the stack in place (i.e., doesn't create a brand new array), and returns it.\n",
    "\n",
    "The array must be treated as a stack, with the end of the array as the top of the stack. Therefore, you're only allowed to\n",
    "\n",
    "• Pop elements from the top of the stack by removing elements from the end of the array using the built-in .pop() method in your programming language of choice.\n",
    "\n",
    "• Push elements to the top of the stack by appending elements to the end of the array using the built-in .append() method in your programming language of choice.\n",
    "\n",
    "• Peek at the element on top of the stack by accessing the last element in the array.\n",
    "\n",
    "You're not allowed to perform any other operations on the input array, including accessing elements (except for the last element), moving elements, etc.. You're also not allowed to use any other data structures, and your solution must be recursive.\n"
   ]
  },
  {
   "cell_type": "markdown",
   "id": "9104522c",
   "metadata": {},
   "source": [
    "### Test Input"
   ]
  },
  {
   "cell_type": "code",
   "execution_count": 42,
   "id": "0c7992a5",
   "metadata": {},
   "outputs": [],
   "source": [
    "#Sample Input\n",
    "stack = [-5, 2, -2, 4, 3, 1]\n",
    "#Sample Output\n",
    "#[-5, −2, 1, 2, 3]"
   ]
  },
  {
   "cell_type": "markdown",
   "id": "420054ab",
   "metadata": {},
   "source": [
    "### Explanation"
   ]
  },
  {
   "cell_type": "markdown",
   "id": "ad711064",
   "metadata": {},
   "source": [
    "To sort the stack recursively, the main idea is to use two recursive functions:\n",
    "\n",
    "The main recursive function sortStack which pops all the elements from the stack until it's empty and then calls a helper function.\n",
    "The helper function insertInSortedOrder which inserts an element in its correct position in a sorted stack.\n",
    "\n",
    "For example, let's use the provided stack: [-5, 2, -2, 4, 3, 1]\n",
    "\n",
    "Pop 1 from the stack.\n",
    "\n",
    "Continue popping and reach -5.\n",
    "\n",
    "When we reach -5, the stack becomes empty, so we start inserting back.\n",
    "\n",
    "Insert -5 as it's the only element.\n",
    "\n",
    "Insert 2 in its correct position.\n",
    "\n",
    "Similarly, -2 will be placed before 2.\n",
    "\n",
    "This process continues until all elements are placed in their correct sorted positions."
   ]
  },
  {
   "cell_type": "markdown",
   "id": "f548d8b3",
   "metadata": {},
   "source": [
    "### Code"
   ]
  },
  {
   "cell_type": "code",
   "execution_count": 45,
   "id": "91939d2c",
   "metadata": {},
   "outputs": [],
   "source": [
    "def sortStack(stack):\n",
    "    # Base case: if stack is empty, just return\n",
    "    if not stack:\n",
    "        return []\n",
    "\n",
    "    # Pop the top element from the stack\n",
    "    top = stack.pop()\n",
    "\n",
    "    # Recursively sort the remaining elements in the stack\n",
    "    sortStack(stack)\n",
    "\n",
    "    # Insert the top element in its correct position in the sorted stack\n",
    "    insertInSortedOrder(stack, top)\n",
    "\n",
    "    return stack\n",
    "\n",
    "def insertInSortedOrder(stack, value):\n",
    "    # If the stack is empty or the value is greater than the top of the stack\n",
    "    # then push the value to the stack\n",
    "    if not stack or value > stack[-1]:\n",
    "        stack.append(value)\n",
    "        return\n",
    "\n",
    "    # If value is less than the top of the stack, then pop the top and\n",
    "    # recursively try to insert the value in the sorted portion of the stack\n",
    "    top = stack.pop()\n",
    "    insertInSortedOrder(stack, value)\n",
    "\n",
    "    # Push the previously popped top value back to the stack\n",
    "    stack.append(top)\n"
   ]
  },
  {
   "cell_type": "markdown",
   "id": "804ac588",
   "metadata": {},
   "source": [
    "### Test Output"
   ]
  },
  {
   "cell_type": "code",
   "execution_count": 46,
   "id": "f70d65ce",
   "metadata": {},
   "outputs": [
    {
     "data": {
      "text/plain": [
       "[-5, -2, 1, 2, 3, 4]"
      ]
     },
     "execution_count": 46,
     "metadata": {},
     "output_type": "execute_result"
    }
   ],
   "source": [
    "sortStack(stack)"
   ]
  },
  {
   "cell_type": "markdown",
   "id": "8c5b21e7",
   "metadata": {},
   "source": [
    "### Time Complexity"
   ]
  },
  {
   "cell_type": "markdown",
   "id": "00b485fd",
   "metadata": {},
   "source": [
    " O(n^2) - The sortStack function pops n elements one-by-one, and for each popped element, the insertInSortedOrder may, in the worst case, perform O(n) operations to find the correct position. So, in total, it's O(n^2)."
   ]
  },
  {
   "cell_type": "markdown",
   "id": "052c033f",
   "metadata": {},
   "source": [
    "### Space Complexity"
   ]
  },
  {
   "cell_type": "markdown",
   "id": "e94c21a7",
   "metadata": {},
   "source": [
    "O(n) - This is due to the recursive call stack which can go as deep as the number of elements in the input stack."
   ]
  },
  {
   "cell_type": "markdown",
   "id": "b7b816b4",
   "metadata": {},
   "source": [
    "# 64) Next Greater Element "
   ]
  },
  {
   "cell_type": "markdown",
   "id": "d66e73fd",
   "metadata": {},
   "source": [
    "### Question"
   ]
  },
  {
   "cell_type": "markdown",
   "id": "8d18115b",
   "metadata": {},
   "source": [
    "Write a function that takes in an array of integers and returns a new array containing, at each index, the next element in the input array that's greater than the element at that index in the input array.\n",
    "\n",
    "In other words, your function should return a new array where outputArray[i] is the next element in the input array that's greater than inputArray[i] . If there's no such next greater element for a particular index, the value at that index in the output array should be -1 . For example, given array = [1, 2], your function should return [2, -1].\n",
    "\n",
    "Additionally, your function should treat the input array as a circular array. A circular array wraps around itself as if it were connected end-to-end. So the next index after the last index in a circular array is the first index. This means that, for our problem, given array = [0, 0, 5, 0, 0, 3, 0, 0], the next greater element after 3 is 5, since the array is circular.\n"
   ]
  },
  {
   "cell_type": "markdown",
   "id": "db289b08",
   "metadata": {},
   "source": [
    "### Test Input"
   ]
  },
  {
   "cell_type": "code",
   "execution_count": 47,
   "id": "507d8304",
   "metadata": {},
   "outputs": [],
   "source": [
    "#Sample Input\n",
    "array = [2, 5, -3, -4, 6, 7, 2]\n",
    "#Sample Output\n",
    "#[5, 6, 6, 6, 7, −1, 5]"
   ]
  },
  {
   "cell_type": "markdown",
   "id": "73ba9846",
   "metadata": {},
   "source": [
    "### Explanation"
   ]
  },
  {
   "cell_type": "markdown",
   "id": "f2c5a444",
   "metadata": {},
   "source": [
    "Flow of the solution:\n",
    "\n",
    "1) Initialization:\n",
    "result array is initialized with all -1 values, assuming there isn't a greater element.\n",
    "An empty stack will hold the indices of the array elements.\n",
    "\n",
    "2) First Loop through the Array:\n",
    "For every number in the array, we compare it with the number whose index is at the top of the stack.\n",
    "If the current number is greater than the element at the index on the top of the stack, this means we've found the next greater number for that element. We update the result array with this number.\n",
    "The above step can happen multiple times in succession if the stack has indices corresponding to several smaller numbers.\n",
    "If the current number isn’t greater, we simply push its index onto the stack.\n",
    "\n",
    "3) Second Loop (for the circular part):\n",
    "We continue the process but avoid pushing indices to the stack. This ensures we don't process an element more than once.\n",
    "This second loop ensures that for elements at the end of the array, we still consider elements at the start of the array as potential next greater elements due to the circular nature.\n",
    "\n",
    "4) End of Process:\n",
    "At the end of the two loops, all the elements in the array which had a next greater element would have their corresponding result updated.\n",
    "Elements which didn't have any next greater element remain as -1 in the result array.\n",
    "Example to Illustrate the Process:\n",
    "\n",
    "Let's consider the example array = [2, 5, -3, -4, 6, 7, 2].\n",
    "\n",
    "Starting with the first element 2, the stack is empty, so we push its index 0 to the stack.\n",
    "\n",
    "Next is 5. It's greater than 2 (from index at top of stack), so we pop 0 from stack and update result[0] with 5.\n",
    "\n",
    "For -3, -4, and 6, we keep pushing their indices to the stack since they are not greater than their preceding number.\n",
    "\n",
    "At 7, it's greater than 6, so result[4] becomes 7. The stack now contains indices for -3 and -4.\n",
    "\n",
    "At 2, we continue pushing since it's not greater than its preceding element.\n",
    "\n",
    "Now, due to the circular nature, we compare 2 with -3 and -4 from the first loop and continue until we have looped through the array twice.\n",
    "\n",
    "This approach ensures each element is checked for its next greater element in the circular array in a very efficient manner!"
   ]
  },
  {
   "cell_type": "markdown",
   "id": "49a6e7b2",
   "metadata": {},
   "source": [
    "### Code"
   ]
  },
  {
   "cell_type": "code",
   "execution_count": 51,
   "id": "52fb881b",
   "metadata": {},
   "outputs": [],
   "source": [
    "def nextGreaterElement(array):\n",
    "    n = len(array)\n",
    "    result = [-1] * n \n",
    "    stack=[]\n",
    "    \n",
    "    for idx in range(2*len(array)):\n",
    "        circularIdx=idx%n\n",
    "        \n",
    "        while len(stack)>0 and array[circularIdx]>array[stack[len(stack)-1]]:\n",
    "            top=stack.pop()\n",
    "            result[top]=array[circularIdx]\n",
    "        \n",
    "        stack.append(circularIdx)\n",
    "        \n",
    "    return result"
   ]
  },
  {
   "cell_type": "markdown",
   "id": "cc8034a2",
   "metadata": {},
   "source": [
    "### Test Output"
   ]
  },
  {
   "cell_type": "code",
   "execution_count": 52,
   "id": "cdf0df5b",
   "metadata": {},
   "outputs": [
    {
     "data": {
      "text/plain": [
       "[5, 6, 6, 6, 7, -1, 5]"
      ]
     },
     "execution_count": 52,
     "metadata": {},
     "output_type": "execute_result"
    }
   ],
   "source": [
    "nextGreaterElement(array)"
   ]
  },
  {
   "cell_type": "markdown",
   "id": "a78f5bae",
   "metadata": {},
   "source": [
    "### Time Complexity"
   ]
  },
  {
   "cell_type": "markdown",
   "id": "2341caf5",
   "metadata": {},
   "source": [
    "O(n) - Even though we're iterating through the array twice, each element is pushed and popped from the stack exactly once."
   ]
  },
  {
   "cell_type": "markdown",
   "id": "04ef67d5",
   "metadata": {},
   "source": [
    "### Space Complexity"
   ]
  },
  {
   "cell_type": "markdown",
   "id": "f463cf38",
   "metadata": {},
   "source": [
    " O(n) - In the worst case, we might end up pushing all the elements to the stack. The result array also takes O(n) space, but it's not considered additional space as it's part of the problem's requirements."
   ]
  },
  {
   "cell_type": "markdown",
   "id": "789a5324",
   "metadata": {},
   "source": [
    "# 65) Reverse Polish Notation "
   ]
  },
  {
   "cell_type": "markdown",
   "id": "d95d9c16",
   "metadata": {},
   "source": [
    "### Question"
   ]
  },
  {
   "cell_type": "markdown",
   "id": "73fa2272",
   "metadata": {},
   "source": [
    "You're given a list of string tokens representing a mathematical expression using Reverse Polish Notation. Reverse Polish Notation is a notation where operators come after operands, instead of between them. For example 2 4 + would evaluate to 6.\n",
    "\n",
    "Parenthesis are always implicit in Reverse Polish Notation, meaning an expression is evaluated from left to right. All of the operators for this problem take two operands, which will always be the two values immediately preceding the operator. For example, 18 4 - 7 / would evaluate to ((18 - 4) / 7) or 2.\n",
    "\n",
    "Write a function that takes this list of tokens and returns the result. Your function should support four operators: +, -, * and / for addition, subtraction, multiplication, and division respectively.\n",
    "Division should always be treated as integer division, rounding towards zero. For example, 3 / 2 evaluates to 1 and -3 / 2 evaluates to -1. You can assume the input will always be valid Reverse Polish Notation, and it will always result in a valid number. Your code should not edit this input list.\n"
   ]
  },
  {
   "cell_type": "markdown",
   "id": "019154c6",
   "metadata": {},
   "source": [
    "### Test Input"
   ]
  },
  {
   "cell_type": "code",
   "execution_count": 53,
   "id": "c3183c76",
   "metadata": {},
   "outputs": [],
   "source": [
    "#Sample Input\n",
    "tokens = [\"50\", \"3\", \"17\", \"+\", \"2\", \"-\", \"/\"]\n",
    "#Sample Output\n",
    "#2 // (50/((3 + 17) − 2)))"
   ]
  },
  {
   "cell_type": "markdown",
   "id": "b2646c86",
   "metadata": {},
   "source": [
    "### Explanation"
   ]
  },
  {
   "cell_type": "markdown",
   "id": "7293d4b9",
   "metadata": {},
   "source": [
    "1) Underlying logic/intuition behind the solution:\n",
    "Reverse Polish Notation (RPN) can be evaluated using a stack. As we iterate over the tokens, operands are pushed onto the stack. When we encounter an operator, we pop the necessary number of operands (two in this case), perform the operation, and then push the result back onto the stack. In the end, the result of the RPN expression will be the only element left in the stack.\n",
    "\n",
    "2) Step by step explanation with an example:\n",
    "\n",
    "Let's use the sample input: tokens = [\"50\", \"3\", \"17\", \"+\", \"2\", \"-\", \"/\"]\n",
    "\n",
    "Begin with an empty stack: []\n",
    "\n",
    "Encounter \"50\", it's an operand. Push to the stack: [50]\n",
    "\n",
    "Encounter \"3\", it's an operand. Push to the stack: [50, 3]\n",
    "\n",
    "Encounter \"17\", it's an operand. Push to the stack: [50, 3, 17]\n",
    "\n",
    "Encounter \"+\", pop last two operands (3 and 17), sum is 20. Push result to the stack: [50, 20]\n",
    "\n",
    "Encounter \"2\", it's an operand. Push to the stack: [50, 20, 2]\n",
    "\n",
    "Encounter \"-\", pop last two operands (20 and 2), difference is 18. Push result to the stack: [50, 18]\n",
    "\n",
    "Encounter \"/\", pop last two operands (50 and 18), division result is 2. Push result to the stack: [2]\n",
    "\n",
    "The final result is the only element left in the stack, which is 2."
   ]
  },
  {
   "cell_type": "markdown",
   "id": "cf22aa5a",
   "metadata": {},
   "source": [
    "### Code"
   ]
  },
  {
   "cell_type": "code",
   "execution_count": 70,
   "id": "527314ad",
   "metadata": {},
   "outputs": [],
   "source": [
    "def evalRPN(tokens):\n",
    "    # Stack to hold operands.\n",
    "    stack = []\n",
    "\n",
    "    for token in tokens:\n",
    "        if token in [\"+\", \"-\", \"*\", \"/\"]:\n",
    "            # Pop two operands from the stack for the operation\n",
    "            b, a = stack.pop(), stack.pop()\n",
    "\n",
    "            if token == \"+\":\n",
    "                stack.append(a + b)\n",
    "            elif token == \"-\":\n",
    "                stack.append(a - b)\n",
    "            elif token == \"*\":\n",
    "                stack.append(a * b)\n",
    "            else:\n",
    "                # Handle division and floor it towards zero\n",
    "                stack.append(int(a / b))\n",
    "        else:\n",
    "            # If it's an operand, push to the stack.\n",
    "            stack.append(int(token))\n",
    "\n",
    "    # The result will be the only item left on the stack.\n",
    "    return stack[0]\n",
    "\n"
   ]
  },
  {
   "cell_type": "markdown",
   "id": "edc84cea",
   "metadata": {},
   "source": [
    "### Test Output"
   ]
  },
  {
   "cell_type": "code",
   "execution_count": 69,
   "id": "6b6843fe",
   "metadata": {},
   "outputs": [
    {
     "data": {
      "text/plain": [
       "2"
      ]
     },
     "execution_count": 69,
     "metadata": {},
     "output_type": "execute_result"
    }
   ],
   "source": [
    "reversePolishNotation(tokens)"
   ]
  },
  {
   "cell_type": "markdown",
   "id": "9f1feeb0",
   "metadata": {},
   "source": [
    "### Time Complexity"
   ]
  },
  {
   "cell_type": "markdown",
   "id": "60b8a5d4",
   "metadata": {},
   "source": [
    " O(n) where n is the length of the tokens. We iterate through each token exactly once."
   ]
  },
  {
   "cell_type": "markdown",
   "id": "258abd42",
   "metadata": {},
   "source": [
    "### Space Complexity"
   ]
  },
  {
   "cell_type": "markdown",
   "id": "f262092e",
   "metadata": {},
   "source": [
    "O(n). In the worst-case scenario (all operands and no operators), we may need to store all tokens in the stack."
   ]
  },
  {
   "cell_type": "markdown",
   "id": "b78b6f18",
   "metadata": {},
   "source": [
    "# 66)  Colliding Asteroids"
   ]
  },
  {
   "cell_type": "markdown",
   "id": "e7b6eafe",
   "metadata": {},
   "source": [
    "### Question"
   ]
  },
  {
   "cell_type": "markdown",
   "id": "fe1e60a0",
   "metadata": {},
   "source": [
    "You're given an array of integers asteroids, where each integer represents the size of an asteroid. The sign of the integer represents the direction the asteroid is moving (positive = right, negative = left). \n",
    "\n",
    "All asteroids move at the same speed, meaning that two asteroids moving in the same direction can never collide.\n",
    "\n",
    "For example, the integer 4 represents an asteroid of size 4 moving to the right. Similarly, -7 represents an asteroid of size 7 moving to the left.\n",
    "\n",
    "If two asteroids collide, the smaller asteroid (based on absolute value) explodes. If two colliding asteroids are the same size, they both explode.\n",
    "\n",
    "Write a function that takes in this array of asteroids and returns an array of integers representing the asteroids after all collisions occur.\n",
    "\n"
   ]
  },
  {
   "cell_type": "markdown",
   "id": "55ec1e9c",
   "metadata": {},
   "source": [
    "### Test Input"
   ]
  },
  {
   "cell_type": "code",
   "execution_count": 71,
   "id": "bfa3a058",
   "metadata": {},
   "outputs": [],
   "source": [
    "#Sample Input\n",
    "asteroids = [-3, 5, -8, 6, 7, -4, -7]\n",
    "#Sample Output\n",
    "#[-3, -8, 6] "
   ]
  },
  {
   "cell_type": "markdown",
   "id": "75d2daa1",
   "metadata": {},
   "source": [
    "### Explanation"
   ]
  },
  {
   "cell_type": "markdown",
   "id": "20898ba8",
   "metadata": {},
   "source": [
    "1) Underlying logic/intuition behind the solution:\n",
    "\n",
    "The stack tracks asteroids that are still in play. Asteroids moving to the right are immediately pushed onto the stack. Those moving to the left are compared against asteroids on the stack that are moving to the right. Collisions happen and asteroids are popped off the stack until the current left-moving asteroid is destroyed, or it has no more asteroids to collide with.\n",
    "\n",
    "The while True: loop will keep running indefinitely because its condition is always True. This makes the break statements inside the loop crucial for stopping its execution. There are three different conditions under which the loop can exit:\n",
    "\n",
    "If the stack is empty or the top of the stack contains an asteroid moving left. This means there's no potential collision for the current asteroid, so it's added to the stack and the loop exits.\n",
    "\n",
    "If the asteroid at the top of the stack (which will be moving right) is larger than the absolute size of the current asteroid (which is moving left). This means the current asteroid will be destroyed upon collision, so the loop exits.\n",
    "\n",
    "If the absolute size of the current asteroid equals the size of the asteroid at the top of the stack. In this case, both asteroids will be destroyed upon collision, so both are removed from consideration, and the loop exits.\n",
    "\n",
    "So, in summary, the break statements in the provided solution exit the infinite while loop based on specific conditions related to asteroid collisions.\n",
    "\n",
    "2) Step by step explanation with an example:\n",
    "\n",
    "Let's use a sample input:asteroids = [-3, 5, -8, 6, 7, -4, -7]\n",
    "\n",
    "Begin with an empty stack: []\n",
    "\n",
    "-3 is negative, but stack is empty. It is pushed onto the stack: [-3]\n",
    "\n",
    "5 is positive. Pushed onto stack: [-3, 5]\n",
    "\n",
    "-8 is negative and collides with 5. Both are destroyed. Stack remains: [-3]\n",
    "\n",
    "6 is positive. Pushed onto stack: [-3, 6]\n",
    "\n",
    "7 is positive. Pushed onto stack: [-3, 6, 7]\n",
    "\n",
    "-4 is negative and collides with 7. 7 is destroyed. Stack remains: [-3, 6]\n",
    "\n",
    "-7 is negative and collides with 6. Both are destroyed. Stack remains: [-3]\n",
    "\n",
    "Final result is [-3] "
   ]
  },
  {
   "cell_type": "markdown",
   "id": "33edb00d",
   "metadata": {},
   "source": [
    "### Code"
   ]
  },
  {
   "cell_type": "code",
   "execution_count": 72,
   "id": "79f3e2e6",
   "metadata": {},
   "outputs": [],
   "source": [
    "def collidingAsteroids(asteroids):\n",
    "    stack = []\n",
    "    for asteroid in asteroids:\n",
    "        # If asteroid moves to the right, push to stack\n",
    "        if asteroid > 0:\n",
    "            stack.append(asteroid)\n",
    "            continue\n",
    "        \n",
    "        # If asteroid moves to the left\n",
    "        while True:\n",
    "            # If stack is empty or top of stack moves left, push asteroid to stack\n",
    "            if len(stack) == 0 or stack[-1] < 0:\n",
    "                stack.append(asteroid)\n",
    "                break\n",
    "\n",
    "            asteroidSize = abs(asteroid)\n",
    "\n",
    "            # If the top of the stack is greater than current asteroid, break\n",
    "            if stack[-1] > asteroidSize:\n",
    "                break\n",
    "            # If top of the stack is equal to the current asteroid, both are destroyed\n",
    "            if stack[-1] == asteroidSize:\n",
    "                stack.pop()\n",
    "                break\n",
    "\n",
    "            # Otherwise, destroy the top of the stack and continue checking\n",
    "            stack.pop()\n",
    "            \n",
    "    return stack\n"
   ]
  },
  {
   "cell_type": "markdown",
   "id": "3b401c11",
   "metadata": {},
   "source": [
    "### Test Output"
   ]
  },
  {
   "cell_type": "code",
   "execution_count": 73,
   "id": "1ee5863d",
   "metadata": {},
   "outputs": [
    {
     "data": {
      "text/plain": [
       "[-3, -8, 6]"
      ]
     },
     "execution_count": 73,
     "metadata": {},
     "output_type": "execute_result"
    }
   ],
   "source": [
    "collidingAsteroids(asteroids)"
   ]
  },
  {
   "cell_type": "markdown",
   "id": "32a16e6b",
   "metadata": {},
   "source": [
    "### Time Complexity"
   ]
  },
  {
   "cell_type": "markdown",
   "id": "d33a9161",
   "metadata": {},
   "source": [
    "O(n). Similar reasoning as the previous solution. In the worst case, we might have to push and pop each asteroid from the stack once, which results in a linear time complexity."
   ]
  },
  {
   "cell_type": "markdown",
   "id": "eed68f31",
   "metadata": {},
   "source": [
    "### Space Complexity"
   ]
  },
  {
   "cell_type": "markdown",
   "id": "3df1979a",
   "metadata": {},
   "source": [
    "O(n). Worst-case scenario: all asteroids move in the same direction, so they're all pushed onto the stack."
   ]
  },
  {
   "cell_type": "markdown",
   "id": "422223ed",
   "metadata": {},
   "source": [
    "# 67) Longest Palindromic Substring "
   ]
  },
  {
   "cell_type": "markdown",
   "id": "9dd505c5",
   "metadata": {},
   "source": [
    "### Question"
   ]
  },
  {
   "cell_type": "markdown",
   "id": "8a68bf46",
   "metadata": {},
   "source": [
    "Write a function that, given a string, returns its longest palindromic substring.\n",
    "\n",
    "A palindrome is defined as a string that's written the same forward and backward. Note that single- character strings are palindromes.\n",
    "\n",
    "You can assume that there will only be one longest palindromic substring.\n"
   ]
  },
  {
   "cell_type": "markdown",
   "id": "976b56fc",
   "metadata": {},
   "source": [
    "### Test Input"
   ]
  },
  {
   "cell_type": "code",
   "execution_count": 2,
   "id": "dd16c792",
   "metadata": {},
   "outputs": [],
   "source": [
    "#Sample Input\n",
    "string = \"abaxyzzyxf\"\n",
    "#Sample Output\n",
    "#\"xyzzyx\""
   ]
  },
  {
   "cell_type": "markdown",
   "id": "e12e1b51",
   "metadata": {},
   "source": [
    "### Explanation"
   ]
  },
  {
   "cell_type": "markdown",
   "id": "274f6f23",
   "metadata": {},
   "source": [
    "We start by initializing a variable current_longest to store the longest palindromic substring we've found so far. For each character in the string, we expand around that character to find the longest palindromic substring that includes that character. We do this in two ways: once for palindromes of odd length and once for palindromes of even length.\n",
    "\n",
    "For example, consider the string \"racecar\". The longest palindromic substring is \"racecar\" itself. When we reach the character \"e\", the function get_longest_palindrome_from will expand to the left and right until it reaches the boundaries of the string or finds a pair of characters that aren't the same. In this case, it will expand all the way to the boundaries and return the indices [0, 7], indicating that the entire string is a palindrome.\n",
    "\n"
   ]
  },
  {
   "cell_type": "markdown",
   "id": "31b1fd98",
   "metadata": {},
   "source": [
    "### Code"
   ]
  },
  {
   "cell_type": "code",
   "execution_count": 9,
   "id": "248ece9b",
   "metadata": {},
   "outputs": [],
   "source": [
    "def longestPalindromeSubstring(string):\n",
    "    currentLongest=[0,1]\n",
    "    for i in range(1, len(string)):\n",
    "        odd = getLongest(string, i-1, i+1)\n",
    "        even=getLongest(string, i-1, i)\n",
    "        currentLongest = max(odd, even, currentLongest, key=lambda x: x[1]-x[0])\n",
    "    return string[currentLongest[0]:currentLongest[1]]\n",
    "\n",
    "def getLongest(string, leftIdx, rightIdx):\n",
    "    while leftIdx>=0 and rightIdx<len(string):\n",
    "        if string[leftIdx]!=string[rightIdx]:\n",
    "            break\n",
    "        leftIdx-=1\n",
    "        rightIdx+=1\n",
    "    return [leftIdx+1, rightIdx]"
   ]
  },
  {
   "cell_type": "markdown",
   "id": "5720b5a9",
   "metadata": {},
   "source": [
    "### Test Output"
   ]
  },
  {
   "cell_type": "code",
   "execution_count": 10,
   "id": "b1a42759",
   "metadata": {},
   "outputs": [
    {
     "data": {
      "text/plain": [
       "'xyzzyx'"
      ]
     },
     "execution_count": 10,
     "metadata": {},
     "output_type": "execute_result"
    }
   ],
   "source": [
    "longestPalindromeSubstring(string)"
   ]
  },
  {
   "cell_type": "markdown",
   "id": "e5d318d1",
   "metadata": {},
   "source": [
    "### Time Complexity"
   ]
  },
  {
   "cell_type": "markdown",
   "id": "e14d283e",
   "metadata": {},
   "source": [
    "O(n^2), where n is the length of the string. This is because for each character in the string, we might have to expand to the rest of the string to find the longest palindromic substring."
   ]
  },
  {
   "cell_type": "markdown",
   "id": "5fc3270d",
   "metadata": {},
   "source": [
    "### Space Complexity"
   ]
  },
  {
   "cell_type": "markdown",
   "id": "6b69cca0",
   "metadata": {},
   "source": [
    "O(1), as we're not using any additional space that scales with the size of the input string."
   ]
  },
  {
   "cell_type": "markdown",
   "id": "c7c8917f",
   "metadata": {},
   "source": [
    "# 68)  Group Anagrams"
   ]
  },
  {
   "cell_type": "markdown",
   "id": "41aa88ca",
   "metadata": {},
   "source": [
    "### Question"
   ]
  },
  {
   "cell_type": "markdown",
   "id": "d03179c9",
   "metadata": {},
   "source": [
    "Write a function that takes in an array of strings and groups anagrams together.\n",
    "Anagrams are strings made up of exactly the same letters, where order doesn't matter. For example, \"cinema\" and \"iceman\" are anagrams; similarly, \"foo\" and \"ofo\" are anagrams.\n",
    "Your function should return a list of anagram groups in no particular order.\n"
   ]
  },
  {
   "cell_type": "markdown",
   "id": "5bd19a83",
   "metadata": {},
   "source": [
    "### Test Input"
   ]
  },
  {
   "cell_type": "code",
   "execution_count": 11,
   "id": "95cd12f9",
   "metadata": {},
   "outputs": [],
   "source": [
    "#Sample Input\n",
    "words = [\"yo\", \"act\", \"flop\", \"tac\", \"foo\", \"cat\", \"oy\", \"olfp\"]\n",
    "#Sample Output\n",
    "#[[\"yo\", \"oy\"], [\"flop\", \"olfp\"], [\"act\", \"tac\", \"cat\"], [\"foo\"]]"
   ]
  },
  {
   "cell_type": "markdown",
   "id": "e2754772",
   "metadata": {},
   "source": [
    "### Explanation"
   ]
  },
  {
   "cell_type": "markdown",
   "id": "f635a157",
   "metadata": {},
   "source": [
    "The approach is simple, we iterate over each word in the list, sort the letters in the word, and use this sorted word as a key in a dictionary. The value associated with this key is a list of all words in the input list that, when sorted, equal this key. By storing words in this way, we can group all anagrams together. At the end, we return the lists of grouped anagrams.\n",
    "\n",
    "For example, let's consider a list of words: [\"eat\", \"tea\", \"tan\", \"ate\", \"nat\", \"bat\"]. Here, \"eat\", \"tea\", \"ate\" are anagrams and \"tan\", \"nat\" are anagrams. So, the function will return [[\"eat\", \"tea\", \"ate\"], [\"tan\", \"nat\"], [\"bat\"]] or any permutation of this list, as the order doesn't matter."
   ]
  },
  {
   "cell_type": "markdown",
   "id": "88e18a1a",
   "metadata": {},
   "source": [
    "### Code"
   ]
  },
  {
   "cell_type": "code",
   "execution_count": 16,
   "id": "a5863988",
   "metadata": {},
   "outputs": [],
   "source": [
    "def groupAnagrams(words):\n",
    "    anagrams={}\n",
    "    for word in words:\n",
    "        sortedWord=\"\".join(sorted(word))\n",
    "        if sortedWord in anagrams:\n",
    "            anagrams[sortedWord].append(word)\n",
    "        else:\n",
    "            anagrams[sortedWord]=[word]\n",
    "    return list(anagrams.values())"
   ]
  },
  {
   "cell_type": "markdown",
   "id": "d38a5747",
   "metadata": {},
   "source": [
    "### Test Output"
   ]
  },
  {
   "cell_type": "code",
   "execution_count": 17,
   "id": "de5b97da",
   "metadata": {},
   "outputs": [
    {
     "data": {
      "text/plain": [
       "[['yo', 'oy'], ['act', 'tac', 'cat'], ['flop', 'olfp'], ['foo']]"
      ]
     },
     "execution_count": 17,
     "metadata": {},
     "output_type": "execute_result"
    }
   ],
   "source": [
    "groupAnagrams(words)"
   ]
  },
  {
   "cell_type": "markdown",
   "id": "0183bf82",
   "metadata": {},
   "source": [
    "### Time Complexity"
   ]
  },
  {
   "cell_type": "markdown",
   "id": "e3616f3d",
   "metadata": {},
   "source": [
    "O(w * n * log(n)), where w is the number of words and n is the maximum length of a word. This is because we're iterating through every word and for each word, we're sorting it.\n",
    "\n"
   ]
  },
  {
   "cell_type": "markdown",
   "id": "38eb0394",
   "metadata": {},
   "source": [
    "### Space Complexity"
   ]
  },
  {
   "cell_type": "markdown",
   "id": "d89ade3b",
   "metadata": {},
   "source": [
    "O(w * n), as we're storing all the words in a dictionary. In the worst case, if none of the words are anagrams of any other, we'll end up storing all the words in separate lists."
   ]
  },
  {
   "cell_type": "markdown",
   "id": "47412dc4",
   "metadata": {},
   "source": [
    "# 69) Valid IP Addresses"
   ]
  },
  {
   "cell_type": "markdown",
   "id": "c8958b36",
   "metadata": {},
   "source": [
    "### Question"
   ]
  },
  {
   "cell_type": "markdown",
   "id": "aad6fbd5",
   "metadata": {},
   "source": [
    "You're given a string of length 12 or smaller, containing only digits. Write a function that returns all the possible IP addresses that can be created by inserting three. s in the string.\n",
    "\n",
    "An IP address is a sequence of four positive integers that are separated by s, where each individual integer is within the range\n",
    "255, inclusive.\n",
    "\n",
    "An IP address isn't valid if any of the individual integers contains leading 0 s. For example, \"192.168.0.1\" is a valid IP address, but \"192.168.00.1\" and \"192.168.0.01\" aren't, because they contain \"00\" and 01 respectively. Another example of a valid IP address is \"99.1.1.10\"; conversely, \"991.1.1.0\" isn't valid, because \"991\" is greater than 255. Your function should return the IP addresses in string format and in no particular order. If no valid IP addresses can be created from the string, your function should return an empty list.\n",
    "\n"
   ]
  },
  {
   "cell_type": "markdown",
   "id": "0afb8a01",
   "metadata": {},
   "source": [
    "### Test Input"
   ]
  },
  {
   "cell_type": "code",
   "execution_count": 18,
   "id": "82e91f98",
   "metadata": {},
   "outputs": [],
   "source": [
    "#Sample Input\n",
    "string = \"1921680\"\n",
    "#Sample Output\n",
    "#[\"1.9.216.80\",\"1.92.16.80\",\"1.92.168.0\",\"19.2.16.80\",\"19.2.168.0\",\"19.21.6.80\",\"19.21.68.0\", \n",
    "#\"19.216.8.0\",\"192.1.6.80\",\"192.1.68.0\",\"192 16.8.0\"]"
   ]
  },
  {
   "cell_type": "markdown",
   "id": "062ecd11",
   "metadata": {},
   "source": [
    "### Explanation"
   ]
  },
  {
   "cell_type": "markdown",
   "id": "10a5be15",
   "metadata": {},
   "source": [
    "We generate all possible three dots' placements by using three nested loops. For each placement, we split the string into four parts, check whether each part is valid, and if they are, we join these parts with dots to get an IP address and append it to the list. We consider a part to be valid if its length is 1 to 3, it doesn't start with '0' (unless it is '0' itself), and it doesn't represent a number larger than 255.\n",
    "\n",
    "For example, let's consider the string \"1921680\". We first place the dots after the 1st, 2nd and 3rd characters, getting four parts: \"1\", \"9\", \"2\", \"1680\". Since \"1680\" is not a valid part (it's larger than 255), we don't create an IP address from these parts. Next, we move the last dot one character to the right, getting \"1\", \"9\", \"21\", \"680\". Again, \"680\" is not a valid part, so we don't create an IP address. We keep moving the dots and checking the parts until we find a placement that gives us valid parts, like \"1\", \"9\", \"216\", \"80\", from which we create the IP address \"1.9.216.80\"."
   ]
  },
  {
   "cell_type": "markdown",
   "id": "0078efff",
   "metadata": {},
   "source": [
    "### Code"
   ]
  },
  {
   "cell_type": "code",
   "execution_count": 22,
   "id": "d4c869ce",
   "metadata": {},
   "outputs": [],
   "source": [
    "def validIP(string):\n",
    "    ipAdresses=[]\n",
    "    for i in range(1,min(len(string),4)):\n",
    "        for j in range(i+1, min(len(string),i+4)):\n",
    "            for k in range(j+1, min(len(string),j+4)):\n",
    "                parts=[string[:i], string[i:j], string[j:k], string[k:]]\n",
    "    \n",
    "            if all(map(lambda part: isValid(part), parts)):\n",
    "                ipAdresses.append(\".\".join(parts))\n",
    "    \n",
    "    return ipAdresses\n",
    "\n",
    "def isValid(part):\n",
    "    return len(part)<=3 and (part[0]!='0' or len(part)==1) and int(part)<=255"
   ]
  },
  {
   "cell_type": "markdown",
   "id": "960a6ce9",
   "metadata": {},
   "source": [
    "### Test Output"
   ]
  },
  {
   "cell_type": "code",
   "execution_count": 23,
   "id": "190c6154",
   "metadata": {},
   "outputs": [
    {
     "data": {
      "text/plain": [
       "['1.9.216.80',\n",
       " '1.92.168.0',\n",
       " '19.2.168.0',\n",
       " '19.21.68.0',\n",
       " '19.216.8.0',\n",
       " '192.1.68.0',\n",
       " '192.16.8.0',\n",
       " '192.16.8.0']"
      ]
     },
     "execution_count": 23,
     "metadata": {},
     "output_type": "execute_result"
    }
   ],
   "source": [
    "validIP(string)"
   ]
  },
  {
   "cell_type": "markdown",
   "id": "1b67fcc5",
   "metadata": {},
   "source": [
    "### Time Complexity"
   ]
  },
  {
   "cell_type": "markdown",
   "id": "61674fcd",
   "metadata": {},
   "source": [
    "O(1), as the number of possible dots placements is constant (no more than 27 placements)."
   ]
  },
  {
   "cell_type": "markdown",
   "id": "453cd5ba",
   "metadata": {},
   "source": [
    "### Space Complexity"
   ]
  },
  {
   "cell_type": "markdown",
   "id": "9ca4c757",
   "metadata": {},
   "source": [
    "O(1), as we're storing a constant number of IP addresses (no more than 27 addresses)."
   ]
  },
  {
   "cell_type": "markdown",
   "id": "22a72ed4",
   "metadata": {},
   "source": [
    "# 70) Reverse Words In String "
   ]
  },
  {
   "cell_type": "markdown",
   "id": "a9cb09ca",
   "metadata": {},
   "source": [
    "### Question"
   ]
  },
  {
   "cell_type": "markdown",
   "id": "9e3ba2fc",
   "metadata": {},
   "source": [
    "Write a function that takes in a string of words separated by one or more whitespaces and returns a string that has these words in reverse order. For example, given the string \"tim is great\", your function should return \"great is tim\"\n",
    "\n",
    "For this problem, a word can contain special characters, punctuation, and numbers. The words in the string will be separated by one or more whitespaces, and the reversed string must contain the same whitespaces as the original string. For example, given the string \"whitespaces 4\" you would be expected to return \"4 whitespaces\".\n",
    "\n",
    "Note that you're not allowed to to use any built-in split or reverse methods/functions. However, you are allowed to use a built-in join method/function.\n",
    "\n",
    "Also note that the input string isn't guaranteed to always contain words.\n",
    "\n"
   ]
  },
  {
   "cell_type": "markdown",
   "id": "40ad36b5",
   "metadata": {},
   "source": [
    "### Test Input"
   ]
  },
  {
   "cell_type": "code",
   "execution_count": 24,
   "id": "49b61136",
   "metadata": {},
   "outputs": [],
   "source": [
    "#Sample Input\n",
    "string = \"AlgoExpert is the best!\"\n",
    "#Sample Output\n",
    "#\"best! the is AlgoExpert\""
   ]
  },
  {
   "cell_type": "markdown",
   "id": "9d511c81",
   "metadata": {},
   "source": [
    "### Explanation"
   ]
  },
  {
   "cell_type": "markdown",
   "id": "0e804651",
   "metadata": {},
   "source": [
    "This code takes a string as input and reverses the order of the words in the string while preserving the order of characters within each word and any spacing between the words. Here's how it works:\n",
    "\n",
    "1) characters = [char for char in string] - This line converts the input string into a list of characters. It's easier to swap elements in a list than in a string, because strings are immutable in Python.\n",
    "\n",
    "2) reverseListRange(characters, 0, len(characters) - 1) - This line reverses the order of all the characters in the list, including the spaces.\n",
    "\n",
    "3) The while loop that follows identifies each word (a sequence of characters separated by spaces) in the list of characters:\n",
    "\n",
    "a. endOfWord = startOfWord - It initializes the end index of a word with the start index.\n",
    "\n",
    "b. while endOfWord < len(characters) and characters[endOfWord] != ' ': endOfWord += 1 - This line iterates over the characters until it finds a space, which is the end of a word.\n",
    "\n",
    "c. reverseListRange(characters, startOfWord, endOfWord - 1) - It then reverses the order of characters within the identified word. This puts the characters of each word back in their original order because they were reversed in step 2.\n",
    "\n",
    "d. startOfWord = endOfWord + 1 - It then moves the start index to the next word or space in the list of characters.\n",
    "\n",
    "4) return \"\".join(characters) - It joins the list of characters back into a string and returns it.\n",
    "\n",
    "5) The helper function reverseListRange(list, start, end) is used to reverse the order of elements in a list within a specific range. It takes a list and start and end indices as input. It then swaps the elements at the start and end indices, moves the start index one step towards the end, and the end index one step towards the start, and continues this process until the start index is not less than the end index. This reverses the order of elements within the specified range."
   ]
  },
  {
   "cell_type": "markdown",
   "id": "4f2cb119",
   "metadata": {},
   "source": [
    "### Code"
   ]
  },
  {
   "cell_type": "code",
   "execution_count": 25,
   "id": "7925a474",
   "metadata": {},
   "outputs": [],
   "source": [
    "def reverse_words_in_string(string):\n",
    "    # Convert string to list of characters\n",
    "    characters = [char for char in string]\n",
    "\n",
    "    # Reverse entire list of characters\n",
    "    reverse_list_range(characters, 0, len(characters) - 1)\n",
    "\n",
    "    start_of_word = 0\n",
    "    while start_of_word < len(characters):\n",
    "        # Find end of the word or the string\n",
    "        end_of_word = start_of_word\n",
    "        while end_of_word < len(characters) and characters[end_of_word] != ' ':\n",
    "            end_of_word += 1\n",
    "\n",
    "        # Reverse characters within a word\n",
    "        reverse_list_range(characters, start_of_word, end_of_word - 1)\n",
    "\n",
    "        # Move to the start of the next word\n",
    "        start_of_word = end_of_word + 1\n",
    "\n",
    "    # Join reversed words with original spaces to form a string\n",
    "    return \"\".join(characters)\n",
    "\n",
    "def reverse_list_range(list, start, end):\n",
    "    # Swap characters at start and end, then move towards the middle\n",
    "    while start < end:\n",
    "        list[start], list[end] = list[end], list[start]\n",
    "        start += 1\n",
    "        end -= 1\n"
   ]
  },
  {
   "cell_type": "markdown",
   "id": "1c3be7af",
   "metadata": {},
   "source": [
    "### Test Output"
   ]
  },
  {
   "cell_type": "code",
   "execution_count": 26,
   "id": "f5787ca7",
   "metadata": {},
   "outputs": [
    {
     "data": {
      "text/plain": [
       "'best! the is AlgoExpert'"
      ]
     },
     "execution_count": 26,
     "metadata": {},
     "output_type": "execute_result"
    }
   ],
   "source": [
    "reverse_words_in_string(string)"
   ]
  },
  {
   "cell_type": "markdown",
   "id": "db2fd2ba",
   "metadata": {},
   "source": [
    "### Time Complexity"
   ]
  },
  {
   "cell_type": "markdown",
   "id": "374075af",
   "metadata": {},
   "source": []
  },
  {
   "cell_type": "markdown",
   "id": "2f104c5c",
   "metadata": {},
   "source": [
    "### Space Complexity"
   ]
  },
  {
   "cell_type": "markdown",
   "id": "19da87ea",
   "metadata": {},
   "source": []
  },
  {
   "cell_type": "markdown",
   "id": "851028d4",
   "metadata": {},
   "source": [
    "# 71) Min Characters for Words "
   ]
  },
  {
   "cell_type": "markdown",
   "id": "f82d5429",
   "metadata": {},
   "source": [
    "### Question"
   ]
  },
  {
   "cell_type": "markdown",
   "id": "21c6e645",
   "metadata": {},
   "source": [
    "Write a function that takes in an array of words and returns the smallest array of characters needed to form all of the words. The characters don't need to be in any particular order.\n",
    "\n",
    "For example, the characters [\"y\", \"r\", \"o\", \"u\"] are needed to form the words [\"your\", \"you\", \"or\", \"yo\"].\n",
    "\n",
    "Note: the input words won't contain any spaces; however, they might contain punctuation and/or special characters.\n",
    "\n"
   ]
  },
  {
   "cell_type": "markdown",
   "id": "60494fb5",
   "metadata": {},
   "source": [
    "### Test Input"
   ]
  },
  {
   "cell_type": "code",
   "execution_count": 27,
   "id": "34e7c845",
   "metadata": {},
   "outputs": [],
   "source": [
    "#Sample Input\n",
    "words = [\"this\", \"that\", \"did\", \"deed\", \"them!\", \"a\"]\n",
    "#Sample Output\n",
    "#[\"t\", \"t\", \"h\", \"i\", \"s\", \"a\", \"d\", \"d\", \"e\", \"e\", \"m\", \"!\"] \n",
    "#// The characters could be ordered differently."
   ]
  },
  {
   "cell_type": "markdown",
   "id": "38c98670",
   "metadata": {},
   "source": [
    "### Explanation"
   ]
  },
  {
   "cell_type": "markdown",
   "id": "faaac124",
   "metadata": {},
   "source": [
    "Let's approach this problem using a Python dictionary. We will create a dictionary for each word in the words array to count the frequency of characters in that word. Then we'll update our maximum frequency counter dictionary with the maximum frequency of each character found in each word. Finally, we will generate the smallest array of characters needed by repeating each character the maximum number of times it appears in any word.\n",
    "\n",
    "count_character_frequencies(word): This function generates a dictionary of character frequencies for a given word.\n",
    "\n",
    "update_maximum_frequencies(character_frequencies, maximum_character_frequencies): This function updates the maximum frequencies dictionary using the character frequencies of a word.\n",
    "\n",
    "make_array_from_character_frequencies(character_frequencies): This function creates the array of characters using the character frequency dictionary.\n"
   ]
  },
  {
   "cell_type": "markdown",
   "id": "e712d29e",
   "metadata": {},
   "source": [
    "### Code"
   ]
  },
  {
   "cell_type": "code",
   "execution_count": 31,
   "id": "1bea25cb",
   "metadata": {},
   "outputs": [],
   "source": [
    "def minCharForWords(words):\n",
    "    maxCharFreq = {}\n",
    "    for word in words:\n",
    "        charFreq=countCharFreq(word)\n",
    "        updateMaxFreq(charFreq, maxCharFreq)\n",
    "    return makeArray(maxCharFreq)\n",
    "\n",
    "\n",
    "def countCharFreq(word):\n",
    "    charFreq={}\n",
    "    for char in word:\n",
    "        if char not in charFreq:\n",
    "            charFreq[char]=0\n",
    "        charFreq[char]+=1\n",
    "    return charFreq   \n",
    "\n",
    "def updateMaxFreq(charFreq, maxCharFreq):\n",
    "    for char, freq in charFreq.items():\n",
    "        if char not in maxCharFreq or freq>maxCharFreq[char]:\n",
    "            maxCharFreq[char] = freq\n",
    "            \n",
    "def makeArray(maxCharFreq):\n",
    "    finalArray=[]\n",
    "    for char, freq in maxCharFreq.items():\n",
    "        for _ in range(freq):\n",
    "            finalArray.append(char)\n",
    "    return finalArray"
   ]
  },
  {
   "cell_type": "markdown",
   "id": "e9f8e33b",
   "metadata": {},
   "source": [
    "### Test Output"
   ]
  },
  {
   "cell_type": "code",
   "execution_count": 32,
   "id": "a0bced0a",
   "metadata": {},
   "outputs": [
    {
     "data": {
      "text/plain": [
       "['t', 't', 'h', 'i', 's', 'a', 'd', 'd', 'e', 'e', 'm', '!']"
      ]
     },
     "execution_count": 32,
     "metadata": {},
     "output_type": "execute_result"
    }
   ],
   "source": [
    "minCharForWords(words)"
   ]
  },
  {
   "cell_type": "markdown",
   "id": "d7354269",
   "metadata": {},
   "source": [
    "### Time Complexity"
   ]
  },
  {
   "cell_type": "markdown",
   "id": "d8d5a71f",
   "metadata": {},
   "source": [
    "O(n*l), where n is the number of words and l is the length of the longest word. We're processing each character in each word.\n"
   ]
  },
  {
   "cell_type": "markdown",
   "id": "9f9dda06",
   "metadata": {},
   "source": [
    "### Space Complexity"
   ]
  },
  {
   "cell_type": "markdown",
   "id": "dd76faf5",
   "metadata": {},
   "source": [
    "O(c), where c is the number of unique characters across all words. We're storing these characters in a dictionary."
   ]
  },
  {
   "cell_type": "markdown",
   "id": "2e6bf501",
   "metadata": {},
   "source": [
    "# 72) One Edit "
   ]
  },
  {
   "cell_type": "markdown",
   "id": "f0354a46",
   "metadata": {},
   "source": [
    "### Question"
   ]
  },
  {
   "cell_type": "markdown",
   "id": "8bb8b755",
   "metadata": {},
   "source": [
    "You're given two strings stringOne and stringTwo . Write a function that determines if these two strings can be made equal using only one edit.\n",
    "There are 3 possible edits:\n",
    "\n",
    "•Replace: One character in one string is swapped for a different character.\n",
    "\n",
    "• Add: One character is added at any index in one string.\n",
    "\n",
    "•Remove: One character is removed at any index in one string.\n",
    "\n",
    "Note that both strings will contain at least one character. If the strings are the same, your function should return true.\n"
   ]
  },
  {
   "cell_type": "markdown",
   "id": "1559fdf5",
   "metadata": {},
   "source": [
    "### Test Input"
   ]
  },
  {
   "cell_type": "code",
   "execution_count": 38,
   "id": "ea0b086a",
   "metadata": {},
   "outputs": [],
   "source": [
    "#Sample Input\n",
    "string1 = \"hello\" \n",
    "string2 = \"hollo\"\n",
    "#Sample Output\n",
    "#True // A single replace at index 1 of either string can make the strings equal"
   ]
  },
  {
   "cell_type": "code",
   "execution_count": null,
   "id": "9143e79b",
   "metadata": {},
   "outputs": [],
   "source": []
  },
  {
   "cell_type": "markdown",
   "id": "1274b532",
   "metadata": {},
   "source": [
    "### Explanation"
   ]
  },
  {
   "cell_type": "markdown",
   "id": "d471f1e4",
   "metadata": {},
   "source": [
    "If the lengths of the two strings differ by more than 1, return False right away because it would take at least two edits to make them equal.\n",
    "\n",
    "We maintain two pointers, i and j, for the two strings. We start from the first characters of both strings and compare them.\n",
    "\n",
    "If the characters are not equal, we mark that we've found a difference. If we encounter another difference, we return False because more than one edit is needed.\n",
    "\n",
    "If the lengths of the two strings are equal, we increment both pointers because this is a 'Replace' case. Otherwise, we only increment the pointer j which points to the longer string because this is either an 'Add' or 'Remove' case.\n",
    "\n",
    "If we reach the end of the strings without returning False, we return True because the strings can be made equal with at most one edit."
   ]
  },
  {
   "cell_type": "markdown",
   "id": "fa7c5463",
   "metadata": {},
   "source": [
    "### Code"
   ]
  },
  {
   "cell_type": "code",
   "execution_count": 35,
   "id": "5aad7d22",
   "metadata": {},
   "outputs": [],
   "source": [
    "def oneEdit(string1, string2):\n",
    "    len1, len2 = len(string1), len(string2)\n",
    "    if abs(len1-len2)>1:\n",
    "        return False\n",
    "    \n",
    "    editMade=False\n",
    "    i=0\n",
    "    j=0\n",
    "    \n",
    "    while i<len1 and j<len2:\n",
    "        if string1[i] != string2[i]:\n",
    "            if editMade:\n",
    "                return False\n",
    "            editMade = True\n",
    "            \n",
    "            if len1>len2:\n",
    "                i+=1\n",
    "            elif len2>len1:\n",
    "                j+=1\n",
    "            else:\n",
    "                i+=1\n",
    "                j+=1\n",
    "        else:\n",
    "            i+=1\n",
    "            j+=1\n",
    "            \n",
    "    return True"
   ]
  },
  {
   "cell_type": "markdown",
   "id": "87ce8bf8",
   "metadata": {},
   "source": [
    "### Test Output"
   ]
  },
  {
   "cell_type": "code",
   "execution_count": 39,
   "id": "4ae1e936",
   "metadata": {},
   "outputs": [
    {
     "data": {
      "text/plain": [
       "True"
      ]
     },
     "execution_count": 39,
     "metadata": {},
     "output_type": "execute_result"
    }
   ],
   "source": [
    "oneEdit(string1, string2)"
   ]
  },
  {
   "cell_type": "markdown",
   "id": "fcbb857f",
   "metadata": {},
   "source": [
    "### Time Complexity"
   ]
  },
  {
   "cell_type": "markdown",
   "id": "b2ebd44e",
   "metadata": {},
   "source": [
    "O(n) - We traverse both strings once. Here, n is the length of the longest string."
   ]
  },
  {
   "cell_type": "markdown",
   "id": "3634c9cf",
   "metadata": {},
   "source": [
    "### Space Complexity"
   ]
  },
  {
   "cell_type": "markdown",
   "id": "82959279",
   "metadata": {},
   "source": [
    "O(1) - We are not using any additional data structures that scale with input size."
   ]
  },
  {
   "cell_type": "markdown",
   "id": "af49194c",
   "metadata": {},
   "source": [
    "# 73) Suffix Trie Construction "
   ]
  },
  {
   "cell_type": "markdown",
   "id": "ecf8cfe0",
   "metadata": {},
   "source": [
    "### Question"
   ]
  },
  {
   "cell_type": "markdown",
   "id": "d7fb3b3f",
   "metadata": {},
   "source": [
    "Write a SuffixTrie class for a Suffix-Trie-like data structure. The class should have a root property set to be the root node of the trie and should support:\n",
    "\n",
    "• Creating the trie from a string; this will be done by calling the populateSuffixTrieFrom method upon class instantiation, which should populate the root of the class. Searching for strings in the trie.\n",
    "\n",
    "Note that every string added to the trie should end with the special endSymbol character: \"*\"\n",
    "\n",
    "If you're unfamiliar with Suffix Tries, we recommend watching the Conceptual Overview section of this question's video explanation before starting to code.\n"
   ]
  },
  {
   "cell_type": "markdown",
   "id": "5b337a9f",
   "metadata": {},
   "source": [
    "### Test Input"
   ]
  },
  {
   "cell_type": "code",
   "execution_count": 42,
   "id": "3491fa43",
   "metadata": {},
   "outputs": [],
   "source": [
    "#Sample Input (for creation)\n",
    "string = \"babc\"\n",
    "#Sample Output (for creation)\n",
    "#The structure below is the root of the trie.\n",
    "#{\n",
    "#\"C\": {\"*\": true},\n",
    "#\"b\": {\n",
    "#\"C\": {\"*\": true},\n",
    "#}\n",
    "#\"a\": {\"b\": {\"c\": {\"*\": true}}},\n",
    "#\"a\":{\"b\": {\"c\": {\"*\": true}}},\n",
    "#},\n",
    "#Sample Input (for searching in the suffix trie above)\n",
    "string2 = \"abc\"\n",
    "#Sample Output (for searching in the suffix trie above)\n",
    "#true"
   ]
  },
  {
   "cell_type": "markdown",
   "id": "a71016fa",
   "metadata": {},
   "source": [
    "### Explanation"
   ]
  },
  {
   "cell_type": "markdown",
   "id": "8d4aa407",
   "metadata": {},
   "source": []
  },
  {
   "cell_type": "markdown",
   "id": "290f0750",
   "metadata": {},
   "source": [
    "### Code"
   ]
  },
  {
   "cell_type": "code",
   "execution_count": null,
   "id": "f6a97ad5",
   "metadata": {},
   "outputs": [],
   "source": []
  },
  {
   "cell_type": "markdown",
   "id": "646b2f07",
   "metadata": {},
   "source": [
    "### Test Output"
   ]
  },
  {
   "cell_type": "code",
   "execution_count": null,
   "id": "2eaef872",
   "metadata": {},
   "outputs": [],
   "source": []
  },
  {
   "cell_type": "markdown",
   "id": "d1443923",
   "metadata": {},
   "source": [
    "### Time Complexity"
   ]
  },
  {
   "cell_type": "markdown",
   "id": "6734ac0f",
   "metadata": {},
   "source": []
  },
  {
   "cell_type": "markdown",
   "id": "ad34070d",
   "metadata": {},
   "source": [
    "### Space Complexity"
   ]
  },
  {
   "cell_type": "markdown",
   "id": "fcf5b695",
   "metadata": {},
   "source": []
  },
  {
   "cell_type": "markdown",
   "id": "c1fc291c",
   "metadata": {},
   "source": [
    "# HARD"
   ]
  },
  {
   "cell_type": "markdown",
   "id": "df7367d9",
   "metadata": {},
   "source": [
    "# 1) "
   ]
  },
  {
   "cell_type": "markdown",
   "id": "b4cd03ae",
   "metadata": {},
   "source": [
    "### Question"
   ]
  },
  {
   "cell_type": "markdown",
   "id": "820a0b62",
   "metadata": {},
   "source": []
  },
  {
   "cell_type": "markdown",
   "id": "715010a5",
   "metadata": {},
   "source": [
    "### Test Input"
   ]
  },
  {
   "cell_type": "code",
   "execution_count": null,
   "id": "19c4e203",
   "metadata": {},
   "outputs": [],
   "source": []
  },
  {
   "cell_type": "markdown",
   "id": "5e760577",
   "metadata": {},
   "source": [
    "### Explanation"
   ]
  },
  {
   "cell_type": "markdown",
   "id": "5a05b96c",
   "metadata": {},
   "source": []
  },
  {
   "cell_type": "markdown",
   "id": "7745c62a",
   "metadata": {},
   "source": [
    "### Code"
   ]
  },
  {
   "cell_type": "code",
   "execution_count": null,
   "id": "09f8a454",
   "metadata": {},
   "outputs": [],
   "source": []
  },
  {
   "cell_type": "markdown",
   "id": "302ac4e3",
   "metadata": {},
   "source": [
    "### Test Output"
   ]
  },
  {
   "cell_type": "code",
   "execution_count": null,
   "id": "4b569ef3",
   "metadata": {},
   "outputs": [],
   "source": []
  },
  {
   "cell_type": "markdown",
   "id": "d2732477",
   "metadata": {},
   "source": [
    "### Time Complexity"
   ]
  },
  {
   "cell_type": "markdown",
   "id": "527efc53",
   "metadata": {},
   "source": []
  },
  {
   "cell_type": "markdown",
   "id": "8ea83867",
   "metadata": {},
   "source": [
    "### Space Complexity"
   ]
  },
  {
   "cell_type": "markdown",
   "id": "3e4384cd",
   "metadata": {},
   "source": []
  },
  {
   "cell_type": "markdown",
   "id": "2656749e",
   "metadata": {},
   "source": [
    "# 2) "
   ]
  },
  {
   "cell_type": "markdown",
   "id": "ba9e9d09",
   "metadata": {},
   "source": [
    "### Question"
   ]
  },
  {
   "cell_type": "markdown",
   "id": "f5637a5c",
   "metadata": {},
   "source": []
  },
  {
   "cell_type": "markdown",
   "id": "fb0d29fd",
   "metadata": {},
   "source": [
    "### Test Input"
   ]
  },
  {
   "cell_type": "code",
   "execution_count": null,
   "id": "a199d636",
   "metadata": {},
   "outputs": [],
   "source": []
  },
  {
   "cell_type": "markdown",
   "id": "b308fd4d",
   "metadata": {},
   "source": [
    "### Explanation"
   ]
  },
  {
   "cell_type": "markdown",
   "id": "6f1bbb20",
   "metadata": {},
   "source": []
  },
  {
   "cell_type": "markdown",
   "id": "ccfca453",
   "metadata": {},
   "source": [
    "### Code"
   ]
  },
  {
   "cell_type": "code",
   "execution_count": null,
   "id": "f686511a",
   "metadata": {},
   "outputs": [],
   "source": []
  },
  {
   "cell_type": "markdown",
   "id": "d27a6b73",
   "metadata": {},
   "source": [
    "### Test Output"
   ]
  },
  {
   "cell_type": "code",
   "execution_count": null,
   "id": "a742b1c2",
   "metadata": {},
   "outputs": [],
   "source": []
  },
  {
   "cell_type": "markdown",
   "id": "0971a617",
   "metadata": {},
   "source": [
    "### Time Complexity"
   ]
  },
  {
   "cell_type": "markdown",
   "id": "aef80f44",
   "metadata": {},
   "source": []
  },
  {
   "cell_type": "markdown",
   "id": "0db79e86",
   "metadata": {},
   "source": [
    "### Space Complexity"
   ]
  },
  {
   "cell_type": "markdown",
   "id": "ffebc463",
   "metadata": {},
   "source": []
  },
  {
   "cell_type": "markdown",
   "id": "dd777411",
   "metadata": {},
   "source": [
    "# HARD"
   ]
  },
  {
   "cell_type": "markdown",
   "id": "5e9b8b6d",
   "metadata": {},
   "source": [
    "# 1) "
   ]
  },
  {
   "cell_type": "markdown",
   "id": "bbc0a080",
   "metadata": {},
   "source": [
    "### Question"
   ]
  },
  {
   "cell_type": "markdown",
   "id": "b6d26008",
   "metadata": {},
   "source": [
    "Write a function that takes in a non-empty array of integers and returns the greatest sum that can be generated from a strictly-increasing subsequence in the array as well as an array of the numbers in that subsequence.\n",
    "\n",
    "A subsequence of an array is a set of numbers that aren't necessarily adjacent in the array but that are in the same order as they appear in the array. For instance, the numbers [1, 3, 4] form a subsequence of the array [1, 2, 3, 4], and so do the numbers [2, 4]. Note that a single number in an array and the array itself are both valid subsequences of the array.\n",
    "\n",
    "You can assume that there will only be one increasing subsequence with the greatest sum.\n"
   ]
  },
  {
   "cell_type": "markdown",
   "id": "69882f41",
   "metadata": {},
   "source": [
    "### Test Input"
   ]
  },
  {
   "cell_type": "code",
   "execution_count": 4,
   "id": "a7b80b3e",
   "metadata": {},
   "outputs": [],
   "source": [
    "#Sample Input\n",
    "array = [10, 70, 20, 30, 50, 11, 30]\n",
    "#Sample Output\n",
    "#[110, [10, 20, 30, 501] "
   ]
  },
  {
   "cell_type": "markdown",
   "id": "af2cf665",
   "metadata": {},
   "source": [
    "### Explanation"
   ]
  },
  {
   "cell_type": "markdown",
   "id": "848340e3",
   "metadata": {},
   "source": []
  },
  {
   "cell_type": "markdown",
   "id": "0eac60aa",
   "metadata": {},
   "source": [
    "### Code"
   ]
  },
  {
   "cell_type": "code",
   "execution_count": null,
   "id": "92571559",
   "metadata": {},
   "outputs": [],
   "source": []
  },
  {
   "cell_type": "markdown",
   "id": "14c4f575",
   "metadata": {},
   "source": [
    "### Test Output"
   ]
  },
  {
   "cell_type": "code",
   "execution_count": null,
   "id": "61b10761",
   "metadata": {},
   "outputs": [],
   "source": []
  },
  {
   "cell_type": "markdown",
   "id": "2282ebc8",
   "metadata": {},
   "source": [
    "### Time Complexity"
   ]
  },
  {
   "cell_type": "markdown",
   "id": "df4c8917",
   "metadata": {},
   "source": []
  },
  {
   "cell_type": "markdown",
   "id": "4f639cb1",
   "metadata": {},
   "source": [
    "### Space Complexity"
   ]
  },
  {
   "cell_type": "markdown",
   "id": "819125f1",
   "metadata": {},
   "source": []
  },
  {
   "cell_type": "markdown",
   "id": "3255c247",
   "metadata": {},
   "source": [
    "# 2) "
   ]
  },
  {
   "cell_type": "markdown",
   "id": "8d5d51d4",
   "metadata": {},
   "source": [
    "### Question"
   ]
  },
  {
   "cell_type": "markdown",
   "id": "2b5fa78f",
   "metadata": {},
   "source": []
  },
  {
   "cell_type": "markdown",
   "id": "9cc9e248",
   "metadata": {},
   "source": [
    "### Test Input"
   ]
  },
  {
   "cell_type": "code",
   "execution_count": null,
   "id": "974a51b8",
   "metadata": {},
   "outputs": [],
   "source": []
  },
  {
   "cell_type": "markdown",
   "id": "3fc0dc27",
   "metadata": {},
   "source": [
    "### Explanation"
   ]
  },
  {
   "cell_type": "markdown",
   "id": "0d7606fa",
   "metadata": {},
   "source": []
  },
  {
   "cell_type": "markdown",
   "id": "1a9356b6",
   "metadata": {},
   "source": [
    "### Code"
   ]
  },
  {
   "cell_type": "code",
   "execution_count": null,
   "id": "1e44ae91",
   "metadata": {},
   "outputs": [],
   "source": []
  },
  {
   "cell_type": "markdown",
   "id": "ae53fcac",
   "metadata": {},
   "source": [
    "### Test Output"
   ]
  },
  {
   "cell_type": "code",
   "execution_count": null,
   "id": "6a26f356",
   "metadata": {},
   "outputs": [],
   "source": []
  },
  {
   "cell_type": "markdown",
   "id": "4c22432b",
   "metadata": {},
   "source": [
    "### Time Complexity"
   ]
  },
  {
   "cell_type": "markdown",
   "id": "0d8f0841",
   "metadata": {},
   "source": []
  },
  {
   "cell_type": "markdown",
   "id": "193d6d97",
   "metadata": {},
   "source": [
    "### Space Complexity"
   ]
  },
  {
   "cell_type": "markdown",
   "id": "0466dc84",
   "metadata": {},
   "source": []
  },
  {
   "cell_type": "markdown",
   "id": "99b54d95",
   "metadata": {},
   "source": [
    "# VERY HARD"
   ]
  },
  {
   "cell_type": "markdown",
   "id": "394edcfe",
   "metadata": {},
   "source": [
    "# 1) "
   ]
  },
  {
   "cell_type": "markdown",
   "id": "81136018",
   "metadata": {},
   "source": [
    "### Question"
   ]
  },
  {
   "cell_type": "markdown",
   "id": "20eb1caa",
   "metadata": {},
   "source": []
  },
  {
   "cell_type": "markdown",
   "id": "ae5636c1",
   "metadata": {},
   "source": [
    "### Test Input"
   ]
  },
  {
   "cell_type": "code",
   "execution_count": null,
   "id": "a623fe32",
   "metadata": {},
   "outputs": [],
   "source": []
  },
  {
   "cell_type": "markdown",
   "id": "55faf4de",
   "metadata": {},
   "source": [
    "### Explanation"
   ]
  },
  {
   "cell_type": "markdown",
   "id": "ff005ea8",
   "metadata": {},
   "source": []
  },
  {
   "cell_type": "markdown",
   "id": "be60a259",
   "metadata": {},
   "source": [
    "### Code"
   ]
  },
  {
   "cell_type": "code",
   "execution_count": null,
   "id": "3296b860",
   "metadata": {},
   "outputs": [],
   "source": []
  },
  {
   "cell_type": "markdown",
   "id": "eb63f164",
   "metadata": {},
   "source": [
    "### Test Output"
   ]
  },
  {
   "cell_type": "code",
   "execution_count": null,
   "id": "6fa8c44b",
   "metadata": {},
   "outputs": [],
   "source": []
  },
  {
   "cell_type": "markdown",
   "id": "f3983bf1",
   "metadata": {},
   "source": [
    "### Time Complexity"
   ]
  },
  {
   "cell_type": "markdown",
   "id": "24b0c8b9",
   "metadata": {},
   "source": []
  },
  {
   "cell_type": "markdown",
   "id": "fdf34c3c",
   "metadata": {},
   "source": [
    "### Space Complexity"
   ]
  },
  {
   "cell_type": "markdown",
   "id": "fbf03817",
   "metadata": {},
   "source": []
  },
  {
   "cell_type": "markdown",
   "id": "06b3ea68",
   "metadata": {},
   "source": [
    "# 2) "
   ]
  },
  {
   "cell_type": "markdown",
   "id": "34eb2fea",
   "metadata": {},
   "source": [
    "### Time Complexity"
   ]
  },
  {
   "cell_type": "markdown",
   "id": "f52d2bec",
   "metadata": {},
   "source": []
  },
  {
   "cell_type": "markdown",
   "id": "e0281133",
   "metadata": {},
   "source": [
    "### Space Complexity"
   ]
  },
  {
   "cell_type": "markdown",
   "id": "4f0b0832",
   "metadata": {},
   "source": []
  },
  {
   "cell_type": "markdown",
   "id": "dbeeb45c",
   "metadata": {},
   "source": []
  }
 ],
 "metadata": {
  "kernelspec": {
   "display_name": "Python 3 (ipykernel)",
   "language": "python",
   "name": "python3"
  },
  "language_info": {
   "codemirror_mode": {
    "name": "ipython",
    "version": 3
   },
   "file_extension": ".py",
   "mimetype": "text/x-python",
   "name": "python",
   "nbconvert_exporter": "python",
   "pygments_lexer": "ipython3",
   "version": "3.11.3"
  }
 },
 "nbformat": 4,
 "nbformat_minor": 5
}
