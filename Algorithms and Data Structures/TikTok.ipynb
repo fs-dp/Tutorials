{
 "cells": [
  {
   "cell_type": "markdown",
   "metadata": {},
   "source": [
    "# Tiktok\n",
    "\n",
    "## **[304. Range Sum Query 2D - Immutable](https://leetcode.com/problems/range-sum-query-2d-immutable/)**\n",
    "\n",
    "**Medium**\n",
    "\n",
    "Given a 2D matrix `matrix`, handle multiple queries of the following type:\n",
    "\n",
    "- Calculate the **sum** of the elements of `matrix`inside the rectangle defined by its **upper left corner** `(row1, col1)` and **lower right corner**`(row2, col2)`.\n",
    "\n",
    "Implement the `NumMatrix` class:\n",
    "\n",
    "- `NumMatrix(int[][] matrix)` Initializes the object with the integer matrix `matrix`.\n",
    "- `int sumRegion(int row1, int col1, int row2, int col2)` Returns the **sum** of the elements of `matrix` inside the rectangle defined by its **upper left corner** `(row1, col1)` and **lower right corner** `(row2, col2)`.\n",
    "\n",
    "You must design an algorithm where `sumRegion`works on `O(1)` time complexity.\n"
   ]
  },
  {
   "cell_type": "code",
   "execution_count": 4,
   "metadata": {},
   "outputs": [],
   "source": [
    "from typing import List\n",
    "\n",
    "class NumMatrix:\n",
    "    def __init__(self, matrix: List[List[int]]):\n",
    "        if not matrix or not matrix[0]:\n",
    "            self.dp = []\n",
    "            return\n",
    "\n",
    "        rows, cols = len(matrix), len(matrix[0])\n",
    "        self.dp = [[0] * (cols + 1) for _ in range(rows + 1)]\n",
    "\n",
    "        for r in range(rows):\n",
    "            for c in range(cols):\n",
    "                self.dp[r+1][c+1] = matrix[r][c] + self.dp[r][c+1] + self.dp[r+1][c] - self.dp[r][c]\n",
    "\n",
    "    def sumRegion(self, row1: int, col1: int, row2: int, col2: int) -> int:\n",
    "        if not self.dp:\n",
    "            return 0\n",
    "        return self.dp[row2+1][col2+1] - self.dp[row1][col2+1] - self.dp[row2+1][col1] + self.dp[row1][col1]\n"
   ]
  },
  {
   "cell_type": "code",
   "execution_count": 5,
   "metadata": {},
   "outputs": [
    {
     "name": "stdout",
     "output_type": "stream",
     "text": [
      "8\n",
      "11\n",
      "12\n"
     ]
    }
   ],
   "source": [
    "matrix = [[3, 0, 1, 4, 2], [5, 6, 3, 2, 1], [1, 2, 0, 1, 5], [4, 1, 0, 1, 7], [1, 0, 3, 0, 5]]\n",
    "obj = NumMatrix(matrix)\n",
    "\n",
    "print(obj.sumRegion(2, 1, 4, 3)) # Expected output: 8\n",
    "print(obj.sumRegion(1, 1, 2, 2)) # Expected output: 11\n",
    "print(obj.sumRegion(1, 2, 2, 4)) # Expected output: 12\n"
   ]
  },
  {
   "cell_type": "markdown",
   "metadata": {},
   "source": [
    "## **[1444. Number of Ways of Cutting a Pizza](https://leetcode.com/problems/number-of-ways-of-cutting-a-pizza/)**\n",
    "\n",
    "**Hard**\n",
    "\n",
    "Given a rectangular pizza represented as a `rows x cols` matrix containing the following characters: `'A'` (an apple) and `'.'` (empty cell) and given the integer `k`. You have to cut the pizza into `k` pieces using `k-1` cuts.\n",
    "\n",
    "For each cut you choose the direction: vertical or horizontal, then you choose a cut position at the cell boundary and cut the pizza into two pieces. If you cut the pizza vertically, give the left part of the pizza to a person. If you cut the pizza horizontally, give the upper part of the pizza to a person. Give the last piece of pizza to the last person.\n",
    "\n",
    "*Return the number of ways of cutting the pizza such that each piece contains **at least** one apple.* Since the answer can be a huge number, return this modulo 10^9 + 7."
   ]
  },
  {
   "cell_type": "code",
   "execution_count": null,
   "metadata": {},
   "outputs": [],
   "source": [
    "class Solution:\n",
    "    def ways(self, pizza: List[str], k: int) -> int:\n",
    "        rows = len(pizza)\n",
    "        cols = len(pizza[0])\n",
    "        \n",
    "        apples = [[0]*(cols+1) for row in rows+1]\n",
    "        \n",
    "        for row in range(rows-1, -1, -1):\n",
    "            for col in range(cols-1, -1, -1):\n",
    "                apples[row][col] = ((pizza[row][col]==\"A\")\n",
    "                                    + apples[row+1][col]\n",
    "                                    + apples[row][col+1]\n",
    "                                    - apples[row+1][col+1])\n",
    "                \n",
    "        f = [[int(apples[row][col]>0) for col in range(cols)] for row in range(rows)]\n",
    "        mod = 1000000007\n",
    "        \n",
    "        for remain in range(1, k):\n",
    "            g = [[0 for col in range(cols)] for row in range(rows)]\n",
    "            for row in range(rows):\n",
    "                for col in range(cols):\n",
    "                    for next_row in range(row+1, rows):\n",
    "                        if apples[row][col] - apples[next_row][col]>0:\n",
    "                            g[row][col] = f[next_row][col]\n",
    "                    for next_col in range(col+1, cols):\n",
    "                        if apples[row][col]-apples[row][next_col]>0:\n",
    "                            g[row][col] = f[row][next_col]\n",
    "                    g[row][col]%=mod\n",
    "            f=g \n",
    "        return f[0][0]\n",
    "            \n",
    "                                \n",
    "        "
   ]
  },
  {
   "cell_type": "code",
   "execution_count": 7,
   "metadata": {},
   "outputs": [
    {
     "name": "stdout",
     "output_type": "stream",
     "text": [
      "{'e', 't', 'l', 's', 'n', 'i'}\n",
      "{'e', 't', 'l', 's', 'n', 'i'}\n"
     ]
    }
   ],
   "source": [
    "s = \"listen\"\n",
    "t = \"silent\"\n",
    "print(set(s))\n",
    "print(set(t))"
   ]
  },
  {
   "cell_type": "code",
   "execution_count": 8,
   "metadata": {},
   "outputs": [
    {
     "name": "stdout",
     "output_type": "stream",
     "text": [
      "True\n"
     ]
    }
   ],
   "source": [
    "print(set(s)==set(t))"
   ]
  },
  {
   "cell_type": "code",
   "execution_count": null,
   "metadata": {},
   "outputs": [],
   "source": []
  }
 ],
 "metadata": {
  "kernelspec": {
   "display_name": "zet_default_env",
   "language": "python",
   "name": "python3"
  },
  "language_info": {
   "codemirror_mode": {
    "name": "ipython",
    "version": 3
   },
   "file_extension": ".py",
   "mimetype": "text/x-python",
   "name": "python",
   "nbconvert_exporter": "python",
   "pygments_lexer": "ipython3",
   "version": "3.11.3"
  },
  "orig_nbformat": 4
 },
 "nbformat": 4,
 "nbformat_minor": 2
}
