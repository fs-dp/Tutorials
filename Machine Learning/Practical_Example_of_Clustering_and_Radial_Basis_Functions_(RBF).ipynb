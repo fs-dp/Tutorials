{
  "cells": [
    {
      "cell_type": "code",
      "execution_count": 29,
      "id": "a1f3b0ca",
      "metadata": {
        "id": "a1f3b0ca"
      },
      "outputs": [],
      "source": [
        "import pandas as pd\n",
        "import numpy as np \n",
        "import matplotlib.pyplot as plt\n",
        "from sklearn.cluster import KMeans\n",
        "from sklearn.metrics import accuracy_score\n",
        "from sklearn.metrics.pairwise import rbf_kernel\n",
        "from sklearn.metrics import accuracy_score\n",
        "import random\n",
        "random.seed(42)"
      ]
    },
    {
      "cell_type": "code",
      "execution_count": 20,
      "id": "f9b42af1",
      "metadata": {
        "id": "f9b42af1",
        "outputId": "ff12515a-7fbb-4cb6-ced0-270721d01de7",
        "colab": {
          "base_uri": "https://localhost:8080/",
          "height": 204
        }
      },
      "outputs": [
        {
          "output_type": "execute_result",
          "data": {
            "text/plain": [
              "    x1   x2\n",
              "0  1.4  0.2\n",
              "1  1.4  0.2\n",
              "2  1.3  0.2\n",
              "3  1.5  0.2\n",
              "4  1.4  0.2"
            ],
            "text/html": [
              "\n",
              "  <div id=\"df-ae73a7b7-3c69-463c-9e9e-4b6fe1d4aaba\">\n",
              "    <div class=\"colab-df-container\">\n",
              "      <div>\n",
              "<style scoped>\n",
              "    .dataframe tbody tr th:only-of-type {\n",
              "        vertical-align: middle;\n",
              "    }\n",
              "\n",
              "    .dataframe tbody tr th {\n",
              "        vertical-align: top;\n",
              "    }\n",
              "\n",
              "    .dataframe thead th {\n",
              "        text-align: right;\n",
              "    }\n",
              "</style>\n",
              "<table border=\"1\" class=\"dataframe\">\n",
              "  <thead>\n",
              "    <tr style=\"text-align: right;\">\n",
              "      <th></th>\n",
              "      <th>x1</th>\n",
              "      <th>x2</th>\n",
              "    </tr>\n",
              "  </thead>\n",
              "  <tbody>\n",
              "    <tr>\n",
              "      <th>0</th>\n",
              "      <td>1.4</td>\n",
              "      <td>0.2</td>\n",
              "    </tr>\n",
              "    <tr>\n",
              "      <th>1</th>\n",
              "      <td>1.4</td>\n",
              "      <td>0.2</td>\n",
              "    </tr>\n",
              "    <tr>\n",
              "      <th>2</th>\n",
              "      <td>1.3</td>\n",
              "      <td>0.2</td>\n",
              "    </tr>\n",
              "    <tr>\n",
              "      <th>3</th>\n",
              "      <td>1.5</td>\n",
              "      <td>0.2</td>\n",
              "    </tr>\n",
              "    <tr>\n",
              "      <th>4</th>\n",
              "      <td>1.4</td>\n",
              "      <td>0.2</td>\n",
              "    </tr>\n",
              "  </tbody>\n",
              "</table>\n",
              "</div>\n",
              "      <button class=\"colab-df-convert\" onclick=\"convertToInteractive('df-ae73a7b7-3c69-463c-9e9e-4b6fe1d4aaba')\"\n",
              "              title=\"Convert this dataframe to an interactive table.\"\n",
              "              style=\"display:none;\">\n",
              "        \n",
              "  <svg xmlns=\"http://www.w3.org/2000/svg\" height=\"24px\"viewBox=\"0 0 24 24\"\n",
              "       width=\"24px\">\n",
              "    <path d=\"M0 0h24v24H0V0z\" fill=\"none\"/>\n",
              "    <path d=\"M18.56 5.44l.94 2.06.94-2.06 2.06-.94-2.06-.94-.94-2.06-.94 2.06-2.06.94zm-11 1L8.5 8.5l.94-2.06 2.06-.94-2.06-.94L8.5 2.5l-.94 2.06-2.06.94zm10 10l.94 2.06.94-2.06 2.06-.94-2.06-.94-.94-2.06-.94 2.06-2.06.94z\"/><path d=\"M17.41 7.96l-1.37-1.37c-.4-.4-.92-.59-1.43-.59-.52 0-1.04.2-1.43.59L10.3 9.45l-7.72 7.72c-.78.78-.78 2.05 0 2.83L4 21.41c.39.39.9.59 1.41.59.51 0 1.02-.2 1.41-.59l7.78-7.78 2.81-2.81c.8-.78.8-2.07 0-2.86zM5.41 20L4 18.59l7.72-7.72 1.47 1.35L5.41 20z\"/>\n",
              "  </svg>\n",
              "      </button>\n",
              "      \n",
              "  <style>\n",
              "    .colab-df-container {\n",
              "      display:flex;\n",
              "      flex-wrap:wrap;\n",
              "      gap: 12px;\n",
              "    }\n",
              "\n",
              "    .colab-df-convert {\n",
              "      background-color: #E8F0FE;\n",
              "      border: none;\n",
              "      border-radius: 50%;\n",
              "      cursor: pointer;\n",
              "      display: none;\n",
              "      fill: #1967D2;\n",
              "      height: 32px;\n",
              "      padding: 0 0 0 0;\n",
              "      width: 32px;\n",
              "    }\n",
              "\n",
              "    .colab-df-convert:hover {\n",
              "      background-color: #E2EBFA;\n",
              "      box-shadow: 0px 1px 2px rgba(60, 64, 67, 0.3), 0px 1px 3px 1px rgba(60, 64, 67, 0.15);\n",
              "      fill: #174EA6;\n",
              "    }\n",
              "\n",
              "    [theme=dark] .colab-df-convert {\n",
              "      background-color: #3B4455;\n",
              "      fill: #D2E3FC;\n",
              "    }\n",
              "\n",
              "    [theme=dark] .colab-df-convert:hover {\n",
              "      background-color: #434B5C;\n",
              "      box-shadow: 0px 1px 3px 1px rgba(0, 0, 0, 0.15);\n",
              "      filter: drop-shadow(0px 1px 2px rgba(0, 0, 0, 0.3));\n",
              "      fill: #FFFFFF;\n",
              "    }\n",
              "  </style>\n",
              "\n",
              "      <script>\n",
              "        const buttonEl =\n",
              "          document.querySelector('#df-ae73a7b7-3c69-463c-9e9e-4b6fe1d4aaba button.colab-df-convert');\n",
              "        buttonEl.style.display =\n",
              "          google.colab.kernel.accessAllowed ? 'block' : 'none';\n",
              "\n",
              "        async function convertToInteractive(key) {\n",
              "          const element = document.querySelector('#df-ae73a7b7-3c69-463c-9e9e-4b6fe1d4aaba');\n",
              "          const dataTable =\n",
              "            await google.colab.kernel.invokeFunction('convertToInteractive',\n",
              "                                                     [key], {});\n",
              "          if (!dataTable) return;\n",
              "\n",
              "          const docLinkHtml = 'Like what you see? Visit the ' +\n",
              "            '<a target=\"_blank\" href=https://colab.research.google.com/notebooks/data_table.ipynb>data table notebook</a>'\n",
              "            + ' to learn more about interactive tables.';\n",
              "          element.innerHTML = '';\n",
              "          dataTable['output_type'] = 'display_data';\n",
              "          await google.colab.output.renderOutput(dataTable, element);\n",
              "          const docLink = document.createElement('div');\n",
              "          docLink.innerHTML = docLinkHtml;\n",
              "          element.appendChild(docLink);\n",
              "        }\n",
              "      </script>\n",
              "    </div>\n",
              "  </div>\n",
              "  "
            ]
          },
          "metadata": {},
          "execution_count": 20
        }
      ],
      "source": [
        "km=pd.read_csv('kMeansData.csv')\n",
        "km.head()"
      ]
    },
    {
      "cell_type": "code",
      "execution_count": 21,
      "id": "3aa17b02",
      "metadata": {
        "id": "3aa17b02",
        "outputId": "8becf982-3bf9-4f03-8353-19f6d76bb3ac",
        "colab": {
          "base_uri": "https://localhost:8080/",
          "height": 204
        }
      },
      "outputs": [
        {
          "output_type": "execute_result",
          "data": {
            "text/plain": [
              "         x1        x2  cls\n",
              "0 -2.427236  1.965984    1\n",
              "1  2.382605  2.256614    0\n",
              "2 -2.680668  2.379979    1\n",
              "3 -2.620277  2.913823    0\n",
              "4  1.513792 -2.312650    0"
            ],
            "text/html": [
              "\n",
              "  <div id=\"df-9c1c462b-1beb-497e-b033-7c6e1c9ef328\">\n",
              "    <div class=\"colab-df-container\">\n",
              "      <div>\n",
              "<style scoped>\n",
              "    .dataframe tbody tr th:only-of-type {\n",
              "        vertical-align: middle;\n",
              "    }\n",
              "\n",
              "    .dataframe tbody tr th {\n",
              "        vertical-align: top;\n",
              "    }\n",
              "\n",
              "    .dataframe thead th {\n",
              "        text-align: right;\n",
              "    }\n",
              "</style>\n",
              "<table border=\"1\" class=\"dataframe\">\n",
              "  <thead>\n",
              "    <tr style=\"text-align: right;\">\n",
              "      <th></th>\n",
              "      <th>x1</th>\n",
              "      <th>x2</th>\n",
              "      <th>cls</th>\n",
              "    </tr>\n",
              "  </thead>\n",
              "  <tbody>\n",
              "    <tr>\n",
              "      <th>0</th>\n",
              "      <td>-2.427236</td>\n",
              "      <td>1.965984</td>\n",
              "      <td>1</td>\n",
              "    </tr>\n",
              "    <tr>\n",
              "      <th>1</th>\n",
              "      <td>2.382605</td>\n",
              "      <td>2.256614</td>\n",
              "      <td>0</td>\n",
              "    </tr>\n",
              "    <tr>\n",
              "      <th>2</th>\n",
              "      <td>-2.680668</td>\n",
              "      <td>2.379979</td>\n",
              "      <td>1</td>\n",
              "    </tr>\n",
              "    <tr>\n",
              "      <th>3</th>\n",
              "      <td>-2.620277</td>\n",
              "      <td>2.913823</td>\n",
              "      <td>0</td>\n",
              "    </tr>\n",
              "    <tr>\n",
              "      <th>4</th>\n",
              "      <td>1.513792</td>\n",
              "      <td>-2.312650</td>\n",
              "      <td>0</td>\n",
              "    </tr>\n",
              "  </tbody>\n",
              "</table>\n",
              "</div>\n",
              "      <button class=\"colab-df-convert\" onclick=\"convertToInteractive('df-9c1c462b-1beb-497e-b033-7c6e1c9ef328')\"\n",
              "              title=\"Convert this dataframe to an interactive table.\"\n",
              "              style=\"display:none;\">\n",
              "        \n",
              "  <svg xmlns=\"http://www.w3.org/2000/svg\" height=\"24px\"viewBox=\"0 0 24 24\"\n",
              "       width=\"24px\">\n",
              "    <path d=\"M0 0h24v24H0V0z\" fill=\"none\"/>\n",
              "    <path d=\"M18.56 5.44l.94 2.06.94-2.06 2.06-.94-2.06-.94-.94-2.06-.94 2.06-2.06.94zm-11 1L8.5 8.5l.94-2.06 2.06-.94-2.06-.94L8.5 2.5l-.94 2.06-2.06.94zm10 10l.94 2.06.94-2.06 2.06-.94-2.06-.94-.94-2.06-.94 2.06-2.06.94z\"/><path d=\"M17.41 7.96l-1.37-1.37c-.4-.4-.92-.59-1.43-.59-.52 0-1.04.2-1.43.59L10.3 9.45l-7.72 7.72c-.78.78-.78 2.05 0 2.83L4 21.41c.39.39.9.59 1.41.59.51 0 1.02-.2 1.41-.59l7.78-7.78 2.81-2.81c.8-.78.8-2.07 0-2.86zM5.41 20L4 18.59l7.72-7.72 1.47 1.35L5.41 20z\"/>\n",
              "  </svg>\n",
              "      </button>\n",
              "      \n",
              "  <style>\n",
              "    .colab-df-container {\n",
              "      display:flex;\n",
              "      flex-wrap:wrap;\n",
              "      gap: 12px;\n",
              "    }\n",
              "\n",
              "    .colab-df-convert {\n",
              "      background-color: #E8F0FE;\n",
              "      border: none;\n",
              "      border-radius: 50%;\n",
              "      cursor: pointer;\n",
              "      display: none;\n",
              "      fill: #1967D2;\n",
              "      height: 32px;\n",
              "      padding: 0 0 0 0;\n",
              "      width: 32px;\n",
              "    }\n",
              "\n",
              "    .colab-df-convert:hover {\n",
              "      background-color: #E2EBFA;\n",
              "      box-shadow: 0px 1px 2px rgba(60, 64, 67, 0.3), 0px 1px 3px 1px rgba(60, 64, 67, 0.15);\n",
              "      fill: #174EA6;\n",
              "    }\n",
              "\n",
              "    [theme=dark] .colab-df-convert {\n",
              "      background-color: #3B4455;\n",
              "      fill: #D2E3FC;\n",
              "    }\n",
              "\n",
              "    [theme=dark] .colab-df-convert:hover {\n",
              "      background-color: #434B5C;\n",
              "      box-shadow: 0px 1px 3px 1px rgba(0, 0, 0, 0.15);\n",
              "      filter: drop-shadow(0px 1px 2px rgba(0, 0, 0, 0.3));\n",
              "      fill: #FFFFFF;\n",
              "    }\n",
              "  </style>\n",
              "\n",
              "      <script>\n",
              "        const buttonEl =\n",
              "          document.querySelector('#df-9c1c462b-1beb-497e-b033-7c6e1c9ef328 button.colab-df-convert');\n",
              "        buttonEl.style.display =\n",
              "          google.colab.kernel.accessAllowed ? 'block' : 'none';\n",
              "\n",
              "        async function convertToInteractive(key) {\n",
              "          const element = document.querySelector('#df-9c1c462b-1beb-497e-b033-7c6e1c9ef328');\n",
              "          const dataTable =\n",
              "            await google.colab.kernel.invokeFunction('convertToInteractive',\n",
              "                                                     [key], {});\n",
              "          if (!dataTable) return;\n",
              "\n",
              "          const docLinkHtml = 'Like what you see? Visit the ' +\n",
              "            '<a target=\"_blank\" href=https://colab.research.google.com/notebooks/data_table.ipynb>data table notebook</a>'\n",
              "            + ' to learn more about interactive tables.';\n",
              "          element.innerHTML = '';\n",
              "          dataTable['output_type'] = 'display_data';\n",
              "          await google.colab.output.renderOutput(dataTable, element);\n",
              "          const docLink = document.createElement('div');\n",
              "          docLink.innerHTML = docLinkHtml;\n",
              "          element.appendChild(docLink);\n",
              "        }\n",
              "      </script>\n",
              "    </div>\n",
              "  </div>\n",
              "  "
            ]
          },
          "metadata": {},
          "execution_count": 21
        }
      ],
      "source": [
        "rbf=pd.read_csv('rbfClassification.csv')\n",
        "rbf.head()"
      ]
    },
    {
      "cell_type": "code",
      "execution_count": 22,
      "id": "5ecab24e",
      "metadata": {
        "id": "5ecab24e",
        "outputId": "334cfad9-9643-478d-e2c8-c3a467069d9f",
        "colab": {
          "base_uri": "https://localhost:8080/",
          "height": 265
        }
      },
      "outputs": [
        {
          "output_type": "display_data",
          "data": {
            "text/plain": [
              "<Figure size 432x288 with 1 Axes>"
            ],
            "image/png": "[encoded data removed]"
          },
          "metadata": {
            "needs_background": "light"
          }
        }
      ],
      "source": [
        "# Load the data\n",
        "data = pd.read_csv('kMeansData.csv')\n",
        "\n",
        "# Number of clusters\n",
        "k = 3\n",
        "\n",
        "# Select initial cluster centers randomly\n",
        "centroids = data.sample(k)\n",
        "\n",
        "# Plot the initial centroids\n",
        "plt.scatter(data['x1'], data['x2'])\n",
        "plt.scatter(centroids['x1'], centroids['x2'], marker='x', s=200, linewidths=3, color='r')\n",
        "plt.show()"
      ]
    },
    {
      "cell_type": "code",
      "execution_count": 23,
      "id": "76aea8d9",
      "metadata": {
        "id": "76aea8d9",
        "outputId": "6debe502-fc58-4686-fe60-2811a76b1956",
        "colab": {
          "base_uri": "https://localhost:8080/",
          "height": 350
        }
      },
      "outputs": [
        {
          "output_type": "display_data",
          "data": {
            "text/plain": [
              "<Figure size 432x288 with 1 Axes>"
            ],
            "image/png": "[encoded data removed]"
          },
          "metadata": {
            "needs_background": "light"
          }
        },
        {
          "output_type": "stream",
          "name": "stdout",
          "text": [
            "Final cluster centers:\n",
            "           x1        x2\n",
            "126  1.462000  0.246000\n",
            "115  4.292593  1.359259\n",
            "109  5.626087  2.047826\n"
          ]
        }
      ],
      "source": [
        "# Number of iterations\n",
        "max_iter = 1000\n",
        "\n",
        "# Convergence criterion\n",
        "convergence_threshold = 0.001\n",
        "\n",
        "# Keep track of iterations\n",
        "iter = 0\n",
        "\n",
        "# Keep looping until the number of iterations reaches the maximum or the convergence criterion is met\n",
        "while iter < max_iter:\n",
        "    # Assign each data point to the closest centroid\n",
        "    distances = np.zeros((len(data), k))\n",
        "    for i in range(k):\n",
        "        distances[:, i] = np.sqrt((data['x1'] - centroids.iloc[i]['x1'])**2 + (data['x2'] - centroids.iloc[i]['x2'])**2)\n",
        "    closest_centroids = np.argmin(distances, axis=1)\n",
        "    \n",
        "    # Store the previous centroid locations\n",
        "    prev_centroids = centroids.copy()\n",
        "    \n",
        "    # Recalculate the centroid locations as the mean of the assigned data points\n",
        "    for i in range(k):\n",
        "        centroids.iloc[i, :] = data[closest_centroids == i].mean()\n",
        "    \n",
        "    # Check for convergence\n",
        "    diff = np.sqrt(((centroids - prev_centroids)**2).sum().sum())\n",
        "    if diff < convergence_threshold:\n",
        "        break\n",
        "    \n",
        "    iter += 1\n",
        "\n",
        "# Plot the final clusters\n",
        "colors = ['r', 'g', 'b']\n",
        "for i in range(k):\n",
        "    cluster = data[closest_centroids == i]\n",
        "    plt.scatter(cluster['x1'], cluster['x2'], c=colors[i])\n",
        "plt.scatter(centroids['x1'], centroids['x2'], marker='x', s=200, linewidths=3, color='k')\n",
        "plt.show()\n",
        "\n",
        "# Print the final cluster centers\n",
        "print(\"Final cluster centers:\")\n",
        "print(centroids)\n"
      ]
    },
    {
      "cell_type": "code",
      "execution_count": 31,
      "id": "8141484a",
      "metadata": {
        "id": "8141484a",
        "outputId": "14011c7a-6947-4421-c7d8-719ca8c3dd61",
        "colab": {
          "base_uri": "https://localhost:8080/",
          "height": 299
        }
      },
      "outputs": [
        {
          "output_type": "stream",
          "name": "stdout",
          "text": [
            "Cluster center coordinates: [[ 1.30641042 -0.37348593]\n",
            " [-2.26014807  2.1265868 ]]\n"
          ]
        },
        {
          "output_type": "display_data",
          "data": {
            "text/plain": [
              "<Figure size 432x288 with 1 Axes>"
            ],
            "image/png": "[encoded data removed]"
          },
          "metadata": {
            "needs_background": "light"
          }
        }
      ],
      "source": [
        "# Load the data from the csv file\n",
        "random.seed(42)\n",
        "data = pd.read_csv(\"rbfClassification.csv\")\n",
        "\n",
        "# Extract the input features x1 and x2\n",
        "X = data[['x1', 'x2']].values\n",
        "\n",
        "# Set the number of clusters to 2\n",
        "k = 2\n",
        "\n",
        "# Initialize and fit a k-means model on the input features\n",
        "kmeans = KMeans(n_clusters=k, init='k-means++')\n",
        "kmeans.fit(X)\n",
        "\n",
        "# Get the coordinates of the cluster centers\n",
        "centers = kmeans.cluster_centers_\n",
        "print(\"Cluster center coordinates:\", centers)\n",
        "\n",
        "# Plot the data points and cluster centers\n",
        "colors = ['red', 'blue']\n",
        "for i in range(k):\n",
        "    cluster_points = X[kmeans.labels_ == i]\n",
        "    plt.scatter(cluster_points[:, 0], cluster_points[:, 1], color=colors[i])\n",
        "    plt.scatter(centers[i, 0], centers[i, 1], marker='x', s=200, color='black')\n",
        "plt.show()\n"
      ]
    },
    {
      "cell_type": "code",
      "execution_count": 32,
      "id": "279933fb",
      "metadata": {
        "id": "279933fb",
        "outputId": "e9322deb-926d-421b-d799-4196c342122e",
        "colab": {
          "base_uri": "https://localhost:8080/"
        }
      },
      "outputs": [
        {
          "output_type": "stream",
          "name": "stdout",
          "text": [
            "Cluster Centers:\n",
            "[[ 1.15803318 -1.32584965]\n",
            " [-0.81677469  2.46180488]]\n"
          ]
        }
      ],
      "source": [
        "print(\"Cluster Centers:\")\n",
        "print(cluster_centers)"
      ]
    },
    {
      "cell_type": "code",
      "source": [
        "# Load the data from the csv file\n",
        "data = pd.read_csv(\"rbfClassification.csv\")\n",
        "\n",
        "# Extract the input features (x1 and x2) and target class (cls)\n",
        "X = data[['x1', 'x2']].values\n",
        "y = data['cls'].values\n",
        "\n",
        "# Calculate the RBF kernel matrix using gamma = 0.5\n",
        "gamma = 0.5\n",
        "K = rbf_kernel(X, centers, gamma=gamma)\n",
        "\n",
        "# Train an SVM with RBF kernel on the RBF kernel matrix\n",
        "svm = SVC(kernel='rbf', gamma=gamma)\n",
        "svm.fit(K, y)\n",
        "\n",
        "# Predict the target class of each data point using the trained SVM\n",
        "y_pred = svm.predict(K)\n",
        "\n",
        "# Calculate the correct classification rate\n",
        "accuracy = accuracy_score(y, y_pred)\n",
        "print(\"Correct classification rate:\", accuracy)"
      ],
      "metadata": {
        "colab": {
          "base_uri": "https://localhost:8080/"
        },
        "id": "c2XUx0GMpgbG",
        "outputId": "004bbc82-9102-4798-d326-e96b85756ca4"
      },
      "id": "c2XUx0GMpgbG",
      "execution_count": 33,
      "outputs": [
        {
          "output_type": "stream",
          "name": "stdout",
          "text": [
            "Correct classification rate: 0.75\n"
          ]
        }
      ]
    }
  ],
  "metadata": {
    "kernelspec": {
      "display_name": "Python 3 (ipykernel)",
      "language": "python",
      "name": "python3"
    },
    "language_info": {
      "codemirror_mode": {
        "name": "ipython",
        "version": 3
      },
      "file_extension": ".py",
      "mimetype": "text/x-python",
      "name": "python",
      "nbconvert_exporter": "python",
      "pygments_lexer": "ipython3",
      "version": "3.9.13"
    },
    "colab": {
      "provenance": []
    }
  },
  "nbformat": 4,
  "nbformat_minor": 5
}