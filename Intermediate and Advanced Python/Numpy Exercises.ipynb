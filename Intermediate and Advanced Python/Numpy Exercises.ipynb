{
 "cells": [
  {
   "cell_type": "code",
   "execution_count": 2,
   "metadata": {},
   "outputs": [],
   "source": [
    "import numpy as np\n",
    "import pandas as pd"
   ]
  },
  {
   "cell_type": "markdown",
   "metadata": {},
   "source": [
    "1) Check if all elements from the following arrays return the logical value True:"
   ]
  },
  {
   "cell_type": "code",
   "execution_count": 2,
   "metadata": {},
   "outputs": [],
   "source": [
    "A = np.array([[3, 2, 1, 4],\n",
    "              [5, 2, 1, 6]])\n",
    " \n",
    "B = np.array([[3, 2, 1, 4],\n",
    "              [5, 2, 0, 6]])\n",
    " \n",
    "C = np.array([[True, False, False],\n",
    "              [True, True, True]])\n",
    " \n",
    "D = np.array([0.1, 0.3])"
   ]
  },
  {
   "cell_type": "code",
   "execution_count": 4,
   "metadata": {},
   "outputs": [
    {
     "name": "stdout",
     "output_type": "stream",
     "text": [
      "A: True\n",
      "B: False\n",
      "C: False\n",
      "D: True\n"
     ]
    }
   ],
   "source": [
    "for name, array in zip(list('ABCD'),[A,B,C,D]):\n",
    "    print(f'{name}: {np.all(array)}')"
   ]
  },
  {
   "cell_type": "markdown",
   "metadata": {},
   "source": [
    "2) Check if all elements from the following arrays return the logical value True along the axis with index 1:"
   ]
  },
  {
   "cell_type": "code",
   "execution_count": 2,
   "metadata": {},
   "outputs": [],
   "source": [
    "A = np.array([[3, 2, 1, 4],\n",
    "              [5, 2, 1, 6]])\n",
    "\n",
    "B = np.array([[3, 2, 1, 4],\n",
    "              [5, 2, 0, 6]])\n",
    "\n",
    "C = np.array([[True, False, False],\n",
    "              [True, True, True]])"
   ]
  },
  {
   "cell_type": "code",
   "execution_count": 3,
   "metadata": {},
   "outputs": [
    {
     "name": "stdout",
     "output_type": "stream",
     "text": [
      "A: [ True  True]\n",
      "B: [ True False]\n",
      "C: [False  True]\n"
     ]
    }
   ],
   "source": [
    "  \n",
    "for name, array in zip(list('ABC'), [A, B, C]):\n",
    "    print(f'{name}: {np.all(array, axis=1)}')"
   ]
  },
  {
   "cell_type": "markdown",
   "metadata": {},
   "source": [
    "3) Check if any element of the following arrays returns the logical value True:"
   ]
  },
  {
   "cell_type": "code",
   "execution_count": 4,
   "metadata": {},
   "outputs": [],
   "source": [
    "A = np.array([[0, 0, 0],\n",
    "              [0, 0, 0]])\n",
    "\n",
    "B = np.array([[0, 0, 0],\n",
    "              [0, 1, 0]])\n",
    "\n",
    "C = np.array([[False, False, False],\n",
    "              [True, False, False]])\n",
    "\n",
    "D = np.array([[0.1, 0.0]])"
   ]
  },
  {
   "cell_type": "code",
   "execution_count": 5,
   "metadata": {},
   "outputs": [
    {
     "name": "stdout",
     "output_type": "stream",
     "text": [
      "A: False\n",
      "B: True\n",
      "C: True\n",
      "D: True\n"
     ]
    }
   ],
   "source": [
    "for name, array in zip(list('ABCD'), [A,B,C,D]):\n",
    "    print(f'{name}: {np.any(array)}')"
   ]
  },
  {
   "cell_type": "markdown",
   "metadata": {},
   "source": [
    "4) Check if any element of the following arrays returns the logical value True along the axis with index 0:"
   ]
  },
  {
   "cell_type": "code",
   "execution_count": 6,
   "metadata": {},
   "outputs": [],
   "source": [
    "A = np.array([[0, 0, 0],\n",
    "              [0, 0, 0]])\n",
    "\n",
    "B = np.array([[0, 0, 0],\n",
    "              [0, 1, 0]])\n",
    "\n",
    "C = np.array([[False, False, False],\n",
    "              [True, False, False]])\n",
    "\n",
    "D = np.array([[0.1, 0.0]])"
   ]
  },
  {
   "cell_type": "code",
   "execution_count": 8,
   "metadata": {},
   "outputs": [
    {
     "name": "stdout",
     "output_type": "stream",
     "text": [
      "A: [False False False]\n",
      "B: [False  True False]\n",
      "C: [ True False False]\n",
      "D: [ True False]\n"
     ]
    }
   ],
   "source": [
    "for name, array in zip(list('ABCD'), [A,B,C,D]):\n",
    "    print(f'{name}: {np.any(array, axis=0)}')"
   ]
  },
  {
   "cell_type": "markdown",
   "metadata": {},
   "source": [
    "5. Check if the following array has missing data (np.nan):"
   ]
  },
  {
   "cell_type": "code",
   "execution_count": 9,
   "metadata": {},
   "outputs": [],
   "source": [
    "A = np.array([[3, 2, 1, np.nan],\n",
    "              [5, np.nan, 1, 6]])"
   ]
  },
  {
   "cell_type": "code",
   "execution_count": 10,
   "metadata": {},
   "outputs": [
    {
     "name": "stdout",
     "output_type": "stream",
     "text": [
      "[[False False False  True]\n",
      " [False  True False False]]\n"
     ]
    }
   ],
   "source": [
    "print(np.isnan(A))"
   ]
  },
  {
   "cell_type": "markdown",
   "metadata": {},
   "source": [
    "6) Check if the following arrays are equal (element-wise):"
   ]
  },
  {
   "cell_type": "code",
   "execution_count": 11,
   "metadata": {},
   "outputs": [],
   "source": [
    "A = np.array([0.4, 0.5, 0.3])\n",
    "B = np.array([0.39999999, 0.5000001, 0.3])"
   ]
  },
  {
   "cell_type": "code",
   "execution_count": 12,
   "metadata": {},
   "outputs": [
    {
     "name": "stdout",
     "output_type": "stream",
     "text": [
      "True\n"
     ]
    }
   ],
   "source": [
    "print(np.allclose(A,B))"
   ]
  },
  {
   "cell_type": "markdown",
   "metadata": {},
   "source": [
    "7. Check if the following arrays are equal (element-wise):"
   ]
  },
  {
   "cell_type": "code",
   "execution_count": 13,
   "metadata": {},
   "outputs": [],
   "source": [
    "A = np.array([0.4, 0.5, 0.3])\n",
    "B = np.array([0.3999999999, 0.5000000001, 0.3])"
   ]
  },
  {
   "cell_type": "code",
   "execution_count": 14,
   "metadata": {},
   "outputs": [
    {
     "name": "stdout",
     "output_type": "stream",
     "text": [
      "[False False  True]\n"
     ]
    }
   ],
   "source": [
    "print(A==B)"
   ]
  },
  {
   "cell_type": "markdown",
   "metadata": {},
   "source": [
    "8) Check which numbers (element-wise) from the A array are greater than numbers from the B array and print result to the console as shown below."
   ]
  },
  {
   "cell_type": "code",
   "execution_count": 15,
   "metadata": {},
   "outputs": [],
   "source": [
    "A = np.array([0.4, 0.5, 0.3, 0.9])\n",
    "B = np.array([0.38, 0.51, 0.3, 0.91])"
   ]
  },
  {
   "cell_type": "code",
   "execution_count": 16,
   "metadata": {},
   "outputs": [
    {
     "name": "stdout",
     "output_type": "stream",
     "text": [
      "[ True False False False]\n"
     ]
    }
   ],
   "source": [
    "print(A>B)"
   ]
  },
  {
   "cell_type": "markdown",
   "metadata": {},
   "source": [
    "9. Using Numpy create a 4x4 array filled with zeros (set data type to int). In response print this array to the console."
   ]
  },
  {
   "cell_type": "code",
   "execution_count": 18,
   "metadata": {},
   "outputs": [
    {
     "name": "stdout",
     "output_type": "stream",
     "text": [
      "[[0 0 0 0]\n",
      " [0 0 0 0]\n",
      " [0 0 0 0]\n",
      " [0 0 0 0]]\n"
     ]
    }
   ],
   "source": [
    "array = np.zeros((4,4), dtype='int')\n",
    "print(array)"
   ]
  },
  {
   "cell_type": "markdown",
   "metadata": {},
   "source": [
    "10. Using Numpy, create an array 10x10 filled with number 255 and set the data type to float. Print this array to the console as shown below.\n"
   ]
  },
  {
   "cell_type": "code",
   "execution_count": 21,
   "metadata": {},
   "outputs": [
    {
     "name": "stdout",
     "output_type": "stream",
     "text": [
      "[[255. 255. 255. 255. 255. 255. 255. 255. 255. 255.]\n",
      " [255. 255. 255. 255. 255. 255. 255. 255. 255. 255.]\n",
      " [255. 255. 255. 255. 255. 255. 255. 255. 255. 255.]\n",
      " [255. 255. 255. 255. 255. 255. 255. 255. 255. 255.]\n",
      " [255. 255. 255. 255. 255. 255. 255. 255. 255. 255.]\n",
      " [255. 255. 255. 255. 255. 255. 255. 255. 255. 255.]\n",
      " [255. 255. 255. 255. 255. 255. 255. 255. 255. 255.]\n",
      " [255. 255. 255. 255. 255. 255. 255. 255. 255. 255.]\n",
      " [255. 255. 255. 255. 255. 255. 255. 255. 255. 255.]\n",
      " [255. 255. 255. 255. 255. 255. 255. 255. 255. 255.]]\n"
     ]
    }
   ],
   "source": [
    "array = np.ones((10,10))*255.0\n",
    "print(array)"
   ]
  },
  {
   "cell_type": "markdown",
   "metadata": {},
   "source": [
    "11. Using Numpy create a one-dimensional array of all two-digit numbers and print this array to the console as shown below."
   ]
  },
  {
   "cell_type": "code",
   "execution_count": 26,
   "metadata": {},
   "outputs": [
    {
     "name": "stdout",
     "output_type": "stream",
     "text": [
      "[10 11 12 13 14 15 16 17 18 19 20 21 22 23 24 25 26 27 28 29 30 31 32 33\n",
      " 34 35 36 37 38 39 40 41 42 43 44 45 46 47 48 49 50 51 52 53 54 55 56 57\n",
      " 58 59 60 61 62 63 64 65 66 67 68 69 70 71 72 73 74 75 76 77 78 79 80 81\n",
      " 82 83 84 85 86 87 88 89 90 91 92 93 94 95 96 97 98 99]\n"
     ]
    }
   ],
   "source": [
    "print(np.arange(10,100,1))"
   ]
  },
  {
   "cell_type": "markdown",
   "metadata": {},
   "source": [
    "12. Using Numpy create the following array:"
   ]
  },
  {
   "cell_type": "code",
   "execution_count": null,
   "metadata": {},
   "outputs": [],
   "source": [
    "[[10 11 12 13 14 15 16 17 18 19]\n",
    " [20 21 22 23 24 25 26 27 28 29]\n",
    " [30 31 32 33 34 35 36 37 38 39]\n",
    " [40 41 42 43 44 45 46 47 48 49]\n",
    " [50 51 52 53 54 55 56 57 58 59]\n",
    " [60 61 62 63 64 65 66 67 68 69]\n",
    " [70 71 72 73 74 75 76 77 78 79]\n",
    " [80 81 82 83 84 85 86 87 88 89]\n",
    " [90 91 92 93 94 95 96 97 98 99]]"
   ]
  },
  {
   "cell_type": "code",
   "execution_count": 28,
   "metadata": {},
   "outputs": [
    {
     "name": "stdout",
     "output_type": "stream",
     "text": [
      "[[10 11 12 13 14 15 16 17 18 19]\n",
      " [20 21 22 23 24 25 26 27 28 29]\n",
      " [30 31 32 33 34 35 36 37 38 39]\n",
      " [40 41 42 43 44 45 46 47 48 49]\n",
      " [50 51 52 53 54 55 56 57 58 59]\n",
      " [60 61 62 63 64 65 66 67 68 69]\n",
      " [70 71 72 73 74 75 76 77 78 79]\n",
      " [80 81 82 83 84 85 86 87 88 89]\n",
      " [90 91 92 93 94 95 96 97 98 99]]\n"
     ]
    }
   ],
   "source": [
    "print(np.arange(10,100).reshape((9,10)))"
   ]
  },
  {
   "cell_type": "markdown",
   "metadata": {},
   "source": [
    "13. Using Numpy create a 6x6 two-dimensional array - identity matrix with int data type. Print this array to the console as shown below."
   ]
  },
  {
   "cell_type": "code",
   "execution_count": null,
   "metadata": {},
   "outputs": [],
   "source": [
    "[[1 0 0 0 0 0]\n",
    " [0 1 0 0 0 0]\n",
    " [0 0 1 0 0 0]\n",
    " [0 0 0 1 0 0]\n",
    " [0 0 0 0 1 0]\n",
    " [0 0 0 0 0 1]]"
   ]
  },
  {
   "cell_type": "code",
   "execution_count": 29,
   "metadata": {},
   "outputs": [
    {
     "name": "stdout",
     "output_type": "stream",
     "text": [
      "[[1 0 0 0 0 0]\n",
      " [0 1 0 0 0 0]\n",
      " [0 0 1 0 0 0]\n",
      " [0 0 0 1 0 0]\n",
      " [0 0 0 0 1 0]\n",
      " [0 0 0 0 0 1]]\n"
     ]
    }
   ],
   "source": [
    "print(np.eye(6,6,dtype='int'))"
   ]
  },
  {
   "cell_type": "markdown",
   "metadata": {},
   "source": [
    "14. Set the random seed to 10. Then using Numpy create a one-dimensional array consisting of 30 pseudo-randomly generated values from the uniform distribution [0,1). Print result to the console as shown below."
   ]
  },
  {
   "cell_type": "code",
   "execution_count": 31,
   "metadata": {},
   "outputs": [
    {
     "name": "stdout",
     "output_type": "stream",
     "text": [
      "[0.77132064 0.02075195 0.63364823 0.74880388 0.49850701 0.22479665\n",
      " 0.19806286 0.76053071 0.16911084 0.08833981 0.68535982 0.95339335\n",
      " 0.00394827 0.51219226 0.81262096 0.61252607 0.72175532 0.29187607\n",
      " 0.91777412 0.71457578 0.54254437 0.14217005 0.37334076 0.67413362\n",
      " 0.44183317 0.43401399 0.61776698 0.51313824 0.65039718 0.60103895]\n"
     ]
    }
   ],
   "source": [
    "np.random.seed(10)\n",
    "print(np.random.rand(30))\n"
   ]
  },
  {
   "cell_type": "markdown",
   "metadata": {},
   "source": [
    "15. Using Numpy create a two-dimensional array with the shape (10, 4) pseudo-randomly generated values from the standard normal distribution N(0,1). Set the random seed to 20. Print result to the console as shown below."
   ]
  },
  {
   "cell_type": "code",
   "execution_count": 33,
   "metadata": {},
   "outputs": [
    {
     "name": "stdout",
     "output_type": "stream",
     "text": [
      "[[0.5881308  0.89771373 0.89153073 0.81583748]\n",
      " [0.03588959 0.69175758 0.37868094 0.51851095]\n",
      " [0.65795147 0.19385022 0.2723164  0.71860593]\n",
      " [0.78300361 0.85032764 0.77524489 0.03666431]\n",
      " [0.11669374 0.7512807  0.23921822 0.25480601]\n",
      " [0.85762553 0.94977903 0.56168686 0.17878052]\n",
      " [0.77025193 0.49238104 0.63125307 0.83949792]\n",
      " [0.4610394  0.49794007 0.67941112 0.65078591]\n",
      " [0.26879524 0.06732467 0.77144514 0.48098413]\n",
      " [0.32920641 0.51064106 0.26362883 0.31051155]]\n"
     ]
    }
   ],
   "source": [
    "np.random.seed(20)\n",
    "print(np.random.rand(10,4))"
   ]
  },
  {
   "cell_type": "markdown",
   "metadata": {},
   "source": [
    "16. Using Numpy create a two-dimensional array with the shape (10, 4) pseudo-randomly generated values from the normal distribution N(100, 5). Set the random seed to 30. Print result to the console as shown below."
   ]
  },
  {
   "cell_type": "code",
   "execution_count": 36,
   "metadata": {},
   "outputs": [
    {
     "name": "stdout",
     "output_type": "stream",
     "text": [
      "[[100.26994306 100.92578826 103.05559969  96.95174745]\n",
      " [100.03500265 102.02288173  98.19571431  98.42064204]\n",
      " [102.3543379   99.79099185  96.78240878  99.30398156]\n",
      " [101.80153119  99.97193525  99.41678224  98.01106732]\n",
      " [ 96.38673952  98.09494923  99.9079184   99.39553067]\n",
      " [ 96.63700335 102.93812139  99.93263598 101.41993241]\n",
      " [101.12347933 102.59823477  99.31632604 103.82878066]\n",
      " [102.61494062  99.38325919  94.38348759  99.06695186]\n",
      " [101.21099282  99.67553021  97.71567157 101.05604565]\n",
      " [ 98.41658771 103.16211201  98.90313451 102.64117836]]\n"
     ]
    }
   ],
   "source": [
    "np.random.rand(30)\n",
    "sigma=np.sqrt(5)\n",
    "mu=100\n",
    "print(np.random.randn(10,4)*sigma+mu)"
   ]
  },
  {
   "cell_type": "markdown",
   "metadata": {},
   "source": [
    "17. The following array is given:\n",
    "Iterate through this array and print each element to the console."
   ]
  },
  {
   "cell_type": "code",
   "execution_count": 37,
   "metadata": {},
   "outputs": [],
   "source": [
    "A = np.array([[1, 4, 3],\n",
    "              [5, 2, 6]])"
   ]
  },
  {
   "cell_type": "code",
   "execution_count": 38,
   "metadata": {},
   "outputs": [
    {
     "name": "stdout",
     "output_type": "stream",
     "text": [
      "1\n",
      "4\n",
      "3\n",
      "5\n",
      "2\n",
      "6\n"
     ]
    },
    {
     "data": {
      "text/plain": [
       "[None, None, None, None, None, None]"
      ]
     },
     "execution_count": 38,
     "metadata": {},
     "output_type": "execute_result"
    }
   ],
   "source": [
    "[print(i) for  i in np.nditer(A)]"
   ]
  },
  {
   "cell_type": "markdown",
   "metadata": {},
   "source": [
    "18. Using Numpy create a one-dimensional array (vector) consisting of eleven equally distributed numbers from the [0,1] interval."
   ]
  },
  {
   "cell_type": "code",
   "execution_count": 40,
   "metadata": {},
   "outputs": [
    {
     "name": "stdout",
     "output_type": "stream",
     "text": [
      "[0.  0.1 0.2 0.3 0.4 0.5 0.6 0.7 0.8 0.9 1. ]\n"
     ]
    }
   ],
   "source": [
    "print(np.linspace(0,1,11))"
   ]
  },
  {
   "cell_type": "markdown",
   "metadata": {},
   "source": [
    "19. Using Numpy create a one-dimensional array (vector) containing the possible result from the Big Lotto game. Set the random seed to 42. Print result to the console.\n",
    "\n",
    "Tip: The result of this game is a 6-element vector of values from 1 to 49 inclusive."
   ]
  },
  {
   "cell_type": "code",
   "execution_count": 41,
   "metadata": {},
   "outputs": [
    {
     "name": "stdout",
     "output_type": "stream",
     "text": [
      "[14 46 48 45 18 28]\n"
     ]
    }
   ],
   "source": [
    "np.random.seed(42)\n",
    "print(np.random.choice(range(1,50), size=6, replace=False))"
   ]
  },
  {
   "cell_type": "markdown",
   "metadata": {},
   "source": [
    "20. Using Numpy create the following two-dimensional array:"
   ]
  },
  {
   "cell_type": "code",
   "execution_count": null,
   "metadata": {},
   "outputs": [],
   "source": [
    "[[0 0 0 0 0 0]\n",
    " [0 1 0 0 0 0]\n",
    " [0 0 2 0 0 0]\n",
    " [0 0 0 3 0 0]\n",
    " [0 0 0 0 4 0]\n",
    " [0 0 0 0 0 5]]"
   ]
  },
  {
   "cell_type": "code",
   "execution_count": 42,
   "metadata": {},
   "outputs": [
    {
     "name": "stdout",
     "output_type": "stream",
     "text": [
      "[[0 0 0 0 0 0]\n",
      " [0 1 0 0 0 0]\n",
      " [0 0 2 0 0 0]\n",
      " [0 0 0 3 0 0]\n",
      " [0 0 0 0 4 0]\n",
      " [0 0 0 0 0 5]]\n"
     ]
    }
   ],
   "source": [
    "print(np.diag(np.arange(6)))"
   ]
  },
  {
   "cell_type": "markdown",
   "metadata": {},
   "source": [
    "21. Using Numpy create the following array. Save this array to a binary file named 'array.npy' and then load that file back into another variable. Print this variable to the console."
   ]
  },
  {
   "cell_type": "code",
   "execution_count": null,
   "metadata": {},
   "outputs": [],
   "source": [
    "array([[ 0,  1,  2,  3],\n",
    "       [ 4,  5,  6,  7],\n",
    "       [ 8,  9, 10, 11]])"
   ]
  },
  {
   "cell_type": "code",
   "execution_count": 47,
   "metadata": {},
   "outputs": [
    {
     "name": "stdout",
     "output_type": "stream",
     "text": [
      "[[ 0  1  2  3]\n",
      " [ 4  5  6  7]\n",
      " [ 8  9 10 11]]\n"
     ]
    }
   ],
   "source": [
    "array = np.arange(0,12,1).reshape(3,4)\n",
    "np.save('array.npy', array)\n",
    "array2=np.load('array.npy')\n",
    "print(array2)"
   ]
  },
  {
   "cell_type": "markdown",
   "metadata": {},
   "source": [
    "22. Using Numpy create the following array. Save this array to a text file named 'array.txt' with two decimal places and then load this file back into another variable. Print this variable to the console.\n"
   ]
  },
  {
   "cell_type": "code",
   "execution_count": null,
   "metadata": {},
   "outputs": [],
   "source": [
    "array([[ 0,  1,  2,  3],\n",
    "       [ 4,  5,  6,  7],\n",
    "       [ 8,  9, 10, 11]])"
   ]
  },
  {
   "cell_type": "code",
   "execution_count": 49,
   "metadata": {},
   "outputs": [
    {
     "name": "stdout",
     "output_type": "stream",
     "text": [
      "[[ 0.  1.  2.  3.]\n",
      " [ 4.  5.  6.  7.]\n",
      " [ 8.  9. 10. 11.]]\n"
     ]
    }
   ],
   "source": [
    "A=np.arange(0,12).reshape(3,4)\n",
    "np.savetxt('array.txt',array)\n",
    "B=np.loadtxt('array.txt')\n",
    "print(B)"
   ]
  },
  {
   "cell_type": "markdown",
   "metadata": {},
   "source": [
    "23. Using Numpy create and convert the following array into the list. In response, print list to the console."
   ]
  },
  {
   "cell_type": "code",
   "execution_count": null,
   "metadata": {},
   "outputs": [],
   "source": [
    "array([[ 0,  1,  2,  3],\n",
    "       [ 4,  5,  6,  7],\n",
    "       [ 8,  9, 10, 11]])"
   ]
  },
  {
   "cell_type": "code",
   "execution_count": 52,
   "metadata": {},
   "outputs": [
    {
     "name": "stdout",
     "output_type": "stream",
     "text": [
      "[0, 1, 2, 3, 4, 5, 6, 7, 8, 9, 10, 11]\n"
     ]
    }
   ],
   "source": [
    "array = np.arange(0,12)\n",
    "l = array.tolist()\n",
    "print(l)"
   ]
  },
  {
   "cell_type": "markdown",
   "metadata": {},
   "source": [
    "24. Using the slice operator, transform this array into the following:"
   ]
  },
  {
   "cell_type": "code",
   "execution_count": null,
   "metadata": {},
   "outputs": [],
   "source": [
    "array([[ 0,  1,  2,  3],\n",
    "       [ 4,  5,  6,  7],\n",
    "       [ 8,  9, 10, 11]])"
   ]
  },
  {
   "cell_type": "code",
   "execution_count": null,
   "metadata": {},
   "outputs": [],
   "source": [
    "array([[ 8,  9, 10, 11],\n",
    "       [ 4,  5,  6,  7],\n",
    "       [ 0,  1,  2,  3]])"
   ]
  },
  {
   "cell_type": "code",
   "execution_count": 55,
   "metadata": {},
   "outputs": [
    {
     "name": "stdout",
     "output_type": "stream",
     "text": [
      "[[ 8  9 10 11]\n",
      " [ 4  5  6  7]\n",
      " [ 0  1  2  3]]\n"
     ]
    }
   ],
   "source": [
    "array=np.arange(0,12).reshape(3,4)\n",
    "print(array[::-1])"
   ]
  },
  {
   "cell_type": "markdown",
   "metadata": {},
   "source": [
    "25. The following array:"
   ]
  },
  {
   "cell_type": "code",
   "execution_count": null,
   "metadata": {},
   "outputs": [],
   "source": [
    "array([[1., 1., 1., 1.],\n",
    "       [1., 1., 1., 1.],\n",
    "       [1., 1., 1., 1.],\n",
    "       [1., 1., 1., 1.]])"
   ]
  },
  {
   "cell_type": "markdown",
   "metadata": {},
   "source": [
    "transform to this array:"
   ]
  },
  {
   "cell_type": "code",
   "execution_count": null,
   "metadata": {},
   "outputs": [],
   "source": [
    "array([[0., 0., 0., 0., 0., 0.],\n",
    "       [0., 1., 1., 1., 1., 0.],\n",
    "       [0., 1., 1., 1., 1., 0.],\n",
    "       [0., 1., 1., 1., 1., 0.],\n",
    "       [0., 1., 1., 1., 1., 0.],\n",
    "       [0., 0., 0., 0., 0., 0.]])"
   ]
  },
  {
   "cell_type": "code",
   "execution_count": 57,
   "metadata": {},
   "outputs": [
    {
     "name": "stdout",
     "output_type": "stream",
     "text": [
      "[[0. 0. 0. 0. 0. 0.]\n",
      " [0. 1. 1. 1. 1. 0.]\n",
      " [0. 1. 1. 1. 1. 0.]\n",
      " [0. 1. 1. 1. 1. 0.]\n",
      " [0. 1. 1. 1. 1. 0.]\n",
      " [0. 0. 0. 0. 0. 0.]]\n"
     ]
    }
   ],
   "source": [
    "array=np.ones((4,4))\n",
    "print(np.pad(array, pad_width=1, constant_values=0))"
   ]
  },
  {
   "cell_type": "markdown",
   "metadata": {},
   "source": [
    "26. The following array:"
   ]
  },
  {
   "cell_type": "code",
   "execution_count": null,
   "metadata": {},
   "outputs": [],
   "source": [
    "array([[0, 0, 0, 0, 0, 0],\n",
    "       [0, 0, 0, 0, 0, 0],\n",
    "       [0, 0, 0, 0, 0, 0],\n",
    "       [0, 0, 0, 0, 0, 0],\n",
    "       [0, 0, 0, 0, 0, 0],\n",
    "       [0, 0, 0, 0, 0, 0]])"
   ]
  },
  {
   "cell_type": "markdown",
   "metadata": {},
   "source": [
    "transform to the following:"
   ]
  },
  {
   "cell_type": "code",
   "execution_count": null,
   "metadata": {},
   "outputs": [],
   "source": [
    "array([[10,  0, 10,  0, 10,  0],\n",
    "       [ 5,  0,  5,  0,  5,  0],\n",
    "       [10,  0, 10,  0, 10,  0],\n",
    "       [ 5,  0,  5,  0,  5,  0],\n",
    "       [10,  0, 10,  0, 10,  0],\n",
    "       [ 5,  0,  5,  0,  5,  0]])"
   ]
  },
  {
   "cell_type": "code",
   "execution_count": 58,
   "metadata": {},
   "outputs": [
    {
     "name": "stdout",
     "output_type": "stream",
     "text": [
      "[[10.  0. 10.  0. 10.  0.]\n",
      " [ 0.  5.  0.  5.  0.  5.]\n",
      " [10.  0. 10.  0. 10.  0.]\n",
      " [ 0.  5.  0.  5.  0.  5.]\n",
      " [10.  0. 10.  0. 10.  0.]\n",
      " [ 0.  5.  0.  5.  0.  5.]]\n"
     ]
    }
   ],
   "source": [
    "array=np.zeros((6,6))\n",
    "array[::2,::2] = 10\n",
    "array[1::2,1::2] = 5\n",
    "print(array)"
   ]
  },
  {
   "cell_type": "markdown",
   "metadata": {},
   "source": [
    "27. Combine the following arrays into one as shown below and print it to the console."
   ]
  },
  {
   "cell_type": "code",
   "execution_count": 59,
   "metadata": {},
   "outputs": [],
   "source": [
    "A = np.arange(12).reshape(-1, 4)\n",
    "B = np.array([[4, 3, 7, 2],\n",
    "              [0, 5, 2, 6]])"
   ]
  },
  {
   "cell_type": "code",
   "execution_count": 63,
   "metadata": {},
   "outputs": [
    {
     "name": "stdout",
     "output_type": "stream",
     "text": [
      "[[ 0  1  2  3]\n",
      " [ 4  5  6  7]\n",
      " [ 8  9 10 11]\n",
      " [ 4  3  7  2]\n",
      " [ 0  5  2  6]]\n"
     ]
    }
   ],
   "source": [
    "print(np.append(A,B, axis=0))"
   ]
  },
  {
   "cell_type": "markdown",
   "metadata": {},
   "source": [
    "28. Extract the same elements (intersection) of the arrays as a list and print result to the console."
   ]
  },
  {
   "cell_type": "code",
   "execution_count": 64,
   "metadata": {},
   "outputs": [],
   "source": [
    "A = np.arange(8).reshape(-1, 4)\n",
    "B = np.array([[9, 10, 11, 3],\n",
    "              [2, 8, 0, 9]])      \n"
   ]
  },
  {
   "cell_type": "code",
   "execution_count": 65,
   "metadata": {},
   "outputs": [
    {
     "name": "stdout",
     "output_type": "stream",
     "text": [
      "[0 2 3]\n"
     ]
    }
   ],
   "source": [
    "print(np.intersect1d(A, B))"
   ]
  },
  {
   "cell_type": "markdown",
   "metadata": {},
   "source": [
    "29. Extract all unique values of this array as a list and print it to the console.\n"
   ]
  },
  {
   "cell_type": "code",
   "execution_count": 66,
   "metadata": {},
   "outputs": [],
   "source": [
    "A = np.array([[5, 1, 2, 1, 2],\n",
    "              [9, 1, 9, 7, 5],\n",
    "              [4, 1, 5, 7, 9]])"
   ]
  },
  {
   "cell_type": "code",
   "execution_count": 67,
   "metadata": {},
   "outputs": [
    {
     "name": "stdout",
     "output_type": "stream",
     "text": [
      "[1 2 4 5 7 9]\n"
     ]
    }
   ],
   "source": [
    "print(np.unique(A))"
   ]
  },
  {
   "cell_type": "markdown",
   "metadata": {},
   "source": [
    "30. Return a list of indexes with maximum values for each row from this array and print it to the console."
   ]
  },
  {
   "cell_type": "code",
   "execution_count": 71,
   "metadata": {},
   "outputs": [],
   "source": [
    "A = np.array([[0.4, 0.3, 0.3],\n",
    "              [0.1, 0.1, 0.8],\n",
    "              [0.2, 0.5, 0.3]])\n"
   ]
  },
  {
   "cell_type": "code",
   "execution_count": 72,
   "metadata": {},
   "outputs": [
    {
     "name": "stdout",
     "output_type": "stream",
     "text": [
      "[0 2 1]\n"
     ]
    }
   ],
   "source": [
    "print(np.argmax(A, axis=1))"
   ]
  },
  {
   "cell_type": "markdown",
   "metadata": {},
   "source": [
    "31. Sort this array:\n",
    "by row (ascending)\n",
    "by column (ascending)\n",
    "And print result to the console as shown below."
   ]
  },
  {
   "cell_type": "code",
   "execution_count": 74,
   "metadata": {},
   "outputs": [],
   "source": [
    "A = np.array(\n",
    "    [[4.99, 3.49, 9.99], [1.99, 9.99, 4.99], [14.99, 2.39, 7.29]]\n",
    ")"
   ]
  },
  {
   "cell_type": "code",
   "execution_count": 78,
   "metadata": {},
   "outputs": [
    {
     "name": "stdout",
     "output_type": "stream",
     "text": [
      "[[ 3.49  4.99  9.99]\n",
      " [ 1.99  4.99  9.99]\n",
      " [ 2.39  7.29 14.99]]\n",
      "[[ 1.99  2.39  4.99]\n",
      " [ 4.99  3.49  7.29]\n",
      " [14.99  9.99  9.99]]\n"
     ]
    }
   ],
   "source": [
    "print(np.sort(A))\n",
    "print(np.sort(A, axis=0))"
   ]
  },
  {
   "cell_type": "markdown",
   "metadata": {},
   "source": [
    "32. Extract all elements from the following array with a value greater than 8 and print result to the console.\n"
   ]
  },
  {
   "cell_type": "code",
   "execution_count": 79,
   "metadata": {},
   "outputs": [],
   "source": [
    "A = np.array(\n",
    "    [[4.99, 3.49, 9.99], [1.99, 9.99, 4.99], [14.99, 2.39, 7.29]]\n",
    ")"
   ]
  },
  {
   "cell_type": "code",
   "execution_count": 80,
   "metadata": {},
   "outputs": [
    {
     "name": "stdout",
     "output_type": "stream",
     "text": [
      "[ 9.99  9.99 14.99]\n"
     ]
    }
   ],
   "source": [
    "print(A[A>8])"
   ]
  },
  {
   "cell_type": "markdown",
   "metadata": {},
   "source": [
    "33. Replace elements greater than 10 with a fixed value = 10.0 and print result to the console."
   ]
  },
  {
   "cell_type": "code",
   "execution_count": 81,
   "metadata": {},
   "outputs": [],
   "source": [
    "A = np.array(\n",
    "    [\n",
    "        [4.99, 3.49, 9.99],\n",
    "        [1.99, 9.99, 14.99],\n",
    "        [14.99, 2.39, 7.29],\n",
    "    ]\n",
    ")"
   ]
  },
  {
   "cell_type": "code",
   "execution_count": 83,
   "metadata": {},
   "outputs": [
    {
     "name": "stdout",
     "output_type": "stream",
     "text": [
      "[[ 4.99  3.49  9.99]\n",
      " [ 1.99  9.99 10.  ]\n",
      " [10.    2.39  7.29]]\n"
     ]
    }
   ],
   "source": [
    "print(np.where(A>10.0, 10.0, A))"
   ]
  },
  {
   "cell_type": "markdown",
   "metadata": {},
   "source": [
    "34. Present the following two-dimensional array as a flattened one-dimensional array and print result to the console.\n"
   ]
  },
  {
   "cell_type": "code",
   "execution_count": 84,
   "metadata": {},
   "outputs": [],
   "source": [
    "A = np.array(\n",
    "    [\n",
    "        [4.99, 3.49, 9.99],\n",
    "        [1.99, 9.99, 14.99],\n",
    "        [14.99, 2.39, 7.29],\n",
    "    ]\n",
    ")"
   ]
  },
  {
   "cell_type": "code",
   "execution_count": 85,
   "metadata": {},
   "outputs": [
    {
     "name": "stdout",
     "output_type": "stream",
     "text": [
      "[ 4.99  3.49  9.99  1.99  9.99 14.99 14.99  2.39  7.29]\n"
     ]
    }
   ],
   "source": [
    "print(np.ravel(A))"
   ]
  },
  {
   "cell_type": "markdown",
   "metadata": {},
   "source": [
    "35. Using Numpy create an array of the same shape and data type as the given array and fill it with zeros. Print this array to the console.\n"
   ]
  },
  {
   "cell_type": "code",
   "execution_count": 86,
   "metadata": {},
   "outputs": [],
   "source": [
    "A = np.array(\n",
    "    [\n",
    "        [4.99, 3.49, 9.99],\n",
    "        [1.99, 9.99, 14.99],\n",
    "        [14.99, 2.39, 7.29],\n",
    "    ]\n",
    ")"
   ]
  },
  {
   "cell_type": "code",
   "execution_count": 89,
   "metadata": {},
   "outputs": [
    {
     "name": "stdout",
     "output_type": "stream",
     "text": [
      "[[0. 0. 0.]\n",
      " [0. 0. 0.]\n",
      " [0. 0. 0.]]\n"
     ]
    }
   ],
   "source": [
    "print(np.zeros_like(A))"
   ]
  },
  {
   "cell_type": "markdown",
   "metadata": {},
   "source": [
    "36. Using Numpy create an array of the same shape and data type as the given array and fill it with a constant value = 9.99. Print this array to the console."
   ]
  },
  {
   "cell_type": "code",
   "execution_count": 90,
   "metadata": {},
   "outputs": [],
   "source": [
    "A = np.array(\n",
    "    [\n",
    "        [4.99, 3.49, 9.99],\n",
    "        [1.99, 9.99, 14.99],\n",
    "        [14.99, 2.39, 7.29],\n",
    "    ]\n",
    ")"
   ]
  },
  {
   "cell_type": "code",
   "execution_count": 91,
   "metadata": {},
   "outputs": [
    {
     "name": "stdout",
     "output_type": "stream",
     "text": [
      "[[9.99 9.99 9.99]\n",
      " [9.99 9.99 9.99]\n",
      " [9.99 9.99 9.99]]\n"
     ]
    }
   ],
   "source": [
    "print(np.full_like(A, 9.99))"
   ]
  },
  {
   "cell_type": "markdown",
   "metadata": {},
   "source": [
    "37. Using Numpy create a two-dimensional array (lower triangular matrix):"
   ]
  },
  {
   "cell_type": "code",
   "execution_count": null,
   "metadata": {},
   "outputs": [],
   "source": [
    "array(\n",
    "    [\n",
    "        [1., 0., 0., 0., 0.],\n",
    "        [1., 1., 0., 0., 0.],\n",
    "        [1., 1., 1., 0., 0.],\n",
    "        [1., 1., 1., 1., 0.],\n",
    "        [1., 1., 1., 1., 1.]\n",
    "    ]\n",
    ")"
   ]
  },
  {
   "cell_type": "code",
   "execution_count": 92,
   "metadata": {},
   "outputs": [
    {
     "name": "stdout",
     "output_type": "stream",
     "text": [
      "[[1. 0. 0. 0. 0.]\n",
      " [1. 1. 0. 0. 0.]\n",
      " [1. 1. 1. 0. 0.]\n",
      " [1. 1. 1. 1. 0.]\n",
      " [1. 1. 1. 1. 1.]]\n"
     ]
    }
   ],
   "source": [
    "print(np.tri(5, 5))"
   ]
  },
  {
   "cell_type": "markdown",
   "metadata": {},
   "source": [
    "38. Using Numpy create any 3-dimensional array with shape (2, 3, 4) and assign to variable A."
   ]
  },
  {
   "cell_type": "code",
   "execution_count": null,
   "metadata": {},
   "outputs": [],
   "source": [
    "[[[4 5 4 2]\n",
    "  [6 3 5 1]\n",
    "  [5 2 1 2]]\n",
    " \n",
    " [[7 2 3 1]\n",
    "  [6 2 0 9]\n",
    "  [0 1 9 1]]]"
   ]
  },
  {
   "cell_type": "code",
   "execution_count": 94,
   "metadata": {},
   "outputs": [
    {
     "name": "stdout",
     "output_type": "stream",
     "text": [
      "[[[ 0  1  2  3]\n",
      "  [ 4  5  6  7]\n",
      "  [ 8  9 10 11]]\n",
      "\n",
      " [[12 13 14 15]\n",
      "  [16 17 18 19]\n",
      "  [20 21 22 23]]]\n"
     ]
    }
   ],
   "source": [
    "A = np.arange(0,24).reshape((2,3,4))\n",
    "print(A)"
   ]
  },
  {
   "cell_type": "markdown",
   "metadata": {},
   "source": [
    "39. Using Numpy create a two-dimensional array with shape of (200, 300) filled with random values from 0 to 255 (inclusive) with data type np.uint8 and assign to the variable image."
   ]
  },
  {
   "cell_type": "code",
   "execution_count": 96,
   "metadata": {},
   "outputs": [
    {
     "name": "stdout",
     "output_type": "stream",
     "text": [
      "[[249 167 170 ... 188 154   3]\n",
      " [138  20 194 ...  38  45  74]\n",
      " [242 108 221 ... 184  57 105]\n",
      " ...\n",
      " [180  55 112 ... 143 189 122]\n",
      " [ 21  11 118 ... 244 248 221]\n",
      " [219  87 125 ... 245 135 179]]\n"
     ]
    }
   ],
   "source": [
    "print(np.random.randint(low=0, high=256, size=(200,300), dtype=np.uint8))"
   ]
  },
  {
   "cell_type": "markdown",
   "metadata": {},
   "source": [
    "40. Sort this array along the rows in ascending order and assign to the variable image_sorted.\n"
   ]
  },
  {
   "cell_type": "code",
   "execution_count": 97,
   "metadata": {},
   "outputs": [],
   "source": [
    "image = np.random.randint(\n",
    "    low=0, high=256, size=(200, 300), dtype=np.uint8\n",
    ")"
   ]
  },
  {
   "cell_type": "code",
   "execution_count": 101,
   "metadata": {},
   "outputs": [
    {
     "name": "stdout",
     "output_type": "stream",
     "text": [
      "[[  0   1   2 ... 254 254 255]\n",
      " [  0   0   0 ... 254 255 255]\n",
      " [  1   2   2 ... 254 255 255]\n",
      " ...\n",
      " [  3   3   4 ... 253 255 255]\n",
      " [  0   1   5 ... 255 255 255]\n",
      " [  0   1   2 ... 253 254 254]]\n"
     ]
    }
   ],
   "source": [
    "image_sorted = np.sort(image)\n",
    "print(image_sorted)"
   ]
  },
  {
   "cell_type": "markdown",
   "metadata": {},
   "source": [
    "41. Expand this array by one dimension (add a new dimension at the beginning). Expected shape of the output array: (1, 2, 3).\n",
    "In response, print array to the console."
   ]
  },
  {
   "cell_type": "code",
   "execution_count": 102,
   "metadata": {},
   "outputs": [],
   "source": [
    "A = np.array([[4, 2, 1],\n",
    "              [6, 4, 2]])\n"
   ]
  },
  {
   "cell_type": "code",
   "execution_count": 103,
   "metadata": {},
   "outputs": [
    {
     "name": "stdout",
     "output_type": "stream",
     "text": [
      "[[[4 2 1]\n",
      "  [6 4 2]]]\n"
     ]
    }
   ],
   "source": [
    "A=np.expand_dims(A,0)\n",
    "print(A)"
   ]
  },
  {
   "cell_type": "markdown",
   "metadata": {},
   "source": [
    "42. Using Numpy create a three-dimensional array called image with shape (200, 300, 3) filled with random values from 0 to 255 (inclusive) and data type np.uint8. Set random seed to 42.\n",
    "In response, print array to the console."
   ]
  },
  {
   "cell_type": "code",
   "execution_count": 104,
   "metadata": {},
   "outputs": [
    {
     "name": "stdout",
     "output_type": "stream",
     "text": [
      "[[[102 220 225]\n",
      "  [ 95 179  61]\n",
      "  [234 203  92]\n",
      "  ...\n",
      "  [ 41  27  87]\n",
      "  [102 225  65]\n",
      "  [170   0 238]]\n",
      "\n",
      " [[169 170 213]\n",
      "  [159  44 250]\n",
      "  [224 206  61]\n",
      "  ...\n",
      "  [162 118  77]\n",
      "  [228  67  21]\n",
      "  [ 68  30  64]]\n",
      "\n",
      " [[237  26 118]\n",
      "  [ 62 157 198]\n",
      "  [  1 151  37]\n",
      "  ...\n",
      "  [218 189  51]\n",
      "  [193 250 243]\n",
      "  [235  34 180]]\n",
      "\n",
      " ...\n",
      "\n",
      " [[116 102 228]\n",
      "  [ 29  75  71]\n",
      "  [156 133  53]\n",
      "  ...\n",
      "  [ 93  45  68]\n",
      "  [124 238  76]\n",
      "  [184 185 202]]\n",
      "\n",
      " [[216 202 116]\n",
      "  [146 168 132]\n",
      "  [236  80  45]\n",
      "  ...\n",
      "  [169 145 212]\n",
      "  [123  50  70]\n",
      "  [ 11  43  62]]\n",
      "\n",
      " [[ 32  52  65]\n",
      "  [155   2  86]\n",
      "  [ 83 240  27]\n",
      "  ...\n",
      "  [ 30  57 175]\n",
      "  [ 72  83 171]\n",
      "  [ 40 114 195]]]\n"
     ]
    }
   ],
   "source": [
    "np.random.seed(42)\n",
    "print(np.random.randint(0,256,(200,300,3),np.uint8))"
   ]
  },
  {
   "cell_type": "markdown",
   "metadata": {},
   "source": [
    "43. Extend this array by one dimension (add a new dimension at the beginning) and assign to image_extended variable. Expected shape of this array is (1, 200, 300, 3)."
   ]
  },
  {
   "cell_type": "code",
   "execution_count": 105,
   "metadata": {},
   "outputs": [],
   "source": [
    "image = np.random.randint(\n",
    "    low=0, high=256, size=(200, 300, 3), dtype=np.uint8\n",
    ")"
   ]
  },
  {
   "cell_type": "code",
   "execution_count": 106,
   "metadata": {},
   "outputs": [
    {
     "name": "stdout",
     "output_type": "stream",
     "text": [
      "[[[[145  30 244]\n",
      "   [107   6 122]\n",
      "   [201  42  86]\n",
      "   ...\n",
      "   [182 113 173]\n",
      "   [140 196 105]\n",
      "   [123  60 198]]\n",
      "\n",
      "  [[221  40 190]\n",
      "   [175  36 108]\n",
      "   [ 33   0 106]\n",
      "   ...\n",
      "   [ 75 169  71]\n",
      "   [218 180 159]\n",
      "   [ 88  16   4]]\n",
      "\n",
      "  [[141 115 148]\n",
      "   [211  17 146]\n",
      "   [118 201  37]\n",
      "   ...\n",
      "   [ 10 168 141]\n",
      "   [136 119 180]\n",
      "   [134 202  48]]\n",
      "\n",
      "  ...\n",
      "\n",
      "  [[105 148  18]\n",
      "   [178 143 146]\n",
      "   [249 136  32]\n",
      "   ...\n",
      "   [ 80  45 210]\n",
      "   [182 138  93]\n",
      "   [ 93 176 230]]\n",
      "\n",
      "  [[  8  92  85]\n",
      "   [105 188  47]\n",
      "   [188 219 100]\n",
      "   ...\n",
      "   [117 202 126]\n",
      "   [171 254  58]\n",
      "   [ 60 227 231]]\n",
      "\n",
      "  [[ 90  77 134]\n",
      "   [121 220 235]\n",
      "   [ 64 117 152]\n",
      "   ...\n",
      "   [ 60 122  47]\n",
      "   [110 218 233]\n",
      "   [233  85  89]]]]\n"
     ]
    }
   ],
   "source": [
    "print(np.expand_dims(image, 0))"
   ]
  },
  {
   "cell_type": "markdown",
   "metadata": {},
   "source": [
    "44. Expand each of these arrays by adding one dimension at the beginning and then combine these arrays into one called images. Expected shape of images array: (2, 200, 300, 3).\n"
   ]
  },
  {
   "cell_type": "code",
   "execution_count": 107,
   "metadata": {},
   "outputs": [],
   "source": [
    "image1 = np.random.randint(\n",
    "    low=0, high=256, size=(200, 300, 3), dtype=np.uint8\n",
    ")\n",
    "image2 = np.random.randint(\n",
    "    low=0, high=256, size=(200, 300, 3), dtype=np.uint8\n",
    ")"
   ]
  },
  {
   "cell_type": "code",
   "execution_count": 109,
   "metadata": {},
   "outputs": [
    {
     "name": "stdout",
     "output_type": "stream",
     "text": [
      "[[[[[ 41 115 118]\n",
      "    [ 84 233 122]\n",
      "    [  9 233 198]\n",
      "    ...\n",
      "    [ 37  99 209]\n",
      "    [211 120 126]\n",
      "    [ 59  79  35]]\n",
      "\n",
      "   [[136 156 232]\n",
      "    [107 217 177]\n",
      "    [129 224  85]\n",
      "    ...\n",
      "    [132  46 214]\n",
      "    [107 200 163]\n",
      "    [121  45 198]]\n",
      "\n",
      "   [[ 58  69 203]\n",
      "    [ 20  13 211]\n",
      "    [254 145  72]\n",
      "    ...\n",
      "    [  6 183 128]\n",
      "    [159 139  20]\n",
      "    [217 117  31]]\n",
      "\n",
      "   ...\n",
      "\n",
      "   [[178  96 176]\n",
      "    [178 151  78]\n",
      "    [175 147 177]\n",
      "    ...\n",
      "    [169 200  37]\n",
      "    [  9 171  29]\n",
      "    [145 143  28]]\n",
      "\n",
      "   [[189 185 126]\n",
      "    [ 59  76 205]\n",
      "    [  9 136  25]\n",
      "    ...\n",
      "    [ 62  31 235]\n",
      "    [104 133 186]\n",
      "    [154  50 165]]\n",
      "\n",
      "   [[157 209 251]\n",
      "    [181 230  48]\n",
      "    [ 21 223 136]\n",
      "    ...\n",
      "    [ 76  88 111]\n",
      "    [211 188  36]\n",
      "    [ 23 111 239]]]]\n",
      "\n",
      "\n",
      "\n",
      " [[[[ 81  84 180]\n",
      "    [239 195  87]\n",
      "    [ 10 247 246]\n",
      "    ...\n",
      "    [ 49 136  91]\n",
      "    [136 192 105]\n",
      "    [  4 122 161]]\n",
      "\n",
      "   [[121 115 195]\n",
      "    [ 18   3 184]\n",
      "    [253 169 244]\n",
      "    ...\n",
      "    [ 92 136 206]\n",
      "    [ 89  89 113]\n",
      "    [184   1  81]]\n",
      "\n",
      "   [[198 236  19]\n",
      "    [210  50 104]\n",
      "    [ 12  47 217]\n",
      "    ...\n",
      "    [205  24 154]\n",
      "    [241 227 167]\n",
      "    [208 134 145]]\n",
      "\n",
      "   ...\n",
      "\n",
      "   [[107   5  23]\n",
      "    [ 15 113  49]\n",
      "    [209 132 124]\n",
      "    ...\n",
      "    [ 49  68  35]\n",
      "    [123 147 197]\n",
      "    [180 102  30]]\n",
      "\n",
      "   [[244  63 109]\n",
      "    [ 54  81  48]\n",
      "    [ 92  68  76]\n",
      "    ...\n",
      "    [ 73 229  71]\n",
      "    [178 143 234]\n",
      "    [179 104 208]]\n",
      "\n",
      "   [[117 172 184]\n",
      "    [234 161  27]\n",
      "    [ 72 233 138]\n",
      "    ...\n",
      "    [207   8  28]\n",
      "    [132 237  84]\n",
      "    [ 90 122 210]]]]]\n"
     ]
    }
   ],
   "source": [
    "image1=np.expand_dims(image1, 0)\n",
    "image2=np.expand_dims(image2,0)\n",
    "image=np.append(image1, image2, axis=0)\n",
    "print(image)"
   ]
  },
  {
   "cell_type": "markdown",
   "metadata": {},
   "source": [
    "45. Shape of this array is (1, 2, 3). Remove the unnecessary first dimension and extract (2, 3) array and print it to the console as shown below."
   ]
  },
  {
   "cell_type": "code",
   "execution_count": 112,
   "metadata": {},
   "outputs": [],
   "source": [
    "A = np.array([[[1, 2, 3], [6, 3, 2]]])"
   ]
  },
  {
   "cell_type": "code",
   "execution_count": 111,
   "metadata": {},
   "outputs": [
    {
     "name": "stdout",
     "output_type": "stream",
     "text": [
      "[2 3]\n"
     ]
    }
   ],
   "source": [
    "A=np.squeeze(A, 0)\n",
    "print(A[0][1:])"
   ]
  },
  {
   "cell_type": "markdown",
   "metadata": {},
   "source": [
    "46. Shape of this array is (4, 1). Remove the unnecessary dimension and extract (4, ) array and print result to the console."
   ]
  },
  {
   "cell_type": "code",
   "execution_count": 114,
   "metadata": {},
   "outputs": [],
   "source": [
    "A = np.array([[0.4], [0.9], [0.5], [0.6]])"
   ]
  },
  {
   "cell_type": "code",
   "execution_count": 117,
   "metadata": {},
   "outputs": [
    {
     "name": "stdout",
     "output_type": "stream",
     "text": [
      "[0.4 0.9 0.5 0.6]\n"
     ]
    }
   ],
   "source": [
    "A=np.squeeze(A,1)\n",
    "print(A)"
   ]
  },
  {
   "cell_type": "markdown",
   "metadata": {},
   "source": [
    "47. The following array is given:"
   ]
  },
  {
   "cell_type": "code",
   "execution_count": 118,
   "metadata": {},
   "outputs": [],
   "source": [
    "A  = np.arange(12, dtype='int').reshape(-1, 4)"
   ]
  },
  {
   "cell_type": "markdown",
   "metadata": {},
   "source": [
    "Using the slice operator, transform this array into the following:"
   ]
  },
  {
   "cell_type": "code",
   "execution_count": null,
   "metadata": {},
   "outputs": [],
   "source": [
    "array(\n",
    "    [\n",
    "        [ 3,  2,  1,  0],\n",
    "        [ 7,  6,  5,  4],\n",
    "        [11, 10,  9,  8]\n",
    "    ]\n"
   ]
  },
  {
   "cell_type": "code",
   "execution_count": 123,
   "metadata": {},
   "outputs": [
    {
     "name": "stdout",
     "output_type": "stream",
     "text": [
      "[[ 3  2  1  0]\n",
      " [ 7  6  5  4]\n",
      " [11 10  9  8]]\n"
     ]
    }
   ],
   "source": [
    "print(A[:,::-1])"
   ]
  },
  {
   "cell_type": "markdown",
   "metadata": {},
   "source": [
    "48. Using the slice operator, transform this array into the following:\n"
   ]
  },
  {
   "cell_type": "code",
   "execution_count": null,
   "metadata": {},
   "outputs": [],
   "source": [
    "array(\n",
    "    [\n",
    "        [11, 10,  9,  8],\n",
    "        [ 7,  6,  5,  4],\n",
    "        [ 3,  2,  1,  0]\n",
    "    ]\n",
    ")"
   ]
  },
  {
   "cell_type": "code",
   "execution_count": 124,
   "metadata": {},
   "outputs": [],
   "source": [
    "A = np.arange(12, dtype='int').reshape(-1, 4)"
   ]
  },
  {
   "cell_type": "code",
   "execution_count": 128,
   "metadata": {},
   "outputs": [
    {
     "name": "stdout",
     "output_type": "stream",
     "text": [
      "[[11 10  9  8]\n",
      " [ 7  6  5  4]\n",
      " [ 3  2  1  0]]\n"
     ]
    }
   ],
   "source": [
    "print(A[::-1,::-1])"
   ]
  },
  {
   "cell_type": "markdown",
   "metadata": {},
   "source": [
    "49. Random seed is set to 42. The following array is given:Extract the first channel (index 0) of this image array and print it to the console.\n"
   ]
  },
  {
   "cell_type": "code",
   "execution_count": 129,
   "metadata": {},
   "outputs": [],
   "source": [
    "np.random.seed(42)\n",
    "\n",
    "image = np.random.randint(\n",
    "    low=0, high=256, size=(10, 10, 3), dtype=np.uint8\n",
    ")"
   ]
  },
  {
   "cell_type": "code",
   "execution_count": 134,
   "metadata": {},
   "outputs": [
    {
     "name": "stdout",
     "output_type": "stream",
     "text": [
      "[[102 220 225]\n",
      " [ 95 179  61]\n",
      " [234 203  92]\n",
      " [  3  98 243]\n",
      " [ 14 149 245]\n",
      " [ 46 106 244]\n",
      " [ 99 187  71]\n",
      " [212 153 199]\n",
      " [188 174  65]\n",
      " [153  20  44]]\n"
     ]
    }
   ],
   "source": [
    "print(image[0,:,:])"
   ]
  },
  {
   "cell_type": "markdown",
   "metadata": {},
   "source": [
    "50. Extract any array of shape (5, 5, 3) from this array and assign to the result variable.\n"
   ]
  },
  {
   "cell_type": "code",
   "execution_count": 135,
   "metadata": {},
   "outputs": [],
   "source": [
    "image = np.random.randint(\n",
    "    low=0, high=256, size=(10, 10, 3), dtype=np.uint8\n",
    ")\n"
   ]
  },
  {
   "cell_type": "code",
   "execution_count": 136,
   "metadata": {},
   "outputs": [
    {
     "name": "stdout",
     "output_type": "stream",
     "text": [
      "[[[129 219  27]\n",
      "  [ 59  83 229]\n",
      "  [ 41 175  91]\n",
      "  [216 179  61]\n",
      "  [110 213 173]\n",
      "  [112 187  91]\n",
      "  [234 174 198]\n",
      "  [229  61  31]\n",
      "  [171 189  40]\n",
      "  [156 252 233]]\n",
      "\n",
      " [[195 126   7]\n",
      "  [ 67  76 213]\n",
      "  [174 175 205]\n",
      "  [  8  34 160]\n",
      "  [ 97  44 205]\n",
      "  [ 56 201 232]\n",
      "  [ 80 140  28]\n",
      "  [100 163 103]\n",
      "  [ 63  66  49]\n",
      "  [  6 167  46]]\n",
      "\n",
      " [[103  15 155]\n",
      "  [169 131  93]\n",
      "  [ 95 193   1]\n",
      "  [ 76 204  79]\n",
      "  [253   3 215]\n",
      "  [108 133  45]\n",
      "  [ 35 133  53]\n",
      "  [170  59  53]\n",
      "  [105  52 245]\n",
      "  [139   3 207]]\n",
      "\n",
      " [[ 84 145  53]\n",
      "  [159  82  47]\n",
      "  [220  37   4]\n",
      "  [  8 190 178]\n",
      "  [ 54 248 145]\n",
      "  [249 159 215]\n",
      "  [217  26 111]\n",
      "  [198  43  22]\n",
      "  [ 35 115 161]\n",
      "  [  0 131 240]]\n",
      "\n",
      " [[201 144  40]\n",
      "  [101 189 103]\n",
      "  [ 19 229 227]\n",
      "  [131  57 237]\n",
      "  [ 13 249  15]\n",
      "  [153  94 127]\n",
      "  [ 46 186  47]\n",
      "  [243 255 235]\n",
      "  [ 14  45 152]\n",
      "  [ 83 199 113]]\n",
      "\n",
      " [[167  22 205]\n",
      "  [157   8 146]\n",
      "  [214 238  43]\n",
      "  [ 50 251 100]\n",
      "  [ 85 133 248]\n",
      "  [  3 148  11]\n",
      "  [189  94  15]\n",
      "  [246  39 217]\n",
      "  [ 72  83 212]\n",
      "  [ 94  51 216]]\n",
      "\n",
      " [[207  90 128]\n",
      "  [ 99 236  94]\n",
      "  [ 80 191  81]\n",
      "  [ 33 119  69]\n",
      "  [110  67  41]\n",
      "  [138  52  36]\n",
      "  [ 40 212  23]\n",
      "  [ 83  53 150]\n",
      "  [153  47  84]\n",
      "  [ 91 216 248]]\n",
      "\n",
      " [[ 26 247 251]\n",
      "  [ 82 235  71]\n",
      "  [187 152 102]\n",
      "  [155 123  33]\n",
      "  [238 138 236]\n",
      "  [225 167  70]\n",
      "  [ 40 156  19]\n",
      "  [ 36 156 148]\n",
      "  [216  75  14]\n",
      "  [200  92 205]]\n",
      "\n",
      " [[ 44 239  78]\n",
      "  [ 42  64 192]\n",
      "  [ 21  19  88]\n",
      "  [191   0   4]\n",
      "  [ 70 159 164]\n",
      "  [252   8  10]\n",
      "  [100 108  87]\n",
      "  [213 177 197]\n",
      "  [128 244  22]\n",
      "  [101 235   7]]\n",
      "\n",
      " [[223  50 135]\n",
      "  [ 10  34  75]\n",
      "  [215 229 105]\n",
      "  [  1  62 188]\n",
      "  [154   3 138]\n",
      "  [ 20 194 208]\n",
      "  [242  85 231]\n",
      "  [ 50  80 154]\n",
      "  [244 180 135]\n",
      "  [129  26 182]]]\n"
     ]
    }
   ],
   "source": [
    "result = image[:5,:5,:]\n",
    "print(image)"
   ]
  },
  {
   "cell_type": "markdown",
   "metadata": {},
   "source": [
    "51. Concatenate these arrays as follows:\n",
    "\n",
    "\n"
   ]
  },
  {
   "cell_type": "markdown",
   "metadata": {},
   "source": [
    "array(\n",
    "    [\n",
    "        [3, 4, 5],\n",
    "        [8, 3, 1],\n",
    "        [0, 5, 2],\n",
    "        [4, 2, 1]   \n",
    "    ]\n",
    ")"
   ]
  },
  {
   "cell_type": "code",
   "execution_count": 3,
   "metadata": {},
   "outputs": [],
   "source": [
    "A = np.array([[3, 4, 5], [8, 3, 1]])\n",
    "B = np.array([[0, 5, 2], [4, 2, 1]])"
   ]
  },
  {
   "cell_type": "code",
   "execution_count": 6,
   "metadata": {},
   "outputs": [
    {
     "name": "stdout",
     "output_type": "stream",
     "text": [
      "[[3 4 5]\n",
      " [8 3 1]\n",
      " [0 5 2]\n",
      " [4 2 1]]\n"
     ]
    }
   ],
   "source": [
    "print(np.concatenate((A,B), axis=0))"
   ]
  },
  {
   "cell_type": "markdown",
   "metadata": {},
   "source": [
    "52. Concatenate these arrays into one as shown below:"
   ]
  },
  {
   "cell_type": "code",
   "execution_count": null,
   "metadata": {},
   "outputs": [],
   "source": [
    "array([[4.3, 4.2, 0. ],\n",
    "       [3.1, 3.6, 1. ]])"
   ]
  },
  {
   "cell_type": "code",
   "execution_count": 7,
   "metadata": {},
   "outputs": [],
   "source": [
    "data = np.array([[4.3, 4.2], [3.1, 3.6]])\n",
    "target = np.array([[0], [1]])"
   ]
  },
  {
   "cell_type": "code",
   "execution_count": 9,
   "metadata": {},
   "outputs": [
    {
     "name": "stdout",
     "output_type": "stream",
     "text": [
      "[[4.3 4.2 0. ]\n",
      " [3.1 3.6 1. ]]\n"
     ]
    }
   ],
   "source": [
    "print(np.concatenate((data, target), axis=1))"
   ]
  },
  {
   "cell_type": "markdown",
   "metadata": {},
   "source": [
    "53. Transform each of these arrays into a column and concatenate them into one array as shown below. In response, print this array to the console."
   ]
  },
  {
   "cell_type": "code",
   "execution_count": 10,
   "metadata": {},
   "outputs": [],
   "source": [
    "feature1 = np.array([1.6, 0.9, 2.2])\n",
    "feature2 = np.array([0.4, 1.3, 3.2])\n",
    "feature3 = np.array([1.4, 0.3, 1.2])"
   ]
  },
  {
   "cell_type": "code",
   "execution_count": 13,
   "metadata": {},
   "outputs": [
    {
     "name": "stdout",
     "output_type": "stream",
     "text": [
      "[[1.6 0.4 1.4]\n",
      " [0.9 1.3 0.3]\n",
      " [2.2 3.2 1.2]]\n"
     ]
    }
   ],
   "source": [
    "print(np.column_stack((feature1, feature2, feature3)))"
   ]
  },
  {
   "cell_type": "markdown",
   "metadata": {},
   "source": [
    "54. Split this array into three parts:\n",
    "\n",
    "the first two columns assign to the A1 variable\n",
    "\n",
    "the next four columns assign to the A2 variable\n",
    "\n",
    "the last two columns assign to the A3 variable\n",
    "\n",
    "In response, print these arrays to the console as shown below"
   ]
  },
  {
   "cell_type": "code",
   "execution_count": 14,
   "metadata": {},
   "outputs": [],
   "source": [
    "np.random.seed(42)\n",
    "\n",
    "A = np.random.randint(low=0, high=7, size=(5, 8))\n",
    "A[:, :2] = 0\n",
    "A[:, -2:] = 1"
   ]
  },
  {
   "cell_type": "code",
   "execution_count": 15,
   "metadata": {},
   "outputs": [
    {
     "data": {
      "text/plain": [
       "array([[0, 0, 4, 6, 2, 4, 1, 1],\n",
       "       [0, 0, 6, 2, 2, 4, 1, 1],\n",
       "       [0, 0, 1, 3, 5, 5, 1, 1],\n",
       "       [0, 0, 3, 1, 5, 4, 1, 1],\n",
       "       [0, 0, 2, 6, 1, 3, 1, 1]])"
      ]
     },
     "execution_count": 15,
     "metadata": {},
     "output_type": "execute_result"
    }
   ],
   "source": [
    "A"
   ]
  },
  {
   "cell_type": "code",
   "execution_count": 17,
   "metadata": {},
   "outputs": [
    {
     "name": "stdout",
     "output_type": "stream",
     "text": [
      "[[0 0]\n",
      " [0 0]\n",
      " [0 0]\n",
      " [0 0]\n",
      " [0 0]]\n",
      "[[4 6 2 4]\n",
      " [6 2 2 4]\n",
      " [1 3 5 5]\n",
      " [3 1 5 4]\n",
      " [2 6 1 3]]\n",
      "[[1 1]\n",
      " [1 1]\n",
      " [1 1]\n",
      " [1 1]\n",
      " [1 1]]\n"
     ]
    }
   ],
   "source": [
    "A1, A2, A3 = np.split(A, [2,6], axis=1)\n",
    "print(A1)\n",
    "print(A2)\n",
    "print(A3)"
   ]
  },
  {
   "cell_type": "markdown",
   "metadata": {},
   "source": [
    "55.Calculate the total number of non-zero elements in this array and print it to the console."
   ]
  },
  {
   "cell_type": "code",
   "execution_count": 20,
   "metadata": {},
   "outputs": [],
   "source": [
    "np.random.seed(42)\n",
    "A = np.random.randint(low=0, high=2, size=(10, 6))"
   ]
  },
  {
   "cell_type": "code",
   "execution_count": 21,
   "metadata": {},
   "outputs": [
    {
     "name": "stdout",
     "output_type": "stream",
     "text": [
      "31\n"
     ]
    }
   ],
   "source": [
    "print(np.count_nonzero(A))"
   ]
  },
  {
   "cell_type": "markdown",
   "metadata": {},
   "source": [
    "56. Set the Numpy option to print arrays with specified precision. Set precision to 4 and print this array."
   ]
  },
  {
   "cell_type": "code",
   "execution_count": 22,
   "metadata": {},
   "outputs": [],
   "source": [
    "np.random.seed(42)\n",
    "\n",
    "A = np.random.randn(10, 4)"
   ]
  },
  {
   "cell_type": "code",
   "execution_count": 23,
   "metadata": {},
   "outputs": [
    {
     "name": "stdout",
     "output_type": "stream",
     "text": [
      "[[ 0.4967 -0.1383  0.6477  1.523 ]\n",
      " [-0.2342 -0.2341  1.5792  0.7674]\n",
      " [-0.4695  0.5426 -0.4634 -0.4657]\n",
      " [ 0.242  -1.9133 -1.7249 -0.5623]\n",
      " [-1.0128  0.3142 -0.908  -1.4123]\n",
      " [ 1.4656 -0.2258  0.0675 -1.4247]\n",
      " [-0.5444  0.1109 -1.151   0.3757]\n",
      " [-0.6006 -0.2917 -0.6017  1.8523]\n",
      " [-0.0135 -1.0577  0.8225 -1.2208]\n",
      " [ 0.2089 -1.9597 -1.3282  0.1969]]\n"
     ]
    }
   ],
   "source": [
    "np.set_printoptions(precision=4)\n",
    "print(A)"
   ]
  },
  {
   "cell_type": "markdown",
   "metadata": {},
   "source": [
    "57. Set the precision to 8 and also set the appropriate Numpy option to suppress mathematical notation and print this array to the console."
   ]
  },
  {
   "cell_type": "code",
   "execution_count": 24,
   "metadata": {},
   "outputs": [],
   "source": [
    "A = np.array([1.2e-6, 1.7e-7])"
   ]
  },
  {
   "cell_type": "code",
   "execution_count": 26,
   "metadata": {},
   "outputs": [
    {
     "name": "stdout",
     "output_type": "stream",
     "text": [
      "[0.0000012  0.00000017]\n"
     ]
    }
   ],
   "source": [
    "np.set_printoptions(precision=8, suppress=True)\n",
    "print(A)"
   ]
  },
  {
   "cell_type": "markdown",
   "metadata": {},
   "source": [
    "58. Remove the third column and print this array to the console."
   ]
  },
  {
   "cell_type": "code",
   "execution_count": 33,
   "metadata": {},
   "outputs": [],
   "source": [
    "np.random.seed(42)\n",
    "\n",
    "A = np.random.randn(8, 4)\n"
   ]
  },
  {
   "cell_type": "code",
   "execution_count": 32,
   "metadata": {},
   "outputs": [
    {
     "name": "stdout",
     "output_type": "stream",
     "text": [
      "[[ 0.49671415 -0.1382643   1.52302986]\n",
      " [-0.23415337 -0.23413696  0.76743473]\n",
      " [-0.46947439  0.54256004 -0.46572975]\n",
      " [ 0.24196227 -1.91328024 -0.56228753]\n",
      " [-1.01283112  0.31424733 -1.4123037 ]\n",
      " [ 1.46564877 -0.2257763  -1.42474819]\n",
      " [-0.54438272  0.11092259  0.37569802]\n",
      " [-0.60063869 -0.29169375  1.85227818]]\n"
     ]
    }
   ],
   "source": [
    "A=np.delete(A, [2], axis=1)\n",
    "print(A)"
   ]
  },
  {
   "cell_type": "markdown",
   "metadata": {},
   "source": [
    "59. Calculate the norm of this vector and print result to the console."
   ]
  },
  {
   "cell_type": "code",
   "execution_count": 34,
   "metadata": {},
   "outputs": [],
   "source": [
    "v = np.array([3, 4, -2])"
   ]
  },
  {
   "cell_type": "code",
   "execution_count": 35,
   "metadata": {},
   "outputs": [
    {
     "name": "stdout",
     "output_type": "stream",
     "text": [
      "5.385164807134504\n"
     ]
    }
   ],
   "source": [
    "print(np.linalg.norm(v))"
   ]
  },
  {
   "cell_type": "markdown",
   "metadata": {},
   "source": [
    "60. Set the Numpy option to print only ten edge elements and then print this array to the console."
   ]
  },
  {
   "cell_type": "code",
   "execution_count": 37,
   "metadata": {},
   "outputs": [],
   "source": [
    "np.random.seed(42)\n",
    "A = np.random.randint(10, size=(100, 30))"
   ]
  },
  {
   "cell_type": "code",
   "execution_count": 39,
   "metadata": {},
   "outputs": [
    {
     "name": "stdout",
     "output_type": "stream",
     "text": [
      "[[6 3 7 4 6 9 2 6 7 4 ... 4 0 9 5 8 0 9 2 6 3]\n",
      " [8 2 4 2 6 4 8 6 1 3 ... 2 0 3 1 7 3 1 5 5 9]\n",
      " [3 5 1 9 1 9 3 7 6 8 ... 6 8 7 0 7 7 2 0 7 2]\n",
      " [2 0 4 9 6 9 8 6 8 7 ... 0 2 4 2 0 4 9 6 6 8]\n",
      " [9 9 2 6 0 3 3 4 6 6 ... 9 6 8 6 0 0 8 8 3 8]\n",
      " [2 6 5 7 8 4 0 2 9 7 ... 2 0 4 0 7 0 0 1 1 5]\n",
      " [6 4 0 0 2 1 4 9 5 6 ... 5 0 8 5 2 3 3 2 9 2]\n",
      " [2 3 6 3 8 0 7 6 1 7 ... 3 0 1 0 4 4 6 8 8 2]\n",
      " [2 2 3 7 5 7 0 7 3 0 ... 1 1 5 2 8 3 0 3 0 4]\n",
      " [3 7 7 6 2 0 0 2 5 6 ... 4 2 3 2 0 0 4 5 2 8]\n",
      " ...\n",
      " [6 4 8 2 0 3 8 3 1 9 ... 8 4 7 1 5 2 9 4 7 9]\n",
      " [0 4 2 3 1 8 2 1 9 8 ... 7 7 6 5 8 3 0 7 6 6]\n",
      " [2 3 9 8 5 4 2 8 4 4 ... 6 1 7 5 3 4 7 2 2 3]\n",
      " [0 8 7 7 9 5 6 5 8 2 ... 2 3 7 5 4 3 7 0 8 0]\n",
      " [7 3 8 4 2 8 8 3 3 7 ... 4 4 3 4 2 0 4 8 8 3]\n",
      " [2 0 1 7 0 7 6 7 5 8 ... 2 3 6 6 3 5 2 5 1 7]\n",
      " [1 6 8 0 7 6 5 5 5 8 ... 2 7 2 3 7 0 5 0 0 7]\n",
      " [3 0 9 6 4 4 0 9 5 8 ... 6 8 6 2 0 7 2 7 7 4]\n",
      " [0 9 6 9 4 7 8 6 6 0 ... 7 3 0 0 9 2 8 6 1 8]\n",
      " [9 1 2 9 1 2 5 8 8 6 ... 8 2 0 6 9 4 4 0 8 6]]\n"
     ]
    }
   ],
   "source": [
    "np.set_printoptions(edgeitems=10)\n",
    "print(A)"
   ]
  },
  {
   "cell_type": "markdown",
   "metadata": {},
   "source": [
    "61. Calculate arithmetic means of these arrays (elementwise) and print result to the console.\n"
   ]
  },
  {
   "cell_type": "code",
   "execution_count": 40,
   "metadata": {},
   "outputs": [],
   "source": [
    "A = np.array([[3, 4, 9, 2], [5, 3, 2, 5]])\n",
    "B = np.array([[4, 3, 2, 5], [6, 3, 1, 6]])"
   ]
  },
  {
   "cell_type": "code",
   "execution_count": 43,
   "metadata": {},
   "outputs": [
    {
     "name": "stdout",
     "output_type": "stream",
     "text": [
      "[[3.5 3.5 5.5 3.5]\n",
      " [5.5 3.  1.5 5.5]]\n"
     ]
    }
   ],
   "source": [
    "print((A+B)/2)"
   ]
  },
  {
   "cell_type": "markdown",
   "metadata": {},
   "source": [
    "62. Multiply these arrays (elementwise) and print result to the console."
   ]
  },
  {
   "cell_type": "code",
   "execution_count": 44,
   "metadata": {},
   "outputs": [
    {
     "name": "stdout",
     "output_type": "stream",
     "text": [
      "[[12 12 18 10]\n",
      " [30  9  2 30]]\n"
     ]
    }
   ],
   "source": [
    "print(A*B)"
   ]
  },
  {
   "cell_type": "markdown",
   "metadata": {},
   "source": [
    "63. Calculate the square root of each element of this array and print result to the console."
   ]
  },
  {
   "cell_type": "code",
   "execution_count": 45,
   "metadata": {},
   "outputs": [],
   "source": [
    "A = np.array([[3, 4, 9, 2], [5, 3, 2, 5]])"
   ]
  },
  {
   "cell_type": "code",
   "execution_count": 46,
   "metadata": {},
   "outputs": [
    {
     "name": "stdout",
     "output_type": "stream",
     "text": [
      "[[1.73205081 2.         3.         1.41421356]\n",
      " [2.23606798 1.73205081 1.41421356 2.23606798]]\n"
     ]
    }
   ],
   "source": [
    "print(np.sqrt(A))"
   ]
  },
  {
   "cell_type": "markdown",
   "metadata": {},
   "source": [
    "64. Check the Pythagorean formula for sines and cosines on the A array and then compare the result with the B array. Use the np.allclose() function in this exercise.\n",
    "In response, print result to the console."
   ]
  },
  {
   "cell_type": "code",
   "execution_count": 47,
   "metadata": {},
   "outputs": [],
   "source": [
    "A = np.linspace(0, np.pi / 2, 20)\n",
    "B = np.full(shape=(20,), fill_value=1, dtype='float')"
   ]
  },
  {
   "cell_type": "code",
   "execution_count": 49,
   "metadata": {},
   "outputs": [
    {
     "name": "stdout",
     "output_type": "stream",
     "text": [
      "True\n"
     ]
    }
   ],
   "source": [
    "print(np.allclose(np.sin(A)**2+np.cos(A)**2, B))"
   ]
  },
  {
   "cell_type": "markdown",
   "metadata": {},
   "source": [
    "65. Perform matrix multiplication A x B and print result to the console.\n"
   ]
  },
  {
   "cell_type": "code",
   "execution_count": 50,
   "metadata": {},
   "outputs": [],
   "source": [
    "A = np.array([[2, 3], [-4, 2], [5, 0]])\n",
    "B = np.array([[4, 3, 2], [-1, 0, 2]])\n"
   ]
  },
  {
   "cell_type": "code",
   "execution_count": 51,
   "metadata": {},
   "outputs": [
    {
     "name": "stdout",
     "output_type": "stream",
     "text": [
      "[[  5   6  10]\n",
      " [-18 -12  -4]\n",
      " [ 20  15  10]]\n"
     ]
    }
   ],
   "source": [
    "print(np.dot(A,B))"
   ]
  },
  {
   "cell_type": "markdown",
   "metadata": {},
   "source": [
    "66. Calculate the determinant of this matrix and print it to the console."
   ]
  },
  {
   "cell_type": "code",
   "execution_count": 52,
   "metadata": {},
   "outputs": [],
   "source": [
    "A = np.array([[-2, 0, 4], [5, 2, -1], [-4, 2, 4]])"
   ]
  },
  {
   "cell_type": "code",
   "execution_count": 53,
   "metadata": {},
   "outputs": [
    {
     "name": "stdout",
     "output_type": "stream",
     "text": [
      "51.999999999999986\n"
     ]
    }
   ],
   "source": [
    "print(np.linalg.det(A))"
   ]
  },
  {
   "cell_type": "markdown",
   "metadata": {},
   "source": [
    "67. Calculate eigenvalues and their corresponding eigenvectors of this matrix and print to the console as shown below."
   ]
  },
  {
   "cell_type": "code",
   "execution_count": 54,
   "metadata": {},
   "outputs": [],
   "source": [
    "A = np.array([[5, 8, 16], [4, 1, 8], [-4, 4, -11]])"
   ]
  },
  {
   "cell_type": "code",
   "execution_count": 56,
   "metadata": {},
   "outputs": [
    {
     "name": "stdout",
     "output_type": "stream",
     "text": [
      "[-9.24621125 -3.          7.24621125]\n",
      "[[-0.62616472 -0.89442719  0.89015941]\n",
      " [-0.31308236 -0.          0.4450797 ]\n",
      " [ 0.71407086  0.4472136  -0.09757197]]\n"
     ]
    }
   ],
   "source": [
    "eigenvalues, eigenvectors = np.linalg.eig(A)\n",
    "print(eigenvalues)\n",
    "print(eigenvectors)"
   ]
  },
  {
   "cell_type": "markdown",
   "metadata": {},
   "source": [
    "68. Find the inverse matrix to this matrix and print it to the console."
   ]
  },
  {
   "cell_type": "code",
   "execution_count": 57,
   "metadata": {},
   "outputs": [],
   "source": [
    "A = np.array([[5, 8, 16], [4, 1, 8], [-4, 4, -11]])"
   ]
  },
  {
   "cell_type": "code",
   "execution_count": 58,
   "metadata": {},
   "outputs": [
    {
     "name": "stdout",
     "output_type": "stream",
     "text": [
      "[[-0.21393035  0.75621891  0.23880597]\n",
      " [ 0.05970149  0.04477612  0.11940299]\n",
      " [ 0.09950249 -0.25870647 -0.13432836]]\n"
     ]
    }
   ],
   "source": [
    "print(np.linalg.inv(A))"
   ]
  },
  {
   "cell_type": "markdown",
   "metadata": {},
   "source": [
    "69. Find the trace of this matrix (sum of elements on the main diagonal) and print result to the console."
   ]
  },
  {
   "cell_type": "code",
   "execution_count": 59,
   "metadata": {},
   "outputs": [],
   "source": [
    "A = np.array([[5, 8, 16], [4, 1, 8], [-4, 4, -11]])"
   ]
  },
  {
   "cell_type": "code",
   "execution_count": 60,
   "metadata": {},
   "outputs": [
    {
     "name": "stdout",
     "output_type": "stream",
     "text": [
      "-5\n"
     ]
    }
   ],
   "source": [
    "print(np.trace(A))"
   ]
  },
  {
   "cell_type": "markdown",
   "metadata": {},
   "source": [
    "70. Transform B array to perform the matrix multiplication A x B. Then perform this multiplication and print result to the console."
   ]
  },
  {
   "cell_type": "code",
   "execution_count": 61,
   "metadata": {},
   "outputs": [],
   "source": [
    "A = np.array([[2, 0], [4, 2], [5, 3], [4, 2]])\n",
    "B = np.array([[4, 0, 2, 1, 1, 0, 2, 9]])\n"
   ]
  },
  {
   "cell_type": "code",
   "execution_count": 63,
   "metadata": {},
   "outputs": [
    {
     "name": "stdout",
     "output_type": "stream",
     "text": [
      "[[ 8  0  4  2]\n",
      " [18  0 12 22]\n",
      " [23  0 16 32]\n",
      " [18  0 12 22]]\n"
     ]
    }
   ],
   "source": [
    "B=B.reshape(2,4)\n",
    "print(np.matmul(A,B))"
   ]
  },
  {
   "cell_type": "markdown",
   "metadata": {},
   "source": [
    "71. Starting with the second row of this array, randomly shuffle the rows and print result to the console."
   ]
  },
  {
   "cell_type": "code",
   "execution_count": 67,
   "metadata": {},
   "outputs": [],
   "source": [
    "np.random.seed(42)\n",
    "\n",
    "A = np.array(\n",
    "    [\n",
    "        ['id', 'price'],\n",
    "        ['001', 14.99],\n",
    "        ['002', 4.99],\n",
    "        ['003', 7.99],\n",
    "        ['004', 2.49],\n",
    "        ['005', 1.49],\n",
    "    ]\n",
    ")"
   ]
  },
  {
   "cell_type": "code",
   "execution_count": 68,
   "metadata": {},
   "outputs": [
    {
     "name": "stdout",
     "output_type": "stream",
     "text": [
      "[['id' 'price']\n",
      " ['002' '4.99']\n",
      " ['005' '1.49']\n",
      " ['003' '7.99']\n",
      " ['001' '14.99']\n",
      " ['004' '2.49']]\n"
     ]
    }
   ],
   "source": [
    "np.random.shuffle(A[1:])\n",
    "print(A)"
   ]
  },
  {
   "cell_type": "markdown",
   "metadata": {},
   "source": [
    "72. Return a list of indexes that sorts this array in ascending order and print it to the console."
   ]
  },
  {
   "cell_type": "code",
   "execution_count": 69,
   "metadata": {},
   "outputs": [],
   "source": [
    "A = np.array([0.2, 0.15, 0.1, 0.3, 0.2, 0.05])"
   ]
  },
  {
   "cell_type": "code",
   "execution_count": 70,
   "metadata": {},
   "outputs": [
    {
     "name": "stdout",
     "output_type": "stream",
     "text": [
      "[5 2 1 0 4 3]\n"
     ]
    }
   ],
   "source": [
    "print(np.argsort(A))"
   ]
  },
  {
   "cell_type": "markdown",
   "metadata": {},
   "source": [
    "73. Round the values of this array to three decimal places and print result to the console."
   ]
  },
  {
   "cell_type": "code",
   "execution_count": 71,
   "metadata": {},
   "outputs": [],
   "source": [
    "np.random.seed(42)\n",
    "A = np.random.randn(10, 8)"
   ]
  },
  {
   "cell_type": "code",
   "execution_count": 73,
   "metadata": {},
   "outputs": [
    {
     "name": "stdout",
     "output_type": "stream",
     "text": [
      "[[ 0.497 -0.138  0.648  1.523 -0.234 -0.234  1.579  0.767]\n",
      " [-0.469  0.543 -0.463 -0.466  0.242 -1.913 -1.725 -0.562]\n",
      " [-1.013  0.314 -0.908 -1.412  1.466 -0.226  0.068 -1.425]\n",
      " [-0.544  0.111 -1.151  0.376 -0.601 -0.292 -0.602  1.852]\n",
      " [-0.013 -1.058  0.823 -1.221  0.209 -1.96  -1.328  0.197]\n",
      " [ 0.738  0.171 -0.116 -0.301 -1.479 -0.72  -0.461  1.057]\n",
      " [ 0.344 -1.763  0.324 -0.385 -0.677  0.612  1.031  0.931]\n",
      " [-0.839 -0.309  0.331  0.976 -0.479 -0.186 -1.106 -1.196]\n",
      " [ 0.813  1.356 -0.072  1.004  0.362 -0.645  0.361  1.538]\n",
      " [-0.036  1.565 -2.62   0.822  0.087 -0.299  0.092 -1.988]]\n"
     ]
    }
   ],
   "source": [
    "print(np.round(A,3))"
   ]
  },
  {
   "cell_type": "markdown",
   "metadata": {},
   "source": [
    "74. Calculate  the roots of the following polynomial:\n",
    "\n",
    "W(x) = 4x^^2 + 5x +1\n",
    "\n",
    "In response, print these roots to the console."
   ]
  },
  {
   "cell_type": "code",
   "execution_count": 74,
   "metadata": {},
   "outputs": [
    {
     "name": "stdout",
     "output_type": "stream",
     "text": [
      "[-1.   -0.25]\n"
     ]
    }
   ],
   "source": [
    "W=np.array([4,5,1])\n",
    "print(np.roots(W))"
   ]
  },
  {
   "cell_type": "markdown",
   "metadata": {},
   "source": [
    "75. Calculate the roots of the following polynomials:\n",
    "\n",
    "Q(x) = 2x^^3 + 4x^^2 -5x +1\n",
    "\n",
    "R(X) = 2x^^3 -5x + 1\n",
    "\n",
    "In response print these roots to the console as shown below."
   ]
  },
  {
   "cell_type": "code",
   "execution_count": 75,
   "metadata": {},
   "outputs": [
    {
     "name": "stdout",
     "output_type": "stream",
     "text": [
      "[-2.91610583  0.65388685  0.26221898]\n",
      "[2.28077641 0.21922359]\n"
     ]
    }
   ],
   "source": [
    "Q = np.array([2,4,-5,1])\n",
    "R = np.array([2,-5,1])\n",
    "print(np.roots(Q))\n",
    "print(np.roots(R))"
   ]
  },
  {
   "cell_type": "markdown",
   "metadata": {},
   "source": [
    "76. The following polynomials are given:\n",
    "\n",
    "W(x) = 4x2 + 5x + 1 Q(x) = 2x3 + 4x2 – 5x+1\n",
    "\n",
    "Perform the following operations and print results to the console as shown below:\n",
    "\n",
    "W(x)+Q(x) \n",
    "\n",
    "W(x) - Q(x) \n",
    "\n",
    "W(x)* Q(x) \n",
    "\n",
    "W(x)+2Q(x)"
   ]
  },
  {
   "cell_type": "code",
   "execution_count": 3,
   "metadata": {},
   "outputs": [
    {
     "name": "stdout",
     "output_type": "stream",
     "text": [
      "[2 8 0 2]\n",
      "[-2  0 10  0]\n",
      "[  8  26   2 -17   0   1]\n",
      "[ 4 12 -5  3]\n"
     ]
    }
   ],
   "source": [
    "W = np.array([4, 5, 1])\n",
    "Q = np.array([2, 4, -5, 1])\n",
    " \n",
    "print(np.polyadd(W, Q))\n",
    "print(np.polysub(W, Q))\n",
    "print(np.polymul(W, Q))\n",
    "print(np.polyadd(W, 2 * Q))"
   ]
  },
  {
   "cell_type": "markdown",
   "metadata": {},
   "source": [
    "77.Use the sign function for this array.\n",
    "\n",
    "Reminder: The sign function works as follows: returns -1 for negative values, zero for zero, and 1 for positive values."
   ]
  },
  {
   "cell_type": "code",
   "execution_count": 4,
   "metadata": {},
   "outputs": [],
   "source": [
    "A = np.array([[-4, 3, 0, 1, -5], [6, -4, -2, 1, 3]])"
   ]
  },
  {
   "cell_type": "code",
   "execution_count": 5,
   "metadata": {},
   "outputs": [
    {
     "name": "stdout",
     "output_type": "stream",
     "text": [
      "[[-1  1  0  1 -1]\n",
      " [ 1 -1 -1  1  1]]\n"
     ]
    }
   ],
   "source": [
    "print(np.sign(A))"
   ]
  },
  {
   "cell_type": "markdown",
   "metadata": {},
   "source": [
    "78. Using the np.arange() function, generate the following array:"
   ]
  },
  {
   "cell_type": "code",
   "execution_count": null,
   "metadata": {},
   "outputs": [],
   "source": [
    "[\n",
    "    '2021-01-01'\n",
    "    '2021-01-02'\n",
    "    '2021-01-03'\n",
    "    '2021-01-04'\n",
    "    '2021-01-05'\n",
    "    '2021-01-06'\n",
    "    '2021-01-07'\n",
    "    '2021-01-08'\n",
    "    '2021-01-09'\n",
    "    '2021-01-10'\n",
    "    '2021-01-11'\n",
    "    '2021-01-12'\n",
    "    '2021-01-13'\n",
    "    '2021-01-14'\n",
    "    '2021-01-15'\n",
    "    '2021-01-16'\n",
    "    '2021-01-17'\n",
    "    '2021-01-18'\n",
    "    '2021-01-19'\n",
    "    '2021-01-20'\n",
    "    '2021-01-21'\n",
    "    '2021-01-22'\n",
    "    '2021-01-23'\n",
    "    '2021-01-24'\n",
    "    '2021-01-25'\n",
    "    '2021-01-26'\n",
    "    '2021-01-27'\n",
    "    '2021-01-28'\n",
    "    '2021-01-29'\n",
    "    '2021-01-30'\n",
    "    '2021-01-31'\n",
    "]\n"
   ]
  },
  {
   "cell_type": "code",
   "execution_count": 6,
   "metadata": {},
   "outputs": [
    {
     "name": "stdout",
     "output_type": "stream",
     "text": [
      "['2021-01-01' '2021-01-02' '2021-01-03' '2021-01-04' '2021-01-05'\n",
      " '2021-01-06' '2021-01-07' '2021-01-08' '2021-01-09' '2021-01-10'\n",
      " '2021-01-11' '2021-01-12' '2021-01-13' '2021-01-14' '2021-01-15'\n",
      " '2021-01-16' '2021-01-17' '2021-01-18' '2021-01-19' '2021-01-20'\n",
      " '2021-01-21' '2021-01-22' '2021-01-23' '2021-01-24' '2021-01-25'\n",
      " '2021-01-26' '2021-01-27' '2021-01-28' '2021-01-29' '2021-01-30'\n",
      " '2021-01-31']\n"
     ]
    }
   ],
   "source": [
    "print(np.arange('2021-01-01', '2021-02-01', dtype='datetime64[D]'))"
   ]
  },
  {
   "cell_type": "markdown",
   "metadata": {},
   "source": [
    "79. Using the np.arange() function, generate the following array:"
   ]
  },
  {
   "cell_type": "code",
   "execution_count": null,
   "metadata": {},
   "outputs": [],
   "source": [
    "array(\n",
    "    [\n",
    "        ['2021-01', '2021-02', '2021-03'],\n",
    "        ['2021-04', '2021-05', '2021-06'],\n",
    "        ['2021-07', '2021-08', '2021-09'],\n",
    "        ['2021-10', '2021-11', '2021-12'],\n",
    "    ],\n",
    "    dtype='datetime64[M]',\n",
    ")"
   ]
  },
  {
   "cell_type": "code",
   "execution_count": 8,
   "metadata": {},
   "outputs": [
    {
     "name": "stdout",
     "output_type": "stream",
     "text": [
      "['2021-01' '2021-02' '2021-03' '2021-04' '2021-05' '2021-06' '2021-07'\n",
      " '2021-08' '2021-09' '2021-10' '2021-11' '2021-12']\n"
     ]
    }
   ],
   "source": [
    "print(np.arange('2021-01','2022-01',dtype='datetime64[M]'))"
   ]
  },
  {
   "cell_type": "markdown",
   "metadata": {},
   "source": [
    "80. Using the np.datetime64() function, generate today's date and print result to the console."
   ]
  },
  {
   "cell_type": "code",
   "execution_count": 10,
   "metadata": {},
   "outputs": [
    {
     "name": "stdout",
     "output_type": "stream",
     "text": [
      "2023-08-14\n"
     ]
    }
   ],
   "source": [
    "print(np.datetime64('today'))"
   ]
  },
  {
   "cell_type": "markdown",
   "metadata": {},
   "source": [
    "81. Using Numpy generate all dates for Mondays from January and February 2020 as an array and print result to the console.\n"
   ]
  },
  {
   "cell_type": "code",
   "execution_count": 12,
   "metadata": {},
   "outputs": [
    {
     "name": "stdout",
     "output_type": "stream",
     "text": [
      "['2020-01-06' '2020-01-13' '2020-01-20' '2020-01-27' '2020-02-03'\n",
      " '2020-02-10' '2020-02-17' '2020-02-24']\n"
     ]
    }
   ],
   "source": [
    "print(np.arange('2020-01-06', '2020-02-29', dtype='datetime64[D]')[::7])"
   ]
  },
  {
   "cell_type": "markdown",
   "metadata": {},
   "source": [
    "82. Merge them together as shown below and print result to the console.\n",
    "\n",
    "Tip: Use the np.char.add() function.\n",
    "\n",
    "Expected result:\n",
    "\n",
    "['001XC' '002YC' '003ZC']"
   ]
  },
  {
   "cell_type": "code",
   "execution_count": 13,
   "metadata": {},
   "outputs": [
    {
     "name": "stderr",
     "output_type": "stream",
     "text": [
      "/var/folders/5d/chn1j4p16gb99snr1ns8vph80000gn/T/ipykernel_47997/786917039.py:1: DeprecationWarning: `np.str` is a deprecated alias for the builtin `str`. To silence this warning, use `str` by itself. Doing this will not modify any behavior and is safe. If you specifically wanted the numpy scalar type, use `np.str_` here.\n",
      "Deprecated in NumPy 1.20; for more details and guidance: https://numpy.org/devdocs/release/1.20.0-notes.html#deprecations\n",
      "  A = np.array(['001', '002', '003'], dtype=np.str)\n",
      "/var/folders/5d/chn1j4p16gb99snr1ns8vph80000gn/T/ipykernel_47997/786917039.py:2: DeprecationWarning: `np.str` is a deprecated alias for the builtin `str`. To silence this warning, use `str` by itself. Doing this will not modify any behavior and is safe. If you specifically wanted the numpy scalar type, use `np.str_` here.\n",
      "Deprecated in NumPy 1.20; for more details and guidance: https://numpy.org/devdocs/release/1.20.0-notes.html#deprecations\n",
      "  B = np.array(['XC', 'YC', 'ZC'], dtype=np.str)\n"
     ]
    }
   ],
   "source": [
    "A = np.array(['001', '002', '003'], dtype=np.str)\n",
    "B = np.array(['XC', 'YC', 'ZC'], dtype=np.str)"
   ]
  },
  {
   "cell_type": "code",
   "execution_count": 15,
   "metadata": {},
   "outputs": [
    {
     "name": "stdout",
     "output_type": "stream",
     "text": [
      "['001XC' '002YC' '003ZC']\n"
     ]
    }
   ],
   "source": [
    "print(np.char.add(A,B))"
   ]
  },
  {
   "cell_type": "markdown",
   "metadata": {},
   "source": [
    "83. Add '000' (3 zeros) at the beginning of each element of this array as shown below and print result to the console.\n"
   ]
  },
  {
   "cell_type": "code",
   "execution_count": 16,
   "metadata": {},
   "outputs": [
    {
     "name": "stderr",
     "output_type": "stream",
     "text": [
      "/var/folders/5d/chn1j4p16gb99snr1ns8vph80000gn/T/ipykernel_47997/2401916571.py:1: DeprecationWarning: `np.str` is a deprecated alias for the builtin `str`. To silence this warning, use `str` by itself. Doing this will not modify any behavior and is safe. If you specifically wanted the numpy scalar type, use `np.str_` here.\n",
      "Deprecated in NumPy 1.20; for more details and guidance: https://numpy.org/devdocs/release/1.20.0-notes.html#deprecations\n",
      "  A = np.array(['1', '2', '3'], dtype=np.str)\n"
     ]
    }
   ],
   "source": [
    "A = np.array(['1', '2', '3'], dtype=np.str)"
   ]
  },
  {
   "cell_type": "code",
   "execution_count": 18,
   "metadata": {},
   "outputs": [
    {
     "name": "stdout",
     "output_type": "stream",
     "text": [
      "['0001' '0002' '0003']\n"
     ]
    }
   ],
   "source": [
    "print(np.char.zfill(A, 4))"
   ]
  },
  {
   "cell_type": "markdown",
   "metadata": {},
   "source": [
    "84. Split each element of this array by space character\n"
   ]
  },
  {
   "cell_type": "code",
   "execution_count": 19,
   "metadata": {},
   "outputs": [
    {
     "name": "stderr",
     "output_type": "stream",
     "text": [
      "/var/folders/5d/chn1j4p16gb99snr1ns8vph80000gn/T/ipykernel_47997/244976331.py:3: DeprecationWarning: `np.str` is a deprecated alias for the builtin `str`. To silence this warning, use `str` by itself. Doing this will not modify any behavior and is safe. If you specifically wanted the numpy scalar type, use `np.str_` here.\n",
      "Deprecated in NumPy 1.20; for more details and guidance: https://numpy.org/devdocs/release/1.20.0-notes.html#deprecations\n",
      "  dtype=np.str,\n"
     ]
    }
   ],
   "source": [
    "A = np.array(\n",
    "    [['PLW CDR 11B TEN', 'AMC LPP'], ['CDR PKO KGH', 'CCC QMK']],\n",
    "    dtype=np.str,\n",
    ")\n"
   ]
  },
  {
   "cell_type": "code",
   "execution_count": 20,
   "metadata": {},
   "outputs": [
    {
     "name": "stdout",
     "output_type": "stream",
     "text": [
      "[[list(['PLW', 'CDR', '11B', 'TEN']) list(['AMC', 'LPP'])]\n",
      " [list(['CDR', 'PKO', 'KGH']) list(['CCC', 'QMK'])]]\n"
     ]
    }
   ],
   "source": [
    "print(np.char.split(A, \" \"))"
   ]
  },
  {
   "cell_type": "markdown",
   "metadata": {},
   "source": [
    "85. Replace all # characters with spaces and then strip all unnecessary white characters around the text as shown below. In response, print this array to the console."
   ]
  },
  {
   "cell_type": "code",
   "execution_count": 21,
   "metadata": {},
   "outputs": [],
   "source": [
    "A = np.array([['#summer#time#mood'], ['#sport#time']])"
   ]
  },
  {
   "cell_type": "code",
   "execution_count": 23,
   "metadata": {},
   "outputs": [
    {
     "name": "stdout",
     "output_type": "stream",
     "text": [
      "[['summer time mood']\n",
      " ['sport time']]\n"
     ]
    }
   ],
   "source": [
    "print(np.char.strip(np.char.replace(A, '#', ' ')))"
   ]
  },
  {
   "cell_type": "markdown",
   "metadata": {},
   "source": [
    "86. Count the number of occurrences of the word 'time' in each element of this array.\n"
   ]
  },
  {
   "cell_type": "code",
   "execution_count": 24,
   "metadata": {},
   "outputs": [],
   "source": [
    "A = np.array(\n",
    "    [\n",
    "        ['#summer#time#mood', '#vibe'],\n",
    "        ['#sport#time', '#good#time'],\n",
    "        ['#event#summer', '#fast#move'],\n",
    "    ]\n",
    ")"
   ]
  },
  {
   "cell_type": "code",
   "execution_count": 26,
   "metadata": {},
   "outputs": [
    {
     "name": "stdout",
     "output_type": "stream",
     "text": [
      "[[1 0]\n",
      " [1 1]\n",
      " [0 0]]\n"
     ]
    }
   ],
   "source": [
    "print(np.char.count(A,'time'))"
   ]
  },
  {
   "cell_type": "markdown",
   "metadata": {},
   "source": [
    "87. Instrument | ISIN code | Package | Package (PLN) | Share in portfolio (%) | Share in trading shares and PDAs per session (%) | Average spread per session\n",
    "\n",
    "Split text into lines. Then split each line by the tab character \\t and create an array (without headers) containing the following data as shown below. Assign this array to the result variable and print it to the console."
   ]
  },
  {
   "cell_type": "code",
   "execution_count": 27,
   "metadata": {},
   "outputs": [],
   "source": [
    "text = \"\"\"ALIOR    PLALIOR00045    88 860 000    1 386 216 000    0,891    2,16    14\n",
    "CCC    PLCCC0000016    27 918 000    1 292 603 400    0,831    5,28    42\n",
    "CDPROJEKT    PLOPTTC00011    67 348 000    22 864 646 000    14,702    7,39    7\n",
    "CYFRPLSAT    PLCFRPT00013    275 301 000    6 854 994 900    4,408    1,17    14\n",
    "DINOPL    PLDINPL00011    47 937 000    8 916 282 000    5,733    9,13    12\n",
    "JSW    PLJSW0000015    52 636 000    716 902 320    0,461    1,51    24\n",
    "KGHM    PLKGHM000017    136 410 000    9 881 540 400    6,354    4,78    8\n",
    "LOTOS    PLLOTOS00025    86 543 000    5 609 717 260    3,607    2,91    16\n",
    "LPP    PLLPP0000011    1 306 000    7 444 200 000    4,787    1,43    19\n",
    "MBANK    PLBRE0000012    12 997 000    2 830 746 600    1,820    0,42    24\n",
    "ORANGEPL    PLTLKPL00017    647 357 000    4 285 503 340    2,756    1,16    13\n",
    "PEKAO    PLPEKAO00016    176 379 000    9 619 710 660    6,185    5,27    9\n",
    "PGE    PLPGER000010    796 776 000    3 561 588 720    2,290    2,88    18\n",
    "PGNIG    PLPGNIG00014    1 624 608 000    6 072 784 704    3,905    1,56    12\n",
    "PKNORLEN    PLPKN0000018    289 049 000    17 701 360 760    11,382    12,44    8\n",
    "PKOBP    PLPKO0000016    857 593 000    18 807 014 490    12,093    10,49    9\n",
    "PLAY    LU1642887738    114 151 000    3 696 209 380    2,377    1,47    16\n",
    "PZU    PLPZU0000011    568 305 000    17 515 160 100    11,262    6,64    6\n",
    "SANPL    PLBZ00000044    33 207 000    5 213 499 000    3,352    1,91    18\n",
    "TAURONPE    PLTAURN00011    1 043 590 000    1 252 308 000    0,805    1,21    33\"\"\""
   ]
  },
  {
   "cell_type": "code",
   "execution_count": 28,
   "metadata": {},
   "outputs": [
    {
     "name": "stdout",
     "output_type": "stream",
     "text": [
      "[['ALIOR    PLALIOR00045    88 860 000    1 386 216 000    0,891    2,16    14']\n",
      " ['CCC    PLCCC0000016    27 918 000    1 292 603 400    0,831    5,28    42']\n",
      " ['CDPROJEKT    PLOPTTC00011    67 348 000    22 864 646 000    14,702    7,39    7']\n",
      " ['CYFRPLSAT    PLCFRPT00013    275 301 000    6 854 994 900    4,408    1,17    14']\n",
      " ['DINOPL    PLDINPL00011    47 937 000    8 916 282 000    5,733    9,13    12']\n",
      " ['JSW    PLJSW0000015    52 636 000    716 902 320    0,461    1,51    24']\n",
      " ['KGHM    PLKGHM000017    136 410 000    9 881 540 400    6,354    4,78    8']\n",
      " ['LOTOS    PLLOTOS00025    86 543 000    5 609 717 260    3,607    2,91    16']\n",
      " ['LPP    PLLPP0000011    1 306 000    7 444 200 000    4,787    1,43    19']\n",
      " ['MBANK    PLBRE0000012    12 997 000    2 830 746 600    1,820    0,42    24']\n",
      " ['ORANGEPL    PLTLKPL00017    647 357 000    4 285 503 340    2,756    1,16    13']\n",
      " ['PEKAO    PLPEKAO00016    176 379 000    9 619 710 660    6,185    5,27    9']\n",
      " ['PGE    PLPGER000010    796 776 000    3 561 588 720    2,290    2,88    18']\n",
      " ['PGNIG    PLPGNIG00014    1 624 608 000    6 072 784 704    3,905    1,56    12']\n",
      " ['PKNORLEN    PLPKN0000018    289 049 000    17 701 360 760    11,382    12,44    8']\n",
      " ['PKOBP    PLPKO0000016    857 593 000    18 807 014 490    12,093    10,49    9']\n",
      " ['PLAY    LU1642887738    114 151 000    3 696 209 380    2,377    1,47    16']\n",
      " ['PZU    PLPZU0000011    568 305 000    17 515 160 100    11,262    6,64    6']\n",
      " ['SANPL    PLBZ00000044    33 207 000    5 213 499 000    3,352    1,91    18']\n",
      " ['TAURONPE    PLTAURN00011    1 043 590 000    1 252 308 000    0,805    1,21    33']]\n"
     ]
    },
    {
     "name": "stderr",
     "output_type": "stream",
     "text": [
      "/var/folders/5d/chn1j4p16gb99snr1ns8vph80000gn/T/ipykernel_47997/179272345.py:3: DeprecationWarning: `np.str` is a deprecated alias for the builtin `str`. To silence this warning, use `str` by itself. Doing this will not modify any behavior and is safe. If you specifically wanted the numpy scalar type, use `np.str_` here.\n",
      "Deprecated in NumPy 1.20; for more details and guidance: https://numpy.org/devdocs/release/1.20.0-notes.html#deprecations\n",
      "  result = np.array(lines, dtype=np.str)\n"
     ]
    }
   ],
   "source": [
    "lines = text.splitlines()\n",
    "lines = [line.split('\\t') for line in lines]\n",
    "result = np.array(lines, dtype=np.str)\n",
    "print(result) "
   ]
  },
  {
   "cell_type": "markdown",
   "metadata": {},
   "source": [
    "88. Remove all spaces in the text and replace all commas with periods. In response, print this array to the console."
   ]
  },
  {
   "cell_type": "code",
   "execution_count": 29,
   "metadata": {},
   "outputs": [],
   "source": [
    "np.set_printoptions(linewidth=150)\n",
    "result = np.array(\n",
    "    [\n",
    "        [\n",
    "            'ALIOR',\n",
    "            'PLALIOR00045',\n",
    "            '88 860 000',\n",
    "            '1 386 216 000',\n",
    "            '0,891',\n",
    "            '2,16',\n",
    "            '14',\n",
    "        ],\n",
    "        [\n",
    "            'CCC',\n",
    "            'PLCCC0000016',\n",
    "            '27 918 000',\n",
    "            '1 292 603 400',\n",
    "            '0,831',\n",
    "            '5,28',\n",
    "            '42',\n",
    "        ],\n",
    "        [\n",
    "            'CDPROJEKT',\n",
    "            'PLOPTTC00011',\n",
    "            '67 348 000',\n",
    "            '22 864 646 000',\n",
    "            '14,702',\n",
    "            '7,39',\n",
    "            '7',\n",
    "        ],\n",
    "        [\n",
    "            'CYFRPLSAT',\n",
    "            'PLCFRPT00013',\n",
    "            '275 301 000',\n",
    "            '6 854 994 900',\n",
    "            '4,408',\n",
    "            '1,17',\n",
    "            '14',\n",
    "        ],\n",
    "        [\n",
    "            'DINOPL',\n",
    "            'PLDINPL00011',\n",
    "            '47 937 000',\n",
    "            '8 916 282 000',\n",
    "            '5,733',\n",
    "            '9,13',\n",
    "            '12',\n",
    "        ],\n",
    "        [\n",
    "            'JSW',\n",
    "            'PLJSW0000015',\n",
    "            '52 636 000',\n",
    "            '716 902 320',\n",
    "            '0,461',\n",
    "            '1,51',\n",
    "            '24',\n",
    "        ],\n",
    "        [\n",
    "            'KGHM',\n",
    "            'PLKGHM000017',\n",
    "            '136 410 000',\n",
    "            '9 881 540 400',\n",
    "            '6,354',\n",
    "            '4,78',\n",
    "            '8',\n",
    "        ],\n",
    "        [\n",
    "            'LOTOS',\n",
    "            'PLLOTOS00025',\n",
    "            '86 543 000',\n",
    "            '5 609 717 260',\n",
    "            '3,607',\n",
    "            '2,91',\n",
    "            '16',\n",
    "        ],\n",
    "        [\n",
    "            'LPP',\n",
    "            'PLLPP0000011',\n",
    "            '1 306 000',\n",
    "            '7 444 200 000',\n",
    "            '4,787',\n",
    "            '1,43',\n",
    "            '19',\n",
    "        ],\n",
    "        [\n",
    "            'MBANK',\n",
    "            'PLBRE0000012',\n",
    "            '12 997 000',\n",
    "            '2 830 746 600',\n",
    "            '1,820',\n",
    "            '0,42',\n",
    "            '24',\n",
    "        ],\n",
    "        [\n",
    "            'ORANGEPL',\n",
    "            'PLTLKPL00017',\n",
    "            '647 357 000',\n",
    "            '4 285 503 340',\n",
    "            '2,756',\n",
    "            '1,16',\n",
    "            '13',\n",
    "        ],\n",
    "        [\n",
    "            'PEKAO',\n",
    "            'PLPEKAO00016',\n",
    "            '176 379 000',\n",
    "            '9 619 710 660',\n",
    "            '6,185',\n",
    "            '5,27',\n",
    "            '9',\n",
    "        ],\n",
    "        [\n",
    "            'PGE',\n",
    "            'PLPGER000010',\n",
    "            '796 776 000',\n",
    "            '3 561 588 720',\n",
    "            '2,290',\n",
    "            '2,88',\n",
    "            '18',\n",
    "        ],\n",
    "        [\n",
    "            'PGNIG',\n",
    "            'PLPGNIG00014',\n",
    "            '1 624 608 000',\n",
    "            '6 072 784 704',\n",
    "            '3,905',\n",
    "            '1,56',\n",
    "            '12',\n",
    "        ],\n",
    "        [\n",
    "            'PKNORLEN',\n",
    "            'PLPKN0000018',\n",
    "            '289 049 000',\n",
    "            '17 701 360 760',\n",
    "            '11,382',\n",
    "            '12,44',\n",
    "            '8',\n",
    "        ],\n",
    "        [\n",
    "            'PKOBP',\n",
    "            'PLPKO0000016',\n",
    "            '857 593 000',\n",
    "            '18 807 014 490',\n",
    "            '12,093',\n",
    "            '10,49',\n",
    "            '9',\n",
    "        ],\n",
    "        [\n",
    "            'PLAY',\n",
    "            'LU1642887738',\n",
    "            '114 151 000',\n",
    "            '3 696 209 380',\n",
    "            '2,377',\n",
    "            '1,47',\n",
    "            '16',\n",
    "        ],\n",
    "        [\n",
    "            'PZU',\n",
    "            'PLPZU0000011',\n",
    "            '568 305 000',\n",
    "            '17 515 160 100',\n",
    "            '11,262',\n",
    "            '6,64',\n",
    "            '6',\n",
    "        ],\n",
    "        [\n",
    "            'SANPL',\n",
    "            'PLBZ00000044',\n",
    "            '33 207 000',\n",
    "            '5 213 499 000',\n",
    "            '3,352',\n",
    "            '1,91',\n",
    "            '18',\n",
    "        ],\n",
    "        [\n",
    "            'TAURONPE',\n",
    "            'PLTAURN00011',\n",
    "            '1 043 590 000',\n",
    "            '1 252 308 000',\n",
    "            '0,805',\n",
    "            '1,21',\n",
    "            '33',\n",
    "        ],\n",
    "    ],\n",
    "    dtype='<U14',\n",
    ")\n"
   ]
  },
  {
   "cell_type": "code",
   "execution_count": 32,
   "metadata": {},
   "outputs": [
    {
     "name": "stdout",
     "output_type": "stream",
     "text": [
      "[['ALIOR' 'PLALIOR00045' '88860000' '1386216000' '0.891' '2.16' '14']\n",
      " ['CCC' 'PLCCC0000016' '27918000' '1292603400' '0.831' '5.28' '42']\n",
      " ['CDPROJEKT' 'PLOPTTC00011' '67348000' '22864646000' '14.702' '7.39' '7']\n",
      " ['CYFRPLSAT' 'PLCFRPT00013' '275301000' '6854994900' '4.408' '1.17' '14']\n",
      " ['DINOPL' 'PLDINPL00011' '47937000' '8916282000' '5.733' '9.13' '12']\n",
      " ['JSW' 'PLJSW0000015' '52636000' '716902320' '0.461' '1.51' '24']\n",
      " ['KGHM' 'PLKGHM000017' '136410000' '9881540400' '6.354' '4.78' '8']\n",
      " ['LOTOS' 'PLLOTOS00025' '86543000' '5609717260' '3.607' '2.91' '16']\n",
      " ['LPP' 'PLLPP0000011' '1306000' '7444200000' '4.787' '1.43' '19']\n",
      " ['MBANK' 'PLBRE0000012' '12997000' '2830746600' '1.820' '0.42' '24']\n",
      " ['ORANGEPL' 'PLTLKPL00017' '647357000' '4285503340' '2.756' '1.16' '13']\n",
      " ['PEKAO' 'PLPEKAO00016' '176379000' '9619710660' '6.185' '5.27' '9']\n",
      " ['PGE' 'PLPGER000010' '796776000' '3561588720' '2.290' '2.88' '18']\n",
      " ['PGNIG' 'PLPGNIG00014' '1624608000' '6072784704' '3.905' '1.56' '12']\n",
      " ['PKNORLEN' 'PLPKN0000018' '289049000' '17701360760' '11.382' '12.44' '8']\n",
      " ['PKOBP' 'PLPKO0000016' '857593000' '18807014490' '12.093' '10.49' '9']\n",
      " ['PLAY' 'LU1642887738' '114151000' '3696209380' '2.377' '1.47' '16']\n",
      " ['PZU' 'PLPZU0000011' '568305000' '17515160100' '11.262' '6.64' '6']\n",
      " ['SANPL' 'PLBZ00000044' '33207000' '5213499000' '3.352' '1.91' '18']\n",
      " ['TAURONPE' 'PLTAURN00011' '1043590000' '1252308000' '0.805' '1.21' '33']]\n"
     ]
    }
   ],
   "source": [
    "print(np.char.replace(np.char.replace(result, ',', '.'),' ',''))"
   ]
  },
  {
   "cell_type": "markdown",
   "metadata": {},
   "source": [
    "89. Extract all rows with the company name starting with the letter 'P' and assign to the stocks_startswith_P variable. In response, print stocks_startswith_P variable to the console."
   ]
  },
  {
   "cell_type": "code",
   "execution_count": 34,
   "metadata": {},
   "outputs": [],
   "source": [
    "np.set_printoptions(linewidth=150)\n",
    "result = np.array(\n",
    "    [\n",
    "        [\n",
    "            'ALIOR',\n",
    "            'PLALIOR00045',\n",
    "            '88860000',\n",
    "            '1386216000',\n",
    "            '0.891',\n",
    "            '2.16',\n",
    "            '14',\n",
    "        ],\n",
    "        [\n",
    "            'CCC',\n",
    "            'PLCCC0000016',\n",
    "            '27918000',\n",
    "            '1292603400',\n",
    "            '0.831',\n",
    "            '5.28',\n",
    "            '42',\n",
    "        ],\n",
    "        [\n",
    "            'CDPROJEKT',\n",
    "            'PLOPTTC00011',\n",
    "            '67348000',\n",
    "            '22864646000',\n",
    "            '14.702',\n",
    "            '7.39',\n",
    "            '7',\n",
    "        ],\n",
    "        [\n",
    "            'CYFRPLSAT',\n",
    "            'PLCFRPT00013',\n",
    "            '275301000',\n",
    "            '6854994900',\n",
    "            '4.408',\n",
    "            '1.17',\n",
    "            '14',\n",
    "        ],\n",
    "        [\n",
    "            'DINOPL',\n",
    "            'PLDINPL00011',\n",
    "            '47937000',\n",
    "            '8916282000',\n",
    "            '5.733',\n",
    "            '9.13',\n",
    "            '12',\n",
    "        ],\n",
    "        [\n",
    "            'JSW',\n",
    "            'PLJSW0000015',\n",
    "            '52636000',\n",
    "            '716902320',\n",
    "            '0.461',\n",
    "            '1.51',\n",
    "            '24',\n",
    "        ],\n",
    "        [\n",
    "            'KGHM',\n",
    "            'PLKGHM000017',\n",
    "            '136410000',\n",
    "            '9881540400',\n",
    "            '6.354',\n",
    "            '4.78',\n",
    "            '8',\n",
    "        ],\n",
    "        [\n",
    "            'LOTOS',\n",
    "            'PLLOTOS00025',\n",
    "            '86543000',\n",
    "            '5609717260',\n",
    "            '3.607',\n",
    "            '2.91',\n",
    "            '16',\n",
    "        ],\n",
    "        [\n",
    "            'LPP',\n",
    "            'PLLPP0000011',\n",
    "            '1306000',\n",
    "            '7444200000',\n",
    "            '4.787',\n",
    "            '1.43',\n",
    "            '19',\n",
    "        ],\n",
    "        [\n",
    "            'MBANK',\n",
    "            'PLBRE0000012',\n",
    "            '12997000',\n",
    "            '2830746600',\n",
    "            '1.820',\n",
    "            '0.42',\n",
    "            '24',\n",
    "        ],\n",
    "        [\n",
    "            'ORANGEPL',\n",
    "            'PLTLKPL00017',\n",
    "            '647357000',\n",
    "            '4285503340',\n",
    "            '2.756',\n",
    "            '1.16',\n",
    "            '13',\n",
    "        ],\n",
    "        [\n",
    "            'PEKAO',\n",
    "            'PLPEKAO00016',\n",
    "            '176379000',\n",
    "            '9619710660',\n",
    "            '6.185',\n",
    "            '5.27',\n",
    "            '9',\n",
    "        ],\n",
    "        [\n",
    "            'PGE',\n",
    "            'PLPGER000010',\n",
    "            '796776000',\n",
    "            '3561588720',\n",
    "            '2.290',\n",
    "            '2.88',\n",
    "            '18',\n",
    "        ],\n",
    "        [\n",
    "            'PGNIG',\n",
    "            'PLPGNIG00014',\n",
    "            '1624608000',\n",
    "            '6072784704',\n",
    "            '3.905',\n",
    "            '1.56',\n",
    "            '12',\n",
    "        ],\n",
    "        [\n",
    "            'PKNORLEN',\n",
    "            'PLPKN0000018',\n",
    "            '289049000',\n",
    "            '17701360760',\n",
    "            '11.382',\n",
    "            '12.44',\n",
    "            '8',\n",
    "        ],\n",
    "        [\n",
    "            'PKOBP',\n",
    "            'PLPKO0000016',\n",
    "            '857593000',\n",
    "            '18807014490',\n",
    "            '12.093',\n",
    "            '10.49',\n",
    "            '9',\n",
    "        ],\n",
    "        [\n",
    "            'PLAY',\n",
    "            'LU1642887738',\n",
    "            '114151000',\n",
    "            '3696209380',\n",
    "            '2.377',\n",
    "            '1.47',\n",
    "            '16',\n",
    "        ],\n",
    "        [\n",
    "            'PZU',\n",
    "            'PLPZU0000011',\n",
    "            '568305000',\n",
    "            '17515160100',\n",
    "            '11.262',\n",
    "            '6.64',\n",
    "            '6',\n",
    "        ],\n",
    "        [\n",
    "            'SANPL',\n",
    "            'PLBZ00000044',\n",
    "            '33207000',\n",
    "            '5213499000',\n",
    "            '3.352',\n",
    "            '1.91',\n",
    "            '18',\n",
    "        ],\n",
    "        [\n",
    "            'TAURONPE',\n",
    "            'PLTAURN00011',\n",
    "            '1043590000',\n",
    "            '1252308000',\n",
    "            '0.805',\n",
    "            '1.21',\n",
    "            '33',\n",
    "        ],\n",
    "    ],\n",
    "    dtype='<U12',\n",
    ")\n"
   ]
  },
  {
   "cell_type": "code",
   "execution_count": 36,
   "metadata": {},
   "outputs": [
    {
     "name": "stdout",
     "output_type": "stream",
     "text": [
      "[False False False False False False False False False False False  True  True  True  True  True  True  True False False]\n"
     ]
    }
   ],
   "source": [
    "print(np.char.startswith(result[:,0], 'P'))"
   ]
  },
  {
   "cell_type": "markdown",
   "metadata": {},
   "source": [
    "90. Calculate the total share of companies whose name starts with the letter 'P'. Round the result to two decimal places and print it to the console."
   ]
  },
  {
   "cell_type": "code",
   "execution_count": 37,
   "metadata": {},
   "outputs": [],
   "source": [
    "stocks_startswith_P = np.array(\n",
    "    [\n",
    "        [\n",
    "            'PEKAO',\n",
    "            'PLPEKAO00016',\n",
    "            '176379000',\n",
    "            '9619710660',\n",
    "            '6.185',\n",
    "            '5.27',\n",
    "            '9',\n",
    "        ],\n",
    "        [\n",
    "            'PGE',\n",
    "            'PLPGER000010',\n",
    "            '796776000',\n",
    "            '3561588720',\n",
    "            '2.290',\n",
    "            '2.88',\n",
    "            '18',\n",
    "        ],\n",
    "        [\n",
    "            'PGNIG',\n",
    "            'PLPGNIG00014',\n",
    "            '1624608000',\n",
    "            '6072784704',\n",
    "            '3.905',\n",
    "            '1.56',\n",
    "            '12',\n",
    "        ],\n",
    "        [\n",
    "            'PKNORLEN',\n",
    "            'PLPKN0000018',\n",
    "            '289049000',\n",
    "            '17701360760',\n",
    "            '11.382',\n",
    "            '12.44',\n",
    "            '8',\n",
    "        ],\n",
    "        [\n",
    "            'PKOBP',\n",
    "            'PLPKO0000016',\n",
    "            '857593000',\n",
    "            '18807014490',\n",
    "            '12.093',\n",
    "            '10.49',\n",
    "            '9',\n",
    "        ],\n",
    "        [\n",
    "            'PLAY',\n",
    "            'LU1642887738',\n",
    "            '114151000',\n",
    "            '3696209380',\n",
    "            '2.377',\n",
    "            '1.47',\n",
    "            '16',\n",
    "        ],\n",
    "        [\n",
    "            'PZU',\n",
    "            'PLPZU0000011',\n",
    "            '568305000',\n",
    "            '17515160100',\n",
    "            '11.262',\n",
    "            '6.64',\n",
    "            '6',\n",
    "        ],\n",
    "    ],\n",
    "    dtype='<U12',\n",
    ")"
   ]
  },
  {
   "cell_type": "code",
   "execution_count": 39,
   "metadata": {},
   "outputs": [
    {
     "name": "stdout",
     "output_type": "stream",
     "text": [
      "49.0 2\n"
     ]
    }
   ],
   "source": [
    "print(np.round(stocks_startswith_P[:,4].astype(float).sum()),2)"
   ]
  },
  {
   "cell_type": "markdown",
   "metadata": {},
   "source": [
    "91. Create an array from this string as shown below and assign to the wig_games variable. In response, print this array to the console."
   ]
  },
  {
   "cell_type": "code",
   "execution_count": 55,
   "metadata": {},
   "outputs": [],
   "source": [
    "wig_games_raw = \"\"\"Profile    Time    Course    Change    Change%    Ref.    Open    Low    High    Volume    Turn    Share\n",
    "11B (11BIT)    17 kwi 17:01    391.00    +8.00    (+2.09%)    383.00    383.50    383.00    394.00    12 784    4 994 874    19.034%\n",
    "CDR (CDPROJEKT)    17 kwi 17:01    339.50    +5.30    (+1.59%)    334.20    338.30    337.00    344.20    233 059    79 245 368    39.618%\n",
    "CIG (CIGAMES)    17 kwi 17:03    0.742    -0.012    (-1.59%)    0.754    0.772    0.730    0.772    1 311 078    971 459    1.855%\n",
    "PLW (PLAYWAY)    17 kwi 17:03    387.50    +18.00    (+4.87%)    369.50    374.00    373.00    388.00    33 206    12 661 786    10.638%\n",
    "TEN (TSGAMES)    17 kwi 17:02    349.50    +22.50    (+6.88%)    327.00    332.00    330.00    353.50    39 793    13 697 060    28.855%\"\"\""
   ]
  },
  {
   "cell_type": "code",
   "execution_count": 56,
   "metadata": {},
   "outputs": [
    {
     "name": "stdout",
     "output_type": "stream",
     "text": [
      "[['ProfileTimeCourseChangeChange%Ref.OpenLowHighVolumeTurnShare']\n",
      " ['11B(11BIT)17kwi17:01391.00+8.00(+2.09%)383.00383.50383.00394.0012784499487419.034%']\n",
      " ['CDR(CDPROJEKT)17kwi17:01339.50+5.30(+1.59%)334.20338.30337.00344.202330597924536839.618%']\n",
      " ['CIG(CIGAMES)17kwi17:030.742-0.012(-1.59%)0.7540.7720.7300.77213110789714591.855%']\n",
      " ['PLW(PLAYWAY)17kwi17:03387.50+18.00(+4.87%)369.50374.00373.00388.00332061266178610.638%']\n",
      " ['TEN(TSGAMES)17kwi17:02349.50+22.50(+6.88%)327.00332.00330.00353.50397931369706028.855%']]\n"
     ]
    }
   ],
   "source": [
    "lines = wig_games_raw.splitlines()\n",
    "lines = [line.split('\\t') for line in lines]\n",
    "wig_games = np.array(lines, dtype=np.str_)\n",
    "wig_games = np.char.replace(wig_games, ' ', '')\n",
    "print(wig_games)"
   ]
  },
  {
   "cell_type": "markdown",
   "metadata": {},
   "source": [
    "92. Remove the following columns:\n",
    "\n",
    "'Change'\n",
    "\n",
    "'Change%'\n",
    "\n",
    "'Ref.'\n",
    "\n",
    "'Volume'\n",
    "\n",
    "In response, print transformed array to the console."
   ]
  },
  {
   "cell_type": "code",
   "execution_count": 57,
   "metadata": {},
   "outputs": [],
   "source": [
    "np.set_printoptions(linewidth=160, suppress=True)\n",
    "\n",
    "wig_games = np.array(\n",
    "    [\n",
    "        [\n",
    "            'Profile',\n",
    "            'Time',\n",
    "            'Course',\n",
    "            'Change',\n",
    "            'Change%',\n",
    "            'Ref.',\n",
    "            'Open',\n",
    "            'Low',\n",
    "            'High',\n",
    "            'Volume',\n",
    "            'Turn',\n",
    "            'Share',\n",
    "        ],\n",
    "        [\n",
    "            '11B(11BIT)',\n",
    "            '17kwi17:01',\n",
    "            '391.00',\n",
    "            '+8.00',\n",
    "            '(+2.09%)',\n",
    "            '383.00',\n",
    "            '383.50',\n",
    "            '383.00',\n",
    "            '394.00',\n",
    "            '12784',\n",
    "            '4994874',\n",
    "            '19.034%',\n",
    "        ],\n",
    "        [\n",
    "            'CDR(CDPROJEKT)',\n",
    "            '17kwi17:01',\n",
    "            '339.50',\n",
    "            '+5.30',\n",
    "            '(+1.59%)',\n",
    "            '334.20',\n",
    "            '338.30',\n",
    "            '337.00',\n",
    "            '344.20',\n",
    "            '233059',\n",
    "            '79245368',\n",
    "            '39.618%',\n",
    "        ],\n",
    "        [\n",
    "            'CIG(CIGAMES)',\n",
    "            '17kwi17:03',\n",
    "            '0.742',\n",
    "            '-0.012',\n",
    "            '(-1.59%)',\n",
    "            '0.754',\n",
    "            '0.772',\n",
    "            '0.730',\n",
    "            '0.772',\n",
    "            '1311078',\n",
    "            '971459',\n",
    "            '1.855%',\n",
    "        ],\n",
    "        [\n",
    "            'PLW(PLAYWAY)',\n",
    "            '17kwi17:03',\n",
    "            '387.50',\n",
    "            '+18.00',\n",
    "            '(+4.87%)',\n",
    "            '369.50',\n",
    "            '374.00',\n",
    "            '373.00',\n",
    "            '388.00',\n",
    "            '33206',\n",
    "            '12661786',\n",
    "            '10.638%',\n",
    "        ],\n",
    "        [\n",
    "            'TEN(TSGAMES)',\n",
    "            '17kwi17:02',\n",
    "            '349.50',\n",
    "            '+22.50',\n",
    "            '(+6.88%)',\n",
    "            '327.00',\n",
    "            '332.00',\n",
    "            '330.00',\n",
    "            '353.50',\n",
    "            '39793',\n",
    "            '13697060',\n",
    "            '28.855%',\n",
    "        ],\n",
    "    ],\n",
    "    dtype='<U14',\n",
    ")"
   ]
  },
  {
   "cell_type": "code",
   "execution_count": 59,
   "metadata": {},
   "outputs": [
    {
     "name": "stdout",
     "output_type": "stream",
     "text": [
      "[['Profile' 'Time' 'Course' 'Open' 'Low' 'High' 'Turn' 'Share']\n",
      " ['11B(11BIT)' '17kwi17:01' '391.00' '383.50' '383.00' '394.00' '4994874' '19.034%']\n",
      " ['CDR(CDPROJEKT)' '17kwi17:01' '339.50' '338.30' '337.00' '344.20' '79245368' '39.618%']\n",
      " ['CIG(CIGAMES)' '17kwi17:03' '0.742' '0.772' '0.730' '0.772' '971459' '1.855%']\n",
      " ['PLW(PLAYWAY)' '17kwi17:03' '387.50' '374.00' '373.00' '388.00' '12661786' '10.638%']\n",
      " ['TEN(TSGAMES)' '17kwi17:02' '349.50' '332.00' '330.00' '353.50' '13697060' '28.855%']]\n"
     ]
    }
   ],
   "source": [
    "print(np.delete(wig_games, [3,4,5,9], axis=1))"
   ]
  },
  {
   "cell_type": "markdown",
   "metadata": {},
   "source": [
    "93. Save this array to the 'wig_games.csv' file. Then load the content of this file into the wig_games_new variable and print it to the console."
   ]
  },
  {
   "cell_type": "code",
   "execution_count": 60,
   "metadata": {},
   "outputs": [],
   "source": [
    "wig_games = np.array(\n",
    "    [\n",
    "        [\n",
    "            'Profile',\n",
    "            'Time',\n",
    "            'Course',\n",
    "            'Open',\n",
    "            'Low',\n",
    "            'High',\n",
    "            'Turn',\n",
    "            'Share',\n",
    "        ],\n",
    "        [\n",
    "            '11B(11BIT)',\n",
    "            '17kwi17:01',\n",
    "            '391.00',\n",
    "            '383.50',\n",
    "            '383.00',\n",
    "            '394.00',\n",
    "            '4994874',\n",
    "            '19.034%',\n",
    "        ],\n",
    "        [\n",
    "            'CDR(CDPROJEKT)',\n",
    "            '17kwi17:01',\n",
    "            '339.50',\n",
    "            '338.30',\n",
    "            '337.00',\n",
    "            '344.20',\n",
    "            '79245368',\n",
    "            '39.618%',\n",
    "        ],\n",
    "        [\n",
    "            'CIG(CIGAMES)',\n",
    "            '17kwi17:03',\n",
    "            '0.742',\n",
    "            '0.772',\n",
    "            '0.730',\n",
    "            '0.772',\n",
    "            '971459',\n",
    "            '1.855%',\n",
    "        ],\n",
    "        [\n",
    "            'PLW(PLAYWAY)',\n",
    "            '17kwi17:03',\n",
    "            '387.50',\n",
    "            '374.00',\n",
    "            '373.00',\n",
    "            '388.00',\n",
    "            '12661786',\n",
    "            '10.638%',\n",
    "        ],\n",
    "        [\n",
    "            'TEN(TSGAMES)',\n",
    "            '17kwi17:02',\n",
    "            '349.50',\n",
    "            '332.00',\n",
    "            '330.00',\n",
    "            '353.50',\n",
    "            '13697060',\n",
    "            '28.855%',\n",
    "        ],\n",
    "    ],\n",
    "    dtype='<U14',\n",
    ")"
   ]
  },
  {
   "cell_type": "code",
   "execution_count": 61,
   "metadata": {},
   "outputs": [
    {
     "name": "stdout",
     "output_type": "stream",
     "text": [
      "[['Profile' 'Time' 'Course' 'Open' 'Low' 'High' 'Turn' 'Share']\n",
      " ['11B(11BIT)' '17kwi17:01' '391.00' '383.50' '383.00' '394.00' '4994874' '19.034%']\n",
      " ['CDR(CDPROJEKT)' '17kwi17:01' '339.50' '338.30' '337.00' '344.20' '79245368' '39.618%']\n",
      " ['CIG(CIGAMES)' '17kwi17:03' '0.742' '0.772' '0.730' '0.772' '971459' '1.855%']\n",
      " ['PLW(PLAYWAY)' '17kwi17:03' '387.50' '374.00' '373.00' '388.00' '12661786' '10.638%']\n",
      " ['TEN(TSGAMES)' '17kwi17:02' '349.50' '332.00' '330.00' '353.50' '13697060' '28.855%']]\n"
     ]
    }
   ],
   "source": [
    "np.savetxt(fname='wig_games.csv', X = wig_games,fmt='%s', delimiter=',')\n",
    "wig_games_new = np.loadtxt(fname='wig_games.csv', delimiter=',', dtype=str)\n",
    "print(wig_games_new)"
   ]
  },
  {
   "cell_type": "markdown",
   "metadata": {},
   "source": [
    "94. The following string is given (Playway's March 2020 listings): \n",
    "\n",
    "Create an array from this string as shown below and assign to the playway variable. In response, print this array to the console."
   ]
  },
  {
   "cell_type": "code",
   "execution_count": 62,
   "metadata": {},
   "outputs": [],
   "source": [
    "playway_raw = \"\"\"Date,Open,High,Low,Close,Volume\n",
    "2020-03-02,305,324.5,283.5,310,64081\n",
    "2020-03-03,325.5,340.5,320,340.5,55496\n",
    "2020-03-04,324,340.5,315,330,36152\n",
    "2020-03-05,344,344,310,315,35992\n",
    "2020-03-06,306.5,307,291,305,32539\n",
    "2020-03-09,274,291,250,258,79402\n",
    "2020-03-10,278,284.5,256,264,35700\n",
    "2020-03-11,270,270,238.5,245,60445\n",
    "2020-03-12,218,228,196,197,94031\n",
    "2020-03-13,210,229,198.8,211,100412\n",
    "2020-03-16,205,248,197.8,240.5,50659\n",
    "2020-03-17,245,269,232.5,264,99480\n",
    "2020-03-18,264,280,251,270,70136\n",
    "2020-03-19,267,280,267,279.5,30732\n",
    "2020-03-20,297.5,307,280,280.5,43426\n",
    "2020-03-23,274,289,258,285,37098\n",
    "2020-03-24,305,309,296.5,309,31939\n",
    "2020-03-25,313,330,295,304,46724\n",
    "2020-03-26,300,309,295.5,300,27213\n",
    "2020-03-27,302,306.5,290,296,13466\n",
    "2020-03-30,299,300,287,300,10316\n",
    "2020-03-31,302.5,309,302,306.5,15698\"\"\"\n"
   ]
  },
  {
   "cell_type": "code",
   "execution_count": 63,
   "metadata": {},
   "outputs": [
    {
     "name": "stdout",
     "output_type": "stream",
     "text": [
      "[['Date' 'Open' 'High' 'Low' 'Close' 'Volume']\n",
      " ['2020-03-02' '305' '324.5' '283.5' '310' '64081']\n",
      " ['2020-03-03' '325.5' '340.5' '320' '340.5' '55496']\n",
      " ['2020-03-04' '324' '340.5' '315' '330' '36152']\n",
      " ['2020-03-05' '344' '344' '310' '315' '35992']\n",
      " ['2020-03-06' '306.5' '307' '291' '305' '32539']\n",
      " ['2020-03-09' '274' '291' '250' '258' '79402']\n",
      " ['2020-03-10' '278' '284.5' '256' '264' '35700']\n",
      " ['2020-03-11' '270' '270' '238.5' '245' '60445']\n",
      " ['2020-03-12' '218' '228' '196' '197' '94031']\n",
      " ['2020-03-13' '210' '229' '198.8' '211' '100412']\n",
      " ['2020-03-16' '205' '248' '197.8' '240.5' '50659']\n",
      " ['2020-03-17' '245' '269' '232.5' '264' '99480']\n",
      " ['2020-03-18' '264' '280' '251' '270' '70136']\n",
      " ['2020-03-19' '267' '280' '267' '279.5' '30732']\n",
      " ['2020-03-20' '297.5' '307' '280' '280.5' '43426']\n",
      " ['2020-03-23' '274' '289' '258' '285' '37098']\n",
      " ['2020-03-24' '305' '309' '296.5' '309' '31939']\n",
      " ['2020-03-25' '313' '330' '295' '304' '46724']\n",
      " ['2020-03-26' '300' '309' '295.5' '300' '27213']\n",
      " ['2020-03-27' '302' '306.5' '290' '296' '13466']\n",
      " ['2020-03-30' '299' '300' '287' '300' '10316']\n",
      " ['2020-03-31' '302.5' '309' '302' '306.5' '15698']]\n"
     ]
    }
   ],
   "source": [
    "lines = playway_raw.splitlines()\n",
    "lines = [line.split(',') for line in lines]\n",
    "playway = np.array(lines, dtype=np.str_)\n",
    "print(playway)"
   ]
  },
  {
   "cell_type": "markdown",
   "metadata": {},
   "source": [
    "95. Delete the 'Date' column. Then remove the headers and assign result to the playway_values variable. Convert this array to the float data type and print result to the console."
   ]
  },
  {
   "cell_type": "code",
   "execution_count": 66,
   "metadata": {},
   "outputs": [],
   "source": [
    "playway = np.array(\n",
    "    [\n",
    "        ['Date', 'Open', 'High', 'Low', 'Close', 'Volume'],\n",
    "        ['2020-03-02', '305', '324.5', '283.5', '310', '64081'],\n",
    "        ['2020-03-03', '325.5', '340.5', '320', '340.5', '55496'],\n",
    "        ['2020-03-04', '324', '340.5', '315', '330', '36152'],\n",
    "        ['2020-03-05', '344', '344', '310', '315', '35992'],\n",
    "        ['2020-03-06', '306.5', '307', '291', '305', '32539'],\n",
    "        ['2020-03-09', '274', '291', '250', '258', '79402'],\n",
    "        ['2020-03-10', '278', '284.5', '256', '264', '35700'],\n",
    "        ['2020-03-11', '270', '270', '238.5', '245', '60445'],\n",
    "        ['2020-03-12', '218', '228', '196', '197', '94031'],\n",
    "        ['2020-03-13', '210', '229', '198.8', '211', '100412'],\n",
    "        ['2020-03-16', '205', '248', '197.8', '240.5', '50659'],\n",
    "        ['2020-03-17', '245', '269', '232.5', '264', '99480'],\n",
    "        ['2020-03-18', '264', '280', '251', '270', '70136'],\n",
    "        ['2020-03-19', '267', '280', '267', '279.5', '30732'],\n",
    "        ['2020-03-20', '297.5', '307', '280', '280.5', '43426'],\n",
    "        ['2020-03-23', '274', '289', '258', '285', '37098'],\n",
    "        ['2020-03-24', '305', '309', '296.5', '309', '31939'],\n",
    "        ['2020-03-25', '313', '330', '295', '304', '46724'],\n",
    "        ['2020-03-26', '300', '309', '295.5', '300', '27213'],\n",
    "        ['2020-03-27', '302', '306.5', '290', '296', '13466'],\n",
    "        ['2020-03-30', '299', '300', '287', '300', '10316'],\n",
    "        ['2020-03-31', '302.5', '309', '302', '306.5', '15698'],\n",
    "    ],\n",
    "    dtype='<U10',\n",
    ")"
   ]
  },
  {
   "cell_type": "code",
   "execution_count": 67,
   "metadata": {},
   "outputs": [
    {
     "name": "stdout",
     "output_type": "stream",
     "text": [
      "[[   305.     324.5    283.5    310.   64081. ]\n",
      " [   325.5    340.5    320.     340.5  55496. ]\n",
      " [   324.     340.5    315.     330.   36152. ]\n",
      " [   344.     344.     310.     315.   35992. ]\n",
      " [   306.5    307.     291.     305.   32539. ]\n",
      " [   274.     291.     250.     258.   79402. ]\n",
      " [   278.     284.5    256.     264.   35700. ]\n",
      " [   270.     270.     238.5    245.   60445. ]\n",
      " [   218.     228.     196.     197.   94031. ]\n",
      " [   210.     229.     198.8    211.  100412. ]\n",
      " [   205.     248.     197.8    240.5  50659. ]\n",
      " [   245.     269.     232.5    264.   99480. ]\n",
      " [   264.     280.     251.     270.   70136. ]\n",
      " [   267.     280.     267.     279.5  30732. ]\n",
      " [   297.5    307.     280.     280.5  43426. ]\n",
      " [   274.     289.     258.     285.   37098. ]\n",
      " [   305.     309.     296.5    309.   31939. ]\n",
      " [   313.     330.     295.     304.   46724. ]\n",
      " [   300.     309.     295.5    300.   27213. ]\n",
      " [   302.     306.5    290.     296.   13466. ]\n",
      " [   299.     300.     287.     300.   10316. ]\n",
      " [   302.5    309.     302.     306.5  15698. ]]\n"
     ]
    }
   ],
   "source": [
    "playway = np.delete(playway, [0], axis=1)\n",
    "playway_values = playway[1:].astype(float)\n",
    "print(playway_values)"
   ]
  },
  {
   "cell_type": "markdown",
   "metadata": {},
   "source": [
    "96. Calculate the average value for each column. Round the result to two decimal places and print it to the console."
   ]
  },
  {
   "cell_type": "code",
   "execution_count": 68,
   "metadata": {},
   "outputs": [],
   "source": [
    "playway_values = np.array(\n",
    "    [\n",
    "        [305.0, 324.5, 283.5, 310.0, 64081.0],\n",
    "        [325.5, 340.5, 320.0, 340.5, 55496.0],\n",
    "        [324.0, 340.5, 315.0, 330.0, 36152.0],\n",
    "        [344.0, 344.0, 310.0, 315.0, 35992.0],\n",
    "        [306.5, 307.0, 291.0, 305.0, 32539.0],\n",
    "        [274.0, 291.0, 250.0, 258.0, 79402.0],\n",
    "        [278.0, 284.5, 256.0, 264.0, 35700.0],\n",
    "        [270.0, 270.0, 238.5, 245.0, 60445.0],\n",
    "        [218.0, 228.0, 196.0, 197.0, 94031.0],\n",
    "        [210.0, 229.0, 198.8, 211.0, 100412.0],\n",
    "        [205.0, 248.0, 197.8, 240.5, 50659.0],\n",
    "        [245.0, 269.0, 232.5, 264.0, 99480.0],\n",
    "        [264.0, 280.0, 251.0, 270.0, 70136.0],\n",
    "        [267.0, 280.0, 267.0, 279.5, 30732.0],\n",
    "        [297.5, 307.0, 280.0, 280.5, 43426.0],\n",
    "        [274.0, 289.0, 258.0, 285.0, 37098.0],\n",
    "        [305.0, 309.0, 296.5, 309.0, 31939.0],\n",
    "        [313.0, 330.0, 295.0, 304.0, 46724.0],\n",
    "        [300.0, 309.0, 295.5, 300.0, 27213.0],\n",
    "        [302.0, 306.5, 290.0, 296.0, 13466.0],\n",
    "        [299.0, 300.0, 287.0, 300.0, 10316.0],\n",
    "        [302.5, 309.0, 302.0, 306.5, 15698.0],\n",
    "    ]\n",
    ")\n"
   ]
  },
  {
   "cell_type": "code",
   "execution_count": 70,
   "metadata": {},
   "outputs": [
    {
     "name": "stdout",
     "output_type": "stream",
     "text": [
      "[  283.13636364   295.25         268.68636364   282.29545455 48688.04545455]\n"
     ]
    }
   ],
   "source": [
    "print(np.mean(playway_values, axis=0))"
   ]
  },
  {
   "cell_type": "markdown",
   "metadata": {},
   "source": [
    "97. Calculate the new column: the difference between the highest and lowest price.\n",
    "\n",
    "Steps:\n",
    "\n",
    "Assign the calculated difference to the max_min_diff variable\n",
    "\n",
    "Add the calculated column (variable max_min_diff) to the array playway_values at the end.\n",
    "\n",
    "In response, print result to the console."
   ]
  },
  {
   "cell_type": "code",
   "execution_count": 71,
   "metadata": {},
   "outputs": [],
   "source": [
    "playway_values = np.array(\n",
    "    [\n",
    "        [305.0, 324.5, 283.5, 310.0, 64081.0],\n",
    "        [325.5, 340.5, 320.0, 340.5, 55496.0],\n",
    "        [324.0, 340.5, 315.0, 330.0, 36152.0],\n",
    "        [344.0, 344.0, 310.0, 315.0, 35992.0],\n",
    "        [306.5, 307.0, 291.0, 305.0, 32539.0],\n",
    "        [274.0, 291.0, 250.0, 258.0, 79402.0],\n",
    "        [278.0, 284.5, 256.0, 264.0, 35700.0],\n",
    "        [270.0, 270.0, 238.5, 245.0, 60445.0],\n",
    "        [218.0, 228.0, 196.0, 197.0, 94031.0],\n",
    "        [210.0, 229.0, 198.8, 211.0, 100412.0],\n",
    "        [205.0, 248.0, 197.8, 240.5, 50659.0],\n",
    "        [245.0, 269.0, 232.5, 264.0, 99480.0],\n",
    "        [264.0, 280.0, 251.0, 270.0, 70136.0],\n",
    "        [267.0, 280.0, 267.0, 279.5, 30732.0],\n",
    "        [297.5, 307.0, 280.0, 280.5, 43426.0],\n",
    "        [274.0, 289.0, 258.0, 285.0, 37098.0],\n",
    "        [305.0, 309.0, 296.5, 309.0, 31939.0],\n",
    "        [313.0, 330.0, 295.0, 304.0, 46724.0],\n",
    "        [300.0, 309.0, 295.5, 300.0, 27213.0],\n",
    "        [302.0, 306.5, 290.0, 296.0, 13466.0],\n",
    "        [299.0, 300.0, 287.0, 300.0, 10316.0],\n",
    "        [302.5, 309.0, 302.0, 306.5, 15698.0],\n",
    "    ]\n",
    ")\n"
   ]
  },
  {
   "cell_type": "code",
   "execution_count": 72,
   "metadata": {},
   "outputs": [
    {
     "name": "stdout",
     "output_type": "stream",
     "text": [
      "[[   305.     324.5    283.5    310.   64081.      41. ]\n",
      " [   325.5    340.5    320.     340.5  55496.      20.5]\n",
      " [   324.     340.5    315.     330.   36152.      25.5]\n",
      " [   344.     344.     310.     315.   35992.      34. ]\n",
      " [   306.5    307.     291.     305.   32539.      16. ]\n",
      " [   274.     291.     250.     258.   79402.      41. ]\n",
      " [   278.     284.5    256.     264.   35700.      28.5]\n",
      " [   270.     270.     238.5    245.   60445.      31.5]\n",
      " [   218.     228.     196.     197.   94031.      32. ]\n",
      " [   210.     229.     198.8    211.  100412.      30.2]\n",
      " [   205.     248.     197.8    240.5  50659.      50.2]\n",
      " [   245.     269.     232.5    264.   99480.      36.5]\n",
      " [   264.     280.     251.     270.   70136.      29. ]\n",
      " [   267.     280.     267.     279.5  30732.      13. ]\n",
      " [   297.5    307.     280.     280.5  43426.      27. ]\n",
      " [   274.     289.     258.     285.   37098.      31. ]\n",
      " [   305.     309.     296.5    309.   31939.      12.5]\n",
      " [   313.     330.     295.     304.   46724.      35. ]\n",
      " [   300.     309.     295.5    300.   27213.      13.5]\n",
      " [   302.     306.5    290.     296.   13466.      16.5]\n",
      " [   299.     300.     287.     300.   10316.      13. ]\n",
      " [   302.5    309.     302.     306.5  15698.       7. ]]\n"
     ]
    }
   ],
   "source": [
    "max_min_diff = playway_values[:, [1]] - playway_values[:, [2]]\n",
    "playway_values = np.concatenate((playway_values, max_min_diff), axis=1)\n",
    "print(playway_values)"
   ]
  },
  {
   "cell_type": "markdown",
   "metadata": {},
   "source": [
    "98. Extract rows from this array where closing price (column with index 3) is greater than 300.0. In response, print result to the console."
   ]
  },
  {
   "cell_type": "code",
   "execution_count": 76,
   "metadata": {},
   "outputs": [],
   "source": [
    "playway_values = np.array(\n",
    "    [\n",
    "        [305.0, 324.5, 283.5, 310.0, 64081.0, 41.0],\n",
    "        [325.5, 340.5, 320.0, 340.5, 55496.0, 20.5],\n",
    "        [324.0, 340.5, 315.0, 330.0, 36152.0, 25.5],\n",
    "        [344.0, 344.0, 310.0, 315.0, 35992.0, 34.0],\n",
    "        [306.5, 307.0, 291.0, 305.0, 32539.0, 16.0],\n",
    "        [274.0, 291.0, 250.0, 258.0, 79402.0, 41.0],\n",
    "        [278.0, 284.5, 256.0, 264.0, 35700.0, 28.5],\n",
    "        [270.0, 270.0, 238.5, 245.0, 60445.0, 31.5],\n",
    "        [218.0, 228.0, 196.0, 197.0, 94031.0, 32.0],\n",
    "        [210.0, 229.0, 198.8, 211.0, 100412.0, 30.2],\n",
    "        [205.0, 248.0, 197.8, 240.5, 50659.0, 50.2],\n",
    "        [245.0, 269.0, 232.5, 264.0, 99480.0, 36.5],\n",
    "        [264.0, 280.0, 251.0, 270.0, 70136.0, 29.0],\n",
    "        [267.0, 280.0, 267.0, 279.5, 30732.0, 13.0],\n",
    "        [297.5, 307.0, 280.0, 280.5, 43426.0, 27.0],\n",
    "        [274.0, 289.0, 258.0, 285.0, 37098.0, 31.0],\n",
    "        [305.0, 309.0, 296.5, 309.0, 31939.0, 12.5],\n",
    "        [313.0, 330.0, 295.0, 304.0, 46724.0, 35.0],\n",
    "        [300.0, 309.0, 295.5, 300.0, 27213.0, 13.5],\n",
    "        [302.0, 306.5, 290.0, 296.0, 13466.0, 16.5],\n",
    "        [299.0, 300.0, 287.0, 300.0, 10316.0, 13.0],\n",
    "        [302.5, 309.0, 302.0, 306.5, 15698.0, 7.0],\n",
    "    ]\n",
    ")"
   ]
  },
  {
   "cell_type": "code",
   "execution_count": 78,
   "metadata": {},
   "outputs": [
    {
     "name": "stdout",
     "output_type": "stream",
     "text": [
      "[[  305.    324.5   283.5   310.  64081.     41. ]\n",
      " [  325.5   340.5   320.    340.5 55496.     20.5]\n",
      " [  324.    340.5   315.    330.  36152.     25.5]\n",
      " [  344.    344.    310.    315.  35992.     34. ]\n",
      " [  306.5   307.    291.    305.  32539.     16. ]\n",
      " [  305.    309.    296.5   309.  31939.     12.5]\n",
      " [  313.    330.    295.    304.  46724.     35. ]\n",
      " [  302.5   309.    302.    306.5 15698.      7. ]]\n"
     ]
    }
   ],
   "source": [
    "print(playway_values[playway_values[:,3]>300.0])"
   ]
  },
  {
   "cell_type": "markdown",
   "metadata": {},
   "source": [
    "99. From this array extract the first 10 rows with the highest volume sorted in descending order."
   ]
  },
  {
   "cell_type": "code",
   "execution_count": 79,
   "metadata": {},
   "outputs": [],
   "source": [
    "playway_values = np.array(\n",
    "    [\n",
    "        [305.0, 324.5, 283.5, 310.0, 64081.0, 41.0],\n",
    "        [325.5, 340.5, 320.0, 340.5, 55496.0, 20.5],\n",
    "        [324.0, 340.5, 315.0, 330.0, 36152.0, 25.5],\n",
    "        [344.0, 344.0, 310.0, 315.0, 35992.0, 34.0],\n",
    "        [306.5, 307.0, 291.0, 305.0, 32539.0, 16.0],\n",
    "        [274.0, 291.0, 250.0, 258.0, 79402.0, 41.0],\n",
    "        [278.0, 284.5, 256.0, 264.0, 35700.0, 28.5],\n",
    "        [270.0, 270.0, 238.5, 245.0, 60445.0, 31.5],\n",
    "        [218.0, 228.0, 196.0, 197.0, 94031.0, 32.0],\n",
    "        [210.0, 229.0, 198.8, 211.0, 100412.0, 30.2],\n",
    "        [205.0, 248.0, 197.8, 240.5, 50659.0, 50.2],\n",
    "        [245.0, 269.0, 232.5, 264.0, 99480.0, 36.5],\n",
    "        [264.0, 280.0, 251.0, 270.0, 70136.0, 29.0],\n",
    "        [267.0, 280.0, 267.0, 279.5, 30732.0, 13.0],\n",
    "        [297.5, 307.0, 280.0, 280.5, 43426.0, 27.0],\n",
    "        [274.0, 289.0, 258.0, 285.0, 37098.0, 31.0],\n",
    "        [305.0, 309.0, 296.5, 309.0, 31939.0, 12.5],\n",
    "        [313.0, 330.0, 295.0, 304.0, 46724.0, 35.0],\n",
    "        [300.0, 309.0, 295.5, 300.0, 27213.0, 13.5],\n",
    "        [302.0, 306.5, 290.0, 296.0, 13466.0, 16.5],\n",
    "        [299.0, 300.0, 287.0, 300.0, 10316.0, 13.0],\n",
    "        [302.5, 309.0, 302.0, 306.5, 15698.0, 7.0],\n",
    "    ]\n",
    ")\n"
   ]
  },
  {
   "cell_type": "code",
   "execution_count": 83,
   "metadata": {},
   "outputs": [
    {
     "name": "stdout",
     "output_type": "stream",
     "text": [
      "[[   210.     229.     198.8    211.  100412.      30.2]\n",
      " [   245.     269.     232.5    264.   99480.      36.5]\n",
      " [   218.     228.     196.     197.   94031.      32. ]\n",
      " [   274.     291.     250.     258.   79402.      41. ]\n",
      " [   264.     280.     251.     270.   70136.      29. ]\n",
      " [   305.     324.5    283.5    310.   64081.      41. ]\n",
      " [   270.     270.     238.5    245.   60445.      31.5]\n",
      " [   325.5    340.5    320.     340.5  55496.      20.5]\n",
      " [   205.     248.     197.8    240.5  50659.      50.2]\n",
      " [   313.     330.     295.     304.   46724.      35. ]]\n"
     ]
    }
   ],
   "source": [
    "print(playway_values[playway_values[:,4].argsort()][::-1][:10])"
   ]
  },
  {
   "cell_type": "markdown",
   "metadata": {},
   "source": [
    "100. Add to this array column that returns 1 in case the close price is higher than the open price, otherwise 0."
   ]
  },
  {
   "cell_type": "code",
   "execution_count": 82,
   "metadata": {},
   "outputs": [],
   "source": [
    "playway_values = np.array(\n",
    "    [\n",
    "        [305.0, 324.5, 283.5, 310.0, 64081.0, 41.0],\n",
    "        [325.5, 340.5, 320.0, 340.5, 55496.0, 20.5],\n",
    "        [324.0, 340.5, 315.0, 330.0, 36152.0, 25.5],\n",
    "        [344.0, 344.0, 310.0, 315.0, 35992.0, 34.0],\n",
    "        [306.5, 307.0, 291.0, 305.0, 32539.0, 16.0],\n",
    "        [274.0, 291.0, 250.0, 258.0, 79402.0, 41.0],\n",
    "        [278.0, 284.5, 256.0, 264.0, 35700.0, 28.5],\n",
    "        [270.0, 270.0, 238.5, 245.0, 60445.0, 31.5],\n",
    "        [218.0, 228.0, 196.0, 197.0, 94031.0, 32.0],\n",
    "        [210.0, 229.0, 198.8, 211.0, 100412.0, 30.2],\n",
    "        [205.0, 248.0, 197.8, 240.5, 50659.0, 50.2],\n",
    "        [245.0, 269.0, 232.5, 264.0, 99480.0, 36.5],\n",
    "        [264.0, 280.0, 251.0, 270.0, 70136.0, 29.0],\n",
    "        [267.0, 280.0, 267.0, 279.5, 30732.0, 13.0],\n",
    "        [297.5, 307.0, 280.0, 280.5, 43426.0, 27.0],\n",
    "        [274.0, 289.0, 258.0, 285.0, 37098.0, 31.0],\n",
    "        [305.0, 309.0, 296.5, 309.0, 31939.0, 12.5],\n",
    "        [313.0, 330.0, 295.0, 304.0, 46724.0, 35.0],\n",
    "        [300.0, 309.0, 295.5, 300.0, 27213.0, 13.5],\n",
    "        [302.0, 306.5, 290.0, 296.0, 13466.0, 16.5],\n",
    "        [299.0, 300.0, 287.0, 300.0, 10316.0, 13.0],\n",
    "        [302.5, 309.0, 302.0, 306.5, 15698.0, 7.0],\n",
    "    ]\n",
    ")"
   ]
  },
  {
   "cell_type": "code",
   "execution_count": 86,
   "metadata": {},
   "outputs": [
    {
     "name": "stdout",
     "output_type": "stream",
     "text": [
      "[[   305.     324.5    283.5    310.   64081.      41.       1. ]\n",
      " [   325.5    340.5    320.     340.5  55496.      20.5      1. ]\n",
      " [   324.     340.5    315.     330.   36152.      25.5      1. ]\n",
      " [   344.     344.     310.     315.   35992.      34.       0. ]\n",
      " [   306.5    307.     291.     305.   32539.      16.       0. ]\n",
      " [   274.     291.     250.     258.   79402.      41.       0. ]\n",
      " [   278.     284.5    256.     264.   35700.      28.5      0. ]\n",
      " [   270.     270.     238.5    245.   60445.      31.5      0. ]\n",
      " [   218.     228.     196.     197.   94031.      32.       0. ]\n",
      " [   210.     229.     198.8    211.  100412.      30.2      1. ]\n",
      " [   205.     248.     197.8    240.5  50659.      50.2      1. ]\n",
      " [   245.     269.     232.5    264.   99480.      36.5      1. ]\n",
      " [   264.     280.     251.     270.   70136.      29.       1. ]\n",
      " [   267.     280.     267.     279.5  30732.      13.       1. ]\n",
      " [   297.5    307.     280.     280.5  43426.      27.       0. ]\n",
      " [   274.     289.     258.     285.   37098.      31.       1. ]\n",
      " [   305.     309.     296.5    309.   31939.      12.5      1. ]\n",
      " [   313.     330.     295.     304.   46724.      35.       0. ]\n",
      " [   300.     309.     295.5    300.   27213.      13.5      0. ]\n",
      " [   302.     306.5    290.     296.   13466.      16.5      0. ]\n",
      " [   299.     300.     287.     300.   10316.      13.       1. ]\n",
      " [   302.5    309.     302.     306.5  15698.       7.       1. ]]\n"
     ]
    }
   ],
   "source": [
    "flag = playway_values[:,[0]] < playway_values[:,[3]]\n",
    "flag = flag.astype(int)\n",
    "playway_values = np.concatenate((playway_values, flag), axis=1)\n",
    "print(playway_values)"
   ]
  },
  {
   "cell_type": "code",
   "execution_count": 87,
   "metadata": {},
   "outputs": [
    {
     "data": {
      "text/plain": [
       "array([[1],\n",
       "       [1],\n",
       "       [1],\n",
       "       [0],\n",
       "       [0],\n",
       "       [0],\n",
       "       [0],\n",
       "       [0],\n",
       "       [0],\n",
       "       [1],\n",
       "       [1],\n",
       "       [1],\n",
       "       [1],\n",
       "       [1],\n",
       "       [0],\n",
       "       [1],\n",
       "       [1],\n",
       "       [0],\n",
       "       [0],\n",
       "       [0],\n",
       "       [1],\n",
       "       [1]])"
      ]
     },
     "execution_count": 87,
     "metadata": {},
     "output_type": "execute_result"
    }
   ],
   "source": [
    "flag"
   ]
  }
 ],
 "metadata": {
  "kernelspec": {
   "display_name": "zet_default_env",
   "language": "python",
   "name": "python3"
  },
  "language_info": {
   "codemirror_mode": {
    "name": "ipython",
    "version": 3
   },
   "file_extension": ".py",
   "mimetype": "text/x-python",
   "name": "python",
   "nbconvert_exporter": "python",
   "pygments_lexer": "ipython3",
   "version": "3.11.3"
  },
  "orig_nbformat": 4
 },
 "nbformat": 4,
 "nbformat_minor": 2
}
