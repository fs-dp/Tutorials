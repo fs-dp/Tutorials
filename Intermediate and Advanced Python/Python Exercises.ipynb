{
 "cells": [
  {
   "cell_type": "markdown",
   "metadata": {},
   "source": [
    "78. The following filename is given: Check if the file has the 'xlsx' extension. Print to the console 'YES' if true, 'NO' if false."
   ]
  },
  {
   "cell_type": "code",
   "execution_count": 1,
   "metadata": {},
   "outputs": [],
   "source": [
    "filename = '01012020_sales.xlsx'"
   ]
  },
  {
   "cell_type": "code",
   "execution_count": 11,
   "metadata": {},
   "outputs": [
    {
     "name": "stdout",
     "output_type": "stream",
     "text": [
      "NO\n"
     ]
    }
   ],
   "source": [
    "print('NO') if filename.endswith('xlsx') else print('YES')"
   ]
  },
  {
   "cell_type": "markdown",
   "metadata": {},
   "source": [
    "79. Check if the code variable has only uppercase letters. If so, print 'YES' to the console."
   ]
  },
  {
   "cell_type": "code",
   "execution_count": 3,
   "metadata": {},
   "outputs": [],
   "source": [
    "code = 'DSVNDOICSN'"
   ]
  },
  {
   "cell_type": "code",
   "execution_count": 12,
   "metadata": {},
   "outputs": [
    {
     "name": "stdout",
     "output_type": "stream",
     "text": [
      "YES\n"
     ]
    }
   ],
   "source": [
    "print('YES') if code.isupper() else print('NO')"
   ]
  },
  {
   "cell_type": "markdown",
   "metadata": {},
   "source": [
    "80. Test whether the variable is an instance of the built-in class int. Print 'YES' if true, 'NO' if false."
   ]
  },
  {
   "cell_type": "code",
   "execution_count": 13,
   "metadata": {},
   "outputs": [],
   "source": [
    "number = 1.0"
   ]
  },
  {
   "cell_type": "code",
   "execution_count": 14,
   "metadata": {},
   "outputs": [
    {
     "name": "stdout",
     "output_type": "stream",
     "text": [
      "NO\n"
     ]
    }
   ],
   "source": [
    "print('YES') if type(number)=='int' else print(\"NO\")"
   ]
  },
  {
   "cell_type": "markdown",
   "metadata": {},
   "source": [
    "81. Check if the password has 11 characters. If so, print 'Password correct', otherwise 'Password too short'"
   ]
  },
  {
   "cell_type": "code",
   "execution_count": 21,
   "metadata": {},
   "outputs": [],
   "source": [
    "password = \"cskdnjcasa#\""
   ]
  },
  {
   "cell_type": "code",
   "execution_count": 22,
   "metadata": {},
   "outputs": [
    {
     "name": "stdout",
     "output_type": "stream",
     "text": [
      "Password correct\n"
     ]
    }
   ],
   "source": [
    "print('Password correct') if len(password)==11 else print('Password too short')"
   ]
  },
  {
   "cell_type": "markdown",
   "metadata": {},
   "source": [
    "82. Check if the password has at least 11 characters and contains the special character '!'.\n",
    "If so, print 'Password correct', otherwise 'Password incorrect'."
   ]
  },
  {
   "cell_type": "code",
   "execution_count": 23,
   "metadata": {},
   "outputs": [],
   "source": [
    "password = 'cskdnjcasa#!'"
   ]
  },
  {
   "cell_type": "code",
   "execution_count": 24,
   "metadata": {},
   "outputs": [
    {
     "name": "stdout",
     "output_type": "stream",
     "text": [
      "Password correct\n"
     ]
    }
   ],
   "source": [
    "print('Password correct') if (len(password)>=11 and \"!\" in password) else print('Password too short')"
   ]
  },
  {
   "cell_type": "markdown",
   "metadata": {},
   "source": [
    "83. Check if the following project id:\n",
    "\n",
    "project_id = '02135'\n",
    "\n",
    "is in the project_ids list. If not, add this project_id to the list and print this list to the console."
   ]
  },
  {
   "cell_type": "code",
   "execution_count": 26,
   "metadata": {},
   "outputs": [],
   "source": [
    "project_ids = ['02134', '24253']\n",
    "project_id = '02135'"
   ]
  },
  {
   "cell_type": "code",
   "execution_count": 31,
   "metadata": {},
   "outputs": [
    {
     "name": "stdout",
     "output_type": "stream",
     "text": [
      "['02134', '24253', '02135']\n"
     ]
    }
   ],
   "source": [
    "if project_id not in project_ids:\n",
    "    project_ids.append(project_id) \n",
    "\n",
    "print(project_ids)                                                                           "
   ]
  },
  {
   "cell_type": "markdown",
   "metadata": {},
   "source": [
    "84. Using the conditional statement, check if the project status with id = '02' is set to 'new'. If so, change its status to 'open' and print the dictionary to the console."
   ]
  },
  {
   "cell_type": "code",
   "execution_count": 32,
   "metadata": {},
   "outputs": [],
   "source": [
    "project_ids = {\n",
    "    '01': 'open', \n",
    "    '02': 'new',\n",
    "    '03': 'in progress',\n",
    "    '04': 'completed'\n",
    "}"
   ]
  },
  {
   "cell_type": "code",
   "execution_count": 34,
   "metadata": {},
   "outputs": [
    {
     "name": "stdout",
     "output_type": "stream",
     "text": [
      "{'01': 'open', '02': 'open', '03': 'in progress', '04': 'completed'}\n"
     ]
    }
   ],
   "source": [
    "if project_ids['02']=='new':\n",
    "    project_ids['02']='open'\n",
    "print(project_ids)"
   ]
  },
  {
   "cell_type": "markdown",
   "metadata": {},
   "source": [
    "85. Write a program that checks if the given item is in the list. If so, remove this item from the list and print this list to the console."
   ]
  },
  {
   "cell_type": "code",
   "execution_count": 35,
   "metadata": {},
   "outputs": [],
   "source": [
    "item = '001'\n",
    "items = ['001', '000', '003', '005', '006']"
   ]
  },
  {
   "cell_type": "code",
   "execution_count": 36,
   "metadata": {},
   "outputs": [
    {
     "name": "stdout",
     "output_type": "stream",
     "text": [
      "['000', '003', '005', '006']\n"
     ]
    }
   ],
   "source": [
    "if item in items:\n",
    "    items.remove(item)\n",
    "print(items)"
   ]
  },
  {
   "cell_type": "markdown",
   "metadata": {},
   "source": [
    "86. Write a program that finds all two-digit numbers divisible by 11 (use a for loop). Print the result to the console as comma-separated values as shown below.\n",
    "11,22,33,44,55,66,77,88,99"
   ]
  },
  {
   "cell_type": "code",
   "execution_count": 37,
   "metadata": {},
   "outputs": [
    {
     "data": {
      "text/plain": [
       "[11, 22, 33, 44, 55, 66, 77, 88, 99]"
      ]
     },
     "execution_count": 37,
     "metadata": {},
     "output_type": "execute_result"
    }
   ],
   "source": [
    "[num for num in range(10,100) if num%11==0 ]"
   ]
  },
  {
   "cell_type": "markdown",
   "metadata": {},
   "source": [
    "87. Write a program that finds all two-digit numbers divisible by 11 and indivisible by 3 (use a for loop). Print the result to the console as comma-separated values as shown below.\n"
   ]
  },
  {
   "cell_type": "code",
   "execution_count": 41,
   "metadata": {},
   "outputs": [],
   "source": [
    "result=[num for num in range(10,100) if num%11==0 and num%3!=0]\n"
   ]
  },
  {
   "cell_type": "markdown",
   "metadata": {},
   "source": [
    "88. Write a program that removes odd numbers and returns the remaining ones. Print the result to the console."
   ]
  },
  {
   "cell_type": "code",
   "execution_count": 42,
   "metadata": {},
   "outputs": [],
   "source": [
    "items = [1, 3, 4, 5, 6, 9, 10, 17, 23, 24]"
   ]
  },
  {
   "cell_type": "code",
   "execution_count": 43,
   "metadata": {},
   "outputs": [
    {
     "name": "stdout",
     "output_type": "stream",
     "text": [
      "[4, 6, 10, 24]\n"
     ]
    }
   ],
   "source": [
    "items = [item for item in items if item%2==0]\n",
    "print(items)"
   ]
  },
  {
   "cell_type": "markdown",
   "metadata": {},
   "source": [
    "89. Write a program that removes duplicates from the list (the order must be kept) and print the list to the console.\n"
   ]
  },
  {
   "cell_type": "code",
   "execution_count": 48,
   "metadata": {},
   "outputs": [],
   "source": [
    "items = [1, 5, 3, 2, 2, 4, 2, 4]"
   ]
  },
  {
   "cell_type": "code",
   "execution_count": 49,
   "metadata": {},
   "outputs": [
    {
     "name": "stdout",
     "output_type": "stream",
     "text": [
      "[1, 5, 3, 2, 4]\n"
     ]
    }
   ],
   "source": [
    "index = 0\n",
    "seen={}\n",
    "\n",
    "while index<len(items):\n",
    "    currentItem=items[index]\n",
    "    \n",
    "    if currentItem not in seen:\n",
    "        seen[currentItem]=True\n",
    "        index+=1\n",
    "    else:\n",
    "        del items[index]\n",
    "print(items)"
   ]
  },
  {
   "cell_type": "markdown",
   "metadata": {},
   "source": [
    "90. Write a program which extracts exactly the first four words as a list. Standardize each word, i.e. replace uppercase letters with lowercase. Present the result in a list and print to the console as shown below.\n",
    "['python', 'is', 'a', 'very']"
   ]
  },
  {
   "cell_type": "code",
   "execution_count": 58,
   "metadata": {},
   "outputs": [],
   "source": [
    "text = 'Python is a very popular programming language'"
   ]
  },
  {
   "cell_type": "code",
   "execution_count": 61,
   "metadata": {},
   "outputs": [
    {
     "name": "stdout",
     "output_type": "stream",
     "text": [
      "['python', 'is', 'a', 'very']\n"
     ]
    }
   ],
   "source": [
    "words = text.split(' ')\n",
    "words=[word.lower() for word in words]\n",
    "print(words[:4])"
   ]
  },
  {
   "cell_type": "markdown",
   "metadata": {},
   "source": [
    "91. Write a program that returns a list of values above the given threshold = 0.5 from the following list:\n"
   ]
  },
  {
   "cell_type": "code",
   "execution_count": 62,
   "metadata": {},
   "outputs": [],
   "source": [
    "probabilities = [0.21, 0.91, 0.34, 0.55, 0.76, 0.02]"
   ]
  },
  {
   "cell_type": "code",
   "execution_count": 65,
   "metadata": {},
   "outputs": [
    {
     "data": {
      "text/plain": [
       "[0.91, 0.55, 0.76]"
      ]
     },
     "execution_count": 65,
     "metadata": {},
     "output_type": "execute_result"
    }
   ],
   "source": [
    "[prob for prob in probabilities if prob>0.5]"
   ]
  },
  {
   "cell_type": "markdown",
   "metadata": {},
   "source": [
    "92. Consider the problem of binary classification in machine learning. The machine learning model returns the probability of belonging to the class. If it's less than 0.5, the sample is assigned to class 0, otherwise to class 1.\n",
    "\n",
    "A list of probabilities from the machine learning model is given below. Write a program that assigns class 0 for values less than 0.5 and 1 for values greater than or equal to 0.5. Print the result to the console as shown below."
   ]
  },
  {
   "cell_type": "code",
   "execution_count": 67,
   "metadata": {},
   "outputs": [
    {
     "name": "stdout",
     "output_type": "stream",
     "text": [
      "[0, 1, 0, 1, 1, 0]\n"
     ]
    }
   ],
   "source": [
    "probabilities=[0 if prob<0.5 else 1 for prob in probabilities ]\n",
    "print(probabilities)"
   ]
  },
  {
   "cell_type": "markdown",
   "metadata": {},
   "source": [
    "93. Write a program that creates a histogram as a dictionary of the following values:"
   ]
  },
  {
   "cell_type": "code",
   "execution_count": 68,
   "metadata": {},
   "outputs": [],
   "source": [
    "items = ['x', 'y', 'z', 'y', 'x', 'y', 'y', 'z', 'x']"
   ]
  },
  {
   "cell_type": "code",
   "execution_count": 69,
   "metadata": {},
   "outputs": [
    {
     "name": "stdout",
     "output_type": "stream",
     "text": [
      "{'x': 3, 'y': 4, 'z': 2}\n"
     ]
    }
   ],
   "source": [
    "itemsDict={}\n",
    "for item in items:\n",
    "    if item in itemsDict:\n",
    "        itemsDict[item]+=1\n",
    "    else:\n",
    "        itemsDict[item]=1\n",
    "print(itemsDict)"
   ]
  },
  {
   "cell_type": "markdown",
   "metadata": {},
   "source": [
    "94. Create a list of words from the given text. Then standardize this text (change uppercase letters to lowercase, remove punctuation marks). Extract words longer than six characters and print the result to the console.\n"
   ]
  },
  {
   "cell_type": "code",
   "execution_count": 84,
   "metadata": {},
   "outputs": [],
   "source": [
    "text = \"\"\"Python is powerful... and fast plays well with others runs everywhere is friendly & easy to learn is Open These are some of the reasons people who use Python would rather not use anything else\"\"\""
   ]
  },
  {
   "cell_type": "code",
   "execution_count": 85,
   "metadata": {},
   "outputs": [
    {
     "name": "stdout",
     "output_type": "stream",
     "text": [
      "['powerful', 'everywhere', 'friendly', 'reasons', 'anything']\n"
     ]
    }
   ],
   "source": [
    "words = text.split()\n",
    "punctuation_chars = set(\".,!?;:\\\"'()[]{}-\")\n",
    "lowercase_words = []\n",
    "\n",
    "for word in words:\n",
    "    standardized_word = ''.join(char for char in word if char not in punctuation_chars).lower()\n",
    "    lowercase_words.append(standardized_word)\n",
    "\n",
    "longer_than_six = [word for word in lowercase_words if len(word) > 6]\n",
    "\n",
    "print(longer_than_six)"
   ]
  },
  {
   "cell_type": "markdown",
   "metadata": {},
   "source": [
    "95. Iterate through the indexes list and print to the console only those indexes containing 'DOW' or 'S&P'."
   ]
  },
  {
   "cell_type": "code",
   "execution_count": 87,
   "metadata": {},
   "outputs": [],
   "source": [
    "indexes = [\n",
    "    \"BOVESPA\",\n",
    "    \"DOW JONES COMP\",\n",
    "    \"DOW JONES INDU\",\n",
    "    \"DOW JONES TRANS\",\n",
    "    \"DOW JONES UTIL\",\n",
    "    \"IPC\",\n",
    "    \"IPSA\",\n",
    "    \"MERVAL\",\n",
    "    \"NASDAQ COMP\",\n",
    "    \"NASDAQ100\",\n",
    "    \"S&P500\",\n",
    "    \"S&P/TSX COMP\",\n",
    "]"
   ]
  },
  {
   "cell_type": "code",
   "execution_count": 88,
   "metadata": {},
   "outputs": [
    {
     "data": {
      "text/plain": [
       "['DOW JONES COMP',\n",
       " 'DOW JONES INDU',\n",
       " 'DOW JONES TRANS',\n",
       " 'DOW JONES UTIL',\n",
       " 'S&P500',\n",
       " 'S&P/TSX COMP']"
      ]
     },
     "execution_count": 88,
     "metadata": {},
     "output_type": "execute_result"
    }
   ],
   "source": [
    "[index for index in indexes if 'DOW' in index or 'S&P' in index]"
   ]
  },
  {
   "cell_type": "markdown",
   "metadata": {},
   "source": [
    "96. Iterate through this dictionary and print the tickers of those companies where closing price is greater than 100.00 PLN."
   ]
  },
  {
   "cell_type": "code",
   "execution_count": 89,
   "metadata": {},
   "outputs": [],
   "source": [
    "gaming = {\n",
    "    '11B': 362.5,\n",
    "    'CDR': 297.0,\n",
    "    'CIG': 0.85,\n",
    "    'PLW': 318.0,\n",
    "    'TEN': 300.0\n",
    "}"
   ]
  },
  {
   "cell_type": "code",
   "execution_count": 93,
   "metadata": {},
   "outputs": [
    {
     "name": "stdout",
     "output_type": "stream",
     "text": [
      "11B\n",
      "CDR\n",
      "PLW\n",
      "TEN\n"
     ]
    }
   ],
   "source": [
    "for key, value in gaming.items():\n",
    "    if value >100.0:\n",
    "        print(key)"
   ]
  },
  {
   "cell_type": "markdown",
   "metadata": {},
   "source": [
    "97. Iterate through the names list and check if each name is correct (contains only letters). If so, print to the console following message: f'Hello {name}!' otherwise do nothing.\n"
   ]
  },
  {
   "cell_type": "code",
   "execution_count": 94,
   "metadata": {},
   "outputs": [],
   "source": [
    "names = ['Jack', 'Leon', 'Alice', '32-3c', 'Bob']"
   ]
  },
  {
   "cell_type": "code",
   "execution_count": 96,
   "metadata": {},
   "outputs": [
    {
     "data": {
      "text/plain": [
       "['HelloJack', 'HelloLeon', 'HelloAlice', 'HelloBob']"
      ]
     },
     "execution_count": 96,
     "metadata": {},
     "output_type": "execute_result"
    }
   ],
   "source": [
    "[f'Hello{word}' for word in names if word.isalpha()]"
   ]
  },
  {
   "cell_type": "markdown",
   "metadata": {},
   "source": [
    "98. Write a program that compares two lists and returns True if the lists contain at least one of the same element. Otherwise, it will return False.\n",
    "Use break statement in the solution and print result to the console."
   ]
  },
  {
   "cell_type": "code",
   "execution_count": 97,
   "metadata": {},
   "outputs": [],
   "source": [
    "list1 = [1, 2, 0]\n",
    "list2 = [4, 5, 6, 1]"
   ]
  },
  {
   "cell_type": "code",
   "execution_count": 100,
   "metadata": {},
   "outputs": [
    {
     "name": "stdout",
     "output_type": "stream",
     "text": [
      "True\n"
     ]
    }
   ],
   "source": [
    "for item1 in list1:\n",
    "    if item1 in list2:\n",
    "        result = True\n",
    "        break\n",
    " \n",
    "print(result)"
   ]
  },
  {
   "cell_type": "markdown",
   "metadata": {},
   "source": [
    "99. Check if all objects in the list are of str type. If so, print True, otherwise print False. Use the break statement in your solution.\n"
   ]
  },
  {
   "cell_type": "code",
   "execution_count": 101,
   "metadata": {},
   "outputs": [],
   "source": [
    "hashtags = ['holiday', 'sport', 'fit', None, 'fashion']"
   ]
  },
  {
   "cell_type": "code",
   "execution_count": 102,
   "metadata": {},
   "outputs": [
    {
     "name": "stdout",
     "output_type": "stream",
     "text": [
      "False\n"
     ]
    }
   ],
   "source": [
    "for i in hashtags:\n",
    "    if type(i)!='str':\n",
    "        print(False)\n",
    "        break\n",
    "    else:\n",
    "        print(True)\n",
    "    "
   ]
  },
  {
   "cell_type": "markdown",
   "metadata": {},
   "source": [
    "100. Write a program that checks if the given number is a prime number (use the break statement):\n",
    "Print one of the following to the console depends on the result:\n",
    "\n",
    "13 - prime number\n",
    "13 - not a prime number"
   ]
  },
  {
   "cell_type": "code",
   "execution_count": 107,
   "metadata": {},
   "outputs": [],
   "source": [
    "number = 13"
   ]
  },
  {
   "cell_type": "code",
   "execution_count": 109,
   "metadata": {},
   "outputs": [
    {
     "name": "stdout",
     "output_type": "stream",
     "text": [
      "13 - not a prime number\n"
     ]
    }
   ],
   "source": [
    "if number==1:\n",
    "    print(f'{number} - not a prime number')\n",
    "else:\n",
    "    for i in range(2,number+1):\n",
    "        if number%i==0:\n",
    "            print(f'{number} - not a prime number')\n",
    "            break \n",
    "    else:\n",
    "        print(f'{number} - prime nubmer')"
   ]
  },
  {
   "cell_type": "code",
   "execution_count": null,
   "metadata": {},
   "outputs": [],
   "source": []
  }
 ],
 "metadata": {
  "kernelspec": {
   "display_name": "zet_default_env",
   "language": "python",
   "name": "python3"
  },
  "language_info": {
   "codemirror_mode": {
    "name": "ipython",
    "version": 3
   },
   "file_extension": ".py",
   "mimetype": "text/x-python",
   "name": "python",
   "nbconvert_exporter": "python",
   "pygments_lexer": "ipython3",
   "version": "3.11.3"
  },
  "orig_nbformat": 4
 },
 "nbformat": 4,
 "nbformat_minor": 2
}
