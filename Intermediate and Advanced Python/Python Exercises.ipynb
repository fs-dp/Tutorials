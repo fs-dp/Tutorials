{
 "cells": [
  {
   "cell_type": "markdown",
   "metadata": {},
   "source": [
    "78. The following filename is given: Check if the file has the 'xlsx' extension. Print to the console 'YES' if true, 'NO' if false."
   ]
  },
  {
   "cell_type": "code",
   "execution_count": 1,
   "metadata": {},
   "outputs": [],
   "source": [
    "filename = '01012020_sales.xlsx'"
   ]
  },
  {
   "cell_type": "code",
   "execution_count": 11,
   "metadata": {},
   "outputs": [
    {
     "name": "stdout",
     "output_type": "stream",
     "text": [
      "NO\n"
     ]
    }
   ],
   "source": [
    "print('NO') if filename.endswith('xlsx') else print('YES')"
   ]
  },
  {
   "cell_type": "markdown",
   "metadata": {},
   "source": [
    "79. Check if the code variable has only uppercase letters. If so, print 'YES' to the console."
   ]
  },
  {
   "cell_type": "code",
   "execution_count": 3,
   "metadata": {},
   "outputs": [],
   "source": [
    "code = 'DSVNDOICSN'"
   ]
  },
  {
   "cell_type": "code",
   "execution_count": 12,
   "metadata": {},
   "outputs": [
    {
     "name": "stdout",
     "output_type": "stream",
     "text": [
      "YES\n"
     ]
    }
   ],
   "source": [
    "print('YES') if code.isupper() else print('NO')"
   ]
  },
  {
   "cell_type": "markdown",
   "metadata": {},
   "source": [
    "80. Test whether the variable is an instance of the built-in class int. Print 'YES' if true, 'NO' if false."
   ]
  },
  {
   "cell_type": "code",
   "execution_count": 13,
   "metadata": {},
   "outputs": [],
   "source": [
    "number = 1.0"
   ]
  },
  {
   "cell_type": "code",
   "execution_count": 14,
   "metadata": {},
   "outputs": [
    {
     "name": "stdout",
     "output_type": "stream",
     "text": [
      "NO\n"
     ]
    }
   ],
   "source": [
    "print('YES') if type(number)=='int' else print(\"NO\")"
   ]
  },
  {
   "cell_type": "markdown",
   "metadata": {},
   "source": [
    "81. Check if the password has 11 characters. If so, print 'Password correct', otherwise 'Password too short'"
   ]
  },
  {
   "cell_type": "code",
   "execution_count": 21,
   "metadata": {},
   "outputs": [],
   "source": [
    "password = \"cskdnjcasa#\""
   ]
  },
  {
   "cell_type": "code",
   "execution_count": 22,
   "metadata": {},
   "outputs": [
    {
     "name": "stdout",
     "output_type": "stream",
     "text": [
      "Password correct\n"
     ]
    }
   ],
   "source": [
    "print('Password correct') if len(password)==11 else print('Password too short')"
   ]
  },
  {
   "cell_type": "markdown",
   "metadata": {},
   "source": [
    "82. Check if the password has at least 11 characters and contains the special character '!'.\n",
    "If so, print 'Password correct', otherwise 'Password incorrect'."
   ]
  },
  {
   "cell_type": "code",
   "execution_count": 23,
   "metadata": {},
   "outputs": [],
   "source": [
    "password = 'cskdnjcasa#!'"
   ]
  },
  {
   "cell_type": "code",
   "execution_count": 24,
   "metadata": {},
   "outputs": [
    {
     "name": "stdout",
     "output_type": "stream",
     "text": [
      "Password correct\n"
     ]
    }
   ],
   "source": [
    "print('Password correct') if (len(password)>=11 and \"!\" in password) else print('Password too short')"
   ]
  },
  {
   "cell_type": "markdown",
   "metadata": {},
   "source": [
    "83. Check if the following project id:\n",
    "\n",
    "project_id = '02135'\n",
    "\n",
    "is in the project_ids list. If not, add this project_id to the list and print this list to the console."
   ]
  },
  {
   "cell_type": "code",
   "execution_count": 26,
   "metadata": {},
   "outputs": [],
   "source": [
    "project_ids = ['02134', '24253']\n",
    "project_id = '02135'"
   ]
  },
  {
   "cell_type": "code",
   "execution_count": 31,
   "metadata": {},
   "outputs": [
    {
     "name": "stdout",
     "output_type": "stream",
     "text": [
      "['02134', '24253', '02135']\n"
     ]
    }
   ],
   "source": [
    "if project_id not in project_ids:\n",
    "    project_ids.append(project_id) \n",
    "\n",
    "print(project_ids)                                                                           "
   ]
  },
  {
   "cell_type": "markdown",
   "metadata": {},
   "source": [
    "84. Using the conditional statement, check if the project status with id = '02' is set to 'new'. If so, change its status to 'open' and print the dictionary to the console."
   ]
  },
  {
   "cell_type": "code",
   "execution_count": 32,
   "metadata": {},
   "outputs": [],
   "source": [
    "project_ids = {\n",
    "    '01': 'open', \n",
    "    '02': 'new',\n",
    "    '03': 'in progress',\n",
    "    '04': 'completed'\n",
    "}"
   ]
  },
  {
   "cell_type": "code",
   "execution_count": 34,
   "metadata": {},
   "outputs": [
    {
     "name": "stdout",
     "output_type": "stream",
     "text": [
      "{'01': 'open', '02': 'open', '03': 'in progress', '04': 'completed'}\n"
     ]
    }
   ],
   "source": [
    "if project_ids['02']=='new':\n",
    "    project_ids['02']='open'\n",
    "print(project_ids)"
   ]
  },
  {
   "cell_type": "markdown",
   "metadata": {},
   "source": [
    "85. Write a program that checks if the given item is in the list. If so, remove this item from the list and print this list to the console."
   ]
  },
  {
   "cell_type": "code",
   "execution_count": 35,
   "metadata": {},
   "outputs": [],
   "source": [
    "item = '001'\n",
    "items = ['001', '000', '003', '005', '006']"
   ]
  },
  {
   "cell_type": "code",
   "execution_count": 36,
   "metadata": {},
   "outputs": [
    {
     "name": "stdout",
     "output_type": "stream",
     "text": [
      "['000', '003', '005', '006']\n"
     ]
    }
   ],
   "source": [
    "if item in items:\n",
    "    items.remove(item)\n",
    "print(items)"
   ]
  },
  {
   "cell_type": "markdown",
   "metadata": {},
   "source": [
    "86. Write a program that finds all two-digit numbers divisible by 11 (use a for loop). Print the result to the console as comma-separated values as shown below.\n",
    "11,22,33,44,55,66,77,88,99"
   ]
  },
  {
   "cell_type": "code",
   "execution_count": 37,
   "metadata": {},
   "outputs": [
    {
     "data": {
      "text/plain": [
       "[11, 22, 33, 44, 55, 66, 77, 88, 99]"
      ]
     },
     "execution_count": 37,
     "metadata": {},
     "output_type": "execute_result"
    }
   ],
   "source": [
    "[num for num in range(10,100) if num%11==0 ]"
   ]
  },
  {
   "cell_type": "markdown",
   "metadata": {},
   "source": [
    "87. Write a program that finds all two-digit numbers divisible by 11 and indivisible by 3 (use a for loop). Print the result to the console as comma-separated values as shown below.\n"
   ]
  },
  {
   "cell_type": "code",
   "execution_count": 41,
   "metadata": {},
   "outputs": [],
   "source": [
    "result=[num for num in range(10,100) if num%11==0 and num%3!=0]\n"
   ]
  },
  {
   "cell_type": "markdown",
   "metadata": {},
   "source": [
    "88. Write a program that removes odd numbers and returns the remaining ones. Print the result to the console."
   ]
  },
  {
   "cell_type": "code",
   "execution_count": 42,
   "metadata": {},
   "outputs": [],
   "source": [
    "items = [1, 3, 4, 5, 6, 9, 10, 17, 23, 24]"
   ]
  },
  {
   "cell_type": "code",
   "execution_count": 43,
   "metadata": {},
   "outputs": [
    {
     "name": "stdout",
     "output_type": "stream",
     "text": [
      "[4, 6, 10, 24]\n"
     ]
    }
   ],
   "source": [
    "items = [item for item in items if item%2==0]\n",
    "print(items)"
   ]
  },
  {
   "cell_type": "markdown",
   "metadata": {},
   "source": [
    "89. Write a program that removes duplicates from the list (the order must be kept) and print the list to the console.\n"
   ]
  },
  {
   "cell_type": "code",
   "execution_count": 48,
   "metadata": {},
   "outputs": [],
   "source": [
    "items = [1, 5, 3, 2, 2, 4, 2, 4]"
   ]
  },
  {
   "cell_type": "code",
   "execution_count": 49,
   "metadata": {},
   "outputs": [
    {
     "name": "stdout",
     "output_type": "stream",
     "text": [
      "[1, 5, 3, 2, 4]\n"
     ]
    }
   ],
   "source": [
    "index = 0\n",
    "seen={}\n",
    "\n",
    "while index<len(items):\n",
    "    currentItem=items[index]\n",
    "    \n",
    "    if currentItem not in seen:\n",
    "        seen[currentItem]=True\n",
    "        index+=1\n",
    "    else:\n",
    "        del items[index]\n",
    "print(items)"
   ]
  },
  {
   "cell_type": "markdown",
   "metadata": {},
   "source": [
    "90. Write a program which extracts exactly the first four words as a list. Standardize each word, i.e. replace uppercase letters with lowercase. Present the result in a list and print to the console as shown below.\n",
    "['python', 'is', 'a', 'very']"
   ]
  },
  {
   "cell_type": "code",
   "execution_count": 58,
   "metadata": {},
   "outputs": [],
   "source": [
    "text = 'Python is a very popular programming language'"
   ]
  },
  {
   "cell_type": "code",
   "execution_count": 61,
   "metadata": {},
   "outputs": [
    {
     "name": "stdout",
     "output_type": "stream",
     "text": [
      "['python', 'is', 'a', 'very']\n"
     ]
    }
   ],
   "source": [
    "words = text.split(' ')\n",
    "words=[word.lower() for word in words]\n",
    "print(words[:4])"
   ]
  },
  {
   "cell_type": "markdown",
   "metadata": {},
   "source": [
    "91. Write a program that returns a list of values above the given threshold = 0.5 from the following list:\n"
   ]
  },
  {
   "cell_type": "code",
   "execution_count": 62,
   "metadata": {},
   "outputs": [],
   "source": [
    "probabilities = [0.21, 0.91, 0.34, 0.55, 0.76, 0.02]"
   ]
  },
  {
   "cell_type": "code",
   "execution_count": 65,
   "metadata": {},
   "outputs": [
    {
     "data": {
      "text/plain": [
       "[0.91, 0.55, 0.76]"
      ]
     },
     "execution_count": 65,
     "metadata": {},
     "output_type": "execute_result"
    }
   ],
   "source": [
    "[prob for prob in probabilities if prob>0.5]"
   ]
  },
  {
   "cell_type": "markdown",
   "metadata": {},
   "source": [
    "92. Consider the problem of binary classification in machine learning. The machine learning model returns the probability of belonging to the class. If it's less than 0.5, the sample is assigned to class 0, otherwise to class 1.\n",
    "\n",
    "A list of probabilities from the machine learning model is given below. Write a program that assigns class 0 for values less than 0.5 and 1 for values greater than or equal to 0.5. Print the result to the console as shown below."
   ]
  },
  {
   "cell_type": "code",
   "execution_count": 67,
   "metadata": {},
   "outputs": [
    {
     "name": "stdout",
     "output_type": "stream",
     "text": [
      "[0, 1, 0, 1, 1, 0]\n"
     ]
    }
   ],
   "source": [
    "probabilities=[0 if prob<0.5 else 1 for prob in probabilities ]\n",
    "print(probabilities)"
   ]
  },
  {
   "cell_type": "markdown",
   "metadata": {},
   "source": [
    "93. Write a program that creates a histogram as a dictionary of the following values:"
   ]
  },
  {
   "cell_type": "code",
   "execution_count": 68,
   "metadata": {},
   "outputs": [],
   "source": [
    "items = ['x', 'y', 'z', 'y', 'x', 'y', 'y', 'z', 'x']"
   ]
  },
  {
   "cell_type": "code",
   "execution_count": 69,
   "metadata": {},
   "outputs": [
    {
     "name": "stdout",
     "output_type": "stream",
     "text": [
      "{'x': 3, 'y': 4, 'z': 2}\n"
     ]
    }
   ],
   "source": [
    "itemsDict={}\n",
    "for item in items:\n",
    "    if item in itemsDict:\n",
    "        itemsDict[item]+=1\n",
    "    else:\n",
    "        itemsDict[item]=1\n",
    "print(itemsDict)"
   ]
  },
  {
   "cell_type": "markdown",
   "metadata": {},
   "source": [
    "94. Create a list of words from the given text. Then standardize this text (change uppercase letters to lowercase, remove punctuation marks). Extract words longer than six characters and print the result to the console.\n"
   ]
  },
  {
   "cell_type": "code",
   "execution_count": 84,
   "metadata": {},
   "outputs": [],
   "source": [
    "text = \"\"\"Python is powerful... and fast plays well with others runs everywhere is friendly & easy to learn is Open These are some of the reasons people who use Python would rather not use anything else\"\"\""
   ]
  },
  {
   "cell_type": "code",
   "execution_count": 85,
   "metadata": {},
   "outputs": [
    {
     "name": "stdout",
     "output_type": "stream",
     "text": [
      "['powerful', 'everywhere', 'friendly', 'reasons', 'anything']\n"
     ]
    }
   ],
   "source": [
    "words = text.split()\n",
    "punctuation_chars = set(\".,!?;:\\\"'()[]{}-\")\n",
    "lowercase_words = []\n",
    "\n",
    "for word in words:\n",
    "    standardized_word = ''.join(char for char in word if char not in punctuation_chars).lower()\n",
    "    lowercase_words.append(standardized_word)\n",
    "\n",
    "longer_than_six = [word for word in lowercase_words if len(word) > 6]\n",
    "\n",
    "print(longer_than_six)"
   ]
  },
  {
   "cell_type": "markdown",
   "metadata": {},
   "source": [
    "95. Iterate through the indexes list and print to the console only those indexes containing 'DOW' or 'S&P'."
   ]
  },
  {
   "cell_type": "code",
   "execution_count": 87,
   "metadata": {},
   "outputs": [],
   "source": [
    "indexes = [\n",
    "    \"BOVESPA\",\n",
    "    \"DOW JONES COMP\",\n",
    "    \"DOW JONES INDU\",\n",
    "    \"DOW JONES TRANS\",\n",
    "    \"DOW JONES UTIL\",\n",
    "    \"IPC\",\n",
    "    \"IPSA\",\n",
    "    \"MERVAL\",\n",
    "    \"NASDAQ COMP\",\n",
    "    \"NASDAQ100\",\n",
    "    \"S&P500\",\n",
    "    \"S&P/TSX COMP\",\n",
    "]"
   ]
  },
  {
   "cell_type": "code",
   "execution_count": 88,
   "metadata": {},
   "outputs": [
    {
     "data": {
      "text/plain": [
       "['DOW JONES COMP',\n",
       " 'DOW JONES INDU',\n",
       " 'DOW JONES TRANS',\n",
       " 'DOW JONES UTIL',\n",
       " 'S&P500',\n",
       " 'S&P/TSX COMP']"
      ]
     },
     "execution_count": 88,
     "metadata": {},
     "output_type": "execute_result"
    }
   ],
   "source": [
    "[index for index in indexes if 'DOW' in index or 'S&P' in index]"
   ]
  },
  {
   "cell_type": "markdown",
   "metadata": {},
   "source": [
    "96. Iterate through this dictionary and print the tickers of those companies where closing price is greater than 100.00 PLN."
   ]
  },
  {
   "cell_type": "code",
   "execution_count": 89,
   "metadata": {},
   "outputs": [],
   "source": [
    "gaming = {\n",
    "    '11B': 362.5,\n",
    "    'CDR': 297.0,\n",
    "    'CIG': 0.85,\n",
    "    'PLW': 318.0,\n",
    "    'TEN': 300.0\n",
    "}"
   ]
  },
  {
   "cell_type": "code",
   "execution_count": 93,
   "metadata": {},
   "outputs": [
    {
     "name": "stdout",
     "output_type": "stream",
     "text": [
      "11B\n",
      "CDR\n",
      "PLW\n",
      "TEN\n"
     ]
    }
   ],
   "source": [
    "for key, value in gaming.items():\n",
    "    if value >100.0:\n",
    "        print(key)"
   ]
  },
  {
   "cell_type": "markdown",
   "metadata": {},
   "source": [
    "97. Iterate through the names list and check if each name is correct (contains only letters). If so, print to the console following message: f'Hello {name}!' otherwise do nothing.\n"
   ]
  },
  {
   "cell_type": "code",
   "execution_count": 94,
   "metadata": {},
   "outputs": [],
   "source": [
    "names = ['Jack', 'Leon', 'Alice', '32-3c', 'Bob']"
   ]
  },
  {
   "cell_type": "code",
   "execution_count": 96,
   "metadata": {},
   "outputs": [
    {
     "data": {
      "text/plain": [
       "['HelloJack', 'HelloLeon', 'HelloAlice', 'HelloBob']"
      ]
     },
     "execution_count": 96,
     "metadata": {},
     "output_type": "execute_result"
    }
   ],
   "source": [
    "[f'Hello{word}' for word in names if word.isalpha()]"
   ]
  },
  {
   "cell_type": "markdown",
   "metadata": {},
   "source": [
    "98. Write a program that compares two lists and returns True if the lists contain at least one of the same element. Otherwise, it will return False.\n",
    "Use break statement in the solution and print result to the console."
   ]
  },
  {
   "cell_type": "code",
   "execution_count": 97,
   "metadata": {},
   "outputs": [],
   "source": [
    "list1 = [1, 2, 0]\n",
    "list2 = [4, 5, 6, 1]"
   ]
  },
  {
   "cell_type": "code",
   "execution_count": 100,
   "metadata": {},
   "outputs": [
    {
     "name": "stdout",
     "output_type": "stream",
     "text": [
      "True\n"
     ]
    }
   ],
   "source": [
    "for item1 in list1:\n",
    "    if item1 in list2:\n",
    "        result = True\n",
    "        break\n",
    " \n",
    "print(result)"
   ]
  },
  {
   "cell_type": "markdown",
   "metadata": {},
   "source": [
    "99. Check if all objects in the list are of str type. If so, print True, otherwise print False. Use the break statement in your solution.\n"
   ]
  },
  {
   "cell_type": "code",
   "execution_count": 101,
   "metadata": {},
   "outputs": [],
   "source": [
    "hashtags = ['holiday', 'sport', 'fit', None, 'fashion']"
   ]
  },
  {
   "cell_type": "code",
   "execution_count": 102,
   "metadata": {},
   "outputs": [
    {
     "name": "stdout",
     "output_type": "stream",
     "text": [
      "False\n"
     ]
    }
   ],
   "source": [
    "for i in hashtags:\n",
    "    if type(i)!='str':\n",
    "        print(False)\n",
    "        break\n",
    "    else:\n",
    "        print(True)\n",
    "    "
   ]
  },
  {
   "cell_type": "markdown",
   "metadata": {},
   "source": [
    "100. Write a program that checks if the given number is a prime number (use the break statement):\n",
    "Print one of the following to the console depends on the result:\n",
    "\n",
    "13 - prime number\n",
    "13 - not a prime number"
   ]
  },
  {
   "cell_type": "code",
   "execution_count": 107,
   "metadata": {},
   "outputs": [],
   "source": [
    "number = 13"
   ]
  },
  {
   "cell_type": "code",
   "execution_count": 109,
   "metadata": {},
   "outputs": [
    {
     "name": "stdout",
     "output_type": "stream",
     "text": [
      "13 - not a prime number\n"
     ]
    }
   ],
   "source": [
    "if number==1:\n",
    "    print(f'{number} - not a prime number')\n",
    "else:\n",
    "    for i in range(2,number+1):\n",
    "        if number%i==0:\n",
    "            print(f'{number} - not a prime number')\n",
    "            break \n",
    "    else:\n",
    "        print(f'{number} - prime nubmer')"
   ]
  },
  {
   "cell_type": "markdown",
   "metadata": {},
   "source": [
    "101. The list of companies from the WIG.GAMES index is given with the closing price and currency:Using the continue statement, create a for loop that will change the closing price from USD to PLN in this dictionary. Take USDPLN = 4.0. In response, print the gaming dictionary to the console."
   ]
  },
  {
   "cell_type": "code",
   "execution_count": 3,
   "metadata": {},
   "outputs": [],
   "source": [
    "gaming = {\n",
    "    '11B': [362.5, 'PLN'],\n",
    "    'CDR': [74.25, 'USD'],\n",
    "    'CIG': [0.85, 'PLN'],\n",
    "    'PLW': [79.5, 'USD'],\n",
    "    'TEN': [300.0, 'PLN']\n",
    "}"
   ]
  },
  {
   "cell_type": "code",
   "execution_count": 4,
   "metadata": {},
   "outputs": [
    {
     "name": "stdout",
     "output_type": "stream",
     "text": [
      "{'11B': [362.5, 'PLN'], 'CDR': [297.0, 'PLN'], 'CIG': [0.85, 'PLN'], 'PLW': [318.0, 'PLN'], 'TEN': [300.0, 'PLN']}\n"
     ]
    }
   ],
   "source": [
    "for key, value in gaming.items():\n",
    "    if value[-1]==\"USD\":\n",
    "        value[0] = value[0]*4\n",
    "        value[-1]=\"PLN\"\n",
    "print(gaming) "
   ]
  },
  {
   "cell_type": "markdown",
   "metadata": {},
   "source": [
    "102. The list of names is given (one is missing): Using the continue statement, print only the correct names to the console as shown below."
   ]
  },
  {
   "cell_type": "code",
   "execution_count": 5,
   "metadata": {},
   "outputs": [],
   "source": [
    "names = ['Jack', 'Leon', 'Alice', None, 'Bob']"
   ]
  },
  {
   "cell_type": "code",
   "execution_count": 7,
   "metadata": {},
   "outputs": [
    {
     "data": {
      "text/plain": [
       "['Jack', 'Leon', 'Alice', 'Bob']"
      ]
     },
     "execution_count": 7,
     "metadata": {},
     "output_type": "execute_result"
    }
   ],
   "source": [
    "[name for name in names if name is not None]"
   ]
  },
  {
   "cell_type": "markdown",
   "metadata": {},
   "source": [
    "103. Write a program that prints to the console the first ten prime numbers separated by a comma."
   ]
  },
  {
   "cell_type": "markdown",
   "metadata": {},
   "source": [
    "This checks if n n is divisible by 2 or 3. If it is divisible by either of these, then n n cannot be prime (unless n n itself is 2 or 3). This is a quick filter to rule out many non-prime numbers right at the beginning. \n",
    "\n",
    "The Optimization Logic: Every prime number can be represented in the form 6 k ± 1 6k±1 for some integer k k except for 2 and 3. \n",
    "\n",
    "Think about it: 6 k 6k: is divisible by 6. 6 k + 2 6k+2: is even and greater than 2, so it's divisible by 2. 6 k + 3 6k+3: is divisible by 3. 6 k + 4 6k+4: is even and greater than 2, so it's divisible by 2. \n",
    "\n",
    "That leaves us with 6 k + 1 6k+1 and 6 k + 5 6k+5 (which is the same as 6 k − 1 6k−1 for the next integer value of k k). This insight can help reduce the number of checks required to determine if n n is prime.\n",
    "\n",
    "Here, i i starts at 5 (since numbers less than 5 have already been handled). The condition n % i = = 0 n%i==0 checks if n n is divisible by i i (i.e., 6 k + 1 6k+1). The condition n % ( i + 2 ) = = 0 n%(i+2)==0 checks if n n is divisible by i + 2 i+2 (i.e., 6 k − 1 6k−1 for the next k k). If n n is divisible by either i i or i + 2 i+2, then n n is not prime. \n",
    "\n",
    "The loop continues as long as i × i ≤ n i×i≤n. This is because if n n is divisible by any number greater than its square root, then it must also be divisible by a number smaller than its square root. For instance, if n n is divisible by a a where a a is greater than the square root of n n, then n / a n/a will be a number less than the square root of n n, and thus n n would be divisible by this smaller number as well. Finally, the i + = 6 i+=6 statement jumps to the next potential prime divisor."
   ]
  },
  {
   "cell_type": "code",
   "execution_count": 13,
   "metadata": {},
   "outputs": [
    {
     "name": "stdout",
     "output_type": "stream",
     "text": [
      "2,3,5,7,11,13,17,19,23,29\n"
     ]
    }
   ],
   "source": [
    "def is_prime(n):\n",
    "    if n<=1:\n",
    "        return False\n",
    "    if n<=3:\n",
    "        return True\n",
    "    if n%2==0 or n%3==0:\n",
    "        return False \n",
    "    i=5\n",
    "    while i*i<=n:\n",
    "        if n%i==0 or n%(i+2)==0:\n",
    "            return False\n",
    "        i+=6\n",
    "    return True\n",
    "\n",
    "def first_ten_primes():\n",
    "    primes=[]\n",
    "    num=2\n",
    "    while True:\n",
    "        if is_prime(num):\n",
    "            primes.append(num)\n",
    "            if len(primes)==10:\n",
    "                break\n",
    "        num+=1\n",
    "    print(\",\".join(map(str,primes)))\n",
    "        \n",
    "first_ten_primes()"
   ]
  },
  {
   "cell_type": "markdown",
   "metadata": {},
   "source": [
    "104. Using the while loop, calculate how many years you have to wait for the return on the investment described below to at least double your money (we only take into account full periods).\n",
    "\n",
    "Description:\n",
    "\n",
    "n - number of periods (in years)\n",
    "\n",
    "pv - present value\n",
    "\n",
    "r - interest rate (annual)\n",
    "\n",
    "fv - future value"
   ]
  },
  {
   "cell_type": "code",
   "execution_count": 14,
   "metadata": {},
   "outputs": [],
   "source": [
    "pv = 1000\n",
    "r = 0.04"
   ]
  },
  {
   "cell_type": "code",
   "execution_count": 19,
   "metadata": {},
   "outputs": [
    {
     "name": "stdout",
     "output_type": "stream",
     "text": [
      "Future value: 2025.82 USD. Number of periods: 18 years\n"
     ]
    }
   ],
   "source": [
    "n=1\n",
    "fv=0\n",
    "while fv<2000:\n",
    "    fv = round(pv * (1+r)**n,2)\n",
    "    n+=1\n",
    "     \n",
    "print(f'Future value: {fv} USD. Number of periods: {n-1} years')"
   ]
  },
  {
   "cell_type": "markdown",
   "metadata": {},
   "source": [
    "105. Use the stochastic gradient descent algorithm to find the minimum of the loss function given by the formula: L(w) = w^^2 - 4w\n",
    "\n",
    "The derivative of function L:  dL/dW = 2w-4"
   ]
  },
  {
   "cell_type": "code",
   "execution_count": 27,
   "metadata": {},
   "outputs": [
    {
     "name": "stdout",
     "output_type": "stream",
     "text": [
      "A local minimum uin point: 2.00\n"
     ]
    }
   ],
   "source": [
    "max_iters = 10000 \n",
    "iters = 0\n",
    "w_0 = -1\n",
    "previous_step_size = 1\n",
    "learning_rate = 0.01\n",
    "precision = 0.000001\n",
    "derivative = lambda w: 2 * w - 4\n",
    "\n",
    "while iters<max_iters and previous_step_size>precision:\n",
    "    w_prev = w_0\n",
    "    w_0 = w_prev - learning_rate * derivative(w_prev)\n",
    "    previous_step_size = abs(w_0 - w_prev)\n",
    "    iters += 1\n",
    "\n",
    "print(f'A local minimum uin point: {w_0:.2f}')\n"
   ]
  },
  {
   "cell_type": "markdown",
   "metadata": {},
   "source": [
    "106. Write a program that checks if the given element (target) is in the sorted list (numbers). We have given:"
   ]
  },
  {
   "cell_type": "code",
   "execution_count": 30,
   "metadata": {},
   "outputs": [
    {
     "name": "stdout",
     "output_type": "stream",
     "text": [
      "Not found\n"
     ]
    }
   ],
   "source": [
    "numbers = [1, 2, 3, 4, 5, 6, 7, 8, 9]\n",
    "target = 7\n",
    "start = 0\n",
    "end = len(numbers) - 1\n",
    "flag = None\n",
    "\n",
    "while start <= end:\n",
    "    mid = int((start+end)/2)\n",
    "    if numbers[mid]==target:\n",
    "        flag=True\n",
    "        break\n",
    "    else:\n",
    "        if numbers[mid]<target:\n",
    "            start=mid+1\n",
    "        else:\n",
    "            end=mid-1\n",
    "            \n",
    "    if flag:\n",
    "        print('Found')\n",
    "    else:\n",
    "        print(\"Not found\")"
   ]
  },
  {
   "cell_type": "markdown",
   "metadata": {},
   "source": [
    "107. We want to divide the variable sum by the counter variable. Using the try... except... clause handle the ZeroDivisionError. If the division is done correctly, print the result to the console, otherwise print to the console the following message:"
   ]
  },
  {
   "cell_type": "code",
   "execution_count": 31,
   "metadata": {},
   "outputs": [],
   "source": [
    "sum = 3000\n",
    "counter = 0"
   ]
  },
  {
   "cell_type": "code",
   "execution_count": 32,
   "metadata": {},
   "outputs": [
    {
     "name": "stdout",
     "output_type": "stream",
     "text": [
      "Division by zero.\n"
     ]
    }
   ],
   "source": [
    "try:\n",
    "    result=sum/counter\n",
    "    print(result)\n",
    "except ZeroDivisionError:\n",
    "    print('Division by zero.')"
   ]
  },
  {
   "cell_type": "markdown",
   "metadata": {},
   "source": [
    "108. Sometimes we need to open a file without knowing if such a file exists. When file doesn't exist the FileNotFoundError is raised.\n",
    "Using the try... except... clause, handle with this problem."
   ]
  },
  {
   "cell_type": "code",
   "execution_count": 35,
   "metadata": {},
   "outputs": [
    {
     "name": "stdout",
     "output_type": "stream",
     "text": [
      "File not found.\n"
     ]
    }
   ],
   "source": [
    "try:\n",
    "    with open('file.txt', 'r') as file:\n",
    "        content = file.read()\n",
    "except FileNotFoundError:\n",
    "    print('File not found.')\n"
   ]
  },
  {
   "cell_type": "markdown",
   "metadata": {},
   "source": [
    "109. The following dictionary is given:\n",
    "\n",
    "users = {'001': 'Mark', '002': 'Monica', '003': 'Jacob'}\n",
    "\n",
    "Try printing the value for the key:\n",
    "\n",
    "user_id = '004'\n",
    "\n",
    "In case of a KeyError, print to the console the following message:\n",
    "\n",
    "'The 004 key is not in the dictionary. Adding key ...'\n",
    "\n",
    "Then add this key to the dictionary with the value None and print the users dictionary to the console.\n"
   ]
  },
  {
   "cell_type": "code",
   "execution_count": null,
   "metadata": {},
   "outputs": [],
   "source": []
  }
 ],
 "metadata": {
  "kernelspec": {
   "display_name": "zet_default_env",
   "language": "python",
   "name": "python3"
  },
  "language_info": {
   "codemirror_mode": {
    "name": "ipython",
    "version": 3
   },
   "file_extension": ".py",
   "mimetype": "text/x-python",
   "name": "python",
   "nbconvert_exporter": "python",
   "pygments_lexer": "ipython3",
   "version": "3.11.3"
  },
  "orig_nbformat": 4
 },
 "nbformat": 4,
 "nbformat_minor": 2
}
