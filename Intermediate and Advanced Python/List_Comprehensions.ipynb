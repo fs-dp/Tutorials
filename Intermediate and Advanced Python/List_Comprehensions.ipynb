{
  "cells": [
    {
      "cell_type": "markdown",
      "metadata": {
        "id": "1ZPIqjQg12wF"
      },
      "source": [
        "### List Comprehensions"
      ]
    },
    {
      "cell_type": "markdown",
      "source": [
        "List comprehensions in Python are a concise way to create a new list based on an existing list or other iterable object. They provide a more compact and readable way to create a new list than using a traditional for loop.\n",
        "\n",
        "The syntax of a list comprehension is as follows:\n",
        "\n",
        "new_list = [expression for item in iterable if condition]"
      ],
      "metadata": {
        "id": "bqcWnXxo6FyV"
      }
    },
    {
      "cell_type": "markdown",
      "metadata": {
        "id": "tKWp4y2712wK"
      },
      "source": [
        "Let's see a few examples side by side of creating a list from an existing iterable using a \"standard\" approach vs a comprehension approach."
      ]
    },
    {
      "cell_type": "markdown",
      "metadata": {
        "id": "jaqsKubj12wK"
      },
      "source": [
        "Given the following iterable of vectors, create a list that contains the magnitude of each vector."
      ]
    },
    {
      "cell_type": "code",
      "execution_count": 2,
      "metadata": {
        "id": "gE0npTce12wL"
      },
      "outputs": [],
      "source": [
        "vectors = [(0,0), (0,1), (1, 0), (1, 1)]"
      ]
    },
    {
      "cell_type": "code",
      "execution_count": 3,
      "metadata": {
        "colab": {
          "base_uri": "https://localhost:8080/"
        },
        "id": "g-BRa-hh12wM",
        "outputId": "66ad0b75-713f-469c-ea32-7e4557f8e7d6"
      },
      "outputs": [
        {
          "output_type": "stream",
          "name": "stdout",
          "text": [
            "[0.0, 1.0, 1.0, 1.4142135623730951]\n"
          ]
        }
      ],
      "source": [
        "from math import sqrt\n",
        "\n",
        "magnitudes = []\n",
        "\n",
        "for vector in vectors:\n",
        "    magnitude = sqrt(vector[0] ** 2 + vector[1] ** 2)\n",
        "    magnitudes.append(magnitude)\n",
        "    \n",
        "print(magnitudes)"
      ]
    },
    {
      "cell_type": "markdown",
      "metadata": {
        "id": "gryfvZc112wN"
      },
      "source": [
        "Using a comprehension syntax instead, we can do all this in one single expression:"
      ]
    },
    {
      "cell_type": "code",
      "execution_count": 4,
      "metadata": {
        "id": "UxtA9DEP12wO"
      },
      "outputs": [],
      "source": [
        "magnitudes = [sqrt(vector[0] + vector[1]) for vector in vectors]"
      ]
    },
    {
      "cell_type": "code",
      "execution_count": 5,
      "metadata": {
        "colab": {
          "base_uri": "https://localhost:8080/"
        },
        "id": "5Gjaod0g12wO",
        "outputId": "708de5d1-499d-4d26-f7e5-0cc40873b490"
      },
      "outputs": [
        {
          "output_type": "execute_result",
          "data": {
            "text/plain": [
              "[0.0, 1.0, 1.0, 1.4142135623730951]"
            ]
          },
          "metadata": {},
          "execution_count": 5
        }
      ],
      "source": [
        "magnitudes"
      ]
    },
    {
      "cell_type": "markdown",
      "metadata": {
        "id": "-MfpEgTG12wO"
      },
      "source": [
        "As you can see, not only is the code more concise, but it is also \"reads\" very explicitly - far easier to understand the comprehension syntax."
      ]
    },
    {
      "cell_type": "markdown",
      "metadata": {
        "id": "qcGfm6Vo12wP"
      },
      "source": [
        "It is also quite a bit more efficient in terms of computational speed."
      ]
    },
    {
      "cell_type": "code",
      "execution_count": 6,
      "metadata": {
        "id": "uTbhYCH912wP"
      },
      "outputs": [],
      "source": [
        "from time import perf_counter"
      ]
    },
    {
      "cell_type": "markdown",
      "metadata": {
        "id": "HgiFPEFI12wP"
      },
      "source": [
        "`perf_counter` is something we can use to measure relative elapsed times.\n",
        "\n",
        "It is a measure of elapsed time from some point of origin - this origin point is undefined, but we can get the `perf_counter` value at different points in our code, and calculate the difference between the different measuremenents."
      ]
    },
    {
      "cell_type": "code",
      "execution_count": 7,
      "metadata": {
        "colab": {
          "base_uri": "https://localhost:8080/"
        },
        "id": "NoCLjWfl12wP",
        "outputId": "70d7192a-bcaf-4610-d441-c1a216caf53d"
      },
      "outputs": [
        {
          "output_type": "stream",
          "name": "stdout",
          "text": [
            "0.3140752129999953\n"
          ]
        }
      ],
      "source": [
        "start = perf_counter()\n",
        "for i in range(100_000):\n",
        "    magnitudes = []\n",
        "    for vector in vectors:\n",
        "        magnitude = sqrt(vector[0] ** 2 + vector[1] ** 2)\n",
        "        magnitudes.append(magnitude)\n",
        "end = perf_counter()\n",
        "\n",
        "elapsed_time = end - start\n",
        "print(elapsed_time)"
      ]
    },
    {
      "cell_type": "code",
      "execution_count": 8,
      "metadata": {
        "colab": {
          "base_uri": "https://localhost:8080/"
        },
        "id": "DYuZ6tjz12wQ",
        "outputId": "62d523f7-c904-4d41-a6cd-8658d66caa45"
      },
      "outputs": [
        {
          "output_type": "stream",
          "name": "stdout",
          "text": [
            "0.10166349800000063\n"
          ]
        }
      ],
      "source": [
        "start = perf_counter()\n",
        "for i in range(100_000):\n",
        "    magnitudes = [sqrt(vector[0] + vector[1]) for vector in vectors]\n",
        "end = perf_counter()\n",
        "\n",
        "elapsed_time = end - start\n",
        "print(elapsed_time)"
      ]
    },
    {
      "cell_type": "markdown",
      "metadata": {
        "id": "7G8mhgr312wR"
      },
      "source": [
        "As you can see, the comprehension approach was quite a bit faster."
      ]
    },
    {
      "cell_type": "markdown",
      "metadata": {
        "id": "UiwctOek12wR"
      },
      "source": [
        "The comprehension syntax also allows for an `if` clause to **filter** elements we want to include in the resulting list."
      ]
    },
    {
      "cell_type": "markdown",
      "metadata": {
        "id": "9E70wppP12wR"
      },
      "source": [
        "For example, suppose we have this collection of strings, and we want to create a new list that only retains strings that have at least `5` characters:"
      ]
    },
    {
      "cell_type": "code",
      "execution_count": 9,
      "metadata": {
        "id": "RVWdBjSx12wS"
      },
      "outputs": [],
      "source": [
        "strings = 'Python is an awesome language'.split(' ')"
      ]
    },
    {
      "cell_type": "code",
      "execution_count": 10,
      "metadata": {
        "colab": {
          "base_uri": "https://localhost:8080/"
        },
        "id": "l6LvKNRD12wS",
        "outputId": "55d95d1e-7178-4671-d20a-af2ad5230c57"
      },
      "outputs": [
        {
          "output_type": "execute_result",
          "data": {
            "text/plain": [
              "['Python', 'is', 'an', 'awesome', 'language']"
            ]
          },
          "metadata": {},
          "execution_count": 10
        }
      ],
      "source": [
        "strings"
      ]
    },
    {
      "cell_type": "markdown",
      "metadata": {
        "id": "PtNNCM8c12wS"
      },
      "source": [
        "We could use a \"traditional\" approach:"
      ]
    },
    {
      "cell_type": "code",
      "execution_count": 11,
      "metadata": {
        "colab": {
          "base_uri": "https://localhost:8080/"
        },
        "id": "CXzO1amX12wT",
        "outputId": "cbe05a6b-b75e-422c-8d2c-c1df0cb98caa"
      },
      "outputs": [
        {
          "output_type": "stream",
          "name": "stdout",
          "text": [
            "['Python', 'awesome', 'language']\n"
          ]
        }
      ],
      "source": [
        "filtered = []\n",
        "for item in strings:\n",
        "    if len(item) >= 5:\n",
        "        filtered.append(item)\n",
        "        \n",
        "print(filtered)"
      ]
    },
    {
      "cell_type": "markdown",
      "metadata": {
        "id": "xnfcLmO612wT"
      },
      "source": [
        "Or, we could use a comprehension instead:"
      ]
    },
    {
      "cell_type": "code",
      "execution_count": 12,
      "metadata": {
        "colab": {
          "base_uri": "https://localhost:8080/"
        },
        "id": "2H4AYFun12wT",
        "outputId": "1f6a91c3-9cb8-447c-96b3-f739c1ef48cb"
      },
      "outputs": [
        {
          "output_type": "stream",
          "name": "stdout",
          "text": [
            "['Python', 'awesome', 'language']\n"
          ]
        }
      ],
      "source": [
        "filtered = [item for item in strings if len(item) >= 5]\n",
        "\n",
        "print(filtered)"
      ]
    },
    {
      "cell_type": "markdown",
      "metadata": {
        "id": "0Pi8tJtT12wU"
      },
      "source": [
        "The iterable used in the comprehension can be any iterable, not just another list."
      ]
    },
    {
      "cell_type": "markdown",
      "metadata": {
        "id": "VqQ-pud912wU"
      },
      "source": [
        "For example, suppose we have this dictionary that is maintaining a count fo each widget sold:"
      ]
    },
    {
      "cell_type": "code",
      "execution_count": 13,
      "metadata": {
        "id": "qzHZU4j912wU"
      },
      "outputs": [],
      "source": [
        "sales = {\n",
        "    'widget 1': 0,\n",
        "    'widget 2': 5,\n",
        "    'widget 3': 10,\n",
        "    'widget 4': 2\n",
        "}"
      ]
    },
    {
      "cell_type": "markdown",
      "metadata": {
        "id": "Fo22loXb12wU"
      },
      "source": [
        "We want to get a list of widgets that sold at least 5 items."
      ]
    },
    {
      "cell_type": "markdown",
      "metadata": {
        "id": "fq9yBdRk12wV"
      },
      "source": [
        "Again, we could approach it using the `append` approach (but remember that this is not as efficient as a comprehension):"
      ]
    },
    {
      "cell_type": "code",
      "execution_count": 14,
      "metadata": {
        "colab": {
          "base_uri": "https://localhost:8080/"
        },
        "id": "XjG9O6kG12wV",
        "outputId": "47f2f565-6d2c-4186-cd90-26856d73b419"
      },
      "outputs": [
        {
          "output_type": "stream",
          "name": "stdout",
          "text": [
            "['widget 2', 'widget 3']\n"
          ]
        }
      ],
      "source": [
        "high_sales = []\n",
        "for key in sales:\n",
        "    if sales[key] >= 5:\n",
        "        high_sales.append(key)\n",
        "        \n",
        "print(high_sales)"
      ]
    },
    {
      "cell_type": "markdown",
      "metadata": {
        "id": "bLRgNofI12wV"
      },
      "source": [
        "Of course, we could make this more Pythonic, by using `.items()` instead:"
      ]
    },
    {
      "cell_type": "code",
      "execution_count": 15,
      "metadata": {
        "colab": {
          "base_uri": "https://localhost:8080/"
        },
        "id": "n6x9ahWU12wV",
        "outputId": "896b832b-eedd-4327-e50c-1208ea6bb8ba"
      },
      "outputs": [
        {
          "output_type": "stream",
          "name": "stdout",
          "text": [
            "['widget 2', 'widget 3']\n"
          ]
        }
      ],
      "source": [
        "high_sales = []\n",
        "for key, value in sales.items():\n",
        "    if value >= 5:\n",
        "        high_sales.append(key)\n",
        "        \n",
        "print(high_sales)"
      ]
    },
    {
      "cell_type": "markdown",
      "metadata": {
        "id": "leK5G_7g12wW"
      },
      "source": [
        "But a better approach here, is a comprehension:"
      ]
    },
    {
      "cell_type": "code",
      "execution_count": 16,
      "metadata": {
        "colab": {
          "base_uri": "https://localhost:8080/"
        },
        "id": "fqaZj-qU12wW",
        "outputId": "e6d456bb-7119-4348-d879-778db866b3a5"
      },
      "outputs": [
        {
          "output_type": "stream",
          "name": "stdout",
          "text": [
            "['widget 2', 'widget 3']\n"
          ]
        }
      ],
      "source": [
        "high_sales = [key for key, value in sales.items() if value >= 5]\n",
        "\n",
        "print(high_sales)"
      ]
    },
    {
      "cell_type": "markdown",
      "metadata": {
        "id": "W-T1aa7K12wX"
      },
      "source": [
        "Let's go back to an example we saw earlier where we attempted to create a zero matrix this way:"
      ]
    },
    {
      "cell_type": "code",
      "execution_count": 17,
      "metadata": {
        "id": "N1SEP1hl12wX"
      },
      "outputs": [],
      "source": [
        "m = [[0] * 3] * 3"
      ]
    },
    {
      "cell_type": "code",
      "execution_count": 18,
      "metadata": {
        "colab": {
          "base_uri": "https://localhost:8080/"
        },
        "id": "O6bQ6wQZ12wY",
        "outputId": "18420e0b-2b29-425c-f203-d3241c093200"
      },
      "outputs": [
        {
          "output_type": "execute_result",
          "data": {
            "text/plain": [
              "[[0, 0, 0], [0, 0, 0], [0, 0, 0]]"
            ]
          },
          "metadata": {},
          "execution_count": 18
        }
      ],
      "source": [
        "m"
      ]
    },
    {
      "cell_type": "markdown",
      "metadata": {
        "id": "BH3LDdgO12wY"
      },
      "source": [
        "The problem was that we ended up with each row of the matrix being the **same** object:"
      ]
    },
    {
      "cell_type": "code",
      "execution_count": 19,
      "metadata": {
        "id": "aE-oa8gE12wY"
      },
      "outputs": [],
      "source": [
        "m[0][0] = 1"
      ]
    },
    {
      "cell_type": "code",
      "execution_count": 20,
      "metadata": {
        "colab": {
          "base_uri": "https://localhost:8080/"
        },
        "id": "xF0Hmj2D12wZ",
        "outputId": "47937907-30d8-4732-aa0f-d78396224954"
      },
      "outputs": [
        {
          "output_type": "execute_result",
          "data": {
            "text/plain": [
              "[[1, 0, 0], [1, 0, 0], [1, 0, 0]]"
            ]
          },
          "metadata": {},
          "execution_count": 20
        }
      ],
      "source": [
        "m"
      ]
    },
    {
      "cell_type": "markdown",
      "metadata": {
        "id": "f2qovn2P12wZ"
      },
      "source": [
        "We can actually use comprehensions to fix this problem:"
      ]
    },
    {
      "cell_type": "code",
      "execution_count": 21,
      "metadata": {
        "id": "_bUIedp912wZ"
      },
      "outputs": [],
      "source": [
        "m = [[0, 0, 0] for row in range(3)]"
      ]
    },
    {
      "cell_type": "code",
      "execution_count": 22,
      "metadata": {
        "colab": {
          "base_uri": "https://localhost:8080/"
        },
        "id": "gWHZR76U12wa",
        "outputId": "8f67e3ad-cc07-4c1a-f388-81d6dd3705f5"
      },
      "outputs": [
        {
          "output_type": "execute_result",
          "data": {
            "text/plain": [
              "[[0, 0, 0], [0, 0, 0], [0, 0, 0]]"
            ]
          },
          "metadata": {},
          "execution_count": 22
        }
      ],
      "source": [
        "m"
      ]
    },
    {
      "cell_type": "code",
      "execution_count": 23,
      "metadata": {
        "id": "jpArIH9S12wa"
      },
      "outputs": [],
      "source": [
        "m[0][0] = 1"
      ]
    },
    {
      "cell_type": "code",
      "execution_count": 24,
      "metadata": {
        "colab": {
          "base_uri": "https://localhost:8080/"
        },
        "id": "roevfBh012wa",
        "outputId": "098f8136-3b0c-498d-a94a-9abc18bf6efd"
      },
      "outputs": [
        {
          "output_type": "execute_result",
          "data": {
            "text/plain": [
              "[[1, 0, 0], [0, 0, 0], [0, 0, 0]]"
            ]
          },
          "metadata": {},
          "execution_count": 24
        }
      ],
      "source": [
        "m"
      ]
    },
    {
      "cell_type": "markdown",
      "metadata": {
        "id": "lHdEuIRh12wb"
      },
      "source": [
        "We can even simplify this further:"
      ]
    },
    {
      "cell_type": "code",
      "execution_count": 25,
      "metadata": {
        "id": "Sq2qITD212wb"
      },
      "outputs": [],
      "source": [
        "m = [[0] * 3 for row in range(3)]"
      ]
    },
    {
      "cell_type": "code",
      "execution_count": 26,
      "metadata": {
        "colab": {
          "base_uri": "https://localhost:8080/"
        },
        "id": "RghTsIcC12wb",
        "outputId": "bc05ab72-73b8-45cb-aea7-5168552d15be"
      },
      "outputs": [
        {
          "output_type": "execute_result",
          "data": {
            "text/plain": [
              "[[0, 0, 0], [0, 0, 0], [0, 0, 0]]"
            ]
          },
          "metadata": {},
          "execution_count": 26
        }
      ],
      "source": [
        "m"
      ]
    },
    {
      "cell_type": "markdown",
      "metadata": {
        "id": "qQnTs8l_12wb"
      },
      "source": [
        "Now what about creating an identity matrix - where all elements are `0`, except diagonal elements which are `1`?"
      ]
    },
    {
      "cell_type": "markdown",
      "metadata": {
        "id": "4yOY7_rV12wb"
      },
      "source": [
        "Well, we could do it this way:"
      ]
    },
    {
      "cell_type": "code",
      "execution_count": 27,
      "metadata": {
        "colab": {
          "base_uri": "https://localhost:8080/"
        },
        "id": "URZIbPEU12wb",
        "outputId": "7a35dac2-b5f8-46a7-9356-58b13061d5b2"
      },
      "outputs": [
        {
          "output_type": "stream",
          "name": "stdout",
          "text": [
            "[[1, 0, 0], [0, 1, 0], [0, 0, 1]]\n"
          ]
        }
      ],
      "source": [
        "m = [[0] * 3 for row in range(3)]\n",
        "\n",
        "for row in range(3):\n",
        "    for col in range(3):\n",
        "        if row == col:\n",
        "            m[row][col] = 1\n",
        "            \n",
        "print(m)"
      ]
    },
    {
      "cell_type": "markdown",
      "metadata": {
        "id": "Uo0B48kK12wc"
      },
      "source": [
        "But we can actually use a comprehension to do all this.\n",
        "\n",
        "Remember that the expression in a comprehension can be anything - including another comprehension!"
      ]
    },
    {
      "cell_type": "code",
      "execution_count": 28,
      "metadata": {
        "id": "OxNTdrSN12wc"
      },
      "outputs": [],
      "source": [
        "m = [ [1 if row == col else 0 for col in range(3)] for row in range(3)]"
      ]
    },
    {
      "cell_type": "code",
      "execution_count": 29,
      "metadata": {
        "colab": {
          "base_uri": "https://localhost:8080/"
        },
        "id": "HKu2zhPK12wc",
        "outputId": "7e588f69-1ddb-40ae-8ec4-e1d118f6d255"
      },
      "outputs": [
        {
          "output_type": "execute_result",
          "data": {
            "text/plain": [
              "[[1, 0, 0], [0, 1, 0], [0, 0, 1]]"
            ]
          },
          "metadata": {},
          "execution_count": 29
        }
      ],
      "source": [
        "m"
      ]
    },
    {
      "cell_type": "markdown",
      "metadata": {
        "id": "oAJNgs9Q12wc"
      },
      "source": [
        "That syntax is starting to get a little harder to read - I would add some more formatting to make it more readable:"
      ]
    },
    {
      "cell_type": "code",
      "execution_count": 30,
      "metadata": {
        "id": "_-m-2KHr12wc"
      },
      "outputs": [],
      "source": [
        "n = 3\n",
        "\n",
        "m = [\n",
        "    [1 if row == col else 0 for col in range(n)]\n",
        "    for row in range(n)\n",
        "]"
      ]
    },
    {
      "cell_type": "code",
      "execution_count": 31,
      "metadata": {
        "colab": {
          "base_uri": "https://localhost:8080/"
        },
        "id": "dKZWdqoV12wc",
        "outputId": "78d0f948-3da9-4264-9b7a-5adacbc34b6d"
      },
      "outputs": [
        {
          "output_type": "execute_result",
          "data": {
            "text/plain": [
              "[[1, 0, 0], [0, 1, 0], [0, 0, 1]]"
            ]
          },
          "metadata": {},
          "execution_count": 31
        }
      ],
      "source": [
        "m"
      ]
    },
    {
      "cell_type": "markdown",
      "metadata": {
        "id": "Um6YZtRm12wd"
      },
      "source": [
        "The important thing to understand is that the **inner** comprehension knows about `col` because that's the loop variable in that comprehension, but it also knows about the `row` variable in the enclosing comprehension - same as with nested loops."
      ]
    },
    {
      "cell_type": "markdown",
      "metadata": {
        "id": "F7uyvSgN12wd"
      },
      "source": [
        "So list comprehensions are mechanisms we can use to easily create a new list based on another iterable.\n",
        "\n",
        "But comprehension syntax can quickly devolve into hard to understand messes - keep it simple!"
      ]
    }
  ],
  "metadata": {
    "kernelspec": {
      "display_name": "Python 3",
      "language": "python",
      "name": "python3"
    },
    "language_info": {
      "codemirror_mode": {
        "name": "ipython",
        "version": 3
      },
      "file_extension": ".py",
      "mimetype": "text/x-python",
      "name": "python",
      "nbconvert_exporter": "python",
      "pygments_lexer": "ipython3",
      "version": "3.9.1"
    },
    "colab": {
      "provenance": []
    }
  },
  "nbformat": 4,
  "nbformat_minor": 0
}